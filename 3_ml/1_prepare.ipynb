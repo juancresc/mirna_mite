{
 "cells": [
  {
   "cell_type": "code",
   "execution_count": 1,
   "metadata": {},
   "outputs": [],
   "source": [
    "import pandas as pd\n",
    "from Bio import SeqIO\n",
    "from Bio.SeqRecord import SeqRecord\n",
    "from Bio.Seq import Seq\n",
    "import matplotlib.pyplot as plt\n",
    "import seaborn as sns\n"
   ]
  },
  {
   "cell_type": "code",
   "execution_count": 2,
   "metadata": {},
   "outputs": [],
   "source": [
    "res_dir = 'res'\n",
    "experiments = ['mrcv_mites','mrcv_all','sun_all','sun_mites']\n",
    "#experiments = ['sun_all','sun_mites']\n",
    "#res_dir = 'all_res'\n",
    "path = '../data/shortstack/%s/Results.txt'\n",
    "path_annotation = '../data/introns.gff3'\n",
    "path_annotation_promoters = '../data/promoters.gff3'\n",
    "path_mites = \"../data/res/mites_consensus.fasta\"\n",
    "path_mites_res = '../data/res/mites_prod.fasta'\n",
    "path_res = '../data/res/all_results.csv'\n",
    "path_mirna_seq = '../data/res/mirna.y.fasta'\n",
    "path_mirna_seq_trep = '../data/res/mirna.y.trep.fasta'\n",
    "path_mirna_mites_seq = '../data/res/mirna.mites.y.fasta'\n",
    "path_mirna_mature = '../data/res/mirna.y.mature.csv'\n",
    "path_res_seq = '../data/res/all_results.fasta'\n",
    "\n",
    "path_genome = '../data/Triticum_aestivum.IWGSC.dna.toplevel.fa'\n",
    "path_blast_res_mirna_mites = '../data/res/blast_mirna_mites.csv'\n",
    "path_blast_res_mites_mirna = '../data/res/blast_mites_mirna.csv'\n",
    "\n",
    "\n",
    "\n",
    "path_mirbase = '../data/mature.fa'"
   ]
  },
  {
   "cell_type": "code",
   "execution_count": 3,
   "metadata": {},
   "outputs": [
    {
     "name": "stdout",
     "output_type": "stream",
     "text": [
      "Experiment: mrcv_mites\n",
      "All results: 1211339\n",
      "Only hotspots with +10 reads: 37695\n",
      "**********\n",
      "Experiment: mrcv_all\n",
      "All results: 38532\n",
      "Only hotspots with +10 reads: 38532\n",
      "**********\n",
      "Experiment: sun_all\n",
      "All results: 157492\n",
      "Only hotspots with +10 reads: 157492\n",
      "**********\n",
      "Experiment: sun_mites\n",
      "All results: 1211339\n",
      "Only hotspots with +10 reads: 78708\n",
      "**********\n"
     ]
    }
   ],
   "source": [
    "### Load shortstack results\n",
    "dfs = {}\n",
    "for experiment in experiments:\n",
    "    experiment_path = path % (experiment,)\n",
    "    df = pd.read_csv(experiment_path, sep='\\t')\n",
    "    df['Name'] = experiment + '_' + df['Name']\n",
    "    df['experiment'] = experiment\n",
    "    print('Experiment:', experiment)\n",
    "    print('All results:',len(df.index))\n",
    "    #df = df[df.MIRNA == 'Y']\n",
    "    #print('Only miRNAs:',len(df.index))\n",
    "    df = df[df.Reads > 10]\n",
    "    print('Only hotspots with +10 reads:',len(df.index))\n",
    "    #df = df[df['21'] > 5]\n",
    "    #print('Only miRNAs 21nt +5 reads:',len(df.index))\n",
    "    print('*' * 10)\n",
    "    dfs[experiment] = df"
   ]
  },
  {
   "cell_type": "code",
   "execution_count": 4,
   "metadata": {},
   "outputs": [],
   "source": [
    "dfs = [ v for v in dfs.values() ]"
   ]
  },
  {
   "cell_type": "code",
   "execution_count": 5,
   "metadata": {},
   "outputs": [
    {
     "name": "stdout",
     "output_type": "stream",
     "text": [
      "312427\n"
     ]
    },
    {
     "data": {
      "text/html": [
       "<div>\n",
       "<style scoped>\n",
       "    .dataframe tbody tr th:only-of-type {\n",
       "        vertical-align: middle;\n",
       "    }\n",
       "\n",
       "    .dataframe tbody tr th {\n",
       "        vertical-align: top;\n",
       "    }\n",
       "\n",
       "    .dataframe thead th {\n",
       "        text-align: right;\n",
       "    }\n",
       "</style>\n",
       "<table border=\"1\" class=\"dataframe\">\n",
       "  <thead>\n",
       "    <tr style=\"text-align: right;\">\n",
       "      <th></th>\n",
       "      <th>#Locus</th>\n",
       "      <th>Name</th>\n",
       "      <th>Length</th>\n",
       "      <th>Reads</th>\n",
       "      <th>RPM</th>\n",
       "      <th>UniqueReads</th>\n",
       "      <th>FracTop</th>\n",
       "      <th>Strand</th>\n",
       "      <th>MajorRNA</th>\n",
       "      <th>MajorRNAReads</th>\n",
       "      <th>...</th>\n",
       "      <th>MIRNA</th>\n",
       "      <th>PhaseScore</th>\n",
       "      <th>Short</th>\n",
       "      <th>Long</th>\n",
       "      <th>20</th>\n",
       "      <th>21</th>\n",
       "      <th>22</th>\n",
       "      <th>23</th>\n",
       "      <th>24</th>\n",
       "      <th>experiment</th>\n",
       "    </tr>\n",
       "  </thead>\n",
       "  <tbody>\n",
       "    <tr>\n",
       "      <th>104</th>\n",
       "      <td>1A:1195670-1195768</td>\n",
       "      <td>mrcv_mites_MITE_T_102265|chr6B|218219330|21821...</td>\n",
       "      <td>99</td>\n",
       "      <td>23</td>\n",
       "      <td>0.181</td>\n",
       "      <td>15</td>\n",
       "      <td>0.783</td>\n",
       "      <td>.</td>\n",
       "      <td>AAUGUAAGAUGUUUUUUUGACACU</td>\n",
       "      <td>7</td>\n",
       "      <td>...</td>\n",
       "      <td>N6</td>\n",
       "      <td>0.0</td>\n",
       "      <td>0</td>\n",
       "      <td>0</td>\n",
       "      <td>0</td>\n",
       "      <td>0</td>\n",
       "      <td>1</td>\n",
       "      <td>6</td>\n",
       "      <td>16</td>\n",
       "      <td>mrcv_mites</td>\n",
       "    </tr>\n",
       "    <tr>\n",
       "      <th>111</th>\n",
       "      <td>1A:1239059-1239290</td>\n",
       "      <td>mrcv_mites_MITE_T_45812|chr5A|568401370|568401...</td>\n",
       "      <td>232</td>\n",
       "      <td>30</td>\n",
       "      <td>0.235</td>\n",
       "      <td>7</td>\n",
       "      <td>0.833</td>\n",
       "      <td>+</td>\n",
       "      <td>GAGGACGCACUAUAUUUUAGAACG</td>\n",
       "      <td>12</td>\n",
       "      <td>...</td>\n",
       "      <td>N14</td>\n",
       "      <td>-1.0</td>\n",
       "      <td>0</td>\n",
       "      <td>4</td>\n",
       "      <td>0</td>\n",
       "      <td>0</td>\n",
       "      <td>0</td>\n",
       "      <td>1</td>\n",
       "      <td>25</td>\n",
       "      <td>mrcv_mites</td>\n",
       "    </tr>\n",
       "  </tbody>\n",
       "</table>\n",
       "<p>2 rows × 22 columns</p>\n",
       "</div>"
      ],
      "text/plain": [
       "                 #Locus                                               Name  \\\n",
       "104  1A:1195670-1195768  mrcv_mites_MITE_T_102265|chr6B|218219330|21821...   \n",
       "111  1A:1239059-1239290  mrcv_mites_MITE_T_45812|chr5A|568401370|568401...   \n",
       "\n",
       "     Length  Reads    RPM  UniqueReads  FracTop Strand  \\\n",
       "104      99     23  0.181           15    0.783      .   \n",
       "111     232     30  0.235            7    0.833      +   \n",
       "\n",
       "                     MajorRNA  MajorRNAReads  ...  MIRNA PhaseScore Short  \\\n",
       "104  AAUGUAAGAUGUUUUUUUGACACU              7  ...     N6        0.0     0   \n",
       "111  GAGGACGCACUAUAUUUUAGAACG             12  ...    N14       -1.0     0   \n",
       "\n",
       "     Long  20  21  22  23  24  experiment  \n",
       "104     0   0   0   1   6  16  mrcv_mites  \n",
       "111     4   0   0   0   1  25  mrcv_mites  \n",
       "\n",
       "[2 rows x 22 columns]"
      ]
     },
     "execution_count": 5,
     "metadata": {},
     "output_type": "execute_result"
    }
   ],
   "source": [
    "df = pd.concat(dfs)\n",
    "print(len(df.index))\n",
    "df.head(2)"
   ]
  },
  {
   "cell_type": "code",
   "execution_count": 6,
   "metadata": {},
   "outputs": [],
   "source": [
    "#correct name and loci\n",
    "df['Name'] = df['Name'].str.split('|').str[0]\n",
    "df['seqname'] = df['#Locus'].str.split(':').str[0]\n",
    "df['position'] = df['#Locus'].str.split(':').str[1]\n",
    "df['start'] = df.position.str.split('-').str[0].astype(int)\n",
    "df['end'] = df.position.str.split('-').str[1].astype(int)\n",
    "df['Name'] = df['Name'] + '_' + df['seqname'] + '_' + df['start'].astype(str) + '_' + df['end'].astype(str)"
   ]
  },
  {
   "cell_type": "code",
   "execution_count": 7,
   "metadata": {},
   "outputs": [],
   "source": [
    "df = df.reset_index(drop=True)"
   ]
  },
  {
   "cell_type": "code",
   "execution_count": 8,
   "metadata": {},
   "outputs": [],
   "source": [
    "df_sep = {}\n",
    "for seqname in df.seqname.unique():\n",
    "    df_sep[seqname] = df[df.seqname == seqname]\n"
   ]
  },
  {
   "cell_type": "code",
   "execution_count": 9,
   "metadata": {},
   "outputs": [],
   "source": [
    "min_distance = 150\n",
    "duplicated = []\n",
    "for k,v in df.iterrows():\n",
    "    if k in duplicated:\n",
    "        continue\n",
    "    other = df_sep[v.seqname]\n",
    "    other = other[(other.index != k) & \n",
    "                (other.MajorRNA == v.MajorRNA) &\n",
    "                (abs(other.start - v.start) <= min_distance) & \n",
    "                (abs(other.end - v.end) <= min_distance)]\n",
    "    if len(other.index) > 0:\n",
    "        duplicated += other.index.tolist()"
   ]
  },
  {
   "cell_type": "code",
   "execution_count": 10,
   "metadata": {},
   "outputs": [
    {
     "name": "stdout",
     "output_type": "stream",
     "text": [
      "31536\n"
     ]
    }
   ],
   "source": [
    "duplicated = set(duplicated)\n",
    "print(len(duplicated))"
   ]
  },
  {
   "cell_type": "code",
   "execution_count": 11,
   "metadata": {},
   "outputs": [
    {
     "name": "stdout",
     "output_type": "stream",
     "text": [
      "312427\n"
     ]
    }
   ],
   "source": [
    "print(len(df.index))"
   ]
  },
  {
   "cell_type": "code",
   "execution_count": 12,
   "metadata": {},
   "outputs": [
    {
     "data": {
      "text/plain": [
       "280891"
      ]
     },
     "execution_count": 12,
     "metadata": {},
     "output_type": "execute_result"
    }
   ],
   "source": [
    "df = df[~df.index.isin(duplicated)]\n",
    "count_total = len(df.index)\n",
    "count_total"
   ]
  },
  {
   "cell_type": "code",
   "execution_count": 13,
   "metadata": {},
   "outputs": [],
   "source": [
    "## "
   ]
  },
  {
   "cell_type": "code",
   "execution_count": null,
   "metadata": {},
   "outputs": [],
   "source": []
  },
  {
   "cell_type": "code",
   "execution_count": 14,
   "metadata": {},
   "outputs": [
    {
     "name": "stdout",
     "output_type": "stream",
     "text": [
      "Y: 270\n"
     ]
    }
   ],
   "source": [
    "df_y = df[df.MIRNA == 'Y']\n",
    "print('Y:',len(df_y.index))"
   ]
  },
  {
   "cell_type": "code",
   "execution_count": 15,
   "metadata": {},
   "outputs": [],
   "source": [
    "df['N'] = 'Y'\n",
    "df['N'] = df['MIRNA'].str.split('N').str[1]\n",
    "df['N'].fillna('Y',inplace=True)"
   ]
  },
  {
   "cell_type": "code",
   "execution_count": null,
   "metadata": {},
   "outputs": [],
   "source": []
  },
  {
   "cell_type": "code",
   "execution_count": null,
   "metadata": {},
   "outputs": [],
   "source": []
  },
  {
   "cell_type": "code",
   "execution_count": 16,
   "metadata": {},
   "outputs": [
    {
     "data": {
      "text/plain": [
       "N6     163879\n",
       "N11     53007\n",
       "N5      22553\n",
       "N2      18426\n",
       "N14      7355\n",
       "N13      4901\n",
       "N12      4763\n",
       "N15      2081\n",
       "N3       1834\n",
       "N4       1576\n",
       "Y         270\n",
       "N8        246\n",
       "Name: MIRNA, dtype: int64"
      ]
     },
     "execution_count": 16,
     "metadata": {},
     "output_type": "execute_result"
    }
   ],
   "source": [
    "df.MIRNA.value_counts()"
   ]
  },
  {
   "cell_type": "code",
   "execution_count": 17,
   "metadata": {},
   "outputs": [
    {
     "data": {
      "text/plain": [
       "<matplotlib.axes._subplots.AxesSubplot at 0x7fbf7bc7f970>"
      ]
     },
     "execution_count": 17,
     "metadata": {},
     "output_type": "execute_result"
    },
    {
     "data": {
      "image/png": "[encoded data removed]",
      "text/plain": [
       "<Figure size 432x288 with 1 Axes>"
      ]
     },
     "metadata": {
      "needs_background": "light"
     },
     "output_type": "display_data"
    }
   ],
   "source": [
    "df.MIRNA.value_counts().plot(kind='bar')"
   ]
  },
  {
   "cell_type": "code",
   "execution_count": 18,
   "metadata": {},
   "outputs": [
    {
     "data": {
      "text/plain": [
       "DicerCall\n",
       "20       231\n",
       "21     12666\n",
       "22      1020\n",
       "23       395\n",
       "24    248153\n",
       "N      18426\n",
       "Name: Name, dtype: int64"
      ]
     },
     "execution_count": 18,
     "metadata": {},
     "output_type": "execute_result"
    }
   ],
   "source": [
    "df.groupby('DicerCall').count()['Name']\n"
   ]
  },
  {
   "cell_type": "code",
   "execution_count": 19,
   "metadata": {},
   "outputs": [
    {
     "data": {
      "image/png": "[encoded data removed]",
      "text/plain": [
       "<Figure size 432x288 with 1 Axes>"
      ]
     },
     "metadata": {
      "needs_background": "light"
     },
     "output_type": "display_data"
    }
   ],
   "source": [
    "df_plot = df.groupby('DicerCall').count()\n",
    "from matplotlib.ticker import MaxNLocator\n",
    "from matplotlib import pyplot\n",
    "ax = sns.barplot(x = df_plot.index, y = df_plot.Name)\n",
    "x_offset = -0.07\n",
    "y_offset = 0.15\n",
    "ax.yaxis.set_major_locator(MaxNLocator(integer=True))\n",
    "\n",
    "for p in ax.patches:\n",
    "    b = p.get_bbox()\n",
    "    val = int(b.y1)\n",
    "    ax.annotate(val, ((b.x0 + b.x1)/2 + x_offset, b.y1 + y_offset))\n",
    "ax\n",
    "pyplot.savefig('../data/res/mirna_sizes.png',transparent=True, bbox_inches='tight', pad_inches=0)"
   ]
  },
  {
   "cell_type": "code",
   "execution_count": null,
   "metadata": {},
   "outputs": [],
   "source": []
  },
  {
   "cell_type": "code",
   "execution_count": null,
   "metadata": {},
   "outputs": [],
   "source": []
  },
  {
   "cell_type": "code",
   "execution_count": 20,
   "metadata": {},
   "outputs": [],
   "source": [
    "#######################\n",
    "####  CHECKPOINT  #####\n",
    "#######################"
   ]
  },
  {
   "cell_type": "code",
   "execution_count": 21,
   "metadata": {},
   "outputs": [],
   "source": [
    "# SAVE CURRENT STATE\n",
    "\n",
    "df.to_csv('../data/res/3_ml_checkpoint1.csv', index=None)\n"
   ]
  },
  {
   "cell_type": "code",
   "execution_count": 22,
   "metadata": {},
   "outputs": [
    {
     "name": "stdout",
     "output_type": "stream",
     "text": [
      "280891\n"
     ]
    },
    {
     "data": {
      "text/html": [
       "<div>\n",
       "<style scoped>\n",
       "    .dataframe tbody tr th:only-of-type {\n",
       "        vertical-align: middle;\n",
       "    }\n",
       "\n",
       "    .dataframe tbody tr th {\n",
       "        vertical-align: top;\n",
       "    }\n",
       "\n",
       "    .dataframe thead th {\n",
       "        text-align: right;\n",
       "    }\n",
       "</style>\n",
       "<table border=\"1\" class=\"dataframe\">\n",
       "  <thead>\n",
       "    <tr style=\"text-align: right;\">\n",
       "      <th></th>\n",
       "      <th>#Locus</th>\n",
       "      <th>Name</th>\n",
       "      <th>Length</th>\n",
       "      <th>Reads</th>\n",
       "      <th>RPM</th>\n",
       "      <th>UniqueReads</th>\n",
       "      <th>FracTop</th>\n",
       "      <th>Strand</th>\n",
       "      <th>MajorRNA</th>\n",
       "      <th>MajorRNAReads</th>\n",
       "      <th>...</th>\n",
       "      <th>21</th>\n",
       "      <th>22</th>\n",
       "      <th>23</th>\n",
       "      <th>24</th>\n",
       "      <th>experiment</th>\n",
       "      <th>seqname</th>\n",
       "      <th>position</th>\n",
       "      <th>start</th>\n",
       "      <th>end</th>\n",
       "      <th>N</th>\n",
       "    </tr>\n",
       "  </thead>\n",
       "  <tbody>\n",
       "    <tr>\n",
       "      <th>0</th>\n",
       "      <td>1A:1195670-1195768</td>\n",
       "      <td>mrcv_mites_MITE_T_102265_1A_1195670_1195768</td>\n",
       "      <td>99</td>\n",
       "      <td>23</td>\n",
       "      <td>0.181</td>\n",
       "      <td>15</td>\n",
       "      <td>0.783</td>\n",
       "      <td>.</td>\n",
       "      <td>AAUGUAAGAUGUUUUUUUGACACU</td>\n",
       "      <td>7</td>\n",
       "      <td>...</td>\n",
       "      <td>0</td>\n",
       "      <td>1</td>\n",
       "      <td>6</td>\n",
       "      <td>16</td>\n",
       "      <td>mrcv_mites</td>\n",
       "      <td>1A</td>\n",
       "      <td>1195670-1195768</td>\n",
       "      <td>1195670</td>\n",
       "      <td>1195768</td>\n",
       "      <td>6</td>\n",
       "    </tr>\n",
       "    <tr>\n",
       "      <th>1</th>\n",
       "      <td>1A:1239059-1239290</td>\n",
       "      <td>mrcv_mites_MITE_T_45812_1A_1239059_1239290</td>\n",
       "      <td>232</td>\n",
       "      <td>30</td>\n",
       "      <td>0.235</td>\n",
       "      <td>7</td>\n",
       "      <td>0.833</td>\n",
       "      <td>+</td>\n",
       "      <td>GAGGACGCACUAUAUUUUAGAACG</td>\n",
       "      <td>12</td>\n",
       "      <td>...</td>\n",
       "      <td>0</td>\n",
       "      <td>0</td>\n",
       "      <td>1</td>\n",
       "      <td>25</td>\n",
       "      <td>mrcv_mites</td>\n",
       "      <td>1A</td>\n",
       "      <td>1239059-1239290</td>\n",
       "      <td>1239059</td>\n",
       "      <td>1239290</td>\n",
       "      <td>14</td>\n",
       "    </tr>\n",
       "  </tbody>\n",
       "</table>\n",
       "<p>2 rows × 27 columns</p>\n",
       "</div>"
      ],
      "text/plain": [
       "               #Locus                                         Name  Length  \\\n",
       "0  1A:1195670-1195768  mrcv_mites_MITE_T_102265_1A_1195670_1195768      99   \n",
       "1  1A:1239059-1239290   mrcv_mites_MITE_T_45812_1A_1239059_1239290     232   \n",
       "\n",
       "   Reads    RPM  UniqueReads  FracTop Strand                  MajorRNA  \\\n",
       "0     23  0.181           15    0.783      .  AAUGUAAGAUGUUUUUUUGACACU   \n",
       "1     30  0.235            7    0.833      +  GAGGACGCACUAUAUUUUAGAACG   \n",
       "\n",
       "   MajorRNAReads  ...  21 22 23  24  experiment  seqname         position  \\\n",
       "0              7  ...   0  1  6  16  mrcv_mites       1A  1195670-1195768   \n",
       "1             12  ...   0  0  1  25  mrcv_mites       1A  1239059-1239290   \n",
       "\n",
       "     start      end   N  \n",
       "0  1195670  1195768   6  \n",
       "1  1239059  1239290  14  \n",
       "\n",
       "[2 rows x 27 columns]"
      ]
     },
     "execution_count": 22,
     "metadata": {},
     "output_type": "execute_result"
    }
   ],
   "source": [
    "# LOAD PREVIOUS STATE\n",
    "df = pd.read_csv('../data/res/3_ml_checkpoint1.csv')\n",
    "print(len(df.index))\n",
    "df.head(2)"
   ]
  },
  {
   "cell_type": "code",
   "execution_count": 23,
   "metadata": {},
   "outputs": [],
   "source": [
    "#######################\n",
    "##  END CHECKPOINT  ###\n",
    "#######################"
   ]
  },
  {
   "cell_type": "code",
   "execution_count": 35,
   "metadata": {},
   "outputs": [
    {
     "data": {
      "text/plain": [
       "0         mrcv_mites\n",
       "1         mrcv_mites\n",
       "2         mrcv_mites\n",
       "3         mrcv_mites\n",
       "4         mrcv_mites\n",
       "             ...    \n",
       "280886     sun_mites\n",
       "280887     sun_mites\n",
       "280888     sun_mites\n",
       "280889     sun_mites\n",
       "280890     sun_mites\n",
       "Name: experiment, Length: 280891, dtype: object"
      ]
     },
     "execution_count": 35,
     "metadata": {},
     "output_type": "execute_result"
    }
   ],
   "source": []
  },
  {
   "cell_type": "code",
   "execution_count": null,
   "metadata": {},
   "outputs": [],
   "source": []
  },
  {
   "cell_type": "code",
   "execution_count": null,
   "metadata": {},
   "outputs": [],
   "source": []
  },
  {
   "cell_type": "code",
   "execution_count": 36,
   "metadata": {},
   "outputs": [
    {
     "name": "stdout",
     "output_type": "stream",
     "text": [
      "540\n"
     ]
    }
   ],
   "source": [
    "#take all microRNA and sample non-miRNA \n",
    "dataset = pd.concat([df[df['N'] == 'Y'], df[df['N'] != 'Y'].sample(n=270, random_state=42)])\n",
    "print(len(dataset.index))"
   ]
  },
  {
   "cell_type": "code",
   "execution_count": 37,
   "metadata": {},
   "outputs": [
    {
     "data": {
      "text/plain": [
       "Index(['#Locus', 'Name', 'Length', 'Reads', 'RPM', 'UniqueReads', 'FracTop',\n",
       "       'Strand', 'MajorRNA', 'MajorRNAReads', 'Complexity', 'DicerCall',\n",
       "       'MIRNA', 'PhaseScore', 'Short', 'Long', '20', '21', '22', '23', '24',\n",
       "       'experiment', 'seqname', 'position', 'start', 'end', 'N'],\n",
       "      dtype='object')"
      ]
     },
     "execution_count": 37,
     "metadata": {},
     "output_type": "execute_result"
    }
   ],
   "source": [
    "dataset.columns"
   ]
  },
  {
   "cell_type": "code",
   "execution_count": 38,
   "metadata": {},
   "outputs": [
    {
     "data": {
      "text/html": [
       "<div>\n",
       "<style scoped>\n",
       "    .dataframe tbody tr th:only-of-type {\n",
       "        vertical-align: middle;\n",
       "    }\n",
       "\n",
       "    .dataframe tbody tr th {\n",
       "        vertical-align: top;\n",
       "    }\n",
       "\n",
       "    .dataframe thead th {\n",
       "        text-align: right;\n",
       "    }\n",
       "</style>\n",
       "<table border=\"1\" class=\"dataframe\">\n",
       "  <thead>\n",
       "    <tr style=\"text-align: right;\">\n",
       "      <th></th>\n",
       "      <th>#Locus</th>\n",
       "      <th>Name</th>\n",
       "      <th>Length</th>\n",
       "      <th>Reads</th>\n",
       "      <th>RPM</th>\n",
       "      <th>UniqueReads</th>\n",
       "      <th>FracTop</th>\n",
       "      <th>Strand</th>\n",
       "      <th>MajorRNA</th>\n",
       "      <th>MajorRNAReads</th>\n",
       "      <th>...</th>\n",
       "      <th>21</th>\n",
       "      <th>22</th>\n",
       "      <th>23</th>\n",
       "      <th>24</th>\n",
       "      <th>experiment</th>\n",
       "      <th>seqname</th>\n",
       "      <th>position</th>\n",
       "      <th>start</th>\n",
       "      <th>end</th>\n",
       "      <th>N</th>\n",
       "    </tr>\n",
       "  </thead>\n",
       "  <tbody>\n",
       "    <tr>\n",
       "      <th>416</th>\n",
       "      <td>1A:169645857-169646029</td>\n",
       "      <td>mrcv_mites_MITE_T_62663_1A_169645857_169646029</td>\n",
       "      <td>173</td>\n",
       "      <td>16</td>\n",
       "      <td>0.126</td>\n",
       "      <td>3</td>\n",
       "      <td>1.0</td>\n",
       "      <td>+</td>\n",
       "      <td>UAGAGAUUUCAAAUGGAACAC</td>\n",
       "      <td>7</td>\n",
       "      <td>...</td>\n",
       "      <td>9</td>\n",
       "      <td>0</td>\n",
       "      <td>0</td>\n",
       "      <td>3</td>\n",
       "      <td>mrcv_mites</td>\n",
       "      <td>1A</td>\n",
       "      <td>169645857-169646029</td>\n",
       "      <td>169645857</td>\n",
       "      <td>169646029</td>\n",
       "      <td>Y</td>\n",
       "    </tr>\n",
       "    <tr>\n",
       "      <th>2565</th>\n",
       "      <td>1D:147896240-147896319</td>\n",
       "      <td>mrcv_mites_MITE_T_120271_1D_147896240_147896319</td>\n",
       "      <td>80</td>\n",
       "      <td>45</td>\n",
       "      <td>0.353</td>\n",
       "      <td>1</td>\n",
       "      <td>1.0</td>\n",
       "      <td>+</td>\n",
       "      <td>UAUAUUUUGGUACGGAGGGAU</td>\n",
       "      <td>22</td>\n",
       "      <td>...</td>\n",
       "      <td>38</td>\n",
       "      <td>1</td>\n",
       "      <td>0</td>\n",
       "      <td>0</td>\n",
       "      <td>mrcv_mites</td>\n",
       "      <td>1D</td>\n",
       "      <td>147896240-147896319</td>\n",
       "      <td>147896240</td>\n",
       "      <td>147896319</td>\n",
       "      <td>Y</td>\n",
       "    </tr>\n",
       "  </tbody>\n",
       "</table>\n",
       "<p>2 rows × 27 columns</p>\n",
       "</div>"
      ],
      "text/plain": [
       "                      #Locus                                             Name  \\\n",
       "416   1A:169645857-169646029   mrcv_mites_MITE_T_62663_1A_169645857_169646029   \n",
       "2565  1D:147896240-147896319  mrcv_mites_MITE_T_120271_1D_147896240_147896319   \n",
       "\n",
       "      Length  Reads    RPM  UniqueReads  FracTop Strand  \\\n",
       "416      173     16  0.126            3      1.0      +   \n",
       "2565      80     45  0.353            1      1.0      +   \n",
       "\n",
       "                   MajorRNA  MajorRNAReads  ...  21 22 23  24  experiment  \\\n",
       "416   UAGAGAUUUCAAAUGGAACAC              7  ...   9  0  0   3  mrcv_mites   \n",
       "2565  UAUAUUUUGGUACGGAGGGAU             22  ...  38  1  0   0  mrcv_mites   \n",
       "\n",
       "      seqname             position      start        end  N  \n",
       "416        1A  169645857-169646029  169645857  169646029  Y  \n",
       "2565       1D  147896240-147896319  147896240  147896319  Y  \n",
       "\n",
       "[2 rows x 27 columns]"
      ]
     },
     "execution_count": 38,
     "metadata": {},
     "output_type": "execute_result"
    }
   ],
   "source": [
    "dataset.head(2)"
   ]
  },
  {
   "cell_type": "code",
   "execution_count": 39,
   "metadata": {},
   "outputs": [],
   "source": [
    "dataset['Y'] = dataset['N'].apply(lambda x: 1 if x == 'Y' else 0)"
   ]
  },
  {
   "cell_type": "code",
   "execution_count": 40,
   "metadata": {},
   "outputs": [],
   "source": [
    "dataset['seqname'] = dataset['#Locus'].str.split(':').str[0]\n",
    "dataset['position'] = dataset['#Locus'].str.split(':').str[1]\n",
    "dataset['start'] = dataset.position.str.split('-').str[0].astype(int)\n",
    "dataset['end'] = dataset.position.str.split('-').str[1].astype(int)"
   ]
  },
  {
   "cell_type": "code",
   "execution_count": null,
   "metadata": {},
   "outputs": [],
   "source": []
  },
  {
   "cell_type": "code",
   "execution_count": 41,
   "metadata": {},
   "outputs": [
    {
     "data": {
      "text/html": [
       "<div>\n",
       "<style scoped>\n",
       "    .dataframe tbody tr th:only-of-type {\n",
       "        vertical-align: middle;\n",
       "    }\n",
       "\n",
       "    .dataframe tbody tr th {\n",
       "        vertical-align: top;\n",
       "    }\n",
       "\n",
       "    .dataframe thead th {\n",
       "        text-align: right;\n",
       "    }\n",
       "</style>\n",
       "<table border=\"1\" class=\"dataframe\">\n",
       "  <thead>\n",
       "    <tr style=\"text-align: right;\">\n",
       "      <th></th>\n",
       "      <th>#Locus</th>\n",
       "      <th>experiment</th>\n",
       "      <th>seqname</th>\n",
       "      <th>start</th>\n",
       "      <th>end</th>\n",
       "      <th>Length</th>\n",
       "      <th>Reads</th>\n",
       "      <th>UniqueReads</th>\n",
       "      <th>MajorRNAReads</th>\n",
       "      <th>Short</th>\n",
       "      <th>Long</th>\n",
       "      <th>20</th>\n",
       "      <th>21</th>\n",
       "      <th>22</th>\n",
       "      <th>23</th>\n",
       "      <th>24</th>\n",
       "      <th>Y</th>\n",
       "    </tr>\n",
       "  </thead>\n",
       "  <tbody>\n",
       "    <tr>\n",
       "      <th>416</th>\n",
       "      <td>1A:169645857-169646029</td>\n",
       "      <td>mrcv_mites</td>\n",
       "      <td>1A</td>\n",
       "      <td>169645857</td>\n",
       "      <td>169646029</td>\n",
       "      <td>173</td>\n",
       "      <td>16</td>\n",
       "      <td>3</td>\n",
       "      <td>7</td>\n",
       "      <td>0</td>\n",
       "      <td>2</td>\n",
       "      <td>2</td>\n",
       "      <td>9</td>\n",
       "      <td>0</td>\n",
       "      <td>0</td>\n",
       "      <td>3</td>\n",
       "      <td>1</td>\n",
       "    </tr>\n",
       "    <tr>\n",
       "      <th>2565</th>\n",
       "      <td>1D:147896240-147896319</td>\n",
       "      <td>mrcv_mites</td>\n",
       "      <td>1D</td>\n",
       "      <td>147896240</td>\n",
       "      <td>147896319</td>\n",
       "      <td>80</td>\n",
       "      <td>45</td>\n",
       "      <td>1</td>\n",
       "      <td>22</td>\n",
       "      <td>0</td>\n",
       "      <td>4</td>\n",
       "      <td>2</td>\n",
       "      <td>38</td>\n",
       "      <td>1</td>\n",
       "      <td>0</td>\n",
       "      <td>0</td>\n",
       "      <td>1</td>\n",
       "    </tr>\n",
       "  </tbody>\n",
       "</table>\n",
       "</div>"
      ],
      "text/plain": [
       "                      #Locus  experiment seqname      start        end  \\\n",
       "416   1A:169645857-169646029  mrcv_mites      1A  169645857  169646029   \n",
       "2565  1D:147896240-147896319  mrcv_mites      1D  147896240  147896319   \n",
       "\n",
       "      Length  Reads  UniqueReads  MajorRNAReads  Short  Long  20  21  22  23  \\\n",
       "416      173     16            3              7      0     2   2   9   0   0   \n",
       "2565      80     45            1             22      0     4   2  38   1   0   \n",
       "\n",
       "      24  Y  \n",
       "416    3  1  \n",
       "2565   0  1  "
      ]
     },
     "execution_count": 41,
     "metadata": {},
     "output_type": "execute_result"
    }
   ],
   "source": [
    "#pick just some columns\n",
    "columns = ['#Locus','experiment','seqname','start','end','Length','Reads','UniqueReads','MajorRNAReads','Short', 'Long', '20', '21', '22', '23', '24','Y']\n",
    "dataset = dataset[columns]\n",
    "dataset.head(2)"
   ]
  },
  {
   "cell_type": "code",
   "execution_count": null,
   "metadata": {},
   "outputs": [],
   "source": []
  },
  {
   "cell_type": "code",
   "execution_count": null,
   "metadata": {},
   "outputs": [],
   "source": []
  },
  {
   "cell_type": "code",
   "execution_count": null,
   "metadata": {},
   "outputs": [],
   "source": []
  },
  {
   "cell_type": "code",
   "execution_count": null,
   "metadata": {},
   "outputs": [],
   "source": []
  },
  {
   "cell_type": "code",
   "execution_count": 42,
   "metadata": {},
   "outputs": [],
   "source": [
    "dataset.to_csv('../data/ml_res/dataset.csv', index=None)"
   ]
  },
  {
   "cell_type": "code",
   "execution_count": null,
   "metadata": {},
   "outputs": [],
   "source": []
  },
  {
   "cell_type": "code",
   "execution_count": 43,
   "metadata": {},
   "outputs": [
    {
     "data": {
      "text/html": [
       "<div>\n",
       "<style scoped>\n",
       "    .dataframe tbody tr th:only-of-type {\n",
       "        vertical-align: middle;\n",
       "    }\n",
       "\n",
       "    .dataframe tbody tr th {\n",
       "        vertical-align: top;\n",
       "    }\n",
       "\n",
       "    .dataframe thead th {\n",
       "        text-align: right;\n",
       "    }\n",
       "</style>\n",
       "<table border=\"1\" class=\"dataframe\">\n",
       "  <thead>\n",
       "    <tr style=\"text-align: right;\">\n",
       "      <th></th>\n",
       "      <th>#Locus</th>\n",
       "      <th>experiment</th>\n",
       "      <th>seqname</th>\n",
       "      <th>start</th>\n",
       "      <th>end</th>\n",
       "      <th>Length</th>\n",
       "      <th>Reads</th>\n",
       "      <th>UniqueReads</th>\n",
       "      <th>MajorRNAReads</th>\n",
       "      <th>Short</th>\n",
       "      <th>Long</th>\n",
       "      <th>20</th>\n",
       "      <th>21</th>\n",
       "      <th>22</th>\n",
       "      <th>23</th>\n",
       "      <th>24</th>\n",
       "      <th>Y</th>\n",
       "    </tr>\n",
       "  </thead>\n",
       "  <tbody>\n",
       "    <tr>\n",
       "      <th>416</th>\n",
       "      <td>1A:169645857-169646029</td>\n",
       "      <td>mrcv_mites</td>\n",
       "      <td>1A</td>\n",
       "      <td>169645857</td>\n",
       "      <td>169646029</td>\n",
       "      <td>173</td>\n",
       "      <td>16</td>\n",
       "      <td>3</td>\n",
       "      <td>7</td>\n",
       "      <td>0</td>\n",
       "      <td>2</td>\n",
       "      <td>2</td>\n",
       "      <td>9</td>\n",
       "      <td>0</td>\n",
       "      <td>0</td>\n",
       "      <td>3</td>\n",
       "      <td>1</td>\n",
       "    </tr>\n",
       "    <tr>\n",
       "      <th>2565</th>\n",
       "      <td>1D:147896240-147896319</td>\n",
       "      <td>mrcv_mites</td>\n",
       "      <td>1D</td>\n",
       "      <td>147896240</td>\n",
       "      <td>147896319</td>\n",
       "      <td>80</td>\n",
       "      <td>45</td>\n",
       "      <td>1</td>\n",
       "      <td>22</td>\n",
       "      <td>0</td>\n",
       "      <td>4</td>\n",
       "      <td>2</td>\n",
       "      <td>38</td>\n",
       "      <td>1</td>\n",
       "      <td>0</td>\n",
       "      <td>0</td>\n",
       "      <td>1</td>\n",
       "    </tr>\n",
       "    <tr>\n",
       "      <th>4160</th>\n",
       "      <td>2A:168984136-168984233</td>\n",
       "      <td>mrcv_mites</td>\n",
       "      <td>2A</td>\n",
       "      <td>168984136</td>\n",
       "      <td>168984233</td>\n",
       "      <td>98</td>\n",
       "      <td>198</td>\n",
       "      <td>2</td>\n",
       "      <td>86</td>\n",
       "      <td>4</td>\n",
       "      <td>1</td>\n",
       "      <td>1</td>\n",
       "      <td>39</td>\n",
       "      <td>89</td>\n",
       "      <td>63</td>\n",
       "      <td>1</td>\n",
       "      <td>1</td>\n",
       "    </tr>\n",
       "    <tr>\n",
       "      <th>8681</th>\n",
       "      <td>3A:19302861-19302943</td>\n",
       "      <td>mrcv_mites</td>\n",
       "      <td>3A</td>\n",
       "      <td>19302861</td>\n",
       "      <td>19302943</td>\n",
       "      <td>83</td>\n",
       "      <td>108</td>\n",
       "      <td>10</td>\n",
       "      <td>89</td>\n",
       "      <td>0</td>\n",
       "      <td>2</td>\n",
       "      <td>0</td>\n",
       "      <td>99</td>\n",
       "      <td>4</td>\n",
       "      <td>0</td>\n",
       "      <td>3</td>\n",
       "      <td>1</td>\n",
       "    </tr>\n",
       "    <tr>\n",
       "      <th>10815</th>\n",
       "      <td>3B:253488744-253488823</td>\n",
       "      <td>mrcv_mites</td>\n",
       "      <td>3B</td>\n",
       "      <td>253488744</td>\n",
       "      <td>253488823</td>\n",
       "      <td>80</td>\n",
       "      <td>1099</td>\n",
       "      <td>21</td>\n",
       "      <td>715</td>\n",
       "      <td>2</td>\n",
       "      <td>2</td>\n",
       "      <td>28</td>\n",
       "      <td>1053</td>\n",
       "      <td>10</td>\n",
       "      <td>0</td>\n",
       "      <td>4</td>\n",
       "      <td>1</td>\n",
       "    </tr>\n",
       "    <tr>\n",
       "      <th>...</th>\n",
       "      <td>...</td>\n",
       "      <td>...</td>\n",
       "      <td>...</td>\n",
       "      <td>...</td>\n",
       "      <td>...</td>\n",
       "      <td>...</td>\n",
       "      <td>...</td>\n",
       "      <td>...</td>\n",
       "      <td>...</td>\n",
       "      <td>...</td>\n",
       "      <td>...</td>\n",
       "      <td>...</td>\n",
       "      <td>...</td>\n",
       "      <td>...</td>\n",
       "      <td>...</td>\n",
       "      <td>...</td>\n",
       "      <td>...</td>\n",
       "    </tr>\n",
       "    <tr>\n",
       "      <th>107280</th>\n",
       "      <td>2D:405173400-405173854</td>\n",
       "      <td>sun_all</td>\n",
       "      <td>2D</td>\n",
       "      <td>405173400</td>\n",
       "      <td>405173854</td>\n",
       "      <td>455</td>\n",
       "      <td>111</td>\n",
       "      <td>21</td>\n",
       "      <td>20</td>\n",
       "      <td>2</td>\n",
       "      <td>1</td>\n",
       "      <td>1</td>\n",
       "      <td>11</td>\n",
       "      <td>2</td>\n",
       "      <td>15</td>\n",
       "      <td>79</td>\n",
       "      <td>0</td>\n",
       "    </tr>\n",
       "    <tr>\n",
       "      <th>124500</th>\n",
       "      <td>3B:707428590-707429274</td>\n",
       "      <td>sun_all</td>\n",
       "      <td>3B</td>\n",
       "      <td>707428590</td>\n",
       "      <td>707429274</td>\n",
       "      <td>685</td>\n",
       "      <td>476</td>\n",
       "      <td>332</td>\n",
       "      <td>156</td>\n",
       "      <td>6</td>\n",
       "      <td>6</td>\n",
       "      <td>6</td>\n",
       "      <td>12</td>\n",
       "      <td>4</td>\n",
       "      <td>35</td>\n",
       "      <td>407</td>\n",
       "      <td>0</td>\n",
       "    </tr>\n",
       "    <tr>\n",
       "      <th>80175</th>\n",
       "      <td>1B:674916383-674916876</td>\n",
       "      <td>sun_all</td>\n",
       "      <td>1B</td>\n",
       "      <td>674916383</td>\n",
       "      <td>674916876</td>\n",
       "      <td>494</td>\n",
       "      <td>91</td>\n",
       "      <td>22</td>\n",
       "      <td>12</td>\n",
       "      <td>3</td>\n",
       "      <td>2</td>\n",
       "      <td>2</td>\n",
       "      <td>0</td>\n",
       "      <td>5</td>\n",
       "      <td>8</td>\n",
       "      <td>71</td>\n",
       "      <td>0</td>\n",
       "    </tr>\n",
       "    <tr>\n",
       "      <th>273475</th>\n",
       "      <td>7A:339106043-339106429</td>\n",
       "      <td>sun_mites</td>\n",
       "      <td>7A</td>\n",
       "      <td>339106043</td>\n",
       "      <td>339106429</td>\n",
       "      <td>387</td>\n",
       "      <td>48</td>\n",
       "      <td>45</td>\n",
       "      <td>15</td>\n",
       "      <td>1</td>\n",
       "      <td>0</td>\n",
       "      <td>0</td>\n",
       "      <td>2</td>\n",
       "      <td>0</td>\n",
       "      <td>3</td>\n",
       "      <td>42</td>\n",
       "      <td>0</td>\n",
       "    </tr>\n",
       "    <tr>\n",
       "      <th>7511</th>\n",
       "      <td>2D:134397109-134397828</td>\n",
       "      <td>mrcv_mites</td>\n",
       "      <td>2D</td>\n",
       "      <td>134397109</td>\n",
       "      <td>134397828</td>\n",
       "      <td>720</td>\n",
       "      <td>44</td>\n",
       "      <td>10</td>\n",
       "      <td>22</td>\n",
       "      <td>0</td>\n",
       "      <td>0</td>\n",
       "      <td>0</td>\n",
       "      <td>0</td>\n",
       "      <td>0</td>\n",
       "      <td>2</td>\n",
       "      <td>42</td>\n",
       "      <td>0</td>\n",
       "    </tr>\n",
       "  </tbody>\n",
       "</table>\n",
       "<p>540 rows × 17 columns</p>\n",
       "</div>"
      ],
      "text/plain": [
       "                        #Locus  experiment seqname      start        end  \\\n",
       "416     1A:169645857-169646029  mrcv_mites      1A  169645857  169646029   \n",
       "2565    1D:147896240-147896319  mrcv_mites      1D  147896240  147896319   \n",
       "4160    2A:168984136-168984233  mrcv_mites      2A  168984136  168984233   \n",
       "8681      3A:19302861-19302943  mrcv_mites      3A   19302861   19302943   \n",
       "10815   3B:253488744-253488823  mrcv_mites      3B  253488744  253488823   \n",
       "...                        ...         ...     ...        ...        ...   \n",
       "107280  2D:405173400-405173854     sun_all      2D  405173400  405173854   \n",
       "124500  3B:707428590-707429274     sun_all      3B  707428590  707429274   \n",
       "80175   1B:674916383-674916876     sun_all      1B  674916383  674916876   \n",
       "273475  7A:339106043-339106429   sun_mites      7A  339106043  339106429   \n",
       "7511    2D:134397109-134397828  mrcv_mites      2D  134397109  134397828   \n",
       "\n",
       "        Length  Reads  UniqueReads  MajorRNAReads  Short  Long  20    21  22  \\\n",
       "416        173     16            3              7      0     2   2     9   0   \n",
       "2565        80     45            1             22      0     4   2    38   1   \n",
       "4160        98    198            2             86      4     1   1    39  89   \n",
       "8681        83    108           10             89      0     2   0    99   4   \n",
       "10815       80   1099           21            715      2     2  28  1053  10   \n",
       "...        ...    ...          ...            ...    ...   ...  ..   ...  ..   \n",
       "107280     455    111           21             20      2     1   1    11   2   \n",
       "124500     685    476          332            156      6     6   6    12   4   \n",
       "80175      494     91           22             12      3     2   2     0   5   \n",
       "273475     387     48           45             15      1     0   0     2   0   \n",
       "7511       720     44           10             22      0     0   0     0   0   \n",
       "\n",
       "        23   24  Y  \n",
       "416      0    3  1  \n",
       "2565     0    0  1  \n",
       "4160    63    1  1  \n",
       "8681     0    3  1  \n",
       "10815    0    4  1  \n",
       "...     ..  ... ..  \n",
       "107280  15   79  0  \n",
       "124500  35  407  0  \n",
       "80175    8   71  0  \n",
       "273475   3   42  0  \n",
       "7511     2   42  0  \n",
       "\n",
       "[540 rows x 17 columns]"
      ]
     },
     "execution_count": 43,
     "metadata": {},
     "output_type": "execute_result"
    }
   ],
   "source": [
    "dataset"
   ]
  },
  {
   "cell_type": "code",
   "execution_count": null,
   "metadata": {},
   "outputs": [],
   "source": []
  },
  {
   "cell_type": "code",
   "execution_count": null,
   "metadata": {},
   "outputs": [],
   "source": []
  },
  {
   "cell_type": "code",
   "execution_count": null,
   "metadata": {},
   "outputs": [],
   "source": []
  },
  {
   "cell_type": "code",
   "execution_count": null,
   "metadata": {},
   "outputs": [],
   "source": []
  },
  {
   "cell_type": "code",
   "execution_count": null,
   "metadata": {},
   "outputs": [],
   "source": []
  },
  {
   "cell_type": "code",
   "execution_count": null,
   "metadata": {},
   "outputs": [],
   "source": []
  },
  {
   "cell_type": "code",
   "execution_count": null,
   "metadata": {},
   "outputs": [],
   "source": []
  },
  {
   "cell_type": "code",
   "execution_count": null,
   "metadata": {},
   "outputs": [],
   "source": []
  },
  {
   "cell_type": "code",
   "execution_count": null,
   "metadata": {},
   "outputs": [],
   "source": []
  },
  {
   "cell_type": "code",
   "execution_count": null,
   "metadata": {},
   "outputs": [],
   "source": []
  }
 ],
 "metadata": {
  "kernelspec": {
   "display_name": "Python 3",
   "language": "python",
   "name": "python3"
  },
  "language_info": {
   "codemirror_mode": {
    "name": "ipython",
    "version": 3
   },
   "file_extension": ".py",
   "mimetype": "text/x-python",
   "name": "python",
   "nbconvert_exporter": "python",
   "pygments_lexer": "ipython3",
   "version": "3.8.5"
  }
 },
 "nbformat": 4,
 "nbformat_minor": 4
}
