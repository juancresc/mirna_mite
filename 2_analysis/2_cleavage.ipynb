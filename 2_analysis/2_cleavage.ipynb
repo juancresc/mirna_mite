{
 "cells": [
  {
   "cell_type": "code",
   "execution_count": 506,
   "metadata": {},
   "outputs": [],
   "source": [
    "import pandas as pd\n",
    "from Bio import SeqIO\n",
    "from Bio.SeqRecord import SeqRecord\n",
    "from Bio.Seq import Seq\n",
    "import matplotlib.pyplot as plt\n",
    "import seaborn as sns\n",
    "from matplotlib.ticker import MaxNLocator\n"
   ]
  },
  {
   "cell_type": "code",
   "execution_count": 438,
   "metadata": {},
   "outputs": [],
   "source": [
    "libs = ['SRR1197125','SRR1197126','SRR1197127','SRR1197128']\n",
    "path_annotation = '/home/juan/Desktop/juan/bio/data/IWGSC/42/Triticum_aestivum.IWGSC.42.gff3'\n",
    "path_libs = '/home/juan/Desktop/juan/bio/mirna_mite/data/res/sun_deg/%s'\n",
    "path_transcripts = '/home/juan/Desktop/juan/bio/mirna_mite/data/fixed.cdna.all.fa'\n",
    "path_transcripts_res = '/home/juan/Desktop/juan/bio/mirna_mite/data/res/targets.fa'\n",
    "path_blast_res = '/home/juan/Desktop/juan/bio/mirna_mite/data/res/transcripts_mites.csv'\n",
    "path_mirna_res = '/home/juan/Desktop/juan/bio/mirna_mite/data/res/all_results.csv'\n",
    "path_res_final = '/home/juan/Desktop/juan/bio/mirna_mite/data/res/res_deg.csv'\n",
    "path_ann = '/home/juan/Desktop/juan/bio/data/IWGSC/42/Triticum_aestivum.IWGSC.42.gff3'"
   ]
  },
  {
   "cell_type": "code",
   "execution_count": 439,
   "metadata": {},
   "outputs": [],
   "source": [
    "dfs = []\n",
    "for lib in libs:\n",
    "    path_lib = path_libs % lib\n",
    "    df = pd.read_csv(path_lib, sep='\\t',comment='#')\n",
    "    df['lib'] = lib\n",
    "    dfs.append(df)from matplotlib.ticker import MaxNLocator\n"
   ]
  },
  {
   "cell_type": "code",
   "execution_count": 440,
   "metadata": {},
   "outputs": [
    {
     "name": "stdout",
     "output_type": "stream",
     "text": [
      "15313\n"
     ]
    }
   ],
   "source": [
    "df = pd.concat(dfs)\n",
    "print(len(df.index))"
   ]
  },
  {
   "cell_type": "code",
   "execution_count": 521,
   "metadata": {},
   "outputs": [
    {
     "name": "stdout",
     "output_type": "stream",
     "text": [
      "13480\n"
     ]
    }
   ],
   "source": [
    "df.drop_duplicates(['SiteID','Query'], inplace=True)\n",
    "print(len(df.index))"
   ]
  },
  {
   "cell_type": "code",
   "execution_count": null,
   "metadata": {},
   "outputs": [],
   "source": []
  },
  {
   "cell_type": "code",
   "execution_count": null,
   "metadata": {},
   "outputs": [],
   "source": []
  },
  {
   "cell_type": "code",
   "execution_count": 502,
   "metadata": {},
   "outputs": [
    {
     "name": "stdout",
     "output_type": "stream",
     "text": [
      "508\n"
     ]
    }
   ],
   "source": [
    "print(len(df[df.DegradomeCategory == 0].index))"
   ]
  },
  {
   "cell_type": "code",
   "execution_count": 441,
   "metadata": {},
   "outputs": [
    {
     "data": {
      "text/html": [
       "<div>\n",
       "<style scoped>\n",
       "    .dataframe tbody tr th:only-of-type {\n",
       "        vertical-align: middle;\n",
       "    }\n",
       "\n",
       "    .dataframe tbody tr th {\n",
       "        vertical-align: top;\n",
       "    }\n",
       "\n",
       "    .dataframe thead th {\n",
       "        text-align: right;\n",
       "    }\n",
       "</style>\n",
       "<table border=\"1\" class=\"dataframe\">\n",
       "  <thead>\n",
       "    <tr style=\"text-align: right;\">\n",
       "      <th></th>\n",
       "      <th>SiteID</th>\n",
       "      <th>Query</th>\n",
       "      <th>Transcript</th>\n",
       "      <th>TStart</th>\n",
       "      <th>TStop</th>\n",
       "      <th>TSlice</th>\n",
       "      <th>MFEperfect</th>\n",
       "      <th>MFEsite</th>\n",
       "      <th>MFEratio</th>\n",
       "      <th>AllenScore</th>\n",
       "      <th>Paired</th>\n",
       "      <th>Unpaired</th>\n",
       "      <th>Structure</th>\n",
       "      <th>Sequence</th>\n",
       "      <th>DegradomeCategory</th>\n",
       "      <th>DegradomePval</th>\n",
       "      <th>Tplot_file_path</th>\n",
       "      <th>lib</th>\n",
       "    </tr>\n",
       "  </thead>\n",
       "  <tbody>\n",
       "    <tr>\n",
       "      <th>0</th>\n",
       "      <td>TraesCS1A02G000300.1:66</td>\n",
       "      <td>sun_all_Cluster_118867</td>\n",
       "      <td>TraesCS1A02G000300.1</td>\n",
       "      <td>54</td>\n",
       "      <td>75</td>\n",
       "      <td>66</td>\n",
       "      <td>-43.6</td>\n",
       "      <td>-28.4</td>\n",
       "      <td>0.651376</td>\n",
       "      <td>9.0</td>\n",
       "      <td>1-2,75-74;5-11,71-65;13-14,63-62;16-22,60-54</td>\n",
       "      <td>3-4,73-72[SIL];12-12,64-64[SIL];15-15,61-61[SIL]</td>\n",
       "      <td>(((((((.((.(((((((..((&amp;))..))))))).)).)))))))</td>\n",
       "      <td>GCAGAUCUUGGUGGUAGUAGCA&amp;UGAAGCUGCCAGCAUGAUCUGC</td>\n",
       "      <td>3</td>\n",
       "      <td>0.951576</td>\n",
       "      <td>/home/juan/Desktop/juan/bio/mirna_mite/data/re...</td>\n",
       "      <td>SRR1197125</td>\n",
       "    </tr>\n",
       "    <tr>\n",
       "      <th>1</th>\n",
       "      <td>TraesCS1A02G000400.1:1381</td>\n",
       "      <td>sun_all_Cluster_118867</td>\n",
       "      <td>TraesCS1A02G000400.1</td>\n",
       "      <td>1369</td>\n",
       "      <td>1390</td>\n",
       "      <td>1381</td>\n",
       "      <td>-43.6</td>\n",
       "      <td>-28.4</td>\n",
       "      <td>0.651376</td>\n",
       "      <td>9.0</td>\n",
       "      <td>1-2,1390-1389;5-11,1386-1380;13-14,1378-1377;1...</td>\n",
       "      <td>3-4,1388-1387[SIL];12-12,1379-1379[SIL];15-15,...</td>\n",
       "      <td>(((((((.((.(((((((..((&amp;))..))))))).)).)))))))</td>\n",
       "      <td>GCAGAUCUUGGUGGUAGUAGCA&amp;UGAAGCUGCCAGCAUGAUCUGC</td>\n",
       "      <td>3</td>\n",
       "      <td>0.955557</td>\n",
       "      <td>/home/juan/Desktop/juan/bio/mirna_mite/data/re...</td>\n",
       "      <td>SRR1197125</td>\n",
       "    </tr>\n",
       "  </tbody>\n",
       "</table>\n",
       "</div>"
      ],
      "text/plain": [
       "                      SiteID                   Query            Transcript  \\\n",
       "0    TraesCS1A02G000300.1:66  sun_all_Cluster_118867  TraesCS1A02G000300.1   \n",
       "1  TraesCS1A02G000400.1:1381  sun_all_Cluster_118867  TraesCS1A02G000400.1   \n",
       "\n",
       "   TStart  TStop  TSlice  MFEperfect  MFEsite  MFEratio  AllenScore  \\\n",
       "0      54     75      66       -43.6    -28.4  0.651376         9.0   \n",
       "1    1369   1390    1381       -43.6    -28.4  0.651376         9.0   \n",
       "\n",
       "                                              Paired  \\\n",
       "0       1-2,75-74;5-11,71-65;13-14,63-62;16-22,60-54   \n",
       "1  1-2,1390-1389;5-11,1386-1380;13-14,1378-1377;1...   \n",
       "\n",
       "                                            Unpaired  \\\n",
       "0   3-4,73-72[SIL];12-12,64-64[SIL];15-15,61-61[SIL]   \n",
       "1  3-4,1388-1387[SIL];12-12,1379-1379[SIL];15-15,...   \n",
       "\n",
       "                                       Structure  \\\n",
       "0  (((((((.((.(((((((..((&))..))))))).)).)))))))   \n",
       "1  (((((((.((.(((((((..((&))..))))))).)).)))))))   \n",
       "\n",
       "                                        Sequence  DegradomeCategory  \\\n",
       "0  GCAGAUCUUGGUGGUAGUAGCA&UGAAGCUGCCAGCAUGAUCUGC                  3   \n",
       "1  GCAGAUCUUGGUGGUAGUAGCA&UGAAGCUGCCAGCAUGAUCUGC                  3   \n",
       "\n",
       "   DegradomePval                                    Tplot_file_path  \\\n",
       "0       0.951576  /home/juan/Desktop/juan/bio/mirna_mite/data/re...   \n",
       "1       0.955557  /home/juan/Desktop/juan/bio/mirna_mite/data/re...   \n",
       "\n",
       "          lib  \n",
       "0  SRR1197125  \n",
       "1  SRR1197125  "
      ]
     },
     "execution_count": 441,
     "metadata": {},
     "output_type": "execute_result"
    }
   ],
   "source": [
    "df.head(2)"
   ]
  },
  {
   "cell_type": "code",
   "execution_count": 442,
   "metadata": {},
   "outputs": [],
   "source": [
    "transcripts = set()\n",
    "for k,v in df.iterrows():\n",
    "    transcript = v.Transcript\n",
    "    transcripts.add(transcript)"
   ]
  },
  {
   "cell_type": "code",
   "execution_count": 443,
   "metadata": {},
   "outputs": [],
   "source": [
    "fasta_seq = SeqIO.parse(path_transcripts, 'fasta')\n"
   ]
  },
  {
   "cell_type": "code",
   "execution_count": 444,
   "metadata": {},
   "outputs": [
    {
     "name": "stdout",
     "output_type": "stream",
     "text": [
      "/home/juan/Desktop/juan/bio/mirna_mite/data/res/targets.fa\n"
     ]
    }
   ],
   "source": [
    "lens = {}\n",
    "buffer_seqs = []\n",
    "for record in fasta_seq:\n",
    "    if record.id in transcripts:\n",
    "        buffer_seqs.append(record)\n",
    "        clean_seq = ''.join(str(record.seq).splitlines())\n",
    "        lens[record.id] = len(clean_seq)\n",
    "SeqIO.write(buffer_seqs, path_transcripts_res, \"fasta\")\n",
    "print(path_transcripts_res)"
   ]
  },
  {
   "cell_type": "code",
   "execution_count": null,
   "metadata": {},
   "outputs": [],
   "source": []
  },
  {
   "cell_type": "raw",
   "metadata": {},
   "source": [
    "blastn -evalue 1e-3 -task blastn -query  data/mites_consensus.fasta -subject /home/juan/Desktop/juan/bio/mirna_mite/data/res/targets.fa -outfmt '6 qseqid sseqid qstart qend sstart send mismatch gaps pident evalue length qlen slen qcovs score'  > data/res/transcripts_mites.csv\n"
   ]
  },
  {
   "cell_type": "code",
   "execution_count": 445,
   "metadata": {},
   "outputs": [
    {
     "name": "stdout",
     "output_type": "stream",
     "text": [
      "10223\n"
     ]
    },
    {
     "data": {
      "text/html": [
       "<div>\n",
       "<style scoped>\n",
       "    .dataframe tbody tr th:only-of-type {\n",
       "        vertical-align: middle;\n",
       "    }\n",
       "\n",
       "    .dataframe tbody tr th {\n",
       "        vertical-align: top;\n",
       "    }\n",
       "\n",
       "    .dataframe thead th {\n",
       "        text-align: right;\n",
       "    }\n",
       "</style>\n",
       "<table border=\"1\" class=\"dataframe\">\n",
       "  <thead>\n",
       "    <tr style=\"text-align: right;\">\n",
       "      <th></th>\n",
       "      <th>qseqid</th>\n",
       "      <th>sseqid</th>\n",
       "      <th>qstart</th>\n",
       "      <th>qend</th>\n",
       "      <th>sstart</th>\n",
       "      <th>send</th>\n",
       "      <th>mismatch</th>\n",
       "      <th>gaps</th>\n",
       "      <th>pident</th>\n",
       "      <th>evalue</th>\n",
       "      <th>length</th>\n",
       "      <th>qlen</th>\n",
       "      <th>slen</th>\n",
       "      <th>qcovs</th>\n",
       "      <th>score</th>\n",
       "    </tr>\n",
       "  </thead>\n",
       "  <tbody>\n",
       "    <tr>\n",
       "      <th>0</th>\n",
       "      <td>MITE_0</td>\n",
       "      <td>TraesCS5D02G132100.1</td>\n",
       "      <td>1</td>\n",
       "      <td>80</td>\n",
       "      <td>479</td>\n",
       "      <td>399</td>\n",
       "      <td>6</td>\n",
       "      <td>1</td>\n",
       "      <td>91.358</td>\n",
       "      <td>3.380000e-25</td>\n",
       "      <td>81</td>\n",
       "      <td>80</td>\n",
       "      <td>2089</td>\n",
       "      <td>100</td>\n",
       "      <td>122</td>\n",
       "    </tr>\n",
       "    <tr>\n",
       "      <th>1</th>\n",
       "      <td>MITE_0</td>\n",
       "      <td>TraesCS5B02G114400.1</td>\n",
       "      <td>1</td>\n",
       "      <td>80</td>\n",
       "      <td>2097</td>\n",
       "      <td>2177</td>\n",
       "      <td>6</td>\n",
       "      <td>1</td>\n",
       "      <td>91.358</td>\n",
       "      <td>3.380000e-25</td>\n",
       "      <td>81</td>\n",
       "      <td>80</td>\n",
       "      <td>2243</td>\n",
       "      <td>100</td>\n",
       "      <td>122</td>\n",
       "    </tr>\n",
       "  </tbody>\n",
       "</table>\n",
       "</div>"
      ],
      "text/plain": [
       "   qseqid                sseqid  qstart  qend  sstart  send  mismatch  gaps  \\\n",
       "0  MITE_0  TraesCS5D02G132100.1       1    80     479   399         6     1   \n",
       "1  MITE_0  TraesCS5B02G114400.1       1    80    2097  2177         6     1   \n",
       "\n",
       "   pident        evalue  length  qlen  slen  qcovs  score  \n",
       "0  91.358  3.380000e-25      81    80  2089    100    122  \n",
       "1  91.358  3.380000e-25      81    80  2243    100    122  "
      ]
     },
     "execution_count": 445,
     "metadata": {},
     "output_type": "execute_result"
    }
   ],
   "source": [
    "df_mites = pd.read_csv(path_blast_res, sep=\"\\t\")\n",
    "cols = ['qseqid','sseqid','qstart','qend','sstart','send','mismatch','gaps','pident','evalue','length','qlen','slen','qcovs','score']\n",
    "df_mites.columns = cols\n",
    "df_mites = df_mites[df_mites.pident >= 85]\n",
    "df_mites = df_mites[df_mites.qcovs >= 85]\n",
    "print(len(df_mites.index))\n",
    "df_mites.head(2)"
   ]
  },
  {
   "cell_type": "code",
   "execution_count": 446,
   "metadata": {},
   "outputs": [
    {
     "data": {
      "text/html": [
       "<div>\n",
       "<style scoped>\n",
       "    .dataframe tbody tr th:only-of-type {\n",
       "        vertical-align: middle;\n",
       "    }\n",
       "\n",
       "    .dataframe tbody tr th {\n",
       "        vertical-align: top;\n",
       "    }\n",
       "\n",
       "    .dataframe thead th {\n",
       "        text-align: right;\n",
       "    }\n",
       "</style>\n",
       "<table border=\"1\" class=\"dataframe\">\n",
       "  <thead>\n",
       "    <tr style=\"text-align: right;\">\n",
       "      <th></th>\n",
       "      <th>qseqid</th>\n",
       "      <th>sseqid</th>\n",
       "      <th>qstart</th>\n",
       "      <th>qend</th>\n",
       "      <th>sstart</th>\n",
       "      <th>send</th>\n",
       "      <th>mismatch</th>\n",
       "      <th>gaps</th>\n",
       "      <th>pident</th>\n",
       "      <th>evalue</th>\n",
       "      <th>length</th>\n",
       "      <th>qlen</th>\n",
       "      <th>slen</th>\n",
       "      <th>qcovs</th>\n",
       "      <th>score</th>\n",
       "    </tr>\n",
       "  </thead>\n",
       "  <tbody>\n",
       "    <tr>\n",
       "      <th>19</th>\n",
       "      <td>MITE_0</td>\n",
       "      <td>TraesCS2A02G580000.2</td>\n",
       "      <td>1</td>\n",
       "      <td>80</td>\n",
       "      <td>2325</td>\n",
       "      <td>2405</td>\n",
       "      <td>7</td>\n",
       "      <td>1</td>\n",
       "      <td>90.123</td>\n",
       "      <td>4.120000e-24</td>\n",
       "      <td>81</td>\n",
       "      <td>80</td>\n",
       "      <td>2747</td>\n",
       "      <td>100</td>\n",
       "      <td>118</td>\n",
       "    </tr>\n",
       "    <tr>\n",
       "      <th>20</th>\n",
       "      <td>MITE_0</td>\n",
       "      <td>TraesCS2A02G580000.2</td>\n",
       "      <td>1</td>\n",
       "      <td>80</td>\n",
       "      <td>2405</td>\n",
       "      <td>2325</td>\n",
       "      <td>7</td>\n",
       "      <td>1</td>\n",
       "      <td>90.123</td>\n",
       "      <td>4.120000e-24</td>\n",
       "      <td>81</td>\n",
       "      <td>80</td>\n",
       "      <td>2747</td>\n",
       "      <td>100</td>\n",
       "      <td>118</td>\n",
       "    </tr>\n",
       "    <tr>\n",
       "      <th>6414</th>\n",
       "      <td>MITE_187</td>\n",
       "      <td>TraesCS2A02G580000.2</td>\n",
       "      <td>5</td>\n",
       "      <td>55</td>\n",
       "      <td>2390</td>\n",
       "      <td>2340</td>\n",
       "      <td>7</td>\n",
       "      <td>0</td>\n",
       "      <td>86.275</td>\n",
       "      <td>3.480000e-10</td>\n",
       "      <td>51</td>\n",
       "      <td>59</td>\n",
       "      <td>2747</td>\n",
       "      <td>86</td>\n",
       "      <td>66</td>\n",
       "    </tr>\n",
       "    <tr>\n",
       "      <th>10810</th>\n",
       "      <td>MITE_296</td>\n",
       "      <td>TraesCS2A02G580000.2</td>\n",
       "      <td>2</td>\n",
       "      <td>90</td>\n",
       "      <td>2410</td>\n",
       "      <td>2322</td>\n",
       "      <td>12</td>\n",
       "      <td>0</td>\n",
       "      <td>86.517</td>\n",
       "      <td>5.130000e-24</td>\n",
       "      <td>89</td>\n",
       "      <td>94</td>\n",
       "      <td>2747</td>\n",
       "      <td>95</td>\n",
       "      <td>118</td>\n",
       "    </tr>\n",
       "    <tr>\n",
       "      <th>14028</th>\n",
       "      <td>MITE_390</td>\n",
       "      <td>TraesCS2A02G580000.2</td>\n",
       "      <td>1</td>\n",
       "      <td>85</td>\n",
       "      <td>2323</td>\n",
       "      <td>2407</td>\n",
       "      <td>10</td>\n",
       "      <td>0</td>\n",
       "      <td>88.235</td>\n",
       "      <td>1.280000e-24</td>\n",
       "      <td>85</td>\n",
       "      <td>85</td>\n",
       "      <td>2747</td>\n",
       "      <td>100</td>\n",
       "      <td>120</td>\n",
       "    </tr>\n",
       "    <tr>\n",
       "      <th>14029</th>\n",
       "      <td>MITE_390</td>\n",
       "      <td>TraesCS2A02G580000.2</td>\n",
       "      <td>1</td>\n",
       "      <td>85</td>\n",
       "      <td>2407</td>\n",
       "      <td>2323</td>\n",
       "      <td>12</td>\n",
       "      <td>0</td>\n",
       "      <td>85.882</td>\n",
       "      <td>6.650000e-22</td>\n",
       "      <td>85</td>\n",
       "      <td>85</td>\n",
       "      <td>2747</td>\n",
       "      <td>100</td>\n",
       "      <td>110</td>\n",
       "    </tr>\n",
       "    <tr>\n",
       "      <th>15461</th>\n",
       "      <td>DTT_Taes_Athos_BJ268809-1</td>\n",
       "      <td>TraesCS2A02G580000.2</td>\n",
       "      <td>1</td>\n",
       "      <td>66</td>\n",
       "      <td>2405</td>\n",
       "      <td>2340</td>\n",
       "      <td>9</td>\n",
       "      <td>0</td>\n",
       "      <td>86.364</td>\n",
       "      <td>2.980000e-15</td>\n",
       "      <td>66</td>\n",
       "      <td>108</td>\n",
       "      <td>2747</td>\n",
       "      <td>94</td>\n",
       "      <td>86</td>\n",
       "    </tr>\n",
       "    <tr>\n",
       "      <th>15463</th>\n",
       "      <td>DTT_Taes_Athos_BJ268809-1</td>\n",
       "      <td>TraesCS2A02G580000.2</td>\n",
       "      <td>73</td>\n",
       "      <td>107</td>\n",
       "      <td>2360</td>\n",
       "      <td>2326</td>\n",
       "      <td>1</td>\n",
       "      <td>0</td>\n",
       "      <td>97.143</td>\n",
       "      <td>2.790000e-09</td>\n",
       "      <td>35</td>\n",
       "      <td>108</td>\n",
       "      <td>2747</td>\n",
       "      <td>94</td>\n",
       "      <td>64</td>\n",
       "    </tr>\n",
       "    <tr>\n",
       "      <th>25132</th>\n",
       "      <td>DTT_Taes_Athos_BQ238527-1</td>\n",
       "      <td>TraesCS2A02G580000.2</td>\n",
       "      <td>1</td>\n",
       "      <td>81</td>\n",
       "      <td>2325</td>\n",
       "      <td>2405</td>\n",
       "      <td>8</td>\n",
       "      <td>0</td>\n",
       "      <td>90.123</td>\n",
       "      <td>3.440000e-25</td>\n",
       "      <td>81</td>\n",
       "      <td>81</td>\n",
       "      <td>2747</td>\n",
       "      <td>100</td>\n",
       "      <td>122</td>\n",
       "    </tr>\n",
       "    <tr>\n",
       "      <th>31943</th>\n",
       "      <td>MITE_955</td>\n",
       "      <td>TraesCS2A02G580000.2</td>\n",
       "      <td>5</td>\n",
       "      <td>95</td>\n",
       "      <td>2320</td>\n",
       "      <td>2410</td>\n",
       "      <td>12</td>\n",
       "      <td>0</td>\n",
       "      <td>86.813</td>\n",
       "      <td>4.450000e-25</td>\n",
       "      <td>91</td>\n",
       "      <td>98</td>\n",
       "      <td>2747</td>\n",
       "      <td>94</td>\n",
       "      <td>122</td>\n",
       "    </tr>\n",
       "    <tr>\n",
       "      <th>49308</th>\n",
       "      <td>MITE_1525</td>\n",
       "      <td>TraesCS2A02G580000.2</td>\n",
       "      <td>1</td>\n",
       "      <td>61</td>\n",
       "      <td>2395</td>\n",
       "      <td>2335</td>\n",
       "      <td>8</td>\n",
       "      <td>0</td>\n",
       "      <td>86.885</td>\n",
       "      <td>1.670000e-14</td>\n",
       "      <td>61</td>\n",
       "      <td>61</td>\n",
       "      <td>2747</td>\n",
       "      <td>100</td>\n",
       "      <td>82</td>\n",
       "    </tr>\n",
       "  </tbody>\n",
       "</table>\n",
       "</div>"
      ],
      "text/plain": [
       "                          qseqid                sseqid  qstart  qend  sstart  \\\n",
       "19                        MITE_0  TraesCS2A02G580000.2       1    80    2325   \n",
       "20                        MITE_0  TraesCS2A02G580000.2       1    80    2405   \n",
       "6414                    MITE_187  TraesCS2A02G580000.2       5    55    2390   \n",
       "10810                   MITE_296  TraesCS2A02G580000.2       2    90    2410   \n",
       "14028                   MITE_390  TraesCS2A02G580000.2       1    85    2323   \n",
       "14029                   MITE_390  TraesCS2A02G580000.2       1    85    2407   \n",
       "15461  DTT_Taes_Athos_BJ268809-1  TraesCS2A02G580000.2       1    66    2405   \n",
       "15463  DTT_Taes_Athos_BJ268809-1  TraesCS2A02G580000.2      73   107    2360   \n",
       "25132  DTT_Taes_Athos_BQ238527-1  TraesCS2A02G580000.2       1    81    2325   \n",
       "31943                   MITE_955  TraesCS2A02G580000.2       5    95    2320   \n",
       "49308                  MITE_1525  TraesCS2A02G580000.2       1    61    2395   \n",
       "\n",
       "       send  mismatch  gaps  pident        evalue  length  qlen  slen  qcovs  \\\n",
       "19     2405         7     1  90.123  4.120000e-24      81    80  2747    100   \n",
       "20     2325         7     1  90.123  4.120000e-24      81    80  2747    100   \n",
       "6414   2340         7     0  86.275  3.480000e-10      51    59  2747     86   \n",
       "10810  2322        12     0  86.517  5.130000e-24      89    94  2747     95   \n",
       "14028  2407        10     0  88.235  1.280000e-24      85    85  2747    100   \n",
       "14029  2323        12     0  85.882  6.650000e-22      85    85  2747    100   \n",
       "15461  2340         9     0  86.364  2.980000e-15      66   108  2747     94   \n",
       "15463  2326         1     0  97.143  2.790000e-09      35   108  2747     94   \n",
       "25132  2405         8     0  90.123  3.440000e-25      81    81  2747    100   \n",
       "31943  2410        12     0  86.813  4.450000e-25      91    98  2747     94   \n",
       "49308  2335         8     0  86.885  1.670000e-14      61    61  2747    100   \n",
       "\n",
       "       score  \n",
       "19       118  \n",
       "20       118  \n",
       "6414      66  \n",
       "10810    118  \n",
       "14028    120  \n",
       "14029    110  \n",
       "15461     86  \n",
       "15463     64  \n",
       "25132    122  \n",
       "31943    122  \n",
       "49308     82  "
      ]
     },
     "execution_count": 446,
     "metadata": {},
     "output_type": "execute_result"
    }
   ],
   "source": [
    "df_mites[df_mites.sseqid=='TraesCS2A02G580000.2']"
   ]
  },
  {
   "cell_type": "code",
   "execution_count": 447,
   "metadata": {},
   "outputs": [],
   "source": [
    "df['new_start'] = df[['TStart','TStop']].min(axis=1)\n",
    "df['new_end'] = df[['TStart','TStop']].max(axis=1)\n",
    "df['TStart'] = df['new_start']\n",
    "df['TStop'] = df['new_end']\n",
    "df = df.drop('new_start',axis=1).drop('new_end',axis=1)\n"
   ]
  },
  {
   "cell_type": "code",
   "execution_count": 448,
   "metadata": {},
   "outputs": [],
   "source": [
    "df_mites['new_start'] = df_mites[['sstart','send']].min(axis=1)\n",
    "df_mites['new_end'] = df_mites[['sstart','send']].max(axis=1)\n",
    "df_mites['sstart'] = df_mites['new_start']\n",
    "df_mites['send'] = df_mites['new_end']\n",
    "df_mites = df_mites.drop('new_start',axis=1).drop('new_end',axis=1)\n"
   ]
  },
  {
   "cell_type": "code",
   "execution_count": 449,
   "metadata": {},
   "outputs": [],
   "source": [
    "df['MITE'] = ''"
   ]
  },
  {
   "cell_type": "code",
   "execution_count": 450,
   "metadata": {},
   "outputs": [],
   "source": [
    "for k,v in df.iterrows():\n",
    "    start = v.TStart\n",
    "    end = v.TStop\n",
    "    transcript = v.Transcript\n",
    "    df_filter = df_mites[df_mites.sseqid==transcript]\n",
    "    df_filter = df_filter[(df_filter.sstart <= start) & (df_filter.send >= end)]\n",
    "    if len(df_filter.index) > 0:\n",
    "        mites = ','.join(df_filter.qseqid.tolist())\n",
    "        df.at[k, 'MITE'] += mites\n",
    "        "
   ]
  },
  {
   "cell_type": "code",
   "execution_count": null,
   "metadata": {},
   "outputs": [],
   "source": []
  },
  {
   "cell_type": "code",
   "execution_count": 484,
   "metadata": {},
   "outputs": [
    {
     "name": "stdout",
     "output_type": "stream",
     "text": [
      "Total 15313\n",
      "W mites 1627\n",
      "WO mites 13686\n",
      "10.624959185006205\n"
     ]
    }
   ],
   "source": [
    "total = len(df.index)\n",
    "w_mites = len(df[df.MITE != ''].index)\n",
    "w_o_mites = len(df[df.MITE == ''].index)\n",
    "print('Total', total)\n",
    "print('W mites', w_mites)\n",
    "print('WO mites', w_o_mites)\n",
    "print(w_mites * 100 / total)"
   ]
  },
  {
   "cell_type": "code",
   "execution_count": null,
   "metadata": {},
   "outputs": [],
   "source": []
  },
  {
   "cell_type": "code",
   "execution_count": 485,
   "metadata": {},
   "outputs": [],
   "source": [
    "#add annotations"
   ]
  },
  {
   "cell_type": "code",
   "execution_count": 486,
   "metadata": {},
   "outputs": [
    {
     "name": "stdout",
     "output_type": "stream",
     "text": [
      "1957744\n"
     ]
    }
   ],
   "source": [
    "df_ann = pd.read_csv(path_annotation, index_col=False, sep='\\t', comment='#', header=None)\n",
    "df_ann.columns = ['seqname' , 'source' , 'feature' , 'start' , 'end' , 'score' , 'strand' , 'frame' , 'attribute']\n",
    "print(len(df_ann.index))"
   ]
  },
  {
   "cell_type": "code",
   "execution_count": 487,
   "metadata": {},
   "outputs": [
    {
     "data": {
      "text/html": [
       "<div>\n",
       "<style scoped>\n",
       "    .dataframe tbody tr th:only-of-type {\n",
       "        vertical-align: middle;\n",
       "    }\n",
       "\n",
       "    .dataframe tbody tr th {\n",
       "        vertical-align: top;\n",
       "    }\n",
       "\n",
       "    .dataframe thead th {\n",
       "        text-align: right;\n",
       "    }\n",
       "</style>\n",
       "<table border=\"1\" class=\"dataframe\">\n",
       "  <thead>\n",
       "    <tr style=\"text-align: right;\">\n",
       "      <th></th>\n",
       "      <th>seqname</th>\n",
       "      <th>source</th>\n",
       "      <th>feature</th>\n",
       "      <th>start</th>\n",
       "      <th>end</th>\n",
       "      <th>score</th>\n",
       "      <th>strand</th>\n",
       "      <th>frame</th>\n",
       "      <th>attribute</th>\n",
       "    </tr>\n",
       "  </thead>\n",
       "  <tbody>\n",
       "    <tr>\n",
       "      <th>0</th>\n",
       "      <td>1A</td>\n",
       "      <td>International Wheat Genome Sequencing Consortium</td>\n",
       "      <td>chromosome</td>\n",
       "      <td>1</td>\n",
       "      <td>594102056</td>\n",
       "      <td>.</td>\n",
       "      <td>.</td>\n",
       "      <td>.</td>\n",
       "      <td>ID=chromosome:1A;Alias=chr1A,LS992080.1</td>\n",
       "    </tr>\n",
       "  </tbody>\n",
       "</table>\n",
       "</div>"
      ],
      "text/plain": [
       "  seqname                                            source     feature  \\\n",
       "0      1A  International Wheat Genome Sequencing Consortium  chromosome   \n",
       "\n",
       "   start        end score strand frame  \\\n",
       "0      1  594102056     .      .     .   \n",
       "\n",
       "                                 attribute  \n",
       "0  ID=chromosome:1A;Alias=chr1A,LS992080.1  "
      ]
     },
     "execution_count": 487,
     "metadata": {},
     "output_type": "execute_result"
    }
   ],
   "source": [
    "df_ann.head(1)"
   ]
  },
  {
   "cell_type": "code",
   "execution_count": 488,
   "metadata": {},
   "outputs": [],
   "source": [
    "df_ann['feature_len'] = abs(df_ann['start'] - df_ann['end'])\n"
   ]
  },
  {
   "cell_type": "code",
   "execution_count": 489,
   "metadata": {},
   "outputs": [
    {
     "name": "stdout",
     "output_type": "stream",
     "text": [
      "216091\n"
     ]
    }
   ],
   "source": [
    "df_ann = df_ann[\n",
    "    (df_ann.feature == 'three_prime_UTR') | \n",
    "    (df_ann.feature == 'five_prime_UTR')]\n",
    "print(len(df_ann.index))\n"
   ]
  },
  {
   "cell_type": "code",
   "execution_count": 490,
   "metadata": {},
   "outputs": [],
   "source": [
    "df_ann = df_ann.reset_index(drop=True)\n"
   ]
  },
  {
   "cell_type": "code",
   "execution_count": 491,
   "metadata": {},
   "outputs": [],
   "source": [
    "df_ann['transcript'] = df_ann['attribute'].str.split('transcript:').str[1]\n",
    "df_ann['transcript'] = df_ann['transcript'].str.split(';').str[0]"
   ]
  },
  {
   "cell_type": "code",
   "execution_count": 492,
   "metadata": {},
   "outputs": [
    {
     "data": {
      "text/html": [
       "<div>\n",
       "<style scoped>\n",
       "    .dataframe tbody tr th:only-of-type {\n",
       "        vertical-align: middle;\n",
       "    }\n",
       "\n",
       "    .dataframe tbody tr th {\n",
       "        vertical-align: top;\n",
       "    }\n",
       "\n",
       "    .dataframe thead th {\n",
       "        text-align: right;\n",
       "    }\n",
       "</style>\n",
       "<table border=\"1\" class=\"dataframe\">\n",
       "  <thead>\n",
       "    <tr style=\"text-align: right;\">\n",
       "      <th></th>\n",
       "      <th>seqname</th>\n",
       "      <th>source</th>\n",
       "      <th>feature</th>\n",
       "      <th>start</th>\n",
       "      <th>end</th>\n",
       "      <th>score</th>\n",
       "      <th>strand</th>\n",
       "      <th>frame</th>\n",
       "      <th>attribute</th>\n",
       "      <th>feature_len</th>\n",
       "      <th>transcript</th>\n",
       "    </tr>\n",
       "  </thead>\n",
       "  <tbody>\n",
       "    <tr>\n",
       "      <th>0</th>\n",
       "      <td>1A</td>\n",
       "      <td>IWGSC</td>\n",
       "      <td>three_prime_UTR</td>\n",
       "      <td>40098</td>\n",
       "      <td>40731</td>\n",
       "      <td>.</td>\n",
       "      <td>-</td>\n",
       "      <td>.</td>\n",
       "      <td>Parent=transcript:TraesCS1A02G000100.1</td>\n",
       "      <td>633</td>\n",
       "      <td>TraesCS1A02G000100.1</td>\n",
       "    </tr>\n",
       "    <tr>\n",
       "      <th>1</th>\n",
       "      <td>1A</td>\n",
       "      <td>IWGSC</td>\n",
       "      <td>three_prime_UTR</td>\n",
       "      <td>58474</td>\n",
       "      <td>58507</td>\n",
       "      <td>.</td>\n",
       "      <td>-</td>\n",
       "      <td>.</td>\n",
       "      <td>Parent=transcript:TraesCS1A02G000100.1</td>\n",
       "      <td>33</td>\n",
       "      <td>TraesCS1A02G000100.1</td>\n",
       "    </tr>\n",
       "    <tr>\n",
       "      <th>2</th>\n",
       "      <td>1A</td>\n",
       "      <td>IWGSC</td>\n",
       "      <td>five_prime_UTR</td>\n",
       "      <td>58769</td>\n",
       "      <td>58897</td>\n",
       "      <td>.</td>\n",
       "      <td>-</td>\n",
       "      <td>.</td>\n",
       "      <td>Parent=transcript:TraesCS1A02G000100.1</td>\n",
       "      <td>128</td>\n",
       "      <td>TraesCS1A02G000100.1</td>\n",
       "    </tr>\n",
       "    <tr>\n",
       "      <th>3</th>\n",
       "      <td>1A</td>\n",
       "      <td>IWGSC</td>\n",
       "      <td>five_prime_UTR</td>\n",
       "      <td>70089</td>\n",
       "      <td>70338</td>\n",
       "      <td>.</td>\n",
       "      <td>-</td>\n",
       "      <td>.</td>\n",
       "      <td>Parent=transcript:TraesCS1A02G000100.1</td>\n",
       "      <td>249</td>\n",
       "      <td>TraesCS1A02G000100.1</td>\n",
       "    </tr>\n",
       "    <tr>\n",
       "      <th>4</th>\n",
       "      <td>1A</td>\n",
       "      <td>IWGSC</td>\n",
       "      <td>three_prime_UTR</td>\n",
       "      <td>70557</td>\n",
       "      <td>70650</td>\n",
       "      <td>.</td>\n",
       "      <td>+</td>\n",
       "      <td>.</td>\n",
       "      <td>Parent=transcript:TraesCS1A02G000200.1</td>\n",
       "      <td>93</td>\n",
       "      <td>TraesCS1A02G000200.1</td>\n",
       "    </tr>\n",
       "  </tbody>\n",
       "</table>\n",
       "</div>"
      ],
      "text/plain": [
       "  seqname source          feature  start    end score strand frame  \\\n",
       "0      1A  IWGSC  three_prime_UTR  40098  40731     .      -     .   \n",
       "1      1A  IWGSC  three_prime_UTR  58474  58507     .      -     .   \n",
       "2      1A  IWGSC   five_prime_UTR  58769  58897     .      -     .   \n",
       "3      1A  IWGSC   five_prime_UTR  70089  70338     .      -     .   \n",
       "4      1A  IWGSC  three_prime_UTR  70557  70650     .      +     .   \n",
       "\n",
       "                                attribute  feature_len            transcript  \n",
       "0  Parent=transcript:TraesCS1A02G000100.1          633  TraesCS1A02G000100.1  \n",
       "1  Parent=transcript:TraesCS1A02G000100.1           33  TraesCS1A02G000100.1  \n",
       "2  Parent=transcript:TraesCS1A02G000100.1          128  TraesCS1A02G000100.1  \n",
       "3  Parent=transcript:TraesCS1A02G000100.1          249  TraesCS1A02G000100.1  \n",
       "4  Parent=transcript:TraesCS1A02G000200.1           93  TraesCS1A02G000200.1  "
      ]
     },
     "execution_count": 492,
     "metadata": {},
     "output_type": "execute_result"
    }
   ],
   "source": [
    "df_ann.head(5)"
   ]
  },
  {
   "cell_type": "code",
   "execution_count": 493,
   "metadata": {},
   "outputs": [],
   "source": [
    "indexes = df_ann[(df_ann.strand=='+') & (df_ann.feature=='five_prime_UTR')].duplicated(['feature','transcript'],keep='first')\n",
    "indexes = indexes[indexes == True].index\n",
    "df_ann = df_ann[~df_ann.index.isin(indexes)]\n",
    "\n",
    "indexes = df_ann[(df_ann.strand=='-') & (df_ann.feature=='five_prime_UTR')].duplicated(['feature','transcript'],keep='last')\n",
    "indexes = indexes[indexes == True].index\n",
    "df_ann = df_ann[~df_ann.index.isin(indexes)]\n",
    "\n",
    "\n",
    "indexes = df_ann[(df_ann.strand=='+') & (df_ann.feature=='three_prime_UTR')].duplicated(['feature','transcript'],keep='last')\n",
    "indexes = indexes[indexes == True].index\n",
    "df_ann = df_ann[~df_ann.index.isin(indexes)]\n",
    "\n",
    "indexes = df_ann[(df_ann.strand=='-') & (df_ann.feature=='three_prime_UTR')].duplicated(['feature','transcript'],keep='first')\n",
    "indexes = indexes[indexes == True].index\n",
    "df_ann = df_ann[~df_ann.index.isin(indexes)]\n",
    "\n"
   ]
  },
  {
   "cell_type": "code",
   "execution_count": 494,
   "metadata": {},
   "outputs": [
    {
     "name": "stdout",
     "output_type": "stream",
     "text": [
      "180799\n"
     ]
    },
    {
     "data": {
      "text/html": [
       "<div>\n",
       "<style scoped>\n",
       "    .dataframe tbody tr th:only-of-type {\n",
       "        vertical-align: middle;\n",
       "    }\n",
       "\n",
       "    .dataframe tbody tr th {\n",
       "        vertical-align: top;\n",
       "    }\n",
       "\n",
       "    .dataframe thead th {\n",
       "        text-align: right;\n",
       "    }\n",
       "</style>\n",
       "<table border=\"1\" class=\"dataframe\">\n",
       "  <thead>\n",
       "    <tr style=\"text-align: right;\">\n",
       "      <th></th>\n",
       "      <th>seqname</th>\n",
       "      <th>source</th>\n",
       "      <th>feature</th>\n",
       "      <th>start</th>\n",
       "      <th>end</th>\n",
       "      <th>score</th>\n",
       "      <th>strand</th>\n",
       "      <th>frame</th>\n",
       "      <th>attribute</th>\n",
       "      <th>feature_len</th>\n",
       "      <th>transcript</th>\n",
       "    </tr>\n",
       "  </thead>\n",
       "  <tbody>\n",
       "    <tr>\n",
       "      <th>0</th>\n",
       "      <td>1A</td>\n",
       "      <td>IWGSC</td>\n",
       "      <td>three_prime_UTR</td>\n",
       "      <td>40098</td>\n",
       "      <td>40731</td>\n",
       "      <td>.</td>\n",
       "      <td>-</td>\n",
       "      <td>.</td>\n",
       "      <td>Parent=transcript:TraesCS1A02G000100.1</td>\n",
       "      <td>633</td>\n",
       "      <td>TraesCS1A02G000100.1</td>\n",
       "    </tr>\n",
       "    <tr>\n",
       "      <th>3</th>\n",
       "      <td>1A</td>\n",
       "      <td>IWGSC</td>\n",
       "      <td>five_prime_UTR</td>\n",
       "      <td>70089</td>\n",
       "      <td>70338</td>\n",
       "      <td>.</td>\n",
       "      <td>-</td>\n",
       "      <td>.</td>\n",
       "      <td>Parent=transcript:TraesCS1A02G000100.1</td>\n",
       "      <td>249</td>\n",
       "      <td>TraesCS1A02G000100.1</td>\n",
       "    </tr>\n",
       "    <tr>\n",
       "      <th>5</th>\n",
       "      <td>1A</td>\n",
       "      <td>IWGSC</td>\n",
       "      <td>three_prime_UTR</td>\n",
       "      <td>88242</td>\n",
       "      <td>89245</td>\n",
       "      <td>.</td>\n",
       "      <td>+</td>\n",
       "      <td>.</td>\n",
       "      <td>Parent=transcript:TraesCS1A02G000200.1</td>\n",
       "      <td>1003</td>\n",
       "      <td>TraesCS1A02G000200.1</td>\n",
       "    </tr>\n",
       "    <tr>\n",
       "      <th>6</th>\n",
       "      <td>1A</td>\n",
       "      <td>IWGSC</td>\n",
       "      <td>five_prime_UTR</td>\n",
       "      <td>95906</td>\n",
       "      <td>96020</td>\n",
       "      <td>.</td>\n",
       "      <td>+</td>\n",
       "      <td>.</td>\n",
       "      <td>Parent=transcript:TraesCS1A02G000300.1</td>\n",
       "      <td>114</td>\n",
       "      <td>TraesCS1A02G000300.1</td>\n",
       "    </tr>\n",
       "    <tr>\n",
       "      <th>8</th>\n",
       "      <td>1A</td>\n",
       "      <td>IWGSC</td>\n",
       "      <td>five_prime_UTR</td>\n",
       "      <td>102794</td>\n",
       "      <td>104077</td>\n",
       "      <td>.</td>\n",
       "      <td>+</td>\n",
       "      <td>.</td>\n",
       "      <td>Parent=transcript:TraesCS1A02G000400.1</td>\n",
       "      <td>1283</td>\n",
       "      <td>TraesCS1A02G000400.1</td>\n",
       "    </tr>\n",
       "  </tbody>\n",
       "</table>\n",
       "</div>"
      ],
      "text/plain": [
       "  seqname source          feature   start     end score strand frame  \\\n",
       "0      1A  IWGSC  three_prime_UTR   40098   40731     .      -     .   \n",
       "3      1A  IWGSC   five_prime_UTR   70089   70338     .      -     .   \n",
       "5      1A  IWGSC  three_prime_UTR   88242   89245     .      +     .   \n",
       "6      1A  IWGSC   five_prime_UTR   95906   96020     .      +     .   \n",
       "8      1A  IWGSC   five_prime_UTR  102794  104077     .      +     .   \n",
       "\n",
       "                                attribute  feature_len            transcript  \n",
       "0  Parent=transcript:TraesCS1A02G000100.1          633  TraesCS1A02G000100.1  \n",
       "3  Parent=transcript:TraesCS1A02G000100.1          249  TraesCS1A02G000100.1  \n",
       "5  Parent=transcript:TraesCS1A02G000200.1         1003  TraesCS1A02G000200.1  \n",
       "6  Parent=transcript:TraesCS1A02G000300.1          114  TraesCS1A02G000300.1  \n",
       "8  Parent=transcript:TraesCS1A02G000400.1         1283  TraesCS1A02G000400.1  "
      ]
     },
     "execution_count": 494,
     "metadata": {},
     "output_type": "execute_result"
    }
   ],
   "source": [
    "print(len(df_ann.index))\n",
    "df_ann.head(5)"
   ]
  },
  {
   "cell_type": "code",
   "execution_count": null,
   "metadata": {},
   "outputs": [],
   "source": []
  },
  {
   "cell_type": "code",
   "execution_count": 495,
   "metadata": {},
   "outputs": [],
   "source": [
    "df['annotation'] = ''"
   ]
  },
  {
   "cell_type": "code",
   "execution_count": 496,
   "metadata": {},
   "outputs": [],
   "source": [
    "for k,v in df.iterrows():\n",
    "    transcript_start = v.TStart\n",
    "    transcript_stop = v.TStop\n",
    "    transcript_slice = v.TSlice\n",
    "    transcript_name = v.Transcript\n",
    "    transcript_len = lens[transcript_name]\n",
    "    other = df_ann[df_ann.transcript == transcript_name]\n",
    "    for k2,v2 in other.iterrows():\n",
    "        if v2.feature == 'five_prime_UTR' and v2.strand == '+' and transcript_slice <= v2.feature_len:\n",
    "             df.loc[k, 'annotation'] = 'five_prime_UTR'\n",
    "        if v2.feature == 'five_prime_UTR' and v2.strand == '-' and transcript_len - transcript_slice <= v2.feature_len:\n",
    "             df.loc[k, 'annotation'] = 'five_prime_UTR'\n",
    "        if v2.feature == 'three_prime_UTR' and v2.strand == '+' and transcript_slice >= transcript_len - v2.feature_len:\n",
    "             df.loc[k, 'annotation'] = 'three_prime_UTR'\n",
    "        if v2.feature == 'three_prime_UTR' and v2.strand == '-' and transcript_slice <= v2.feature_len:\n",
    "             df.loc[k, 'annotation'] = 'three_prime_UTR'\n"
   ]
  },
  {
   "cell_type": "code",
   "execution_count": 497,
   "metadata": {},
   "outputs": [
    {
     "data": {
      "text/html": [
       "<div>\n",
       "<style scoped>\n",
       "    .dataframe tbody tr th:only-of-type {\n",
       "        vertical-align: middle;\n",
       "    }\n",
       "\n",
       "    .dataframe tbody tr th {\n",
       "        vertical-align: top;\n",
       "    }\n",
       "\n",
       "    .dataframe thead th {\n",
       "        text-align: right;\n",
       "    }\n",
       "</style>\n",
       "<table border=\"1\" class=\"dataframe\">\n",
       "  <thead>\n",
       "    <tr style=\"text-align: right;\">\n",
       "      <th></th>\n",
       "      <th>seqname</th>\n",
       "      <th>source</th>\n",
       "      <th>feature</th>\n",
       "      <th>start</th>\n",
       "      <th>end</th>\n",
       "      <th>score</th>\n",
       "      <th>strand</th>\n",
       "      <th>frame</th>\n",
       "      <th>attribute</th>\n",
       "      <th>feature_len</th>\n",
       "      <th>transcript</th>\n",
       "    </tr>\n",
       "  </thead>\n",
       "  <tbody>\n",
       "    <tr>\n",
       "      <th>20</th>\n",
       "      <td>1A</td>\n",
       "      <td>IWGSC</td>\n",
       "      <td>three_prime_UTR</td>\n",
       "      <td>294611</td>\n",
       "      <td>295669</td>\n",
       "      <td>.</td>\n",
       "      <td>-</td>\n",
       "      <td>.</td>\n",
       "      <td>Parent=transcript:TraesCS1A02G001400.1</td>\n",
       "      <td>1058</td>\n",
       "      <td>TraesCS1A02G001400.1</td>\n",
       "    </tr>\n",
       "    <tr>\n",
       "      <th>22</th>\n",
       "      <td>1A</td>\n",
       "      <td>IWGSC</td>\n",
       "      <td>five_prime_UTR</td>\n",
       "      <td>304348</td>\n",
       "      <td>305428</td>\n",
       "      <td>.</td>\n",
       "      <td>-</td>\n",
       "      <td>.</td>\n",
       "      <td>Parent=transcript:TraesCS1A02G001400.1</td>\n",
       "      <td>1080</td>\n",
       "      <td>TraesCS1A02G001400.1</td>\n",
       "    </tr>\n",
       "  </tbody>\n",
       "</table>\n",
       "</div>"
      ],
      "text/plain": [
       "   seqname source          feature   start     end score strand frame  \\\n",
       "20      1A  IWGSC  three_prime_UTR  294611  295669     .      -     .   \n",
       "22      1A  IWGSC   five_prime_UTR  304348  305428     .      -     .   \n",
       "\n",
       "                                 attribute  feature_len            transcript  \n",
       "20  Parent=transcript:TraesCS1A02G001400.1         1058  TraesCS1A02G001400.1  \n",
       "22  Parent=transcript:TraesCS1A02G001400.1         1080  TraesCS1A02G001400.1  "
      ]
     },
     "execution_count": 497,
     "metadata": {},
     "output_type": "execute_result"
    }
   ],
   "source": [
    "df_ann[df_ann.transcript=='TraesCS1A02G001400.1']"
   ]
  },
  {
   "cell_type": "code",
   "execution_count": 498,
   "metadata": {},
   "outputs": [],
   "source": [
    "df['annotation'].fillna('exon', inplace=True)"
   ]
  },
  {
   "cell_type": "code",
   "execution_count": 499,
   "metadata": {},
   "outputs": [],
   "source": [
    "df['annotation'].replace('', 'exon',inplace=True)"
   ]
  },
  {
   "cell_type": "code",
   "execution_count": 500,
   "metadata": {},
   "outputs": [
    {
     "data": {
      "text/html": [
       "<div>\n",
       "<style scoped>\n",
       "    .dataframe tbody tr th:only-of-type {\n",
       "        vertical-align: middle;\n",
       "    }\n",
       "\n",
       "    .dataframe tbody tr th {\n",
       "        vertical-align: top;\n",
       "    }\n",
       "\n",
       "    .dataframe thead th {\n",
       "        text-align: right;\n",
       "    }\n",
       "</style>\n",
       "<table border=\"1\" class=\"dataframe\">\n",
       "  <thead>\n",
       "    <tr style=\"text-align: right;\">\n",
       "      <th></th>\n",
       "      <th>SiteID</th>\n",
       "      <th>annotation</th>\n",
       "    </tr>\n",
       "  </thead>\n",
       "  <tbody>\n",
       "    <tr>\n",
       "      <th>0</th>\n",
       "      <td>TraesCS1A02G000300.1:66</td>\n",
       "      <td>five_prime_UTR</td>\n",
       "    </tr>\n",
       "    <tr>\n",
       "      <th>1</th>\n",
       "      <td>TraesCS1A02G000400.1:1381</td>\n",
       "      <td>five_prime_UTR</td>\n",
       "    </tr>\n",
       "    <tr>\n",
       "      <th>2</th>\n",
       "      <td>TraesCS1A02G000600.1:14</td>\n",
       "      <td>three_prime_UTR</td>\n",
       "    </tr>\n",
       "    <tr>\n",
       "      <th>3</th>\n",
       "      <td>TraesCS1A02G000900.1:1117</td>\n",
       "      <td>three_prime_UTR</td>\n",
       "    </tr>\n",
       "    <tr>\n",
       "      <th>4</th>\n",
       "      <td>TraesCS1A02G001000.1:1547</td>\n",
       "      <td>five_prime_UTR</td>\n",
       "    </tr>\n",
       "    <tr>\n",
       "      <th>5</th>\n",
       "      <td>TraesCS1A02G001100.1:3677</td>\n",
       "      <td>five_prime_UTR</td>\n",
       "    </tr>\n",
       "    <tr>\n",
       "      <th>6</th>\n",
       "      <td>TraesCS1A02G001100.1:933</td>\n",
       "      <td>five_prime_UTR</td>\n",
       "    </tr>\n",
       "    <tr>\n",
       "      <th>7</th>\n",
       "      <td>TraesCS1A02G001400.1:1787</td>\n",
       "      <td>three_prime_UTR</td>\n",
       "    </tr>\n",
       "    <tr>\n",
       "      <th>8</th>\n",
       "      <td>TraesCS1A02G001400.1:649</td>\n",
       "      <td>five_prime_UTR</td>\n",
       "    </tr>\n",
       "    <tr>\n",
       "      <th>9</th>\n",
       "      <td>TraesCS1A02G004200.1:338</td>\n",
       "      <td>three_prime_UTR</td>\n",
       "    </tr>\n",
       "  </tbody>\n",
       "</table>\n",
       "</div>"
      ],
      "text/plain": [
       "                      SiteID       annotation\n",
       "0    TraesCS1A02G000300.1:66   five_prime_UTR\n",
       "1  TraesCS1A02G000400.1:1381   five_prime_UTR\n",
       "2    TraesCS1A02G000600.1:14  three_prime_UTR\n",
       "3  TraesCS1A02G000900.1:1117  three_prime_UTR\n",
       "4  TraesCS1A02G001000.1:1547   five_prime_UTR\n",
       "5  TraesCS1A02G001100.1:3677   five_prime_UTR\n",
       "6   TraesCS1A02G001100.1:933   five_prime_UTR\n",
       "7  TraesCS1A02G001400.1:1787  three_prime_UTR\n",
       "8   TraesCS1A02G001400.1:649   five_prime_UTR\n",
       "9   TraesCS1A02G004200.1:338  three_prime_UTR"
      ]
     },
     "execution_count": 500,
     "metadata": {},
     "output_type": "execute_result"
    }
   ],
   "source": [
    "df[['SiteID','annotation']].head(10)"
   ]
  },
  {
   "cell_type": "code",
   "execution_count": 516,
   "metadata": {},
   "outputs": [
    {
     "data": {
      "text/plain": [
       "<matplotlib.axes._subplots.AxesSubplot at 0x7f827b3292e8>"
      ]
     },
     "execution_count": 516,
     "metadata": {},
     "output_type": "execute_result"
    },
    {
     "data": {
      "image/png": "[encoded data removed]",
      "text/plain": [
       "<Figure size 432x288 with 1 Axes>"
      ]
     },
     "metadata": {
      "needs_background": "light"
     },
     "output_type": "display_data"
    }
   ],
   "source": [
    "ax = df.annotation.value_counts().plot('bar',color=['b','y','g'])\n",
    "x_offset = -0.07\n",
    "y_offset = 0.15\n",
    "ax.yaxis.set_major_locator(MaxNLocator(integer=True))\n",
    "\n",
    "for p in ax.patches:\n",
    "    b = p.get_bbox()\n",
    "    val = int(b.y1)\n",
    "    ax.annotate(val, ((b.x0 + b.x1)/2 + x_offset, b.y1 + y_offset))\n",
    "ax\n",
    "#pyplot.savefig('../data/res/1.png',transparent=True, bbox_inches='tight', pad_inches=0)"
   ]
  },
  {
   "cell_type": "code",
   "execution_count": 515,
   "metadata": {},
   "outputs": [
    {
     "data": {
      "text/plain": [
       "<matplotlib.axes._subplots.AxesSubplot at 0x7f827b3d74e0>"
      ]
     },
     "execution_count": 515,
     "metadata": {},
     "output_type": "execute_result"
    },
    {
     "data": {
      "image/png": "[encoded data removed]",
      "text/plain": [
       "<Figure size 432x288 with 1 Axes>"
      ]
     },
     "metadata": {
      "needs_background": "light"
     },
     "output_type": "display_data"
    }
   ],
   "source": [
    "ax = df[df.DegradomeCategory == 0].annotation.value_counts().plot('bar',color=['b','y','g'])\n",
    "x_offset = -0.07\n",
    "y_offset = 0.15\n",
    "ax.yaxis.set_major_locator(MaxNLocator(integer=True))\n",
    "\n",
    "for p in ax.patches:\n",
    "    b = p.get_bbox()\n",
    "    val = int(b.y1)\n",
    "    ax.annotate(val, ((b.x0 + b.x1)/2 + x_offset, b.y1 + y_offset))\n",
    "ax\n",
    "#pyplot.savefig('../data/res/1.png',transparent=True, bbox_inches='tight', pad_inches=0)"
   ]
  },
  {
   "cell_type": "code",
   "execution_count": null,
   "metadata": {},
   "outputs": [],
   "source": []
  },
  {
   "cell_type": "code",
   "execution_count": 508,
   "metadata": {},
   "outputs": [
    {
     "data": {
      "image/png": "[encoded data removed]",
      "text/plain": [
       "<Figure size 432x288 with 1 Axes>"
      ]
     },
     "metadata": {
      "needs_background": "light"
     },
     "output_type": "display_data"
    }
   ],
   "source": []
  },
  {
   "cell_type": "code",
   "execution_count": null,
   "metadata": {},
   "outputs": [],
   "source": []
  },
  {
   "cell_type": "code",
   "execution_count": null,
   "metadata": {},
   "outputs": [],
   "source": []
  },
  {
   "cell_type": "code",
   "execution_count": 517,
   "metadata": {},
   "outputs": [
    {
     "data": {
      "text/plain": [
       "<matplotlib.axes._subplots.AxesSubplot at 0x7f827b2e6780>"
      ]
     },
     "execution_count": 517,
     "metadata": {},
     "output_type": "execute_result"
    },
    {
     "data": {
      "image/png": "[encoded data removed]",
      "text/plain": [
       "<Figure size 432x288 with 1 Axes>"
      ]
     },
     "metadata": {
      "needs_background": "light"
     },
     "output_type": "display_data"
    }
   ],
   "source": [
    "ax = df[(df.DegradomeCategory == 0) & (df.MITE != '')].annotation.value_counts().plot('bar',color=['b','y','g'])\n",
    "\n",
    "ax"
   ]
  },
  {
   "cell_type": "code",
   "execution_count": null,
   "metadata": {},
   "outputs": [],
   "source": []
  },
  {
   "cell_type": "code",
   "execution_count": null,
   "metadata": {},
   "outputs": [],
   "source": []
  },
  {
   "cell_type": "code",
   "execution_count": null,
   "metadata": {},
   "outputs": [],
   "source": []
  },
  {
   "cell_type": "code",
   "execution_count": 520,
   "metadata": {},
   "outputs": [
    {
     "data": {
      "text/plain": [
       "<matplotlib.axes._subplots.AxesSubplot at 0x7f827b23ff98>"
      ]
     },
     "execution_count": 520,
     "metadata": {},
     "output_type": "execute_result"
    },
    {
     "data": {
      "image/png": "[encoded data removed]",
      "text/plain": [
       "<Figure size 432x288 with 1 Axes>"
      ]
     },
     "metadata": {
      "needs_background": "light"
     },
     "output_type": "display_data"
    }
   ],
   "source": [
    "ax = df[df.MITE != ''].annotation.value_counts().plot('bar',color=['y','b','g'])\n",
    "\n",
    "x_offset = -0.07\n",
    "y_offset = 0.15\n",
    "ax.yaxis.set_major_locator(MaxNLocator(integer=True))\n",
    "\n",
    "for p in ax.patches:\n",
    "    b = p.get_bbox()\n",
    "    val = int(b.y1)\n",
    "    ax.annotate(val, ((b.x0 + b.x1)/2 + x_offset, b.y1 + y_offset))\n",
    "ax\n"
   ]
  },
  {
   "cell_type": "code",
   "execution_count": null,
   "metadata": {},
   "outputs": [],
   "source": []
  },
  {
   "cell_type": "code",
   "execution_count": null,
   "metadata": {},
   "outputs": [],
   "source": []
  },
  {
   "cell_type": "code",
   "execution_count": null,
   "metadata": {},
   "outputs": [],
   "source": []
  },
  {
   "cell_type": "code",
   "execution_count": null,
   "metadata": {},
   "outputs": [],
   "source": []
  },
  {
   "cell_type": "code",
   "execution_count": 483,
   "metadata": {},
   "outputs": [
    {
     "data": {
      "text/plain": [
       "'/home/juan/Desktop/juan/bio/mirna_mite/data/res/res_deg.csv'"
      ]
     },
     "execution_count": 483,
     "metadata": {},
     "output_type": "execute_result"
    }
   ],
   "source": [
    "df.to_csv(path_res_final, index=None)\n",
    "path_res_final"
   ]
  },
  {
   "cell_type": "code",
   "execution_count": null,
   "metadata": {},
   "outputs": [],
   "source": []
  },
  {
   "cell_type": "code",
   "execution_count": null,
   "metadata": {},
   "outputs": [],
   "source": []
  },
  {
   "cell_type": "code",
   "execution_count": null,
   "metadata": {},
   "outputs": [],
   "source": []
  },
  {
   "cell_type": "code",
   "execution_count": null,
   "metadata": {},
   "outputs": [],
   "source": []
  },
  {
   "cell_type": "code",
   "execution_count": null,
   "metadata": {},
   "outputs": [],
   "source": []
  },
  {
   "cell_type": "code",
   "execution_count": null,
   "metadata": {},
   "outputs": [],
   "source": []
  },
  {
   "cell_type": "code",
   "execution_count": null,
   "metadata": {},
   "outputs": [],
   "source": []
  },
  {
   "cell_type": "code",
   "execution_count": null,
   "metadata": {},
   "outputs": [],
   "source": []
  },
  {
   "cell_type": "code",
   "execution_count": null,
   "metadata": {},
   "outputs": [],
   "source": []
  },
  {
   "cell_type": "code",
   "execution_count": null,
   "metadata": {},
   "outputs": [],
   "source": []
  },
  {
   "cell_type": "code",
   "execution_count": null,
   "metadata": {},
   "outputs": [],
   "source": []
  },
  {
   "cell_type": "code",
   "execution_count": null,
   "metadata": {},
   "outputs": [],
   "source": []
  },
  {
   "cell_type": "code",
   "execution_count": null,
   "metadata": {},
   "outputs": [],
   "source": [
    "df_mites = df[df.MITE != '']\n",
    "df[df.MITE != ''][['SiteID','Query','Transcript','TStart','TStop','MITE','Sequence']].head()"
   ]
  },
  {
   "cell_type": "code",
   "execution_count": null,
   "metadata": {},
   "outputs": [],
   "source": [
    "df_mirna_res = pd.read_csv(path_mirna_res, sep='\\t')\n",
    "df_mirna_res.rename(columns={'MITE':'MITE_prod'}, inplace=True)\n",
    "print(len(df_mirna_res.index))\n",
    "df_mirna_res.head(2)"
   ]
  },
  {
   "cell_type": "code",
   "execution_count": null,
   "metadata": {},
   "outputs": [],
   "source": [
    "df_mirna_res_mites = df_mirna_res[df_mirna_res.MITE_prod.notnull()]\n",
    "print(len(df_mirna_res_mites.index))\n"
   ]
  },
  {
   "cell_type": "code",
   "execution_count": null,
   "metadata": {},
   "outputs": [],
   "source": [
    "df_mirna_res_mites['Name'] = df_mirna_res_mites.Name.str.split(\"|\").str[0]"
   ]
  },
  {
   "cell_type": "code",
   "execution_count": null,
   "metadata": {},
   "outputs": [],
   "source": []
  },
  {
   "cell_type": "code",
   "execution_count": null,
   "metadata": {},
   "outputs": [],
   "source": [
    "df_mirna_res_mites_for_merge = df_mirna_res_mites[['Name','#Locus','MajorRNA','MITE_prod']]"
   ]
  },
  {
   "cell_type": "code",
   "execution_count": null,
   "metadata": {},
   "outputs": [],
   "source": [
    "df_merge = pd.merge(df_mites,df_mirna_res_mites,left_on='Query', right_on='Name')"
   ]
  },
  {
   "cell_type": "code",
   "execution_count": null,
   "metadata": {},
   "outputs": [],
   "source": [
    "df_new = df_merge[['SiteID','DegradomeCategory','Name','#Locus','MajorRNA','MITE','MITE_prod']]"
   ]
  },
  {
   "cell_type": "code",
   "execution_count": null,
   "metadata": {},
   "outputs": [],
   "source": [
    "df_merge.head(2)"
   ]
  },
  {
   "cell_type": "code",
   "execution_count": null,
   "metadata": {},
   "outputs": [],
   "source": [
    "df_merge['equal_mite'] = 0\n",
    "for k,v in df_merge.iterrows():\n",
    "    prods = v.MITE_prod.split(',')\n",
    "    target = v.MITE.split(',')\n",
    "    prods = set(filter(None, prods))\n",
    "    target = set(filter(None, target))\n",
    "    inter = target.intersection(prods)\n",
    "    if inter:\n",
    "        print(v.SiteID, v.Name, inter)\n",
    "        df_merge.at[k, 'equal_mite'] = 1"
   ]
  },
  {
   "cell_type": "code",
   "execution_count": null,
   "metadata": {},
   "outputs": [],
   "source": [
    "df_merge[df_merge.Name=='sun_all_Cluster_8835']"
   ]
  },
  {
   "cell_type": "code",
   "execution_count": null,
   "metadata": {},
   "outputs": [],
   "source": [
    "total_ele = len(df_merge.index)\n",
    "equal_mite = len(df_merge[df_merge.equal_mite==1].index)\n",
    "print(equal_mite * 100 /total_ele)"
   ]
  },
  {
   "cell_type": "code",
   "execution_count": null,
   "metadata": {},
   "outputs": [],
   "source": [
    "df_merge.to_csv(path_res_final, index=None)\n",
    "path_res_final"
   ]
  },
  {
   "cell_type": "code",
   "execution_count": null,
   "metadata": {},
   "outputs": [],
   "source": []
  },
  {
   "cell_type": "code",
   "execution_count": null,
   "metadata": {},
   "outputs": [],
   "source": []
  },
  {
   "cell_type": "code",
   "execution_count": null,
   "metadata": {},
   "outputs": [],
   "source": []
  },
  {
   "cell_type": "code",
   "execution_count": null,
   "metadata": {},
   "outputs": [],
   "source": []
  }
 ],
 "metadata": {
  "kernelspec": {
   "display_name": "Python 3",
   "language": "python",
   "name": "python3"
  },
  "language_info": {
   "codemirror_mode": {
    "name": "ipython",
    "version": 3
   },
   "file_extension": ".py",
   "mimetype": "text/x-python",
   "name": "python",
   "nbconvert_exporter": "python",
   "pygments_lexer": "ipython3",
   "version": "3.6.5"
  }
 },
 "nbformat": 4,
 "nbformat_minor": 2
}
