{
 "cells": [
  {
   "cell_type": "code",
   "execution_count": 5,
   "metadata": {},
   "outputs": [],
   "source": [
    "import pandas as pd\n",
    "from Bio import SeqIO\n",
    "from Bio.SeqRecord import SeqRecord\n",
    "from Bio.Seq import Seq\n",
    "import matplotlib.pyplot as plt\n",
    "import seaborn as sns\n"
   ]
  },
  {
   "cell_type": "code",
   "execution_count": 18,
   "metadata": {},
   "outputs": [],
   "source": [
    "libs = ['SRR1197125']\n",
    "path_libs = '/home/juan/Desktop/juan/bio/mirna_mite/data/res/sun_deg/%s'\n",
    "path_transcripts = '/home/juan/Desktop/juan/bio/mirna_mite/data/fixed.cdna.all.fa'\n",
    "path_transcripts_res = '/home/juan/Desktop/juan/bio/mirna_mite/data/res/targets.fa'\n",
    "path_blast_res = '/home/juan/Desktop/juan/bio/mirna_mite/data/res/transcripts_mites.csv'\n",
    "path_mirna_res = '/home/juan/Desktop/juan/bio/mirna_mite/data/res/all_results.csv'\n",
    "path_res_final = '/home/juan/Desktop/juan/bio/mirna_mite/data/res/res_deg.csv'\n",
    "path_ann = '/home/juan/Desktop/juan/bio/data/IWGSC/42/Triticum_aestivum.IWGSC.42.gff3'"
   ]
  },
  {
   "cell_type": "code",
   "execution_count": 9,
   "metadata": {},
   "outputs": [],
   "source": [
    "dfs = []\n",
    "for lib in libs:\n",
    "    path_lib = path_libs % lib\n",
    "    df = pd.read_csv(path_lib, sep='\\t',comment='#')\n",
    "    df['lib'] = lib\n",
    "    dfs.append(df)"
   ]
  },
  {
   "cell_type": "code",
   "execution_count": 12,
   "metadata": {},
   "outputs": [
    {
     "name": "stdout",
     "output_type": "stream",
     "text": [
      "3128\n"
     ]
    }
   ],
   "source": [
    "df = pd.concat(dfs)\n",
    "print(len(df.index))"
   ]
  },
  {
   "cell_type": "code",
   "execution_count": 13,
   "metadata": {},
   "outputs": [
    {
     "data": {
      "text/html": [
       "<div>\n",
       "<style scoped>\n",
       "    .dataframe tbody tr th:only-of-type {\n",
       "        vertical-align: middle;\n",
       "    }\n",
       "\n",
       "    .dataframe tbody tr th {\n",
       "        vertical-align: top;\n",
       "    }\n",
       "\n",
       "    .dataframe thead th {\n",
       "        text-align: right;\n",
       "    }\n",
       "</style>\n",
       "<table border=\"1\" class=\"dataframe\">\n",
       "  <thead>\n",
       "    <tr style=\"text-align: right;\">\n",
       "      <th></th>\n",
       "      <th>SiteID</th>\n",
       "      <th>Query</th>\n",
       "      <th>Transcript</th>\n",
       "      <th>TStart</th>\n",
       "      <th>TStop</th>\n",
       "      <th>TSlice</th>\n",
       "      <th>MFEperfect</th>\n",
       "      <th>MFEsite</th>\n",
       "      <th>MFEratio</th>\n",
       "      <th>AllenScore</th>\n",
       "      <th>Paired</th>\n",
       "      <th>Unpaired</th>\n",
       "      <th>Structure</th>\n",
       "      <th>Sequence</th>\n",
       "      <th>DegradomeCategory</th>\n",
       "      <th>DegradomePval</th>\n",
       "      <th>Tplot_file_path</th>\n",
       "      <th>lib</th>\n",
       "    </tr>\n",
       "  </thead>\n",
       "  <tbody>\n",
       "    <tr>\n",
       "      <th>0</th>\n",
       "      <td>TraesCS1A02G000300.1:66</td>\n",
       "      <td>sun_all_Cluster_118867</td>\n",
       "      <td>TraesCS1A02G000300.1</td>\n",
       "      <td>54</td>\n",
       "      <td>75</td>\n",
       "      <td>66</td>\n",
       "      <td>-43.6</td>\n",
       "      <td>-28.4</td>\n",
       "      <td>0.651376</td>\n",
       "      <td>9.0</td>\n",
       "      <td>1-2,75-74;5-11,71-65;13-14,63-62;16-22,60-54</td>\n",
       "      <td>3-4,73-72[SIL];12-12,64-64[SIL];15-15,61-61[SIL]</td>\n",
       "      <td>(((((((.((.(((((((..((&amp;))..))))))).)).)))))))</td>\n",
       "      <td>GCAGAUCUUGGUGGUAGUAGCA&amp;UGAAGCUGCCAGCAUGAUCUGC</td>\n",
       "      <td>3</td>\n",
       "      <td>0.951576</td>\n",
       "      <td>/home/juan/Desktop/juan/bio/mirna_mite/data/re...</td>\n",
       "      <td>SRR1197125</td>\n",
       "    </tr>\n",
       "    <tr>\n",
       "      <th>1</th>\n",
       "      <td>TraesCS1A02G000400.1:1381</td>\n",
       "      <td>sun_all_Cluster_118867</td>\n",
       "      <td>TraesCS1A02G000400.1</td>\n",
       "      <td>1369</td>\n",
       "      <td>1390</td>\n",
       "      <td>1381</td>\n",
       "      <td>-43.6</td>\n",
       "      <td>-28.4</td>\n",
       "      <td>0.651376</td>\n",
       "      <td>9.0</td>\n",
       "      <td>1-2,1390-1389;5-11,1386-1380;13-14,1378-1377;1...</td>\n",
       "      <td>3-4,1388-1387[SIL];12-12,1379-1379[SIL];15-15,...</td>\n",
       "      <td>(((((((.((.(((((((..((&amp;))..))))))).)).)))))))</td>\n",
       "      <td>GCAGAUCUUGGUGGUAGUAGCA&amp;UGAAGCUGCCAGCAUGAUCUGC</td>\n",
       "      <td>3</td>\n",
       "      <td>0.955557</td>\n",
       "      <td>/home/juan/Desktop/juan/bio/mirna_mite/data/re...</td>\n",
       "      <td>SRR1197125</td>\n",
       "    </tr>\n",
       "  </tbody>\n",
       "</table>\n",
       "</div>"
      ],
      "text/plain": [
       "                      SiteID                   Query            Transcript  \\\n",
       "0    TraesCS1A02G000300.1:66  sun_all_Cluster_118867  TraesCS1A02G000300.1   \n",
       "1  TraesCS1A02G000400.1:1381  sun_all_Cluster_118867  TraesCS1A02G000400.1   \n",
       "\n",
       "   TStart  TStop  TSlice  MFEperfect  MFEsite  MFEratio  AllenScore  \\\n",
       "0      54     75      66       -43.6    -28.4  0.651376         9.0   \n",
       "1    1369   1390    1381       -43.6    -28.4  0.651376         9.0   \n",
       "\n",
       "                                              Paired  \\\n",
       "0       1-2,75-74;5-11,71-65;13-14,63-62;16-22,60-54   \n",
       "1  1-2,1390-1389;5-11,1386-1380;13-14,1378-1377;1...   \n",
       "\n",
       "                                            Unpaired  \\\n",
       "0   3-4,73-72[SIL];12-12,64-64[SIL];15-15,61-61[SIL]   \n",
       "1  3-4,1388-1387[SIL];12-12,1379-1379[SIL];15-15,...   \n",
       "\n",
       "                                       Structure  \\\n",
       "0  (((((((.((.(((((((..((&))..))))))).)).)))))))   \n",
       "1  (((((((.((.(((((((..((&))..))))))).)).)))))))   \n",
       "\n",
       "                                        Sequence  DegradomeCategory  \\\n",
       "0  GCAGAUCUUGGUGGUAGUAGCA&UGAAGCUGCCAGCAUGAUCUGC                  3   \n",
       "1  GCAGAUCUUGGUGGUAGUAGCA&UGAAGCUGCCAGCAUGAUCUGC                  3   \n",
       "\n",
       "   DegradomePval                                    Tplot_file_path  \\\n",
       "0       0.951576  /home/juan/Desktop/juan/bio/mirna_mite/data/re...   \n",
       "1       0.955557  /home/juan/Desktop/juan/bio/mirna_mite/data/re...   \n",
       "\n",
       "          lib  \n",
       "0  SRR1197125  \n",
       "1  SRR1197125  "
      ]
     },
     "execution_count": 13,
     "metadata": {},
     "output_type": "execute_result"
    }
   ],
   "source": [
    "df.head(2)"
   ]
  },
  {
   "cell_type": "code",
   "execution_count": 14,
   "metadata": {},
   "outputs": [],
   "source": [
    "transcripts = set()\n",
    "for k,v in df.iterrows():\n",
    "    transcript = v.Transcript\n",
    "    transcripts.add(transcript)"
   ]
  },
  {
   "cell_type": "code",
   "execution_count": 15,
   "metadata": {},
   "outputs": [],
   "source": [
    "fasta_seq = SeqIO.parse(path_transcripts, 'fasta')\n"
   ]
  },
  {
   "cell_type": "code",
   "execution_count": 16,
   "metadata": {},
   "outputs": [
    {
     "name": "stdout",
     "output_type": "stream",
     "text": [
      "/home/juan/Desktop/juan/bio/mirna_mite/data/res/targets.fa\n"
     ]
    }
   ],
   "source": [
    "buffer_seqs = []\n",
    "for record in fasta_seq:\n",
    "    if record.id in transcripts:\n",
    "        buffer_seqs.append(record)\n",
    "SeqIO.write(buffer_seqs, path_transcripts_res, \"fasta\")\n",
    "print(path_transcripts_res)"
   ]
  },
  {
   "cell_type": "raw",
   "metadata": {},
   "source": [
    "blastn -evalue 1e-3 -task blastn -query  data/mites_consensus.fasta -subject /home/juan/Desktop/juan/bio/mirna_mite/data/res/targets.fa -outfmt '6 qseqid sseqid qstart qend sstart send mismatch gaps pident evalue length qlen slen qcovs score'  > data/res/transcripts_mites.csv\n"
   ]
  },
  {
   "cell_type": "code",
   "execution_count": 19,
   "metadata": {},
   "outputs": [
    {
     "name": "stdout",
     "output_type": "stream",
     "text": [
      "3923\n"
     ]
    },
    {
     "data": {
      "text/html": [
       "<div>\n",
       "<style scoped>\n",
       "    .dataframe tbody tr th:only-of-type {\n",
       "        vertical-align: middle;\n",
       "    }\n",
       "\n",
       "    .dataframe tbody tr th {\n",
       "        vertical-align: top;\n",
       "    }\n",
       "\n",
       "    .dataframe thead th {\n",
       "        text-align: right;\n",
       "    }\n",
       "</style>\n",
       "<table border=\"1\" class=\"dataframe\">\n",
       "  <thead>\n",
       "    <tr style=\"text-align: right;\">\n",
       "      <th></th>\n",
       "      <th>qseqid</th>\n",
       "      <th>sseqid</th>\n",
       "      <th>qstart</th>\n",
       "      <th>qend</th>\n",
       "      <th>sstart</th>\n",
       "      <th>send</th>\n",
       "      <th>mismatch</th>\n",
       "      <th>gaps</th>\n",
       "      <th>pident</th>\n",
       "      <th>evalue</th>\n",
       "      <th>length</th>\n",
       "      <th>qlen</th>\n",
       "      <th>slen</th>\n",
       "      <th>qcovs</th>\n",
       "      <th>score</th>\n",
       "    </tr>\n",
       "  </thead>\n",
       "  <tbody>\n",
       "    <tr>\n",
       "      <th>0</th>\n",
       "      <td>MITE_0</td>\n",
       "      <td>TraesCS5D02G132100.1</td>\n",
       "      <td>1</td>\n",
       "      <td>80</td>\n",
       "      <td>479</td>\n",
       "      <td>399</td>\n",
       "      <td>6</td>\n",
       "      <td>1</td>\n",
       "      <td>91.358</td>\n",
       "      <td>9.770000e-26</td>\n",
       "      <td>81</td>\n",
       "      <td>80</td>\n",
       "      <td>2089</td>\n",
       "      <td>100</td>\n",
       "      <td>122</td>\n",
       "    </tr>\n",
       "    <tr>\n",
       "      <th>1</th>\n",
       "      <td>MITE_0</td>\n",
       "      <td>TraesCS5B02G114400.1</td>\n",
       "      <td>1</td>\n",
       "      <td>80</td>\n",
       "      <td>2097</td>\n",
       "      <td>2177</td>\n",
       "      <td>6</td>\n",
       "      <td>1</td>\n",
       "      <td>91.358</td>\n",
       "      <td>9.770000e-26</td>\n",
       "      <td>81</td>\n",
       "      <td>80</td>\n",
       "      <td>2243</td>\n",
       "      <td>100</td>\n",
       "      <td>122</td>\n",
       "    </tr>\n",
       "  </tbody>\n",
       "</table>\n",
       "</div>"
      ],
      "text/plain": [
       "   qseqid                sseqid  qstart  qend  sstart  send  mismatch  gaps  \\\n",
       "0  MITE_0  TraesCS5D02G132100.1       1    80     479   399         6     1   \n",
       "1  MITE_0  TraesCS5B02G114400.1       1    80    2097  2177         6     1   \n",
       "\n",
       "   pident        evalue  length  qlen  slen  qcovs  score  \n",
       "0  91.358  9.770000e-26      81    80  2089    100    122  \n",
       "1  91.358  9.770000e-26      81    80  2243    100    122  "
      ]
     },
     "execution_count": 19,
     "metadata": {},
     "output_type": "execute_result"
    }
   ],
   "source": [
    "df_mites = pd.read_csv(path_blast_res, sep=\"\\t\")\n",
    "cols = ['qseqid','sseqid','qstart','qend','sstart','send','mismatch','gaps','pident','evalue','length','qlen','slen','qcovs','score']\n",
    "df_mites.columns = cols\n",
    "df_mites = df_mites[df_mites.pident >= 85]\n",
    "df_mites = df_mites[df_mites.qcovs >= 85]\n",
    "print(len(df_mites.index))\n",
    "df_mites.head(2)"
   ]
  },
  {
   "cell_type": "code",
   "execution_count": 20,
   "metadata": {},
   "outputs": [
    {
     "data": {
      "text/html": [
       "<div>\n",
       "<style scoped>\n",
       "    .dataframe tbody tr th:only-of-type {\n",
       "        vertical-align: middle;\n",
       "    }\n",
       "\n",
       "    .dataframe tbody tr th {\n",
       "        vertical-align: top;\n",
       "    }\n",
       "\n",
       "    .dataframe thead th {\n",
       "        text-align: right;\n",
       "    }\n",
       "</style>\n",
       "<table border=\"1\" class=\"dataframe\">\n",
       "  <thead>\n",
       "    <tr style=\"text-align: right;\">\n",
       "      <th></th>\n",
       "      <th>qseqid</th>\n",
       "      <th>sseqid</th>\n",
       "      <th>qstart</th>\n",
       "      <th>qend</th>\n",
       "      <th>sstart</th>\n",
       "      <th>send</th>\n",
       "      <th>mismatch</th>\n",
       "      <th>gaps</th>\n",
       "      <th>pident</th>\n",
       "      <th>evalue</th>\n",
       "      <th>length</th>\n",
       "      <th>qlen</th>\n",
       "      <th>slen</th>\n",
       "      <th>qcovs</th>\n",
       "      <th>score</th>\n",
       "    </tr>\n",
       "  </thead>\n",
       "  <tbody>\n",
       "    <tr>\n",
       "      <th>15</th>\n",
       "      <td>MITE_0</td>\n",
       "      <td>TraesCS2A02G580000.2</td>\n",
       "      <td>1</td>\n",
       "      <td>80</td>\n",
       "      <td>2325</td>\n",
       "      <td>2405</td>\n",
       "      <td>7</td>\n",
       "      <td>1</td>\n",
       "      <td>90.123</td>\n",
       "      <td>1.190000e-24</td>\n",
       "      <td>81</td>\n",
       "      <td>80</td>\n",
       "      <td>2747</td>\n",
       "      <td>100</td>\n",
       "      <td>118</td>\n",
       "    </tr>\n",
       "    <tr>\n",
       "      <th>16</th>\n",
       "      <td>MITE_0</td>\n",
       "      <td>TraesCS2A02G580000.2</td>\n",
       "      <td>1</td>\n",
       "      <td>80</td>\n",
       "      <td>2405</td>\n",
       "      <td>2325</td>\n",
       "      <td>7</td>\n",
       "      <td>1</td>\n",
       "      <td>90.123</td>\n",
       "      <td>1.190000e-24</td>\n",
       "      <td>81</td>\n",
       "      <td>80</td>\n",
       "      <td>2747</td>\n",
       "      <td>100</td>\n",
       "      <td>118</td>\n",
       "    </tr>\n",
       "    <tr>\n",
       "      <th>2241</th>\n",
       "      <td>MITE_187</td>\n",
       "      <td>TraesCS2A02G580000.2</td>\n",
       "      <td>5</td>\n",
       "      <td>55</td>\n",
       "      <td>2390</td>\n",
       "      <td>2340</td>\n",
       "      <td>7</td>\n",
       "      <td>0</td>\n",
       "      <td>86.275</td>\n",
       "      <td>9.980000e-11</td>\n",
       "      <td>51</td>\n",
       "      <td>59</td>\n",
       "      <td>2747</td>\n",
       "      <td>86</td>\n",
       "      <td>66</td>\n",
       "    </tr>\n",
       "    <tr>\n",
       "      <th>3847</th>\n",
       "      <td>MITE_296</td>\n",
       "      <td>TraesCS2A02G580000.2</td>\n",
       "      <td>2</td>\n",
       "      <td>90</td>\n",
       "      <td>2410</td>\n",
       "      <td>2322</td>\n",
       "      <td>12</td>\n",
       "      <td>0</td>\n",
       "      <td>86.517</td>\n",
       "      <td>1.450000e-24</td>\n",
       "      <td>89</td>\n",
       "      <td>94</td>\n",
       "      <td>2747</td>\n",
       "      <td>95</td>\n",
       "      <td>118</td>\n",
       "    </tr>\n",
       "    <tr>\n",
       "      <th>5046</th>\n",
       "      <td>MITE_390</td>\n",
       "      <td>TraesCS2A02G580000.2</td>\n",
       "      <td>1</td>\n",
       "      <td>85</td>\n",
       "      <td>2323</td>\n",
       "      <td>2407</td>\n",
       "      <td>10</td>\n",
       "      <td>0</td>\n",
       "      <td>88.235</td>\n",
       "      <td>3.700000e-25</td>\n",
       "      <td>85</td>\n",
       "      <td>85</td>\n",
       "      <td>2747</td>\n",
       "      <td>100</td>\n",
       "      <td>120</td>\n",
       "    </tr>\n",
       "    <tr>\n",
       "      <th>5047</th>\n",
       "      <td>MITE_390</td>\n",
       "      <td>TraesCS2A02G580000.2</td>\n",
       "      <td>1</td>\n",
       "      <td>85</td>\n",
       "      <td>2407</td>\n",
       "      <td>2323</td>\n",
       "      <td>12</td>\n",
       "      <td>0</td>\n",
       "      <td>85.882</td>\n",
       "      <td>1.920000e-22</td>\n",
       "      <td>85</td>\n",
       "      <td>85</td>\n",
       "      <td>2747</td>\n",
       "      <td>100</td>\n",
       "      <td>110</td>\n",
       "    </tr>\n",
       "    <tr>\n",
       "      <th>5545</th>\n",
       "      <td>DTT_Taes_Athos_BJ268809-1</td>\n",
       "      <td>TraesCS2A02G580000.2</td>\n",
       "      <td>1</td>\n",
       "      <td>66</td>\n",
       "      <td>2405</td>\n",
       "      <td>2340</td>\n",
       "      <td>9</td>\n",
       "      <td>0</td>\n",
       "      <td>86.364</td>\n",
       "      <td>8.410000e-16</td>\n",
       "      <td>66</td>\n",
       "      <td>108</td>\n",
       "      <td>2747</td>\n",
       "      <td>94</td>\n",
       "      <td>86</td>\n",
       "    </tr>\n",
       "    <tr>\n",
       "      <th>5547</th>\n",
       "      <td>DTT_Taes_Athos_BJ268809-1</td>\n",
       "      <td>TraesCS2A02G580000.2</td>\n",
       "      <td>73</td>\n",
       "      <td>107</td>\n",
       "      <td>2360</td>\n",
       "      <td>2326</td>\n",
       "      <td>1</td>\n",
       "      <td>0</td>\n",
       "      <td>97.143</td>\n",
       "      <td>7.880000e-10</td>\n",
       "      <td>35</td>\n",
       "      <td>108</td>\n",
       "      <td>2747</td>\n",
       "      <td>94</td>\n",
       "      <td>64</td>\n",
       "    </tr>\n",
       "    <tr>\n",
       "      <th>8983</th>\n",
       "      <td>DTT_Taes_Athos_BQ238527-1</td>\n",
       "      <td>TraesCS2A02G580000.2</td>\n",
       "      <td>1</td>\n",
       "      <td>81</td>\n",
       "      <td>2325</td>\n",
       "      <td>2405</td>\n",
       "      <td>8</td>\n",
       "      <td>0</td>\n",
       "      <td>90.123</td>\n",
       "      <td>9.940000e-26</td>\n",
       "      <td>81</td>\n",
       "      <td>81</td>\n",
       "      <td>2747</td>\n",
       "      <td>100</td>\n",
       "      <td>122</td>\n",
       "    </tr>\n",
       "    <tr>\n",
       "      <th>10089</th>\n",
       "      <td>MITE_865</td>\n",
       "      <td>TraesCS2A02G580000.2</td>\n",
       "      <td>2</td>\n",
       "      <td>41</td>\n",
       "      <td>2323</td>\n",
       "      <td>2362</td>\n",
       "      <td>4</td>\n",
       "      <td>0</td>\n",
       "      <td>90.000</td>\n",
       "      <td>4.910000e-09</td>\n",
       "      <td>40</td>\n",
       "      <td>65</td>\n",
       "      <td>2747</td>\n",
       "      <td>97</td>\n",
       "      <td>60</td>\n",
       "    </tr>\n",
       "    <tr>\n",
       "      <th>10091</th>\n",
       "      <td>MITE_865</td>\n",
       "      <td>TraesCS2A02G580000.2</td>\n",
       "      <td>41</td>\n",
       "      <td>64</td>\n",
       "      <td>2345</td>\n",
       "      <td>2322</td>\n",
       "      <td>1</td>\n",
       "      <td>0</td>\n",
       "      <td>95.833</td>\n",
       "      <td>3.780000e-04</td>\n",
       "      <td>24</td>\n",
       "      <td>65</td>\n",
       "      <td>2747</td>\n",
       "      <td>97</td>\n",
       "      <td>42</td>\n",
       "    </tr>\n",
       "    <tr>\n",
       "      <th>10092</th>\n",
       "      <td>MITE_865</td>\n",
       "      <td>TraesCS2A02G580000.2</td>\n",
       "      <td>41</td>\n",
       "      <td>64</td>\n",
       "      <td>2385</td>\n",
       "      <td>2408</td>\n",
       "      <td>1</td>\n",
       "      <td>0</td>\n",
       "      <td>95.833</td>\n",
       "      <td>3.780000e-04</td>\n",
       "      <td>24</td>\n",
       "      <td>65</td>\n",
       "      <td>2747</td>\n",
       "      <td>97</td>\n",
       "      <td>42</td>\n",
       "    </tr>\n",
       "    <tr>\n",
       "      <th>11348</th>\n",
       "      <td>MITE_955</td>\n",
       "      <td>TraesCS2A02G580000.2</td>\n",
       "      <td>5</td>\n",
       "      <td>95</td>\n",
       "      <td>2320</td>\n",
       "      <td>2410</td>\n",
       "      <td>12</td>\n",
       "      <td>0</td>\n",
       "      <td>86.813</td>\n",
       "      <td>1.260000e-25</td>\n",
       "      <td>91</td>\n",
       "      <td>98</td>\n",
       "      <td>2747</td>\n",
       "      <td>94</td>\n",
       "      <td>122</td>\n",
       "    </tr>\n",
       "    <tr>\n",
       "      <th>17255</th>\n",
       "      <td>MITE_1525</td>\n",
       "      <td>TraesCS2A02G580000.2</td>\n",
       "      <td>1</td>\n",
       "      <td>61</td>\n",
       "      <td>2395</td>\n",
       "      <td>2335</td>\n",
       "      <td>8</td>\n",
       "      <td>0</td>\n",
       "      <td>86.885</td>\n",
       "      <td>4.770000e-15</td>\n",
       "      <td>61</td>\n",
       "      <td>61</td>\n",
       "      <td>2747</td>\n",
       "      <td>100</td>\n",
       "      <td>82</td>\n",
       "    </tr>\n",
       "  </tbody>\n",
       "</table>\n",
       "</div>"
      ],
      "text/plain": [
       "                          qseqid                sseqid  qstart  qend  sstart  \\\n",
       "15                        MITE_0  TraesCS2A02G580000.2       1    80    2325   \n",
       "16                        MITE_0  TraesCS2A02G580000.2       1    80    2405   \n",
       "2241                    MITE_187  TraesCS2A02G580000.2       5    55    2390   \n",
       "3847                    MITE_296  TraesCS2A02G580000.2       2    90    2410   \n",
       "5046                    MITE_390  TraesCS2A02G580000.2       1    85    2323   \n",
       "5047                    MITE_390  TraesCS2A02G580000.2       1    85    2407   \n",
       "5545   DTT_Taes_Athos_BJ268809-1  TraesCS2A02G580000.2       1    66    2405   \n",
       "5547   DTT_Taes_Athos_BJ268809-1  TraesCS2A02G580000.2      73   107    2360   \n",
       "8983   DTT_Taes_Athos_BQ238527-1  TraesCS2A02G580000.2       1    81    2325   \n",
       "10089                   MITE_865  TraesCS2A02G580000.2       2    41    2323   \n",
       "10091                   MITE_865  TraesCS2A02G580000.2      41    64    2345   \n",
       "10092                   MITE_865  TraesCS2A02G580000.2      41    64    2385   \n",
       "11348                   MITE_955  TraesCS2A02G580000.2       5    95    2320   \n",
       "17255                  MITE_1525  TraesCS2A02G580000.2       1    61    2395   \n",
       "\n",
       "       send  mismatch  gaps  pident        evalue  length  qlen  slen  qcovs  \\\n",
       "15     2405         7     1  90.123  1.190000e-24      81    80  2747    100   \n",
       "16     2325         7     1  90.123  1.190000e-24      81    80  2747    100   \n",
       "2241   2340         7     0  86.275  9.980000e-11      51    59  2747     86   \n",
       "3847   2322        12     0  86.517  1.450000e-24      89    94  2747     95   \n",
       "5046   2407        10     0  88.235  3.700000e-25      85    85  2747    100   \n",
       "5047   2323        12     0  85.882  1.920000e-22      85    85  2747    100   \n",
       "5545   2340         9     0  86.364  8.410000e-16      66   108  2747     94   \n",
       "5547   2326         1     0  97.143  7.880000e-10      35   108  2747     94   \n",
       "8983   2405         8     0  90.123  9.940000e-26      81    81  2747    100   \n",
       "10089  2362         4     0  90.000  4.910000e-09      40    65  2747     97   \n",
       "10091  2322         1     0  95.833  3.780000e-04      24    65  2747     97   \n",
       "10092  2408         1     0  95.833  3.780000e-04      24    65  2747     97   \n",
       "11348  2410        12     0  86.813  1.260000e-25      91    98  2747     94   \n",
       "17255  2335         8     0  86.885  4.770000e-15      61    61  2747    100   \n",
       "\n",
       "       score  \n",
       "15       118  \n",
       "16       118  \n",
       "2241      66  \n",
       "3847     118  \n",
       "5046     120  \n",
       "5047     110  \n",
       "5545      86  \n",
       "5547      64  \n",
       "8983     122  \n",
       "10089     60  \n",
       "10091     42  \n",
       "10092     42  \n",
       "11348    122  \n",
       "17255     82  "
      ]
     },
     "execution_count": 20,
     "metadata": {},
     "output_type": "execute_result"
    }
   ],
   "source": [
    "df_mites[df_mites.sseqid=='TraesCS2A02G580000.2']"
   ]
  },
  {
   "cell_type": "code",
   "execution_count": 21,
   "metadata": {},
   "outputs": [],
   "source": [
    "df['new_start'] = df[['TStart','TStop']].min(axis=1)\n",
    "df['new_end'] = df[['TStart','TStop']].max(axis=1)\n",
    "df['TStart'] = df['new_start']\n",
    "df['TStop'] = df['new_end']\n",
    "df = df.drop('new_start',axis=1).drop('new_end',axis=1)\n"
   ]
  },
  {
   "cell_type": "code",
   "execution_count": 22,
   "metadata": {},
   "outputs": [],
   "source": [
    "df_mites['new_start'] = df_mites[['sstart','send']].min(axis=1)\n",
    "df_mites['new_end'] = df_mites[['sstart','send']].max(axis=1)\n",
    "df_mites['sstart'] = df_mites['new_start']\n",
    "df_mites['send'] = df_mites['new_end']\n",
    "df_mites = df_mites.drop('new_start',axis=1).drop('new_end',axis=1)\n"
   ]
  },
  {
   "cell_type": "code",
   "execution_count": 23,
   "metadata": {},
   "outputs": [],
   "source": [
    "df['MITE'] = ''"
   ]
  },
  {
   "cell_type": "code",
   "execution_count": 24,
   "metadata": {},
   "outputs": [],
   "source": [
    "for k,v in df.iterrows():\n",
    "    start = v.TStart\n",
    "    end = v.TStop\n",
    "    transcript = v.Transcript\n",
    "    df_filter = df_mites[df_mites.sseqid==transcript]\n",
    "    df_filter = df_filter[(df_filter.sstart <= start) & (df_filter.send >= end)]\n",
    "    if len(df_filter.index) > 0:\n",
    "        mites = ','.join(df_filter.qseqid.tolist())\n",
    "        df.at[k, 'MITE'] += mites\n",
    "        "
   ]
  },
  {
   "cell_type": "code",
   "execution_count": null,
   "metadata": {},
   "outputs": [],
   "source": []
  },
  {
   "cell_type": "code",
   "execution_count": 26,
   "metadata": {},
   "outputs": [
    {
     "name": "stdout",
     "output_type": "stream",
     "text": [
      "Total 3128\n",
      "W mites 134\n",
      "WO mites 2994\n",
      "4.283887468030691\n"
     ]
    }
   ],
   "source": [
    "total = len(df.index)\n",
    "w_mites = len(df[df.MITE != ''].index)\n",
    "w_o_mites = len(df[df.MITE == ''].index)\n",
    "print('Total', total)\n",
    "print('W mites', w_mites)\n",
    "print('WO mites', w_o_mites)\n",
    "print(w_mites * 100 / total)"
   ]
  },
  {
   "cell_type": "code",
   "execution_count": 28,
   "metadata": {},
   "outputs": [
    {
     "data": {
      "text/plain": [
       "'/home/juan/Desktop/juan/bio/mirna_mite/data/res/res_deg.csv'"
      ]
     },
     "execution_count": 28,
     "metadata": {},
     "output_type": "execute_result"
    }
   ],
   "source": [
    "df.to_csv(path_res_final, index=None)\n",
    "path_res_final"
   ]
  },
  {
   "cell_type": "code",
   "execution_count": null,
   "metadata": {},
   "outputs": [],
   "source": []
  },
  {
   "cell_type": "code",
   "execution_count": null,
   "metadata": {},
   "outputs": [],
   "source": []
  },
  {
   "cell_type": "code",
   "execution_count": null,
   "metadata": {},
   "outputs": [],
   "source": []
  },
  {
   "cell_type": "code",
   "execution_count": null,
   "metadata": {},
   "outputs": [],
   "source": []
  },
  {
   "cell_type": "code",
   "execution_count": null,
   "metadata": {},
   "outputs": [],
   "source": []
  },
  {
   "cell_type": "code",
   "execution_count": null,
   "metadata": {},
   "outputs": [],
   "source": []
  },
  {
   "cell_type": "code",
   "execution_count": null,
   "metadata": {},
   "outputs": [],
   "source": []
  },
  {
   "cell_type": "code",
   "execution_count": null,
   "metadata": {},
   "outputs": [],
   "source": []
  },
  {
   "cell_type": "code",
   "execution_count": null,
   "metadata": {},
   "outputs": [],
   "source": [
    "df_mites = df[df.MITE != '']\n",
    "df[df.MITE != ''][['SiteID','Query','Transcript','TStart','TStop','MITE','Sequence']].head()"
   ]
  },
  {
   "cell_type": "code",
   "execution_count": null,
   "metadata": {},
   "outputs": [],
   "source": [
    "df_mirna_res = pd.read_csv(path_mirna_res, sep='\\t')\n",
    "df_mirna_res.rename(columns={'MITE':'MITE_prod'}, inplace=True)\n",
    "print(len(df_mirna_res.index))\n",
    "df_mirna_res.head(2)"
   ]
  },
  {
   "cell_type": "code",
   "execution_count": null,
   "metadata": {},
   "outputs": [],
   "source": [
    "df_mirna_res_mites = df_mirna_res[df_mirna_res.MITE_prod.notnull()]\n",
    "print(len(df_mirna_res_mites.index))\n"
   ]
  },
  {
   "cell_type": "code",
   "execution_count": null,
   "metadata": {},
   "outputs": [],
   "source": [
    "df_mirna_res_mites['Name'] = df_mirna_res_mites.Name.str.split(\"|\").str[0]"
   ]
  },
  {
   "cell_type": "code",
   "execution_count": null,
   "metadata": {},
   "outputs": [],
   "source": []
  },
  {
   "cell_type": "code",
   "execution_count": null,
   "metadata": {},
   "outputs": [],
   "source": [
    "df_mirna_res_mites_for_merge = df_mirna_res_mites[['Name','#Locus','MajorRNA','MITE_prod']]"
   ]
  },
  {
   "cell_type": "code",
   "execution_count": null,
   "metadata": {},
   "outputs": [],
   "source": [
    "df_merge = pd.merge(df_mites,df_mirna_res_mites,left_on='Query', right_on='Name')"
   ]
  },
  {
   "cell_type": "code",
   "execution_count": null,
   "metadata": {},
   "outputs": [],
   "source": [
    "df_new = df_merge[['SiteID','DegradomeCategory','Name','#Locus','MajorRNA','MITE','MITE_prod']]"
   ]
  },
  {
   "cell_type": "code",
   "execution_count": null,
   "metadata": {},
   "outputs": [],
   "source": [
    "df_merge.head(2)"
   ]
  },
  {
   "cell_type": "code",
   "execution_count": null,
   "metadata": {},
   "outputs": [],
   "source": [
    "df_merge['equal_mite'] = 0\n",
    "for k,v in df_merge.iterrows():\n",
    "    prods = v.MITE_prod.split(',')\n",
    "    target = v.MITE.split(',')\n",
    "    prods = set(filter(None, prods))\n",
    "    target = set(filter(None, target))\n",
    "    inter = target.intersection(prods)\n",
    "    if inter:\n",
    "        print(v.SiteID, v.Name, inter)\n",
    "        df_merge.at[k, 'equal_mite'] = 1"
   ]
  },
  {
   "cell_type": "code",
   "execution_count": null,
   "metadata": {},
   "outputs": [],
   "source": [
    "df_merge[df_merge.Name=='sun_all_Cluster_8835']"
   ]
  },
  {
   "cell_type": "code",
   "execution_count": null,
   "metadata": {},
   "outputs": [],
   "source": [
    "total_ele = len(df_merge.index)\n",
    "equal_mite = len(df_merge[df_merge.equal_mite==1].index)\n",
    "print(equal_mite * 100 /total_ele)"
   ]
  },
  {
   "cell_type": "code",
   "execution_count": null,
   "metadata": {},
   "outputs": [],
   "source": [
    "df_merge.to_csv(path_res_final, index=None)\n",
    "path_res_final"
   ]
  },
  {
   "cell_type": "code",
   "execution_count": null,
   "metadata": {},
   "outputs": [],
   "source": []
  },
  {
   "cell_type": "code",
   "execution_count": null,
   "metadata": {},
   "outputs": [],
   "source": []
  },
  {
   "cell_type": "code",
   "execution_count": null,
   "metadata": {},
   "outputs": [],
   "source": []
  },
  {
   "cell_type": "code",
   "execution_count": null,
   "metadata": {},
   "outputs": [],
   "source": []
  }
 ],
 "metadata": {
  "kernelspec": {
   "display_name": "Python 3",
   "language": "python",
   "name": "python3"
  },
  "language_info": {
   "codemirror_mode": {
    "name": "ipython",
    "version": 3
   },
   "file_extension": ".py",
   "mimetype": "text/x-python",
   "name": "python",
   "nbconvert_exporter": "python",
   "pygments_lexer": "ipython3",
   "version": "3.6.5"
  }
 },
 "nbformat": 4,
 "nbformat_minor": 2
}
