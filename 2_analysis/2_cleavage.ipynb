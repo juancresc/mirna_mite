{
 "cells": [
  {
   "cell_type": "code",
   "execution_count": 130,
   "metadata": {},
   "outputs": [],
   "source": [
    "import pandas as pd\n",
    "from Bio import SeqIO\n",
    "from Bio.SeqRecord import SeqRecord\n",
    "from Bio.Seq import Seq\n",
    "import matplotlib.pyplot as plt\n",
    "import seaborn as sns\n",
    "from matplotlib.ticker import MaxNLocator\n",
    "from IPython.display import display\n",
    "pd.options.display.max_columns = None\n",
    "from matplotlib.ticker import MaxNLocator\n",
    "from matplotlib import pyplot\n"
   ]
  },
  {
   "cell_type": "code",
   "execution_count": 204,
   "metadata": {},
   "outputs": [],
   "source": [
    "libs = {}\n",
    "libs['SRR1197125'] = 'SRR1197125_germinating_seed_embryo'\n",
    "libs['SRR1197126'] = 'SRR1197126_seedling_leaf'\n",
    "libs['SRR1197127'] = 'SRR1197127_seedling_root'\n",
    "libs['SRR1197128'] = 'SRR1197128_grain_8_days_after_pollination'\n",
    "\n",
    "path_base = '/home/juan/Documents/dev/mirna_mite/'\n",
    "path_annotation = '../data/Triticum_aestivum.IWGSC.47.gff3'\n",
    "path_libs = '../data/res/sun_deg/%s'\n",
    "path_transcripts = '../data/fixed.cdna.all.fa'\n",
    "path_transcripts_res = '../data/res/targets.fa'\n",
    "path_blast_res = '../data/res/transcripts_mites.csv'\n",
    "path_blast_res_filtered = '../data/res/transcripts_mites.filtered.csv'\n",
    "path_mirna_res = '../data/res/all_results.csv'\n",
    "path_res_target = '../data/res/res_target.csv'\n",
    "path_res_prod_mite_target_all = '../data/res/res_prod_mites_target_all.csv'\n",
    "path_res_final = '../data/res/res_prod_target.csv'\n",
    "path_psrna = '../data/res/psRNATargetJob-1567169569267499.txt'\n"
   ]
  },
  {
   "cell_type": "code",
   "execution_count": null,
   "metadata": {},
   "outputs": [],
   "source": []
  },
  {
   "cell_type": "code",
   "execution_count": 132,
   "metadata": {},
   "outputs": [
    {
     "name": "stdout",
     "output_type": "stream",
     "text": [
      "SRR1197125 3347\n",
      "SRR1197126 4916\n",
      "SRR1197127 6193\n",
      "SRR1197128 2110\n"
     ]
    }
   ],
   "source": [
    "dfs = []\n",
    "for lib,description in libs.items():\n",
    "    path_lib = path_libs % lib\n",
    "    df = pd.read_csv(path_lib, sep='\\t',comment='#')\n",
    "    print(lib, len(df.index))\n",
    "    df['lib'] = description\n",
    "    dfs.append(df)\n"
   ]
  },
  {
   "cell_type": "code",
   "execution_count": 133,
   "metadata": {},
   "outputs": [
    {
     "name": "stdout",
     "output_type": "stream",
     "text": [
      "16566\n"
     ]
    }
   ],
   "source": [
    "df = pd.concat(dfs)\n",
    "print(len(df.index))"
   ]
  },
  {
   "cell_type": "code",
   "execution_count": 134,
   "metadata": {},
   "outputs": [
    {
     "name": "stdout",
     "output_type": "stream",
     "text": [
      "16566\n"
     ]
    }
   ],
   "source": [
    "df.drop_duplicates(['SiteID','Query','lib'], inplace=True)\n",
    "print(len(df.index))"
   ]
  },
  {
   "cell_type": "code",
   "execution_count": 135,
   "metadata": {},
   "outputs": [],
   "source": [
    "df = df.reset_index(drop=True)\n"
   ]
  },
  {
   "cell_type": "code",
   "execution_count": 136,
   "metadata": {},
   "outputs": [
    {
     "name": "stdout",
     "output_type": "stream",
     "text": [
      "7002\n"
     ]
    }
   ],
   "source": [
    "df = df[df.DegradomeCategory <= 3]\n",
    "print(len(df.index))"
   ]
  },
  {
   "cell_type": "code",
   "execution_count": null,
   "metadata": {},
   "outputs": [],
   "source": []
  },
  {
   "cell_type": "code",
   "execution_count": 137,
   "metadata": {},
   "outputs": [
    {
     "data": {
      "image/png": "[encoded data removed]",
      "text/plain": [
       "<Figure size 432x288 with 1 Axes>"
      ]
     },
     "metadata": {
      "needs_background": "light"
     },
     "output_type": "display_data"
    }
   ],
   "source": [
    "ax = df.DegradomeCategory.value_counts().plot(kind='bar',color=['b','y','g'])\n",
    "x_offset = -0.07\n",
    "y_offset = 0.15\n",
    "ax.yaxis.set_major_locator(MaxNLocator(integer=True))\n",
    "\n",
    "for p in ax.patches:\n",
    "    b = p.get_bbox()\n",
    "    val = int(b.y1)\n",
    "    ax.annotate(val, ((b.x0 + b.x1)/2 + x_offset, b.y1 + y_offset))\n"
   ]
  },
  {
   "cell_type": "code",
   "execution_count": 138,
   "metadata": {},
   "outputs": [
    {
     "data": {
      "text/plain": [
       "<matplotlib.axes._subplots.AxesSubplot at 0x7fab6d8ed280>"
      ]
     },
     "execution_count": 138,
     "metadata": {},
     "output_type": "execute_result"
    },
    {
     "data": {
      "image/png": "[encoded data removed]",
      "text/plain": [
       "<Figure size 432x288 with 1 Axes>"
      ]
     },
     "metadata": {
      "needs_background": "light"
     },
     "output_type": "display_data"
    }
   ],
   "source": [
    "df.boxplot(column=['DegradomePval'])\n"
   ]
  },
  {
   "cell_type": "code",
   "execution_count": 139,
   "metadata": {},
   "outputs": [
    {
     "name": "stdout",
     "output_type": "stream",
     "text": [
      "455\n"
     ]
    }
   ],
   "source": [
    "print(len(df[df.DegradomePval < 0.05].index))"
   ]
  },
  {
   "cell_type": "code",
   "execution_count": 140,
   "metadata": {},
   "outputs": [
    {
     "data": {
      "text/plain": [
       "5190"
      ]
     },
     "execution_count": 140,
     "metadata": {},
     "output_type": "execute_result"
    }
   ],
   "source": [
    "df.Transcript.nunique()"
   ]
  },
  {
   "cell_type": "code",
   "execution_count": 141,
   "metadata": {},
   "outputs": [],
   "source": [
    "df['gene'] =  df.Transcript.str.split('.').str[0]"
   ]
  },
  {
   "cell_type": "code",
   "execution_count": 142,
   "metadata": {},
   "outputs": [
    {
     "data": {
      "text/html": [
       "<div>\n",
       "<style scoped>\n",
       "    .dataframe tbody tr th:only-of-type {\n",
       "        vertical-align: middle;\n",
       "    }\n",
       "\n",
       "    .dataframe tbody tr th {\n",
       "        vertical-align: top;\n",
       "    }\n",
       "\n",
       "    .dataframe thead th {\n",
       "        text-align: right;\n",
       "    }\n",
       "</style>\n",
       "<table border=\"1\" class=\"dataframe\">\n",
       "  <thead>\n",
       "    <tr style=\"text-align: right;\">\n",
       "      <th></th>\n",
       "      <th>SiteID</th>\n",
       "      <th>Query</th>\n",
       "      <th>Transcript</th>\n",
       "      <th>TStart</th>\n",
       "      <th>TStop</th>\n",
       "      <th>TSlice</th>\n",
       "      <th>MFEperfect</th>\n",
       "      <th>MFEsite</th>\n",
       "      <th>MFEratio</th>\n",
       "      <th>AllenScore</th>\n",
       "      <th>Paired</th>\n",
       "      <th>Unpaired</th>\n",
       "      <th>Structure</th>\n",
       "      <th>Sequence</th>\n",
       "      <th>DegradomeCategory</th>\n",
       "      <th>DegradomePval</th>\n",
       "      <th>Tplot_file_path</th>\n",
       "      <th>lib</th>\n",
       "      <th>gene</th>\n",
       "    </tr>\n",
       "  </thead>\n",
       "  <tbody>\n",
       "    <tr>\n",
       "      <th>0</th>\n",
       "      <td>TraesCS1A02G000300.1:66</td>\n",
       "      <td>sun_all_Cluster_118867_6B_214030433_214030626</td>\n",
       "      <td>TraesCS1A02G000300.1</td>\n",
       "      <td>54</td>\n",
       "      <td>75</td>\n",
       "      <td>66</td>\n",
       "      <td>-43.6</td>\n",
       "      <td>-28.4</td>\n",
       "      <td>0.651376</td>\n",
       "      <td>9.0</td>\n",
       "      <td>1-2,75-74;5-11,71-65;13-14,63-62;16-22,60-54</td>\n",
       "      <td>3-4,73-72[SIL];12-12,64-64[SIL];15-15,61-61[SIL]</td>\n",
       "      <td>(((((((.((.(((((((..((&amp;))..))))))).)).)))))))</td>\n",
       "      <td>GCAGAUCUUGGUGGUAGUAGCA&amp;UGAAGCUGCCAGCAUGAUCUGC</td>\n",
       "      <td>3</td>\n",
       "      <td>0.956112</td>\n",
       "      <td>../data/res/sun_plots/SRR1197125/sun_all_Clust...</td>\n",
       "      <td>SRR1197125_germinating_seed_embryo</td>\n",
       "      <td>TraesCS1A02G000300</td>\n",
       "    </tr>\n",
       "    <tr>\n",
       "      <th>1</th>\n",
       "      <td>TraesCS1A02G000400.1:1381</td>\n",
       "      <td>sun_all_Cluster_118867_6B_214030433_214030626</td>\n",
       "      <td>TraesCS1A02G000400.1</td>\n",
       "      <td>1369</td>\n",
       "      <td>1390</td>\n",
       "      <td>1381</td>\n",
       "      <td>-43.6</td>\n",
       "      <td>-28.4</td>\n",
       "      <td>0.651376</td>\n",
       "      <td>9.0</td>\n",
       "      <td>1-2,1390-1389;5-11,1386-1380;13-14,1378-1377;1...</td>\n",
       "      <td>3-4,1388-1387[SIL];12-12,1379-1379[SIL];15-15,...</td>\n",
       "      <td>(((((((.((.(((((((..((&amp;))..))))))).)).)))))))</td>\n",
       "      <td>GCAGAUCUUGGUGGUAGUAGCA&amp;UGAAGCUGCCAGCAUGAUCUGC</td>\n",
       "      <td>3</td>\n",
       "      <td>0.949612</td>\n",
       "      <td>../data/res/sun_plots/SRR1197125/sun_all_Clust...</td>\n",
       "      <td>SRR1197125_germinating_seed_embryo</td>\n",
       "      <td>TraesCS1A02G000400</td>\n",
       "    </tr>\n",
       "  </tbody>\n",
       "</table>\n",
       "</div>"
      ],
      "text/plain": [
       "                      SiteID                                          Query  \\\n",
       "0    TraesCS1A02G000300.1:66  sun_all_Cluster_118867_6B_214030433_214030626   \n",
       "1  TraesCS1A02G000400.1:1381  sun_all_Cluster_118867_6B_214030433_214030626   \n",
       "\n",
       "             Transcript  TStart  TStop  TSlice  MFEperfect  MFEsite  MFEratio  \\\n",
       "0  TraesCS1A02G000300.1      54     75      66       -43.6    -28.4  0.651376   \n",
       "1  TraesCS1A02G000400.1    1369   1390    1381       -43.6    -28.4  0.651376   \n",
       "\n",
       "   AllenScore                                             Paired  \\\n",
       "0         9.0       1-2,75-74;5-11,71-65;13-14,63-62;16-22,60-54   \n",
       "1         9.0  1-2,1390-1389;5-11,1386-1380;13-14,1378-1377;1...   \n",
       "\n",
       "                                            Unpaired  \\\n",
       "0   3-4,73-72[SIL];12-12,64-64[SIL];15-15,61-61[SIL]   \n",
       "1  3-4,1388-1387[SIL];12-12,1379-1379[SIL];15-15,...   \n",
       "\n",
       "                                       Structure  \\\n",
       "0  (((((((.((.(((((((..((&))..))))))).)).)))))))   \n",
       "1  (((((((.((.(((((((..((&))..))))))).)).)))))))   \n",
       "\n",
       "                                        Sequence  DegradomeCategory  \\\n",
       "0  GCAGAUCUUGGUGGUAGUAGCA&UGAAGCUGCCAGCAUGAUCUGC                  3   \n",
       "1  GCAGAUCUUGGUGGUAGUAGCA&UGAAGCUGCCAGCAUGAUCUGC                  3   \n",
       "\n",
       "   DegradomePval                                    Tplot_file_path  \\\n",
       "0       0.956112  ../data/res/sun_plots/SRR1197125/sun_all_Clust...   \n",
       "1       0.949612  ../data/res/sun_plots/SRR1197125/sun_all_Clust...   \n",
       "\n",
       "                                  lib                gene  \n",
       "0  SRR1197125_germinating_seed_embryo  TraesCS1A02G000300  \n",
       "1  SRR1197125_germinating_seed_embryo  TraesCS1A02G000400  "
      ]
     },
     "execution_count": 142,
     "metadata": {},
     "output_type": "execute_result"
    }
   ],
   "source": [
    "df.head(2)"
   ]
  },
  {
   "cell_type": "code",
   "execution_count": 143,
   "metadata": {},
   "outputs": [
    {
     "data": {
      "text/plain": [
       "4869"
      ]
     },
     "execution_count": 143,
     "metadata": {},
     "output_type": "execute_result"
    }
   ],
   "source": [
    "df.gene.nunique()"
   ]
  },
  {
   "cell_type": "code",
   "execution_count": 144,
   "metadata": {},
   "outputs": [
    {
     "data": {
      "text/plain": [
       "261"
      ]
     },
     "execution_count": 144,
     "metadata": {},
     "output_type": "execute_result"
    }
   ],
   "source": [
    "df.Query.nunique()"
   ]
  },
  {
   "cell_type": "code",
   "execution_count": null,
   "metadata": {},
   "outputs": [],
   "source": []
  },
  {
   "cell_type": "code",
   "execution_count": 145,
   "metadata": {},
   "outputs": [],
   "source": [
    "transcripts = set()\n",
    "for k,v in df.iterrows():\n",
    "    transcript = v.Transcript\n",
    "    transcripts.add(transcript)"
   ]
  },
  {
   "cell_type": "code",
   "execution_count": 146,
   "metadata": {},
   "outputs": [],
   "source": [
    "fasta_seq = SeqIO.parse(path_transcripts, 'fasta')\n"
   ]
  },
  {
   "cell_type": "code",
   "execution_count": 147,
   "metadata": {},
   "outputs": [
    {
     "name": "stdout",
     "output_type": "stream",
     "text": [
      "5190\n",
      "../data/res/targets.fa\n"
     ]
    }
   ],
   "source": [
    "lens = {}\n",
    "buffer_seqs = []\n",
    "for record in fasta_seq:\n",
    "    if record.id in transcripts:\n",
    "        buffer_seqs.append(record)\n",
    "        clean_seq = ''.join(str(record.seq).splitlines())\n",
    "        lens[record.id] = len(clean_seq)\n",
    "SeqIO.write(buffer_seqs, path_transcripts_res, \"fasta\")\n",
    "print(len(buffer_seqs))\n",
    "print(path_transcripts_res)"
   ]
  },
  {
   "cell_type": "code",
   "execution_count": null,
   "metadata": {},
   "outputs": [],
   "source": []
  },
  {
   "cell_type": "raw",
   "metadata": {},
   "source": [
    "blastn -evalue 1e-3 -task blastn -query  data/mites_consensus.fasta -subject data/res/targets.fa -outfmt '6 qseqid sseqid qstart qend sstart send mismatch gaps pident evalue length qlen slen qcovs score'  > data/res/transcripts_mites.csv\n"
   ]
  },
  {
   "cell_type": "code",
   "execution_count": 148,
   "metadata": {},
   "outputs": [
    {
     "data": {
      "text/plain": [
       "'../data/res/transcripts_mites.csv'"
      ]
     },
     "execution_count": 148,
     "metadata": {},
     "output_type": "execute_result"
    }
   ],
   "source": [
    "path_blast_res"
   ]
  },
  {
   "cell_type": "code",
   "execution_count": 149,
   "metadata": {},
   "outputs": [
    {
     "name": "stdout",
     "output_type": "stream",
     "text": [
      "8445\n"
     ]
    },
    {
     "data": {
      "text/html": [
       "<div>\n",
       "<style scoped>\n",
       "    .dataframe tbody tr th:only-of-type {\n",
       "        vertical-align: middle;\n",
       "    }\n",
       "\n",
       "    .dataframe tbody tr th {\n",
       "        vertical-align: top;\n",
       "    }\n",
       "\n",
       "    .dataframe thead th {\n",
       "        text-align: right;\n",
       "    }\n",
       "</style>\n",
       "<table border=\"1\" class=\"dataframe\">\n",
       "  <thead>\n",
       "    <tr style=\"text-align: right;\">\n",
       "      <th></th>\n",
       "      <th>qseqid</th>\n",
       "      <th>sseqid</th>\n",
       "      <th>qstart</th>\n",
       "      <th>qend</th>\n",
       "      <th>sstart</th>\n",
       "      <th>send</th>\n",
       "      <th>mismatch</th>\n",
       "      <th>gaps</th>\n",
       "      <th>pident</th>\n",
       "      <th>evalue</th>\n",
       "      <th>length</th>\n",
       "      <th>qlen</th>\n",
       "      <th>slen</th>\n",
       "      <th>qcovs</th>\n",
       "      <th>score</th>\n",
       "    </tr>\n",
       "  </thead>\n",
       "  <tbody>\n",
       "    <tr>\n",
       "      <th>0</th>\n",
       "      <td>MITE_0</td>\n",
       "      <td>TraesCS5D02G132100.1</td>\n",
       "      <td>1</td>\n",
       "      <td>80</td>\n",
       "      <td>479</td>\n",
       "      <td>399</td>\n",
       "      <td>6</td>\n",
       "      <td>1</td>\n",
       "      <td>91.358</td>\n",
       "      <td>1.580000e-25</td>\n",
       "      <td>81</td>\n",
       "      <td>80</td>\n",
       "      <td>2089</td>\n",
       "      <td>100</td>\n",
       "      <td>123</td>\n",
       "    </tr>\n",
       "    <tr>\n",
       "      <th>1</th>\n",
       "      <td>MITE_0</td>\n",
       "      <td>TraesCS1A02G419600.1</td>\n",
       "      <td>1</td>\n",
       "      <td>80</td>\n",
       "      <td>2014</td>\n",
       "      <td>2094</td>\n",
       "      <td>7</td>\n",
       "      <td>1</td>\n",
       "      <td>90.123</td>\n",
       "      <td>1.930000e-24</td>\n",
       "      <td>81</td>\n",
       "      <td>80</td>\n",
       "      <td>2243</td>\n",
       "      <td>100</td>\n",
       "      <td>118</td>\n",
       "    </tr>\n",
       "  </tbody>\n",
       "</table>\n",
       "</div>"
      ],
      "text/plain": [
       "   qseqid                sseqid  qstart  qend  sstart  send  mismatch  gaps  \\\n",
       "0  MITE_0  TraesCS5D02G132100.1       1    80     479   399         6     1   \n",
       "1  MITE_0  TraesCS1A02G419600.1       1    80    2014  2094         7     1   \n",
       "\n",
       "   pident        evalue  length  qlen  slen  qcovs  score  \n",
       "0  91.358  1.580000e-25      81    80  2089    100    123  \n",
       "1  90.123  1.930000e-24      81    80  2243    100    118  "
      ]
     },
     "execution_count": 149,
     "metadata": {},
     "output_type": "execute_result"
    }
   ],
   "source": [
    "df_mites = pd.read_csv(path_blast_res, sep=\"\\t\")\n",
    "cols = ['qseqid','sseqid','qstart','qend','sstart','send','mismatch','gaps','pident','evalue','length','qlen','slen','qcovs','score']\n",
    "df_mites.columns = cols\n",
    "df_mites = df_mites[df_mites.pident >= 80]\n",
    "df_mites = df_mites[df_mites.qcovs >= 80]\n",
    "print(len(df_mites.index))\n",
    "df_mites.head(2)"
   ]
  },
  {
   "cell_type": "code",
   "execution_count": 150,
   "metadata": {},
   "outputs": [],
   "source": [
    "df['new_start'] = df[['TStart','TStop']].min(axis=1)\n",
    "df['new_end'] = df[['TStart','TStop']].max(axis=1)\n",
    "df['TStart'] = df['new_start']\n",
    "df['TStop'] = df['new_end']\n",
    "df = df.drop('new_start',axis=1).drop('new_end',axis=1)\n"
   ]
  },
  {
   "cell_type": "code",
   "execution_count": 151,
   "metadata": {},
   "outputs": [],
   "source": [
    "df_mites['new_start'] = df_mites[['sstart','send']].min(axis=1)\n",
    "df_mites['new_end'] = df_mites[['sstart','send']].max(axis=1)\n",
    "df_mites['sstart'] = df_mites['new_start']\n",
    "df_mites['send'] = df_mites['new_end']\n",
    "df_mites = df_mites.drop('new_start',axis=1).drop('new_end',axis=1)\n"
   ]
  },
  {
   "cell_type": "code",
   "execution_count": 152,
   "metadata": {},
   "outputs": [
    {
     "data": {
      "text/html": [
       "<div>\n",
       "<style scoped>\n",
       "    .dataframe tbody tr th:only-of-type {\n",
       "        vertical-align: middle;\n",
       "    }\n",
       "\n",
       "    .dataframe tbody tr th {\n",
       "        vertical-align: top;\n",
       "    }\n",
       "\n",
       "    .dataframe thead th {\n",
       "        text-align: right;\n",
       "    }\n",
       "</style>\n",
       "<table border=\"1\" class=\"dataframe\">\n",
       "  <thead>\n",
       "    <tr style=\"text-align: right;\">\n",
       "      <th></th>\n",
       "      <th>qseqid</th>\n",
       "      <th>sseqid</th>\n",
       "      <th>qstart</th>\n",
       "      <th>qend</th>\n",
       "      <th>sstart</th>\n",
       "      <th>send</th>\n",
       "      <th>mismatch</th>\n",
       "      <th>gaps</th>\n",
       "      <th>pident</th>\n",
       "      <th>evalue</th>\n",
       "      <th>length</th>\n",
       "      <th>qlen</th>\n",
       "      <th>slen</th>\n",
       "      <th>qcovs</th>\n",
       "      <th>score</th>\n",
       "    </tr>\n",
       "  </thead>\n",
       "  <tbody>\n",
       "    <tr>\n",
       "      <th>0</th>\n",
       "      <td>MITE_0</td>\n",
       "      <td>TraesCS5D02G132100.1</td>\n",
       "      <td>1</td>\n",
       "      <td>80</td>\n",
       "      <td>399</td>\n",
       "      <td>479</td>\n",
       "      <td>6</td>\n",
       "      <td>1</td>\n",
       "      <td>91.358</td>\n",
       "      <td>1.580000e-25</td>\n",
       "      <td>81</td>\n",
       "      <td>80</td>\n",
       "      <td>2089</td>\n",
       "      <td>100</td>\n",
       "      <td>123</td>\n",
       "    </tr>\n",
       "    <tr>\n",
       "      <th>1</th>\n",
       "      <td>MITE_0</td>\n",
       "      <td>TraesCS1A02G419600.1</td>\n",
       "      <td>1</td>\n",
       "      <td>80</td>\n",
       "      <td>2014</td>\n",
       "      <td>2094</td>\n",
       "      <td>7</td>\n",
       "      <td>1</td>\n",
       "      <td>90.123</td>\n",
       "      <td>1.930000e-24</td>\n",
       "      <td>81</td>\n",
       "      <td>80</td>\n",
       "      <td>2243</td>\n",
       "      <td>100</td>\n",
       "      <td>118</td>\n",
       "    </tr>\n",
       "    <tr>\n",
       "      <th>2</th>\n",
       "      <td>MITE_0</td>\n",
       "      <td>TraesCS1A02G419600.1</td>\n",
       "      <td>1</td>\n",
       "      <td>80</td>\n",
       "      <td>2014</td>\n",
       "      <td>2094</td>\n",
       "      <td>7</td>\n",
       "      <td>1</td>\n",
       "      <td>90.123</td>\n",
       "      <td>1.930000e-24</td>\n",
       "      <td>81</td>\n",
       "      <td>80</td>\n",
       "      <td>2243</td>\n",
       "      <td>100</td>\n",
       "      <td>118</td>\n",
       "    </tr>\n",
       "    <tr>\n",
       "      <th>3</th>\n",
       "      <td>MITE_0</td>\n",
       "      <td>TraesCS1B02G479800.1</td>\n",
       "      <td>1</td>\n",
       "      <td>80</td>\n",
       "      <td>3394</td>\n",
       "      <td>3474</td>\n",
       "      <td>7</td>\n",
       "      <td>1</td>\n",
       "      <td>90.123</td>\n",
       "      <td>1.930000e-24</td>\n",
       "      <td>81</td>\n",
       "      <td>80</td>\n",
       "      <td>3785</td>\n",
       "      <td>100</td>\n",
       "      <td>118</td>\n",
       "    </tr>\n",
       "  </tbody>\n",
       "</table>\n",
       "</div>"
      ],
      "text/plain": [
       "   qseqid                sseqid  qstart  qend  sstart  send  mismatch  gaps  \\\n",
       "0  MITE_0  TraesCS5D02G132100.1       1    80     399   479         6     1   \n",
       "1  MITE_0  TraesCS1A02G419600.1       1    80    2014  2094         7     1   \n",
       "2  MITE_0  TraesCS1A02G419600.1       1    80    2014  2094         7     1   \n",
       "3  MITE_0  TraesCS1B02G479800.1       1    80    3394  3474         7     1   \n",
       "\n",
       "   pident        evalue  length  qlen  slen  qcovs  score  \n",
       "0  91.358  1.580000e-25      81    80  2089    100    123  \n",
       "1  90.123  1.930000e-24      81    80  2243    100    118  \n",
       "2  90.123  1.930000e-24      81    80  2243    100    118  \n",
       "3  90.123  1.930000e-24      81    80  3785    100    118  "
      ]
     },
     "execution_count": 152,
     "metadata": {},
     "output_type": "execute_result"
    }
   ],
   "source": [
    "df_mites.head(4)"
   ]
  },
  {
   "cell_type": "code",
   "execution_count": 153,
   "metadata": {},
   "outputs": [],
   "source": [
    "df_mites = df_mites.drop_duplicates()\n"
   ]
  },
  {
   "cell_type": "code",
   "execution_count": 154,
   "metadata": {},
   "outputs": [
    {
     "name": "stdout",
     "output_type": "stream",
     "text": [
      "8327\n"
     ]
    },
    {
     "data": {
      "text/html": [
       "<div>\n",
       "<style scoped>\n",
       "    .dataframe tbody tr th:only-of-type {\n",
       "        vertical-align: middle;\n",
       "    }\n",
       "\n",
       "    .dataframe tbody tr th {\n",
       "        vertical-align: top;\n",
       "    }\n",
       "\n",
       "    .dataframe thead th {\n",
       "        text-align: right;\n",
       "    }\n",
       "</style>\n",
       "<table border=\"1\" class=\"dataframe\">\n",
       "  <thead>\n",
       "    <tr style=\"text-align: right;\">\n",
       "      <th></th>\n",
       "      <th>qseqid</th>\n",
       "      <th>sseqid</th>\n",
       "      <th>qstart</th>\n",
       "      <th>qend</th>\n",
       "      <th>sstart</th>\n",
       "      <th>send</th>\n",
       "      <th>mismatch</th>\n",
       "      <th>gaps</th>\n",
       "      <th>pident</th>\n",
       "      <th>evalue</th>\n",
       "      <th>length</th>\n",
       "      <th>qlen</th>\n",
       "      <th>slen</th>\n",
       "      <th>qcovs</th>\n",
       "      <th>score</th>\n",
       "    </tr>\n",
       "  </thead>\n",
       "  <tbody>\n",
       "    <tr>\n",
       "      <th>0</th>\n",
       "      <td>MITE_0</td>\n",
       "      <td>TraesCS5D02G132100.1</td>\n",
       "      <td>1</td>\n",
       "      <td>80</td>\n",
       "      <td>399</td>\n",
       "      <td>479</td>\n",
       "      <td>6</td>\n",
       "      <td>1</td>\n",
       "      <td>91.358</td>\n",
       "      <td>1.580000e-25</td>\n",
       "      <td>81</td>\n",
       "      <td>80</td>\n",
       "      <td>2089</td>\n",
       "      <td>100</td>\n",
       "      <td>123</td>\n",
       "    </tr>\n",
       "    <tr>\n",
       "      <th>1</th>\n",
       "      <td>MITE_0</td>\n",
       "      <td>TraesCS1A02G419600.1</td>\n",
       "      <td>1</td>\n",
       "      <td>80</td>\n",
       "      <td>2014</td>\n",
       "      <td>2094</td>\n",
       "      <td>7</td>\n",
       "      <td>1</td>\n",
       "      <td>90.123</td>\n",
       "      <td>1.930000e-24</td>\n",
       "      <td>81</td>\n",
       "      <td>80</td>\n",
       "      <td>2243</td>\n",
       "      <td>100</td>\n",
       "      <td>118</td>\n",
       "    </tr>\n",
       "    <tr>\n",
       "      <th>3</th>\n",
       "      <td>MITE_0</td>\n",
       "      <td>TraesCS1B02G479800.1</td>\n",
       "      <td>1</td>\n",
       "      <td>80</td>\n",
       "      <td>3394</td>\n",
       "      <td>3474</td>\n",
       "      <td>7</td>\n",
       "      <td>1</td>\n",
       "      <td>90.123</td>\n",
       "      <td>1.930000e-24</td>\n",
       "      <td>81</td>\n",
       "      <td>80</td>\n",
       "      <td>3785</td>\n",
       "      <td>100</td>\n",
       "      <td>118</td>\n",
       "    </tr>\n",
       "    <tr>\n",
       "      <th>5</th>\n",
       "      <td>MITE_0</td>\n",
       "      <td>TraesCS3B02G287100.1</td>\n",
       "      <td>1</td>\n",
       "      <td>80</td>\n",
       "      <td>1338</td>\n",
       "      <td>1418</td>\n",
       "      <td>7</td>\n",
       "      <td>1</td>\n",
       "      <td>90.123</td>\n",
       "      <td>1.930000e-24</td>\n",
       "      <td>81</td>\n",
       "      <td>80</td>\n",
       "      <td>1445</td>\n",
       "      <td>100</td>\n",
       "      <td>118</td>\n",
       "    </tr>\n",
       "    <tr>\n",
       "      <th>7</th>\n",
       "      <td>MITE_0</td>\n",
       "      <td>TraesCS6A02G276700.1</td>\n",
       "      <td>1</td>\n",
       "      <td>80</td>\n",
       "      <td>3094</td>\n",
       "      <td>3174</td>\n",
       "      <td>7</td>\n",
       "      <td>1</td>\n",
       "      <td>90.123</td>\n",
       "      <td>1.930000e-24</td>\n",
       "      <td>81</td>\n",
       "      <td>80</td>\n",
       "      <td>3296</td>\n",
       "      <td>100</td>\n",
       "      <td>118</td>\n",
       "    </tr>\n",
       "    <tr>\n",
       "      <th>9</th>\n",
       "      <td>MITE_0</td>\n",
       "      <td>TraesCS2A02G301400.1</td>\n",
       "      <td>1</td>\n",
       "      <td>80</td>\n",
       "      <td>802</td>\n",
       "      <td>882</td>\n",
       "      <td>8</td>\n",
       "      <td>1</td>\n",
       "      <td>88.889</td>\n",
       "      <td>8.200000e-23</td>\n",
       "      <td>81</td>\n",
       "      <td>80</td>\n",
       "      <td>914</td>\n",
       "      <td>100</td>\n",
       "      <td>113</td>\n",
       "    </tr>\n",
       "    <tr>\n",
       "      <th>11</th>\n",
       "      <td>MITE_0</td>\n",
       "      <td>TraesCS2B02G329600.1</td>\n",
       "      <td>1</td>\n",
       "      <td>80</td>\n",
       "      <td>2594</td>\n",
       "      <td>2675</td>\n",
       "      <td>7</td>\n",
       "      <td>2</td>\n",
       "      <td>89.024</td>\n",
       "      <td>2.860000e-22</td>\n",
       "      <td>82</td>\n",
       "      <td>80</td>\n",
       "      <td>2897</td>\n",
       "      <td>100</td>\n",
       "      <td>111</td>\n",
       "    </tr>\n",
       "    <tr>\n",
       "      <th>13</th>\n",
       "      <td>MITE_0</td>\n",
       "      <td>TraesCS4A02G349800.1</td>\n",
       "      <td>1</td>\n",
       "      <td>80</td>\n",
       "      <td>7444</td>\n",
       "      <td>7526</td>\n",
       "      <td>7</td>\n",
       "      <td>3</td>\n",
       "      <td>87.952</td>\n",
       "      <td>1.000000e-21</td>\n",
       "      <td>83</td>\n",
       "      <td>80</td>\n",
       "      <td>7721</td>\n",
       "      <td>100</td>\n",
       "      <td>109</td>\n",
       "    </tr>\n",
       "  </tbody>\n",
       "</table>\n",
       "</div>"
      ],
      "text/plain": [
       "    qseqid                sseqid  qstart  qend  sstart  send  mismatch  gaps  \\\n",
       "0   MITE_0  TraesCS5D02G132100.1       1    80     399   479         6     1   \n",
       "1   MITE_0  TraesCS1A02G419600.1       1    80    2014  2094         7     1   \n",
       "3   MITE_0  TraesCS1B02G479800.1       1    80    3394  3474         7     1   \n",
       "5   MITE_0  TraesCS3B02G287100.1       1    80    1338  1418         7     1   \n",
       "7   MITE_0  TraesCS6A02G276700.1       1    80    3094  3174         7     1   \n",
       "9   MITE_0  TraesCS2A02G301400.1       1    80     802   882         8     1   \n",
       "11  MITE_0  TraesCS2B02G329600.1       1    80    2594  2675         7     2   \n",
       "13  MITE_0  TraesCS4A02G349800.1       1    80    7444  7526         7     3   \n",
       "\n",
       "    pident        evalue  length  qlen  slen  qcovs  score  \n",
       "0   91.358  1.580000e-25      81    80  2089    100    123  \n",
       "1   90.123  1.930000e-24      81    80  2243    100    118  \n",
       "3   90.123  1.930000e-24      81    80  3785    100    118  \n",
       "5   90.123  1.930000e-24      81    80  1445    100    118  \n",
       "7   90.123  1.930000e-24      81    80  3296    100    118  \n",
       "9   88.889  8.200000e-23      81    80   914    100    113  \n",
       "11  89.024  2.860000e-22      82    80  2897    100    111  \n",
       "13  87.952  1.000000e-21      83    80  7721    100    109  "
      ]
     },
     "execution_count": 154,
     "metadata": {},
     "output_type": "execute_result"
    }
   ],
   "source": [
    "print(len(df_mites.index))\n",
    "df_mites.head(8)"
   ]
  },
  {
   "cell_type": "code",
   "execution_count": 155,
   "metadata": {},
   "outputs": [],
   "source": [
    "#c_maxes = df_mites.groupby(['qseqid', 'sseqid']).score.transform(max)\n",
    "#df_mites = df_mites.loc[df_mites.score == c_maxes]\n"
   ]
  },
  {
   "cell_type": "code",
   "execution_count": 156,
   "metadata": {},
   "outputs": [
    {
     "data": {
      "text/html": [
       "<div>\n",
       "<style scoped>\n",
       "    .dataframe tbody tr th:only-of-type {\n",
       "        vertical-align: middle;\n",
       "    }\n",
       "\n",
       "    .dataframe tbody tr th {\n",
       "        vertical-align: top;\n",
       "    }\n",
       "\n",
       "    .dataframe thead th {\n",
       "        text-align: right;\n",
       "    }\n",
       "</style>\n",
       "<table border=\"1\" class=\"dataframe\">\n",
       "  <thead>\n",
       "    <tr style=\"text-align: right;\">\n",
       "      <th></th>\n",
       "      <th>qseqid</th>\n",
       "      <th>sseqid</th>\n",
       "      <th>qstart</th>\n",
       "      <th>qend</th>\n",
       "      <th>sstart</th>\n",
       "      <th>send</th>\n",
       "      <th>mismatch</th>\n",
       "      <th>gaps</th>\n",
       "      <th>pident</th>\n",
       "      <th>evalue</th>\n",
       "      <th>length</th>\n",
       "      <th>qlen</th>\n",
       "      <th>slen</th>\n",
       "      <th>qcovs</th>\n",
       "      <th>score</th>\n",
       "    </tr>\n",
       "  </thead>\n",
       "  <tbody>\n",
       "    <tr>\n",
       "      <th>0</th>\n",
       "      <td>MITE_0</td>\n",
       "      <td>TraesCS5D02G132100.1</td>\n",
       "      <td>1</td>\n",
       "      <td>80</td>\n",
       "      <td>399</td>\n",
       "      <td>479</td>\n",
       "      <td>6</td>\n",
       "      <td>1</td>\n",
       "      <td>91.358</td>\n",
       "      <td>1.580000e-25</td>\n",
       "      <td>81</td>\n",
       "      <td>80</td>\n",
       "      <td>2089</td>\n",
       "      <td>100</td>\n",
       "      <td>123</td>\n",
       "    </tr>\n",
       "    <tr>\n",
       "      <th>1</th>\n",
       "      <td>MITE_0</td>\n",
       "      <td>TraesCS1A02G419600.1</td>\n",
       "      <td>1</td>\n",
       "      <td>80</td>\n",
       "      <td>2014</td>\n",
       "      <td>2094</td>\n",
       "      <td>7</td>\n",
       "      <td>1</td>\n",
       "      <td>90.123</td>\n",
       "      <td>1.930000e-24</td>\n",
       "      <td>81</td>\n",
       "      <td>80</td>\n",
       "      <td>2243</td>\n",
       "      <td>100</td>\n",
       "      <td>118</td>\n",
       "    </tr>\n",
       "    <tr>\n",
       "      <th>3</th>\n",
       "      <td>MITE_0</td>\n",
       "      <td>TraesCS1B02G479800.1</td>\n",
       "      <td>1</td>\n",
       "      <td>80</td>\n",
       "      <td>3394</td>\n",
       "      <td>3474</td>\n",
       "      <td>7</td>\n",
       "      <td>1</td>\n",
       "      <td>90.123</td>\n",
       "      <td>1.930000e-24</td>\n",
       "      <td>81</td>\n",
       "      <td>80</td>\n",
       "      <td>3785</td>\n",
       "      <td>100</td>\n",
       "      <td>118</td>\n",
       "    </tr>\n",
       "    <tr>\n",
       "      <th>5</th>\n",
       "      <td>MITE_0</td>\n",
       "      <td>TraesCS3B02G287100.1</td>\n",
       "      <td>1</td>\n",
       "      <td>80</td>\n",
       "      <td>1338</td>\n",
       "      <td>1418</td>\n",
       "      <td>7</td>\n",
       "      <td>1</td>\n",
       "      <td>90.123</td>\n",
       "      <td>1.930000e-24</td>\n",
       "      <td>81</td>\n",
       "      <td>80</td>\n",
       "      <td>1445</td>\n",
       "      <td>100</td>\n",
       "      <td>118</td>\n",
       "    </tr>\n",
       "  </tbody>\n",
       "</table>\n",
       "</div>"
      ],
      "text/plain": [
       "   qseqid                sseqid  qstart  qend  sstart  send  mismatch  gaps  \\\n",
       "0  MITE_0  TraesCS5D02G132100.1       1    80     399   479         6     1   \n",
       "1  MITE_0  TraesCS1A02G419600.1       1    80    2014  2094         7     1   \n",
       "3  MITE_0  TraesCS1B02G479800.1       1    80    3394  3474         7     1   \n",
       "5  MITE_0  TraesCS3B02G287100.1       1    80    1338  1418         7     1   \n",
       "\n",
       "   pident        evalue  length  qlen  slen  qcovs  score  \n",
       "0  91.358  1.580000e-25      81    80  2089    100    123  \n",
       "1  90.123  1.930000e-24      81    80  2243    100    118  \n",
       "3  90.123  1.930000e-24      81    80  3785    100    118  \n",
       "5  90.123  1.930000e-24      81    80  1445    100    118  "
      ]
     },
     "execution_count": 156,
     "metadata": {},
     "output_type": "execute_result"
    }
   ],
   "source": [
    "df_mites.head(4)"
   ]
  },
  {
   "cell_type": "code",
   "execution_count": null,
   "metadata": {},
   "outputs": [],
   "source": []
  },
  {
   "cell_type": "code",
   "execution_count": 157,
   "metadata": {},
   "outputs": [],
   "source": [
    "df['MITE_target'] = None"
   ]
  },
  {
   "cell_type": "code",
   "execution_count": null,
   "metadata": {},
   "outputs": [],
   "source": []
  },
  {
   "cell_type": "code",
   "execution_count": 158,
   "metadata": {},
   "outputs": [
    {
     "name": "stdout",
     "output_type": "stream",
     "text": [
      "28 TraesCS1A02G116200.2 MITE_803\n",
      "136 TraesCS1A02G419600.1 MITE_296\n",
      "144 TraesCS1A02G443600.1 MITE_1689\n",
      "167 TraesCS1B02G085900.1 DTT_Tdur_Icarus_294D11-3\n",
      "249 TraesCS1B02G325200.1 DTT_Taes_Icarus_BQ605897-1\n",
      "314 TraesCS1D02G010200.1 DTT_Taes_Icarus_BJ238962-1\n",
      "407 TraesCS1D02G280700.1 DTT_Taes_Icarus_BQ281801-1\n",
      "530 TraesCS2A02G274200.2 DTT_Bdis_BdisStowawayT_consensus-1\n",
      "536 TraesCS2A02G281000.1 DTT_Hvul_Pan_M801L24-1\n",
      "539 TraesCS2A02G281000.2 DTT_Hvul_Pan_M801L24-1\n",
      "611 TraesCS2A02G529000.1 DTT_Taes_Hades_42j2-4\n",
      "623 TraesCS2A02G561600.1 MITE_1739\n",
      "689 TraesCS2B02G228200.1 DTT_Taes_Icarus_BJ306535-1\n",
      "723 TraesCS2B02G320300.1 MITE_155\n",
      "778 TraesCS2B02G490200.1 MITE_1620\n",
      "915 TraesCS2D02G327200.1 DTT_Taes_Athos_42j2-14\n",
      "980 TraesCS2D02G558100.2 DTT_Hvul_Icarus_AV928891-1\n",
      "1055 TraesCS3A02G227900.2 MITE_1739\n",
      "1062 TraesCS3A02G274100.1 DTT_Tdur_Athos_103H9-1\n",
      "1157 TraesCS3B02G129400.1 MITE_1605\n",
      "1170 TraesCS3B02G160900.1 DTT_Taes_Icarus_BQ166298-1\n",
      "1206 TraesCS3B02G287100.1 MITE_296\n",
      "1243 TraesCS3B02G381800.2 DTT_Taes_Icarus_BQ166298-1\n",
      "1272 TraesCS3B02G475900.1 DTT_Hvul_Thalos_BJ486760-1\n",
      "1480 TraesCS4A02G076800.1 MITE_867\n",
      "1605 TraesCS4A02G487000.1 DTT_Tdur_Icarus_103H9-1\n",
      "1648 TraesCS4B02G114400.1 MITE_803\n",
      "1666 TraesCS4B02G157900.1 DTT_Taes_Hades_42j2-4\n",
      "1669 TraesCS4B02G164300.1 DTT_Taes_Icarus_BQ605897-1\n",
      "1670 TraesCS4B02G164300.2 DTT_Taes_Icarus_BQ605897-1\n",
      "1705 TraesCS4B02G232400.1 DTT_Taes_Icarus_BJ272697-1\n",
      "1866 TraesCS4D02G323800.1 DTT_Taes_Hades_10k23-1\n",
      "2044 TraesCS5A02G513600.1 MITE_955\n",
      "2131 TraesCS5B02G218100.1 DTT_Hvul_Oleus_AF490468-1\n",
      "2201 TraesCS5B02G444200.1 MITE_1128\n",
      "2218 TraesCS5B02G480100.1 DTT_Taes_Athos_42j2-14\n",
      "2286 TraesCS5D02G132100.1 MITE_296\n",
      "2295 TraesCS5D02G154200.1 DTT_Hvul_Athos_BE193974-1\n",
      "2307 TraesCS5D02G168000.2 MITE_49\n",
      "2337 TraesCS5D02G261800.1 DTT_Taes_Athos_42j2-14\n",
      "2376 TraesCS5D02G392300.1 DTT_Tdur_Icarus_294D11-3\n",
      "2427 TraesCS5D02G503800.1 DTT_Taes_Hades_42j2-4\n",
      "2441 TraesCS5D02G544300.1 MITE_147\n",
      "2442 TraesCS5D02G544300.2 MITE_147\n",
      "2466 TraesCS6A02G084000.1 DTT_Taes_Icarus_BJ238962-1\n",
      "2507 TraesCS6A02G182300.1 MITE_1628\n",
      "2586 TraesCS6B02G025200.2 DTT_Tdur_Icarus_294D11-3\n",
      "2587 TraesCS6B02G036100.1 DTT_Taes_Icarus_BE517313-1\n",
      "2597 TraesCS6B02G069300.2 DTT_Tdur_Icarus_294D11-3\n",
      "2770 TraesCS6D02G231900.1 DTT_Taes_Icarus_BJ238962-1\n",
      "2862 TraesCS7A02G218800.1 MITE_955\n",
      "3023 TraesCS7B02G184300.8 DTT_Hvul_Pan_M801L24-1\n",
      "3195 TraesCS7D02G274800.1 DTT_Taes_Hades_42j2-4\n",
      "3239 TraesCS7D02G415800.1 DTT_Null_Thalos_consensus-1\n",
      "3328 TraesCSU02G159400.1 DTT_Taes_Icarus_BQ166298-1\n",
      "3394 TraesCS1A02G090300.1 DTT_Taes_Icarus_BQ281801-1\n",
      "3395 TraesCS1A02G090300.1 DTT_Taes_Icarus_BQ281801-1\n",
      "3840 TraesCS1D02G160700.1 DTT_Taes_Icarus_BJ321432-1\n",
      "4158 TraesCS2A02G281000.1 DTT_Hvul_Pan_M801L24-1\n",
      "4211 TraesCS2A02G384100.1 DTT_Tmon_Icarus_BG607724-1\n",
      "4473 TraesCS2B02G329600.1 DTT_Taes_Athos_BQ238527-1\n",
      "4669 TraesCS2D02G148900.1 MITE_1211\n",
      "4858 TraesCS2D02G449600.1 DTT_Taes_Pan_42j2-6\n",
      "4896 TraesCS2D02G578900.1 DTT_Bdis_BdisStowawayT_consensus-1\n",
      "5013 TraesCS3A02G300400.1 DTT_Taes_Icarus_42j2-9\n",
      "5014 TraesCS3A02G300400.1 DTT_Taes_Icarus_42j2-9\n",
      "5115 TraesCS3A02G533300.1 MITE_660\n",
      "5117 TraesCS3A02G533300.2 MITE_660\n",
      "5270 TraesCS3B02G396800.1 DTT_Tdur_Icarus_294D11-3\n",
      "5502 TraesCS3D02G443900.1 DTT_Taes_Pan_42j2-6\n",
      "5692 TraesCS4A02G347800.2 DTT_Taes_Icarus_BJ321432-1\n",
      "5694 TraesCS4A02G349800.1 DTT_Taes_Athos_42j2-5\n",
      "5757 TraesCS4B02G021400.1 DTT_Taes_Pan_42j2-6\n",
      "5758 TraesCS4B02G021400.2 DTT_Taes_Pan_42j2-6\n",
      "5785 TraesCS4B02G081600.1 DTT_Taes_Icarus_BJ321432-1\n",
      "5811 TraesCS4B02G138200.1 DTT_Bdis_BdisStowawayL_consensus-1\n",
      "5876 TraesCS4B02G235500.1 DTT_Tmon_Icarus_BG607724-1\n",
      "6557 TraesCS5B02G266700.1 DTT_Taes_Hades_42j2-4\n",
      "6861 TraesCS5D02G392300.1 DTT_Taes_Icarus_42j2-9\n",
      "6862 TraesCS5D02G392300.1 DTT_Tdur_Icarus_294D11-3\n",
      "6983 TraesCS6A02G146300.2 DTT_Taes_Icarus_BJ321432-1\n",
      "7121 TraesCS6B02G063800.1 DTT_Taes_Icarus_BE585804-1\n",
      "7167 TraesCS6B02G168300.1 DTT_Taes_Athos_42j2-4\n",
      "7176 TraesCS6B02G185100.1 DTT_Taes_Hades_10k23-1\n",
      "7202 TraesCS6B02G245800.1 MITE_1620\n",
      "7266 TraesCS6B02G343000.2 DTT_Hvul_Pan_M801L24-1\n",
      "7588 TraesCS7A02G263000.1 DTT_Taes_Athos_BQ238527-1\n",
      "7591 TraesCS7A02G264500.1 MITE_1071\n",
      "7592 TraesCS7A02G264500.1 DTT_Taes_Icarus_BJ294298-1\n",
      "7662 TraesCS7A02G367900.1 DTT_Bdis_BdisStowawayR_consensus-1\n",
      "7762 TraesCS7B02G123000.1 DTT_Null_Icarus_consensus-1\n",
      "7880 TraesCS7B02G360400.1 DTT_Taes_Icarus_BJ238962-1\n",
      "7956 TraesCS7D02G091000.1 DTT_Bdis_BdisStowawayT_consensus-1\n",
      "8051 TraesCS7D02G293800.1 DTT_Taes_Icarus_BJ238962-1\n",
      "8235 TraesCSU02G159400.1 DTT_Taes_Icarus_BQ166298-1\n",
      "8724 TraesCS1B02G365300.1 DTT_Bdis_BdisStowawayT_consensus-1\n",
      "8799 TraesCS1B02G479800.1 DTT_Taes_Athos_BJ282680-1\n",
      "8899 TraesCS1D02G176000.1 MITE_1183\n",
      "9711 TraesCS2B02G490200.1 MITE_1620\n",
      "9741 TraesCS2B02G543000.1 DTT_Taes_Athos_42j2-14\n",
      "9814 TraesCS2D02G059900.1 DTT_Taes_Icarus_BJ272697-1\n",
      "10079 TraesCS2D02G404700.1 DTT_Taes_Icarus_BQ605897-1\n",
      "10173 TraesCS2D02G578900.1 DTT_Bdis_BdisStowawayT_consensus-1\n",
      "10284 TraesCS3A02G233900.1 DTT_Hvul_Pan_M801L24-1\n",
      "10317 TraesCS3A02G300400.1 DTT_Taes_Icarus_42j2-9\n",
      "10318 TraesCS3A02G300400.1 DTT_Taes_Icarus_42j2-9\n",
      "10686 TraesCS3B02G502600.1 DTT_Taes_Icarus_42j2-9\n",
      "11135 TraesCS4A02G193600.1 DTT_Taes_Athos_BJ282680-1\n",
      "11379 TraesCS4B02G157900.2 DTT_Taes_Icarus_42j2-9\n",
      "11491 TraesCS4B02G313900.3 DTT_Taes_Athos_BQ170773-1\n",
      "12066 TraesCS5A02G456600.1 DTT_Bdis_BdisStowawayT_consensus-1\n",
      "12392 TraesCS5B02G480100.1 DTT_Taes_Athos_42j2-14\n",
      "12669 TraesCS5D02G392300.1 DTT_Taes_Icarus_42j2-9\n",
      "12670 TraesCS5D02G392300.1 DTT_Tdur_Icarus_294D11-3\n",
      "12788 TraesCS6A02G005700.1 MITE_955\n",
      "13063 TraesCS6B02G140200.1 DTT_Tdur_Icarus_294D11-3\n",
      "13104 TraesCS6B02G245800.1 MITE_1620\n",
      "13659 TraesCS7A02G367900.1 DTT_Bdis_BdisStowawayR_consensus-1\n",
      "13838 TraesCS7B02G129900.1 DTT_Hvul_Pan_M801L24-1\n",
      "14420 TraesCSU02G115300.1 MITE_210\n",
      "14421 TraesCSU02G115300.2 MITE_210\n",
      "14490 TraesCS1A02G143400.1 DTT_Hvul_Pan_M801L24-1\n",
      "14594 TraesCS1B02G228900.1 DTT_Taes_SBB_42j2-2\n",
      "14606 TraesCS1B02G294200.1 MITE_803\n",
      "14628 TraesCS1B02G365300.1 DTT_Bdis_BdisStowawayT_consensus-1\n",
      "14632 TraesCS1B02G379600.1 DTT_Taes_Hades_42j2-4\n",
      "14634 TraesCS1B02G385200.1 DTT_Bdis_BdisStowawayF_consensus-1\n",
      "14635 TraesCS1B02G385200.1 DTT_Bdis_BdisStowawayF_consensus-1\n",
      "14655 TraesCS1B02G460500.1 DTT_Bdis_BdisStowawayR_consensus-1\n",
      "14725 TraesCS1D02G273500.1 DTT_Taes_Athos_42j2-5\n",
      "14758 TraesCS1D02G420700.1 MITE_955\n",
      "14759 TraesCS1D02G420700.1 DTT_Tdur_Athos_103H9-1\n",
      "14812 TraesCS2A02G274200.1 DTT_Bdis_BdisStowawayT_consensus-1\n",
      "14820 TraesCS2A02G281000.2 DTT_Hvul_Pan_M801L24-1\n",
      "14821 TraesCS2A02G281000.2 DTT_Hvul_Pan_M801L24-1\n",
      "14823 TraesCS2A02G281000.3 DTT_Hvul_Pan_M801L24-1\n",
      "14824 TraesCS2A02G281000.3 DTT_Hvul_Pan_M801L24-1\n",
      "14866 TraesCS2A02G529000.1 DTT_Taes_Hades_42j2-4\n",
      "14870 TraesCS2A02G561600.1 MITE_1739\n",
      "14927 TraesCS2B02G320000.1 DTT_Tdur_Icarus_294D11-3\n",
      "14966 TraesCS2B02G490200.1 MITE_1620\n",
      "14984 TraesCS2B02G585200.1 DTT_Tdur_Icarus_103H9-1\n",
      "15048 TraesCS2D02G327200.1 DTT_Taes_Athos_42j2-14\n",
      "15065 TraesCS2D02G401200.1 DTT_Taes_Hades_BQ162173-1\n",
      "15098 TraesCS2D02G558100.1 DTT_Hvul_Icarus_AV928891-1\n",
      "15119 TraesCS3A02G099300.4 MITE_49\n",
      "15159 TraesCS3A02G333900.1 DTT_Taes_Hades_42j2-4\n",
      "15211 TraesCS3B02G129400.1 MITE_1605\n",
      "15214 TraesCS3B02G172600.2 DTT_Tdur_Icarus_103H9-1\n",
      "15241 TraesCS3B02G381800.2 DTT_Taes_Icarus_BQ166298-1\n",
      "15294 TraesCS3D02G112300.1 MITE_139\n",
      "15308 TraesCS3D02G205600.1 DTT_Taes_Athos_42j2-14\n",
      "15368 TraesCS4A02G044300.1 DTT_Hvul_Pan_M801L24-1\n",
      "15380 TraesCS4A02G091600.1 MITE_1028\n",
      "15413 TraesCS4A02G236000.1 DTT_Taes_Icarus_BJ239005-1\n",
      "15443 TraesCS4A02G346700.2 DTT_Tmon_Icarus_BG607724-1\n",
      "15446 TraesCS4A02G353300.1 MITE_137\n",
      "15493 TraesCS4B02G058100.1 MITE_293\n",
      "15495 TraesCS4B02G079200.1 DTT_Hvul_Pan_M801L24-1\n",
      "15498 TraesCS4B02G081200.1 DTT_Taes_Athos_BJ282680-1\n",
      "15522 TraesCS4B02G157900.1 DTT_Taes_Hades_42j2-4\n",
      "15602 TraesCS4D02G124600.1 MITE_798\n",
      "15739 TraesCS5A02G456600.1 DTT_Bdis_BdisStowawayT_consensus-1\n",
      "15748 TraesCS5A02G513500.1 DTT_Taes_Athos_BJ282680-1\n",
      "15789 TraesCS5B02G196800.1 MITE_803\n",
      "15792 TraesCS5B02G218100.1 DTT_Hvul_Oleus_AF490468-1\n",
      "15847 TraesCS5B02G444200.1 MITE_1128\n",
      "15856 TraesCS5B02G480100.1 DTT_Taes_Athos_42j2-14\n",
      "15962 TraesCS5D02G538800.1 MITE_1739\n",
      "15970 TraesCS5D02G556800.1 MITE_865\n",
      "16020 TraesCS6A02G276700.1 DTT_Tmon_Athos_AF326781-1\n",
      "16044 TraesCS6B02G005300.1 DTT_Taes_Icarus_BQ605897-1\n",
      "16048 TraesCS6B02G036100.1 DTT_Taes_Icarus_BE517313-1\n",
      "16071 TraesCS6B02G130100.1 DTT_Bdis_BdisStowawayT_consensus-1\n",
      "16073 TraesCS6B02G140200.1 DTT_Tdur_Icarus_294D11-3\n",
      "16081 TraesCS6B02G170700.1 MITE_803\n",
      "16090 TraesCS6B02G196000.1 MITE_332\n",
      "16183 TraesCS6D02G268200.1 DTT_Hvul_Pan_M801L24-1\n",
      "16202 TraesCS7A02G002900.3 DTT_Taes_Athos_BJ282680-1\n",
      "16238 TraesCS7A02G236200.4 DTT_Taes_Athos_BJ282680-1\n",
      "16269 TraesCS7A02G355700.1 DTT_Hvul_Pan_M801L24-1\n",
      "16340 TraesCS7B02G133400.1 DTT_Aspe_Athos_BF292198-1\n",
      "16362 TraesCS7B02G192100.1 DTT_Taes_Pan_42j2-6\n",
      "16367 TraesCS7B02G225800.2 DTT_Tmon_Icarus_BG607724-1\n",
      "16456 TraesCS7D02G182600.1 DTT_Taes_Athos_42j2-5\n",
      "16508 TraesCS7D02G415800.1 DTT_Null_Thalos_consensus-1\n",
      "16540 TraesCSU02G068000.1 DTT_Tdur_Athos_103H9-1\n"
     ]
    }
   ],
   "source": [
    "for k,v in df.iterrows():\n",
    "    start = v.TStart\n",
    "    end = v.TStop\n",
    "    transcript = v.Transcript\n",
    "    \n",
    "    df_filter = df_mites[df_mites.qseqid.str.contains('DTT')]\n",
    "    df_filter = df_filter[df_filter.sseqid==transcript]\n",
    "    df_filter = df_filter[(df_filter.sstart <= start) & (df_filter.send >= end)]\n",
    "    if len(df_filter.index) > 0:\n",
    "        #print(k, transcript,df_filter.loc[df_filter['score'].idxmax()].qseqid)\n",
    "        df.at[k, 'MITE_target'] = df_filter.loc[df_filter['score'].idxmax()].qseqid\n",
    "    else:\n",
    "        df_filter = df_mites[df_mites.qseqid.str.contains('MITE_')]\n",
    "        df_filter = df_filter[df_filter.sseqid==transcript]\n",
    "        df_filter = df_filter[(df_filter.sstart <= start) & (df_filter.send >= end)]\n",
    "        if len(df_filter.index) > 0:\n",
    "            #print(k,transcript,df_filter.loc[df_filter['score'].idxmax()].qseqid)\n",
    "            df.at[k, 'MITE_target'] = df_filter.loc[df_filter['score'].idxmax()].qseqid\n",
    "        "
   ]
  },
  {
   "cell_type": "code",
   "execution_count": null,
   "metadata": {},
   "outputs": [],
   "source": []
  },
  {
   "cell_type": "code",
   "execution_count": null,
   "metadata": {},
   "outputs": [],
   "source": []
  },
  {
   "cell_type": "code",
   "execution_count": 159,
   "metadata": {},
   "outputs": [
    {
     "data": {
      "text/plain": [
       "'../data/res/transcripts_mites.filtered.csv'"
      ]
     },
     "execution_count": 159,
     "metadata": {},
     "output_type": "execute_result"
    }
   ],
   "source": [
    "df_mites.to_csv(path_blast_res_filtered,sep='\\t', index=None)\n",
    "path_blast_res_filtered"
   ]
  },
  {
   "cell_type": "code",
   "execution_count": null,
   "metadata": {},
   "outputs": [],
   "source": []
  },
  {
   "cell_type": "code",
   "execution_count": 160,
   "metadata": {},
   "outputs": [
    {
     "name": "stdout",
     "output_type": "stream",
     "text": [
      "Total 7002\n",
      "W mites 187\n",
      "WO mites 6815\n",
      "2.6706655241359614\n"
     ]
    }
   ],
   "source": [
    "total = len(df.index)\n",
    "w_mites = len(df[df.MITE_target.notnull()].index)\n",
    "w_o_mites = len(df[df.MITE_target.isnull()].index)\n",
    "print('Total', total)\n",
    "print('W mites', w_mites)\n",
    "print('WO mites', w_o_mites)\n",
    "print(w_mites * 100 / total)"
   ]
  },
  {
   "cell_type": "code",
   "execution_count": null,
   "metadata": {},
   "outputs": [],
   "source": []
  },
  {
   "cell_type": "code",
   "execution_count": 161,
   "metadata": {},
   "outputs": [],
   "source": [
    "#add annotations"
   ]
  },
  {
   "cell_type": "code",
   "execution_count": 162,
   "metadata": {},
   "outputs": [
    {
     "name": "stdout",
     "output_type": "stream",
     "text": [
      "1957744\n"
     ]
    }
   ],
   "source": [
    "df_ann = pd.read_csv(path_annotation, index_col=False, sep='\\t', comment='#', header=None)\n",
    "df_ann.columns = ['seqname' , 'source' , 'feature' , 'start' , 'end' , 'score' , 'strand' , 'frame' , 'attribute']\n",
    "print(len(df_ann.index))"
   ]
  },
  {
   "cell_type": "code",
   "execution_count": 163,
   "metadata": {},
   "outputs": [
    {
     "data": {
      "text/html": [
       "<div>\n",
       "<style scoped>\n",
       "    .dataframe tbody tr th:only-of-type {\n",
       "        vertical-align: middle;\n",
       "    }\n",
       "\n",
       "    .dataframe tbody tr th {\n",
       "        vertical-align: top;\n",
       "    }\n",
       "\n",
       "    .dataframe thead th {\n",
       "        text-align: right;\n",
       "    }\n",
       "</style>\n",
       "<table border=\"1\" class=\"dataframe\">\n",
       "  <thead>\n",
       "    <tr style=\"text-align: right;\">\n",
       "      <th></th>\n",
       "      <th>seqname</th>\n",
       "      <th>source</th>\n",
       "      <th>feature</th>\n",
       "      <th>start</th>\n",
       "      <th>end</th>\n",
       "      <th>score</th>\n",
       "      <th>strand</th>\n",
       "      <th>frame</th>\n",
       "      <th>attribute</th>\n",
       "    </tr>\n",
       "  </thead>\n",
       "  <tbody>\n",
       "    <tr>\n",
       "      <th>0</th>\n",
       "      <td>1A</td>\n",
       "      <td>International Wheat Genome Sequencing Consortium</td>\n",
       "      <td>chromosome</td>\n",
       "      <td>1</td>\n",
       "      <td>594102056</td>\n",
       "      <td>.</td>\n",
       "      <td>.</td>\n",
       "      <td>.</td>\n",
       "      <td>ID=chromosome:1A;Alias=chr1A,LS992080.1</td>\n",
       "    </tr>\n",
       "  </tbody>\n",
       "</table>\n",
       "</div>"
      ],
      "text/plain": [
       "  seqname                                            source     feature  \\\n",
       "0      1A  International Wheat Genome Sequencing Consortium  chromosome   \n",
       "\n",
       "   start        end score strand frame  \\\n",
       "0      1  594102056     .      .     .   \n",
       "\n",
       "                                 attribute  \n",
       "0  ID=chromosome:1A;Alias=chr1A,LS992080.1  "
      ]
     },
     "execution_count": 163,
     "metadata": {},
     "output_type": "execute_result"
    }
   ],
   "source": [
    "df_ann.head(1)"
   ]
  },
  {
   "cell_type": "code",
   "execution_count": 164,
   "metadata": {},
   "outputs": [],
   "source": [
    "df_ann['feature_len'] = abs(df_ann['start'] - df_ann['end'])\n"
   ]
  },
  {
   "cell_type": "code",
   "execution_count": 165,
   "metadata": {},
   "outputs": [
    {
     "name": "stdout",
     "output_type": "stream",
     "text": [
      "216091\n"
     ]
    }
   ],
   "source": [
    "df_ann = df_ann[\n",
    "    (df_ann.feature == 'three_prime_UTR') | \n",
    "    (df_ann.feature == 'five_prime_UTR')]\n",
    "print(len(df_ann.index))\n"
   ]
  },
  {
   "cell_type": "code",
   "execution_count": 166,
   "metadata": {},
   "outputs": [],
   "source": [
    "df_ann = df_ann.reset_index(drop=True)\n"
   ]
  },
  {
   "cell_type": "code",
   "execution_count": 167,
   "metadata": {},
   "outputs": [],
   "source": [
    "#adds transcript name\n",
    "df_ann['transcript'] = df_ann['attribute'].str.split('transcript:').str[1]\n",
    "df_ann['transcript'] = df_ann['transcript'].str.split(';').str[0]"
   ]
  },
  {
   "cell_type": "code",
   "execution_count": 168,
   "metadata": {},
   "outputs": [
    {
     "data": {
      "text/html": [
       "<div>\n",
       "<style scoped>\n",
       "    .dataframe tbody tr th:only-of-type {\n",
       "        vertical-align: middle;\n",
       "    }\n",
       "\n",
       "    .dataframe tbody tr th {\n",
       "        vertical-align: top;\n",
       "    }\n",
       "\n",
       "    .dataframe thead th {\n",
       "        text-align: right;\n",
       "    }\n",
       "</style>\n",
       "<table border=\"1\" class=\"dataframe\">\n",
       "  <thead>\n",
       "    <tr style=\"text-align: right;\">\n",
       "      <th></th>\n",
       "      <th>seqname</th>\n",
       "      <th>source</th>\n",
       "      <th>feature</th>\n",
       "      <th>start</th>\n",
       "      <th>end</th>\n",
       "      <th>score</th>\n",
       "      <th>strand</th>\n",
       "      <th>frame</th>\n",
       "      <th>attribute</th>\n",
       "      <th>feature_len</th>\n",
       "      <th>transcript</th>\n",
       "    </tr>\n",
       "  </thead>\n",
       "  <tbody>\n",
       "    <tr>\n",
       "      <th>0</th>\n",
       "      <td>1A</td>\n",
       "      <td>IWGSC</td>\n",
       "      <td>three_prime_UTR</td>\n",
       "      <td>40098</td>\n",
       "      <td>40731</td>\n",
       "      <td>.</td>\n",
       "      <td>-</td>\n",
       "      <td>.</td>\n",
       "      <td>Parent=transcript:TraesCS1A02G000100.1</td>\n",
       "      <td>633</td>\n",
       "      <td>TraesCS1A02G000100.1</td>\n",
       "    </tr>\n",
       "    <tr>\n",
       "      <th>1</th>\n",
       "      <td>1A</td>\n",
       "      <td>IWGSC</td>\n",
       "      <td>three_prime_UTR</td>\n",
       "      <td>58474</td>\n",
       "      <td>58507</td>\n",
       "      <td>.</td>\n",
       "      <td>-</td>\n",
       "      <td>.</td>\n",
       "      <td>Parent=transcript:TraesCS1A02G000100.1</td>\n",
       "      <td>33</td>\n",
       "      <td>TraesCS1A02G000100.1</td>\n",
       "    </tr>\n",
       "    <tr>\n",
       "      <th>2</th>\n",
       "      <td>1A</td>\n",
       "      <td>IWGSC</td>\n",
       "      <td>five_prime_UTR</td>\n",
       "      <td>58769</td>\n",
       "      <td>58897</td>\n",
       "      <td>.</td>\n",
       "      <td>-</td>\n",
       "      <td>.</td>\n",
       "      <td>Parent=transcript:TraesCS1A02G000100.1</td>\n",
       "      <td>128</td>\n",
       "      <td>TraesCS1A02G000100.1</td>\n",
       "    </tr>\n",
       "    <tr>\n",
       "      <th>3</th>\n",
       "      <td>1A</td>\n",
       "      <td>IWGSC</td>\n",
       "      <td>five_prime_UTR</td>\n",
       "      <td>70089</td>\n",
       "      <td>70338</td>\n",
       "      <td>.</td>\n",
       "      <td>-</td>\n",
       "      <td>.</td>\n",
       "      <td>Parent=transcript:TraesCS1A02G000100.1</td>\n",
       "      <td>249</td>\n",
       "      <td>TraesCS1A02G000100.1</td>\n",
       "    </tr>\n",
       "    <tr>\n",
       "      <th>4</th>\n",
       "      <td>1A</td>\n",
       "      <td>IWGSC</td>\n",
       "      <td>three_prime_UTR</td>\n",
       "      <td>70557</td>\n",
       "      <td>70650</td>\n",
       "      <td>.</td>\n",
       "      <td>+</td>\n",
       "      <td>.</td>\n",
       "      <td>Parent=transcript:TraesCS1A02G000200.1</td>\n",
       "      <td>93</td>\n",
       "      <td>TraesCS1A02G000200.1</td>\n",
       "    </tr>\n",
       "  </tbody>\n",
       "</table>\n",
       "</div>"
      ],
      "text/plain": [
       "  seqname source          feature  start    end score strand frame  \\\n",
       "0      1A  IWGSC  three_prime_UTR  40098  40731     .      -     .   \n",
       "1      1A  IWGSC  three_prime_UTR  58474  58507     .      -     .   \n",
       "2      1A  IWGSC   five_prime_UTR  58769  58897     .      -     .   \n",
       "3      1A  IWGSC   five_prime_UTR  70089  70338     .      -     .   \n",
       "4      1A  IWGSC  three_prime_UTR  70557  70650     .      +     .   \n",
       "\n",
       "                                attribute  feature_len            transcript  \n",
       "0  Parent=transcript:TraesCS1A02G000100.1          633  TraesCS1A02G000100.1  \n",
       "1  Parent=transcript:TraesCS1A02G000100.1           33  TraesCS1A02G000100.1  \n",
       "2  Parent=transcript:TraesCS1A02G000100.1          128  TraesCS1A02G000100.1  \n",
       "3  Parent=transcript:TraesCS1A02G000100.1          249  TraesCS1A02G000100.1  \n",
       "4  Parent=transcript:TraesCS1A02G000200.1           93  TraesCS1A02G000200.1  "
      ]
     },
     "execution_count": 168,
     "metadata": {},
     "output_type": "execute_result"
    }
   ],
   "source": [
    "df_ann.head(5)"
   ]
  },
  {
   "cell_type": "code",
   "execution_count": 169,
   "metadata": {},
   "outputs": [],
   "source": [
    "#remove duplicated\n",
    "indexes = df_ann[(df_ann.strand=='+') & (df_ann.feature=='five_prime_UTR')].duplicated(['feature','transcript'],keep='first')\n",
    "indexes = indexes[indexes == True].index\n",
    "df_ann = df_ann[~df_ann.index.isin(indexes)]\n",
    "\n",
    "indexes = df_ann[(df_ann.strand=='-') & (df_ann.feature=='five_prime_UTR')].duplicated(['feature','transcript'],keep='last')\n",
    "indexes = indexes[indexes == True].index\n",
    "df_ann = df_ann[~df_ann.index.isin(indexes)]\n",
    "\n",
    "\n",
    "indexes = df_ann[(df_ann.strand=='+') & (df_ann.feature=='three_prime_UTR')].duplicated(['feature','transcript'],keep='last')\n",
    "indexes = indexes[indexes == True].index\n",
    "df_ann = df_ann[~df_ann.index.isin(indexes)]\n",
    "\n",
    "indexes = df_ann[(df_ann.strand=='-') & (df_ann.feature=='three_prime_UTR')].duplicated(['feature','transcript'],keep='first')\n",
    "indexes = indexes[indexes == True].index\n",
    "df_ann = df_ann[~df_ann.index.isin(indexes)]\n",
    "\n"
   ]
  },
  {
   "cell_type": "code",
   "execution_count": 170,
   "metadata": {},
   "outputs": [
    {
     "name": "stdout",
     "output_type": "stream",
     "text": [
      "180799\n"
     ]
    },
    {
     "data": {
      "text/html": [
       "<div>\n",
       "<style scoped>\n",
       "    .dataframe tbody tr th:only-of-type {\n",
       "        vertical-align: middle;\n",
       "    }\n",
       "\n",
       "    .dataframe tbody tr th {\n",
       "        vertical-align: top;\n",
       "    }\n",
       "\n",
       "    .dataframe thead th {\n",
       "        text-align: right;\n",
       "    }\n",
       "</style>\n",
       "<table border=\"1\" class=\"dataframe\">\n",
       "  <thead>\n",
       "    <tr style=\"text-align: right;\">\n",
       "      <th></th>\n",
       "      <th>seqname</th>\n",
       "      <th>source</th>\n",
       "      <th>feature</th>\n",
       "      <th>start</th>\n",
       "      <th>end</th>\n",
       "      <th>score</th>\n",
       "      <th>strand</th>\n",
       "      <th>frame</th>\n",
       "      <th>attribute</th>\n",
       "      <th>feature_len</th>\n",
       "      <th>transcript</th>\n",
       "    </tr>\n",
       "  </thead>\n",
       "  <tbody>\n",
       "    <tr>\n",
       "      <th>0</th>\n",
       "      <td>1A</td>\n",
       "      <td>IWGSC</td>\n",
       "      <td>three_prime_UTR</td>\n",
       "      <td>40098</td>\n",
       "      <td>40731</td>\n",
       "      <td>.</td>\n",
       "      <td>-</td>\n",
       "      <td>.</td>\n",
       "      <td>Parent=transcript:TraesCS1A02G000100.1</td>\n",
       "      <td>633</td>\n",
       "      <td>TraesCS1A02G000100.1</td>\n",
       "    </tr>\n",
       "    <tr>\n",
       "      <th>3</th>\n",
       "      <td>1A</td>\n",
       "      <td>IWGSC</td>\n",
       "      <td>five_prime_UTR</td>\n",
       "      <td>70089</td>\n",
       "      <td>70338</td>\n",
       "      <td>.</td>\n",
       "      <td>-</td>\n",
       "      <td>.</td>\n",
       "      <td>Parent=transcript:TraesCS1A02G000100.1</td>\n",
       "      <td>249</td>\n",
       "      <td>TraesCS1A02G000100.1</td>\n",
       "    </tr>\n",
       "    <tr>\n",
       "      <th>5</th>\n",
       "      <td>1A</td>\n",
       "      <td>IWGSC</td>\n",
       "      <td>three_prime_UTR</td>\n",
       "      <td>88242</td>\n",
       "      <td>89245</td>\n",
       "      <td>.</td>\n",
       "      <td>+</td>\n",
       "      <td>.</td>\n",
       "      <td>Parent=transcript:TraesCS1A02G000200.1</td>\n",
       "      <td>1003</td>\n",
       "      <td>TraesCS1A02G000200.1</td>\n",
       "    </tr>\n",
       "    <tr>\n",
       "      <th>6</th>\n",
       "      <td>1A</td>\n",
       "      <td>IWGSC</td>\n",
       "      <td>five_prime_UTR</td>\n",
       "      <td>95906</td>\n",
       "      <td>96020</td>\n",
       "      <td>.</td>\n",
       "      <td>+</td>\n",
       "      <td>.</td>\n",
       "      <td>Parent=transcript:TraesCS1A02G000300.1</td>\n",
       "      <td>114</td>\n",
       "      <td>TraesCS1A02G000300.1</td>\n",
       "    </tr>\n",
       "    <tr>\n",
       "      <th>8</th>\n",
       "      <td>1A</td>\n",
       "      <td>IWGSC</td>\n",
       "      <td>five_prime_UTR</td>\n",
       "      <td>102794</td>\n",
       "      <td>104077</td>\n",
       "      <td>.</td>\n",
       "      <td>+</td>\n",
       "      <td>.</td>\n",
       "      <td>Parent=transcript:TraesCS1A02G000400.1</td>\n",
       "      <td>1283</td>\n",
       "      <td>TraesCS1A02G000400.1</td>\n",
       "    </tr>\n",
       "  </tbody>\n",
       "</table>\n",
       "</div>"
      ],
      "text/plain": [
       "  seqname source          feature   start     end score strand frame  \\\n",
       "0      1A  IWGSC  three_prime_UTR   40098   40731     .      -     .   \n",
       "3      1A  IWGSC   five_prime_UTR   70089   70338     .      -     .   \n",
       "5      1A  IWGSC  three_prime_UTR   88242   89245     .      +     .   \n",
       "6      1A  IWGSC   five_prime_UTR   95906   96020     .      +     .   \n",
       "8      1A  IWGSC   five_prime_UTR  102794  104077     .      +     .   \n",
       "\n",
       "                                attribute  feature_len            transcript  \n",
       "0  Parent=transcript:TraesCS1A02G000100.1          633  TraesCS1A02G000100.1  \n",
       "3  Parent=transcript:TraesCS1A02G000100.1          249  TraesCS1A02G000100.1  \n",
       "5  Parent=transcript:TraesCS1A02G000200.1         1003  TraesCS1A02G000200.1  \n",
       "6  Parent=transcript:TraesCS1A02G000300.1          114  TraesCS1A02G000300.1  \n",
       "8  Parent=transcript:TraesCS1A02G000400.1         1283  TraesCS1A02G000400.1  "
      ]
     },
     "execution_count": 170,
     "metadata": {},
     "output_type": "execute_result"
    }
   ],
   "source": [
    "print(len(df_ann.index))\n",
    "df_ann.head(5)"
   ]
  },
  {
   "cell_type": "code",
   "execution_count": null,
   "metadata": {},
   "outputs": [],
   "source": []
  },
  {
   "cell_type": "code",
   "execution_count": 171,
   "metadata": {},
   "outputs": [],
   "source": [
    "df['annotation_target'] = ''"
   ]
  },
  {
   "cell_type": "code",
   "execution_count": 172,
   "metadata": {},
   "outputs": [],
   "source": [
    "for k,v in df.iterrows():\n",
    "    transcript_start = v.TStart\n",
    "    transcript_stop = v.TStop\n",
    "    transcript_slice = v.TSlice\n",
    "    transcript_name = v.Transcript\n",
    "    transcript_len = lens[transcript_name]\n",
    "    other = df_ann[df_ann.transcript == transcript_name]\n",
    "    for k2,v2 in other.iterrows():\n",
    "        if v2.feature == 'five_prime_UTR' and v2.strand == '+' and transcript_slice <= v2.feature_len:\n",
    "             df.loc[k, 'annotation_target'] = 'five_prime_UTR'\n",
    "        if v2.feature == 'five_prime_UTR' and v2.strand == '-' and transcript_len - transcript_slice <= v2.feature_len:\n",
    "             df.loc[k, 'annotation_target'] = 'five_prime_UTR'\n",
    "        if v2.feature == 'three_prime_UTR' and v2.strand == '+' and transcript_slice >= transcript_len - v2.feature_len:\n",
    "             df.loc[k, 'annotation_target'] = 'three_prime_UTR'\n",
    "        if v2.feature == 'three_prime_UTR' and v2.strand == '-' and transcript_slice <= v2.feature_len:\n",
    "             df.loc[k, 'annotation_target'] = 'three_prime_UTR'\n"
   ]
  },
  {
   "cell_type": "code",
   "execution_count": 173,
   "metadata": {},
   "outputs": [
    {
     "data": {
      "text/html": [
       "<div>\n",
       "<style scoped>\n",
       "    .dataframe tbody tr th:only-of-type {\n",
       "        vertical-align: middle;\n",
       "    }\n",
       "\n",
       "    .dataframe tbody tr th {\n",
       "        vertical-align: top;\n",
       "    }\n",
       "\n",
       "    .dataframe thead th {\n",
       "        text-align: right;\n",
       "    }\n",
       "</style>\n",
       "<table border=\"1\" class=\"dataframe\">\n",
       "  <thead>\n",
       "    <tr style=\"text-align: right;\">\n",
       "      <th></th>\n",
       "      <th>seqname</th>\n",
       "      <th>source</th>\n",
       "      <th>feature</th>\n",
       "      <th>start</th>\n",
       "      <th>end</th>\n",
       "      <th>score</th>\n",
       "      <th>strand</th>\n",
       "      <th>frame</th>\n",
       "      <th>attribute</th>\n",
       "      <th>feature_len</th>\n",
       "      <th>transcript</th>\n",
       "    </tr>\n",
       "  </thead>\n",
       "  <tbody>\n",
       "    <tr>\n",
       "      <th>20</th>\n",
       "      <td>1A</td>\n",
       "      <td>IWGSC</td>\n",
       "      <td>three_prime_UTR</td>\n",
       "      <td>294611</td>\n",
       "      <td>295669</td>\n",
       "      <td>.</td>\n",
       "      <td>-</td>\n",
       "      <td>.</td>\n",
       "      <td>Parent=transcript:TraesCS1A02G001400.1</td>\n",
       "      <td>1058</td>\n",
       "      <td>TraesCS1A02G001400.1</td>\n",
       "    </tr>\n",
       "    <tr>\n",
       "      <th>22</th>\n",
       "      <td>1A</td>\n",
       "      <td>IWGSC</td>\n",
       "      <td>five_prime_UTR</td>\n",
       "      <td>304348</td>\n",
       "      <td>305428</td>\n",
       "      <td>.</td>\n",
       "      <td>-</td>\n",
       "      <td>.</td>\n",
       "      <td>Parent=transcript:TraesCS1A02G001400.1</td>\n",
       "      <td>1080</td>\n",
       "      <td>TraesCS1A02G001400.1</td>\n",
       "    </tr>\n",
       "  </tbody>\n",
       "</table>\n",
       "</div>"
      ],
      "text/plain": [
       "   seqname source          feature   start     end score strand frame  \\\n",
       "20      1A  IWGSC  three_prime_UTR  294611  295669     .      -     .   \n",
       "22      1A  IWGSC   five_prime_UTR  304348  305428     .      -     .   \n",
       "\n",
       "                                 attribute  feature_len            transcript  \n",
       "20  Parent=transcript:TraesCS1A02G001400.1         1058  TraesCS1A02G001400.1  \n",
       "22  Parent=transcript:TraesCS1A02G001400.1         1080  TraesCS1A02G001400.1  "
      ]
     },
     "execution_count": 173,
     "metadata": {},
     "output_type": "execute_result"
    }
   ],
   "source": [
    "df_ann[df_ann.transcript=='TraesCS1A02G001400.1']"
   ]
  },
  {
   "cell_type": "code",
   "execution_count": 174,
   "metadata": {},
   "outputs": [],
   "source": [
    "df['annotation_target'].fillna('exon', inplace=True)"
   ]
  },
  {
   "cell_type": "code",
   "execution_count": 175,
   "metadata": {},
   "outputs": [],
   "source": [
    "df['annotation_target'].replace('', 'exon',inplace=True)"
   ]
  },
  {
   "cell_type": "code",
   "execution_count": 176,
   "metadata": {},
   "outputs": [
    {
     "data": {
      "text/html": [
       "<div>\n",
       "<style scoped>\n",
       "    .dataframe tbody tr th:only-of-type {\n",
       "        vertical-align: middle;\n",
       "    }\n",
       "\n",
       "    .dataframe tbody tr th {\n",
       "        vertical-align: top;\n",
       "    }\n",
       "\n",
       "    .dataframe thead th {\n",
       "        text-align: right;\n",
       "    }\n",
       "</style>\n",
       "<table border=\"1\" class=\"dataframe\">\n",
       "  <thead>\n",
       "    <tr style=\"text-align: right;\">\n",
       "      <th></th>\n",
       "      <th>SiteID</th>\n",
       "      <th>annotation_target</th>\n",
       "    </tr>\n",
       "  </thead>\n",
       "  <tbody>\n",
       "    <tr>\n",
       "      <th>0</th>\n",
       "      <td>TraesCS1A02G000300.1:66</td>\n",
       "      <td>five_prime_UTR</td>\n",
       "    </tr>\n",
       "    <tr>\n",
       "      <th>1</th>\n",
       "      <td>TraesCS1A02G000400.1:1381</td>\n",
       "      <td>exon</td>\n",
       "    </tr>\n",
       "    <tr>\n",
       "      <th>3</th>\n",
       "      <td>TraesCS1A02G000900.1:1117</td>\n",
       "      <td>exon</td>\n",
       "    </tr>\n",
       "    <tr>\n",
       "      <th>4</th>\n",
       "      <td>TraesCS1A02G001000.1:1547</td>\n",
       "      <td>five_prime_UTR</td>\n",
       "    </tr>\n",
       "    <tr>\n",
       "      <th>5</th>\n",
       "      <td>TraesCS1A02G001100.1:3677</td>\n",
       "      <td>five_prime_UTR</td>\n",
       "    </tr>\n",
       "    <tr>\n",
       "      <th>7</th>\n",
       "      <td>TraesCS1A02G001400.1:1787</td>\n",
       "      <td>five_prime_UTR</td>\n",
       "    </tr>\n",
       "    <tr>\n",
       "      <th>8</th>\n",
       "      <td>TraesCS1A02G001400.1:649</td>\n",
       "      <td>three_prime_UTR</td>\n",
       "    </tr>\n",
       "    <tr>\n",
       "      <th>13</th>\n",
       "      <td>TraesCS1A02G033600.1:767</td>\n",
       "      <td>three_prime_UTR</td>\n",
       "    </tr>\n",
       "    <tr>\n",
       "      <th>15</th>\n",
       "      <td>TraesCS1A02G058400.2:1721</td>\n",
       "      <td>exon</td>\n",
       "    </tr>\n",
       "    <tr>\n",
       "      <th>21</th>\n",
       "      <td>TraesCS1A02G092900.1:256</td>\n",
       "      <td>three_prime_UTR</td>\n",
       "    </tr>\n",
       "  </tbody>\n",
       "</table>\n",
       "</div>"
      ],
      "text/plain": [
       "                       SiteID annotation_target\n",
       "0     TraesCS1A02G000300.1:66    five_prime_UTR\n",
       "1   TraesCS1A02G000400.1:1381              exon\n",
       "3   TraesCS1A02G000900.1:1117              exon\n",
       "4   TraesCS1A02G001000.1:1547    five_prime_UTR\n",
       "5   TraesCS1A02G001100.1:3677    five_prime_UTR\n",
       "7   TraesCS1A02G001400.1:1787    five_prime_UTR\n",
       "8    TraesCS1A02G001400.1:649   three_prime_UTR\n",
       "13   TraesCS1A02G033600.1:767   three_prime_UTR\n",
       "15  TraesCS1A02G058400.2:1721              exon\n",
       "21   TraesCS1A02G092900.1:256   three_prime_UTR"
      ]
     },
     "execution_count": 176,
     "metadata": {},
     "output_type": "execute_result"
    }
   ],
   "source": [
    "df[['SiteID','annotation_target']].head(10)"
   ]
  },
  {
   "cell_type": "code",
   "execution_count": 177,
   "metadata": {},
   "outputs": [
    {
     "data": {
      "text/plain": [
       "exon               5494\n",
       "three_prime_UTR    1138\n",
       "five_prime_UTR      370\n",
       "Name: annotation_target, dtype: int64"
      ]
     },
     "execution_count": 177,
     "metadata": {},
     "output_type": "execute_result"
    }
   ],
   "source": [
    "df['annotation_target'].value_counts()"
   ]
  },
  {
   "cell_type": "code",
   "execution_count": 179,
   "metadata": {},
   "outputs": [
    {
     "data": {
      "text/plain": [
       "three_prime_UTR    85\n",
       "exon               79\n",
       "five_prime_UTR     23\n",
       "Name: annotation_target, dtype: int64"
      ]
     },
     "execution_count": 179,
     "metadata": {},
     "output_type": "execute_result"
    }
   ],
   "source": [
    "df[df.MITE_target.notnull()]['annotation_target'].value_counts()"
   ]
  },
  {
   "cell_type": "code",
   "execution_count": 180,
   "metadata": {},
   "outputs": [
    {
     "data": {
      "image/png": "[encoded data removed]",
      "text/plain": [
       "<Figure size 432x288 with 1 Axes>"
      ]
     },
     "metadata": {
      "needs_background": "light"
     },
     "output_type": "display_data"
    }
   ],
   "source": [
    "ax = df.annotation_target.value_counts().plot(kind='bar',color=['b','y','g'])\n",
    "x_offset = -0.07\n",
    "y_offset = 0.15\n",
    "ax.yaxis.set_major_locator(MaxNLocator(integer=True))\n",
    "\n",
    "for p in ax.patches:\n",
    "    b = p.get_bbox()\n",
    "    val = int(b.y1)\n",
    "    ax.annotate(val, ((b.x0 + b.x1)/2 + x_offset, b.y1 + y_offset))\n",
    "ax\n",
    "plt.savefig('../data/res/targets.png',transparent=True, bbox_inches='tight', pad_inches=0)"
   ]
  },
  {
   "cell_type": "code",
   "execution_count": 182,
   "metadata": {},
   "outputs": [
    {
     "data": {
      "image/png": "[encoded data removed]",
      "text/plain": [
       "<Figure size 432x288 with 1 Axes>"
      ]
     },
     "metadata": {
      "needs_background": "light"
     },
     "output_type": "display_data"
    }
   ],
   "source": [
    "ax = df[df.MITE_target.notnull()].annotation_target.value_counts().plot(kind='bar',color=['b','y','g'])\n",
    "\n",
    "x_offset = -0.07\n",
    "y_offset = 0.15\n",
    "ax.yaxis.set_major_locator(MaxNLocator(integer=True))\n",
    "\n",
    "for p in ax.patches:\n",
    "    b = p.get_bbox()\n",
    "    val = int(b.y1)\n",
    "    ax.annotate(val, ((b.x0 + b.x1)/2 + x_offset, b.y1 + y_offset))\n",
    "ax\n",
    "plt.savefig('../data/res/targets_mites.png',transparent=True, bbox_inches='tight', pad_inches=0)\n"
   ]
  },
  {
   "cell_type": "code",
   "execution_count": null,
   "metadata": {},
   "outputs": [],
   "source": []
  },
  {
   "cell_type": "code",
   "execution_count": null,
   "metadata": {},
   "outputs": [],
   "source": []
  },
  {
   "cell_type": "code",
   "execution_count": 183,
   "metadata": {},
   "outputs": [
    {
     "data": {
      "text/plain": [
       "SRR1197127_seedling_root                     2909\n",
       "SRR1197126_seedling_leaf                     2219\n",
       "SRR1197125_germinating_seed_embryo           1135\n",
       "SRR1197128_grain_8_days_after_pollination     739\n",
       "Name: lib, dtype: int64"
      ]
     },
     "execution_count": 183,
     "metadata": {},
     "output_type": "execute_result"
    }
   ],
   "source": [
    "df.lib.value_counts()"
   ]
  },
  {
   "cell_type": "code",
   "execution_count": null,
   "metadata": {},
   "outputs": [],
   "source": []
  },
  {
   "cell_type": "code",
   "execution_count": 184,
   "metadata": {},
   "outputs": [
    {
     "data": {
      "text/plain": [
       "'../data/res/res_target.csv'"
      ]
     },
     "execution_count": 184,
     "metadata": {},
     "output_type": "execute_result"
    }
   ],
   "source": [
    "df.to_csv(path_res_target, index=None)\n",
    "path_res_target"
   ]
  },
  {
   "cell_type": "code",
   "execution_count": null,
   "metadata": {},
   "outputs": [],
   "source": []
  },
  {
   "cell_type": "code",
   "execution_count": 205,
   "metadata": {},
   "outputs": [
    {
     "data": {
      "text/plain": [
       "'../data/res/res_target.csv'"
      ]
     },
     "execution_count": 205,
     "metadata": {},
     "output_type": "execute_result"
    }
   ],
   "source": [
    "df.to_csv(path_res_target, index=None)\n",
    "path_res_target"
   ]
  },
  {
   "cell_type": "code",
   "execution_count": null,
   "metadata": {},
   "outputs": [],
   "source": []
  },
  {
   "cell_type": "code",
   "execution_count": null,
   "metadata": {},
   "outputs": [],
   "source": []
  },
  {
   "cell_type": "code",
   "execution_count": null,
   "metadata": {},
   "outputs": [],
   "source": []
  },
  {
   "cell_type": "code",
   "execution_count": 189,
   "metadata": {},
   "outputs": [
    {
     "name": "stdout",
     "output_type": "stream",
     "text": [
      "270\n"
     ]
    },
    {
     "data": {
      "text/html": [
       "<div>\n",
       "<style scoped>\n",
       "    .dataframe tbody tr th:only-of-type {\n",
       "        vertical-align: middle;\n",
       "    }\n",
       "\n",
       "    .dataframe tbody tr th {\n",
       "        vertical-align: top;\n",
       "    }\n",
       "\n",
       "    .dataframe thead th {\n",
       "        text-align: right;\n",
       "    }\n",
       "</style>\n",
       "<table border=\"1\" class=\"dataframe\">\n",
       "  <thead>\n",
       "    <tr style=\"text-align: right;\">\n",
       "      <th></th>\n",
       "      <th>#Locus</th>\n",
       "      <th>Name</th>\n",
       "      <th>Length</th>\n",
       "      <th>Reads</th>\n",
       "      <th>RPM</th>\n",
       "      <th>UniqueReads</th>\n",
       "      <th>FracTop</th>\n",
       "      <th>Strand</th>\n",
       "      <th>MajorRNA</th>\n",
       "      <th>MajorRNAReads</th>\n",
       "      <th>Complexity</th>\n",
       "      <th>DicerCall</th>\n",
       "      <th>MIRNA</th>\n",
       "      <th>PhaseScore</th>\n",
       "      <th>Short</th>\n",
       "      <th>Long</th>\n",
       "      <th>20</th>\n",
       "      <th>21</th>\n",
       "      <th>22</th>\n",
       "      <th>23</th>\n",
       "      <th>24</th>\n",
       "      <th>seqname</th>\n",
       "      <th>position</th>\n",
       "      <th>start</th>\n",
       "      <th>end</th>\n",
       "      <th>MITE</th>\n",
       "      <th>mirbase</th>\n",
       "      <th>annotation</th>\n",
       "    </tr>\n",
       "  </thead>\n",
       "  <tbody>\n",
       "    <tr>\n",
       "      <th>0</th>\n",
       "      <td>1A:117385432-117385825</td>\n",
       "      <td>sun_mites_MITE_T_430_1A_117385432_117385825</td>\n",
       "      <td>394</td>\n",
       "      <td>17</td>\n",
       "      <td>0.135</td>\n",
       "      <td>3</td>\n",
       "      <td>0.941</td>\n",
       "      <td>+</td>\n",
       "      <td>UCUGCACCCUGAAUGAUGAAUAGU</td>\n",
       "      <td>11</td>\n",
       "      <td>0.412</td>\n",
       "      <td>24</td>\n",
       "      <td>Y</td>\n",
       "      <td>-1.0</td>\n",
       "      <td>1</td>\n",
       "      <td>0</td>\n",
       "      <td>0</td>\n",
       "      <td>1</td>\n",
       "      <td>0</td>\n",
       "      <td>1</td>\n",
       "      <td>14</td>\n",
       "      <td>1A</td>\n",
       "      <td>117385432-117385825</td>\n",
       "      <td>117385432</td>\n",
       "      <td>117385825</td>\n",
       "      <td>MITE_21</td>\n",
       "      <td>NaN</td>\n",
       "      <td>intergenic</td>\n",
       "    </tr>\n",
       "    <tr>\n",
       "      <th>1</th>\n",
       "      <td>1A:169645857-169646029</td>\n",
       "      <td>mrcv_mites_MITE_T_62663_1A_169645857_169646029</td>\n",
       "      <td>173</td>\n",
       "      <td>16</td>\n",
       "      <td>0.126</td>\n",
       "      <td>3</td>\n",
       "      <td>1.000</td>\n",
       "      <td>+</td>\n",
       "      <td>UAGAGAUUUCAAAUGGAACAC</td>\n",
       "      <td>7</td>\n",
       "      <td>0.500</td>\n",
       "      <td>21</td>\n",
       "      <td>Y</td>\n",
       "      <td>-1.0</td>\n",
       "      <td>0</td>\n",
       "      <td>2</td>\n",
       "      <td>2</td>\n",
       "      <td>9</td>\n",
       "      <td>0</td>\n",
       "      <td>0</td>\n",
       "      <td>3</td>\n",
       "      <td>1A</td>\n",
       "      <td>169645857-169646029</td>\n",
       "      <td>169645857</td>\n",
       "      <td>169646029</td>\n",
       "      <td>DTT_Tdur_Thalos_103H9-1</td>\n",
       "      <td>NaN</td>\n",
       "      <td>intron</td>\n",
       "    </tr>\n",
       "  </tbody>\n",
       "</table>\n",
       "</div>"
      ],
      "text/plain": [
       "                   #Locus                                            Name  \\\n",
       "0  1A:117385432-117385825     sun_mites_MITE_T_430_1A_117385432_117385825   \n",
       "1  1A:169645857-169646029  mrcv_mites_MITE_T_62663_1A_169645857_169646029   \n",
       "\n",
       "   Length  Reads    RPM  UniqueReads  FracTop Strand  \\\n",
       "0     394     17  0.135            3    0.941      +   \n",
       "1     173     16  0.126            3    1.000      +   \n",
       "\n",
       "                   MajorRNA  MajorRNAReads  Complexity  DicerCall MIRNA  \\\n",
       "0  UCUGCACCCUGAAUGAUGAAUAGU             11       0.412         24     Y   \n",
       "1     UAGAGAUUUCAAAUGGAACAC              7       0.500         21     Y   \n",
       "\n",
       "   PhaseScore  Short  Long  20  21  22  23  24 seqname             position  \\\n",
       "0        -1.0      1     0   0   1   0   1  14      1A  117385432-117385825   \n",
       "1        -1.0      0     2   2   9   0   0   3      1A  169645857-169646029   \n",
       "\n",
       "       start        end                     MITE mirbase  annotation  \n",
       "0  117385432  117385825                  MITE_21     NaN  intergenic  \n",
       "1  169645857  169646029  DTT_Tdur_Thalos_103H9-1     NaN      intron  "
      ]
     },
     "execution_count": 189,
     "metadata": {},
     "output_type": "execute_result"
    }
   ],
   "source": [
    "df_mirna_res = pd.read_csv(path_mirna_res, sep='\\t')\n",
    "print(len(df_mirna_res.index))\n",
    "df_mirna_res.head(2)"
   ]
  },
  {
   "cell_type": "code",
   "execution_count": 190,
   "metadata": {},
   "outputs": [
    {
     "name": "stdout",
     "output_type": "stream",
     "text": [
      "7002\n"
     ]
    }
   ],
   "source": [
    "#df_merge = pd.merge(df_mirna_res[df_mirna_res.MITE.notnull()],df[df.MITE.notnull()],left_on='Name', right_on='Query')\n",
    "df_merge = pd.merge(df_mirna_res,df,left_on='Name', right_on='Query')\n",
    "print(len(df_merge.index))"
   ]
  },
  {
   "cell_type": "code",
   "execution_count": 191,
   "metadata": {},
   "outputs": [
    {
     "data": {
      "text/html": [
       "<div>\n",
       "<style scoped>\n",
       "    .dataframe tbody tr th:only-of-type {\n",
       "        vertical-align: middle;\n",
       "    }\n",
       "\n",
       "    .dataframe tbody tr th {\n",
       "        vertical-align: top;\n",
       "    }\n",
       "\n",
       "    .dataframe thead th {\n",
       "        text-align: right;\n",
       "    }\n",
       "</style>\n",
       "<table border=\"1\" class=\"dataframe\">\n",
       "  <thead>\n",
       "    <tr style=\"text-align: right;\">\n",
       "      <th></th>\n",
       "      <th>#Locus</th>\n",
       "      <th>Name</th>\n",
       "      <th>Length</th>\n",
       "      <th>Reads</th>\n",
       "      <th>RPM</th>\n",
       "      <th>UniqueReads</th>\n",
       "      <th>FracTop</th>\n",
       "      <th>Strand</th>\n",
       "      <th>MajorRNA</th>\n",
       "      <th>MajorRNAReads</th>\n",
       "      <th>Complexity</th>\n",
       "      <th>DicerCall</th>\n",
       "      <th>MIRNA</th>\n",
       "      <th>PhaseScore</th>\n",
       "      <th>Short</th>\n",
       "      <th>Long</th>\n",
       "      <th>20</th>\n",
       "      <th>21</th>\n",
       "      <th>22</th>\n",
       "      <th>23</th>\n",
       "      <th>24</th>\n",
       "      <th>seqname</th>\n",
       "      <th>position</th>\n",
       "      <th>start</th>\n",
       "      <th>end</th>\n",
       "      <th>MITE</th>\n",
       "      <th>mirbase</th>\n",
       "      <th>annotation</th>\n",
       "      <th>SiteID</th>\n",
       "      <th>Query</th>\n",
       "      <th>Transcript</th>\n",
       "      <th>TStart</th>\n",
       "      <th>TStop</th>\n",
       "      <th>TSlice</th>\n",
       "      <th>MFEperfect</th>\n",
       "      <th>MFEsite</th>\n",
       "      <th>MFEratio</th>\n",
       "      <th>AllenScore</th>\n",
       "      <th>Paired</th>\n",
       "      <th>Unpaired</th>\n",
       "      <th>Structure</th>\n",
       "      <th>Sequence</th>\n",
       "      <th>DegradomeCategory</th>\n",
       "      <th>DegradomePval</th>\n",
       "      <th>Tplot_file_path</th>\n",
       "      <th>lib</th>\n",
       "      <th>gene</th>\n",
       "      <th>MITE_target</th>\n",
       "      <th>annotation_target</th>\n",
       "    </tr>\n",
       "  </thead>\n",
       "  <tbody>\n",
       "    <tr>\n",
       "      <th>0</th>\n",
       "      <td>1A:169645857-169646029</td>\n",
       "      <td>mrcv_mites_MITE_T_62663_1A_169645857_169646029</td>\n",
       "      <td>173</td>\n",
       "      <td>16</td>\n",
       "      <td>0.126</td>\n",
       "      <td>3</td>\n",
       "      <td>1.0</td>\n",
       "      <td>+</td>\n",
       "      <td>UAGAGAUUUCAAAUGGAACAC</td>\n",
       "      <td>7</td>\n",
       "      <td>0.5</td>\n",
       "      <td>21</td>\n",
       "      <td>Y</td>\n",
       "      <td>-1.0</td>\n",
       "      <td>0</td>\n",
       "      <td>2</td>\n",
       "      <td>2</td>\n",
       "      <td>9</td>\n",
       "      <td>0</td>\n",
       "      <td>0</td>\n",
       "      <td>3</td>\n",
       "      <td>1A</td>\n",
       "      <td>169645857-169646029</td>\n",
       "      <td>169645857</td>\n",
       "      <td>169646029</td>\n",
       "      <td>DTT_Tdur_Thalos_103H9-1</td>\n",
       "      <td>NaN</td>\n",
       "      <td>intron</td>\n",
       "      <td>TraesCS2A02G067800.1:1817</td>\n",
       "      <td>mrcv_mites_MITE_T_62663_1A_169645857_169646029</td>\n",
       "      <td>TraesCS2A02G067800.1</td>\n",
       "      <td>1808</td>\n",
       "      <td>1826</td>\n",
       "      <td>1817</td>\n",
       "      <td>-31.2</td>\n",
       "      <td>-20.88</td>\n",
       "      <td>0.669231</td>\n",
       "      <td>7.0</td>\n",
       "      <td>1-10,1826-1817;15-20,1814-1809</td>\n",
       "      <td>11-14,1816-1815[AILq];21-21,1808-1808[UP3]</td>\n",
       "      <td>.((((((..--((((((((((&amp;))))))))))....)))))).</td>\n",
       "      <td>AUGUUCCUG--GAAAUCUCUA&amp;UAGAGAUUUCAAAUGGAACAC</td>\n",
       "      <td>2</td>\n",
       "      <td>0.56284</td>\n",
       "      <td>../data/res/sun_plots/SRR1197127/mrcv_mites_MI...</td>\n",
       "      <td>SRR1197127_seedling_root</td>\n",
       "      <td>TraesCS2A02G067800</td>\n",
       "      <td>None</td>\n",
       "      <td>exon</td>\n",
       "    </tr>\n",
       "  </tbody>\n",
       "</table>\n",
       "</div>"
      ],
      "text/plain": [
       "                   #Locus                                            Name  \\\n",
       "0  1A:169645857-169646029  mrcv_mites_MITE_T_62663_1A_169645857_169646029   \n",
       "\n",
       "   Length  Reads    RPM  UniqueReads  FracTop Strand               MajorRNA  \\\n",
       "0     173     16  0.126            3      1.0      +  UAGAGAUUUCAAAUGGAACAC   \n",
       "\n",
       "   MajorRNAReads  Complexity  DicerCall MIRNA  PhaseScore  Short  Long  20  \\\n",
       "0              7         0.5         21     Y        -1.0      0     2   2   \n",
       "\n",
       "   21  22  23  24 seqname             position      start        end  \\\n",
       "0   9   0   0   3      1A  169645857-169646029  169645857  169646029   \n",
       "\n",
       "                      MITE mirbase annotation                     SiteID  \\\n",
       "0  DTT_Tdur_Thalos_103H9-1     NaN     intron  TraesCS2A02G067800.1:1817   \n",
       "\n",
       "                                            Query            Transcript  \\\n",
       "0  mrcv_mites_MITE_T_62663_1A_169645857_169646029  TraesCS2A02G067800.1   \n",
       "\n",
       "   TStart  TStop  TSlice  MFEperfect  MFEsite  MFEratio  AllenScore  \\\n",
       "0    1808   1826    1817       -31.2   -20.88  0.669231         7.0   \n",
       "\n",
       "                           Paired                                    Unpaired  \\\n",
       "0  1-10,1826-1817;15-20,1814-1809  11-14,1816-1815[AILq];21-21,1808-1808[UP3]   \n",
       "\n",
       "                                     Structure  \\\n",
       "0  .((((((..--((((((((((&))))))))))....)))))).   \n",
       "\n",
       "                                      Sequence  DegradomeCategory  \\\n",
       "0  AUGUUCCUG--GAAAUCUCUA&UAGAGAUUUCAAAUGGAACAC                  2   \n",
       "\n",
       "   DegradomePval                                    Tplot_file_path  \\\n",
       "0        0.56284  ../data/res/sun_plots/SRR1197127/mrcv_mites_MI...   \n",
       "\n",
       "                        lib                gene MITE_target annotation_target  \n",
       "0  SRR1197127_seedling_root  TraesCS2A02G067800        None              exon  "
      ]
     },
     "execution_count": 191,
     "metadata": {},
     "output_type": "execute_result"
    }
   ],
   "source": [
    "df_merge.head(1)"
   ]
  },
  {
   "cell_type": "code",
   "execution_count": null,
   "metadata": {},
   "outputs": [],
   "source": []
  },
  {
   "cell_type": "code",
   "execution_count": 192,
   "metadata": {},
   "outputs": [
    {
     "data": {
      "text/plain": [
       "'../data/res/res_prod_target.csv'"
      ]
     },
     "execution_count": 192,
     "metadata": {},
     "output_type": "execute_result"
    }
   ],
   "source": [
    "df_merge.to_csv(path_res_final, index=None)\n",
    "path_res_final"
   ]
  },
  {
   "cell_type": "code",
   "execution_count": 208,
   "metadata": {},
   "outputs": [
    {
     "name": "stdout",
     "output_type": "stream",
     "text": [
      "../data/res/res_prod_mites_target_all.csv\n",
      "908\n"
     ]
    },
    {
     "data": {
      "text/html": [
       "<div>\n",
       "<style scoped>\n",
       "    .dataframe tbody tr th:only-of-type {\n",
       "        vertical-align: middle;\n",
       "    }\n",
       "\n",
       "    .dataframe tbody tr th {\n",
       "        vertical-align: top;\n",
       "    }\n",
       "\n",
       "    .dataframe thead th {\n",
       "        text-align: right;\n",
       "    }\n",
       "</style>\n",
       "<table border=\"1\" class=\"dataframe\">\n",
       "  <thead>\n",
       "    <tr style=\"text-align: right;\">\n",
       "      <th></th>\n",
       "      <th>#Locus</th>\n",
       "      <th>Name</th>\n",
       "      <th>Length</th>\n",
       "      <th>Reads</th>\n",
       "      <th>RPM</th>\n",
       "      <th>UniqueReads</th>\n",
       "      <th>FracTop</th>\n",
       "      <th>Strand</th>\n",
       "      <th>MajorRNA</th>\n",
       "      <th>MajorRNAReads</th>\n",
       "      <th>Complexity</th>\n",
       "      <th>DicerCall</th>\n",
       "      <th>MIRNA</th>\n",
       "      <th>PhaseScore</th>\n",
       "      <th>Short</th>\n",
       "      <th>Long</th>\n",
       "      <th>20</th>\n",
       "      <th>21</th>\n",
       "      <th>22</th>\n",
       "      <th>23</th>\n",
       "      <th>24</th>\n",
       "      <th>seqname</th>\n",
       "      <th>position</th>\n",
       "      <th>start</th>\n",
       "      <th>end</th>\n",
       "      <th>MITE</th>\n",
       "      <th>mirbase</th>\n",
       "      <th>annotation</th>\n",
       "      <th>SiteID</th>\n",
       "      <th>Query</th>\n",
       "      <th>Transcript</th>\n",
       "      <th>TStart</th>\n",
       "      <th>TStop</th>\n",
       "      <th>TSlice</th>\n",
       "      <th>MFEperfect</th>\n",
       "      <th>MFEsite</th>\n",
       "      <th>MFEratio</th>\n",
       "      <th>AllenScore</th>\n",
       "      <th>Paired</th>\n",
       "      <th>Unpaired</th>\n",
       "      <th>Structure</th>\n",
       "      <th>Sequence</th>\n",
       "      <th>DegradomeCategory</th>\n",
       "      <th>DegradomePval</th>\n",
       "      <th>Tplot_file_path</th>\n",
       "      <th>lib</th>\n",
       "      <th>gene</th>\n",
       "      <th>MITE_target</th>\n",
       "      <th>annotation_target</th>\n",
       "    </tr>\n",
       "  </thead>\n",
       "  <tbody>\n",
       "    <tr>\n",
       "      <th>0</th>\n",
       "      <td>1A:169645857-169646029</td>\n",
       "      <td>mrcv_mites_MITE_T_62663_1A_169645857_169646029</td>\n",
       "      <td>173</td>\n",
       "      <td>16</td>\n",
       "      <td>0.126</td>\n",
       "      <td>3</td>\n",
       "      <td>1.000</td>\n",
       "      <td>+</td>\n",
       "      <td>UAGAGAUUUCAAAUGGAACAC</td>\n",
       "      <td>7</td>\n",
       "      <td>0.500</td>\n",
       "      <td>21</td>\n",
       "      <td>Y</td>\n",
       "      <td>-1.0</td>\n",
       "      <td>0</td>\n",
       "      <td>2</td>\n",
       "      <td>2</td>\n",
       "      <td>9</td>\n",
       "      <td>0</td>\n",
       "      <td>0</td>\n",
       "      <td>3</td>\n",
       "      <td>1A</td>\n",
       "      <td>169645857-169646029</td>\n",
       "      <td>169645857</td>\n",
       "      <td>169646029</td>\n",
       "      <td>DTT_Tdur_Thalos_103H9-1</td>\n",
       "      <td>NaN</td>\n",
       "      <td>intron</td>\n",
       "      <td>TraesCS2A02G067800.1:1817</td>\n",
       "      <td>mrcv_mites_MITE_T_62663_1A_169645857_169646029</td>\n",
       "      <td>TraesCS2A02G067800.1</td>\n",
       "      <td>1808</td>\n",
       "      <td>1826</td>\n",
       "      <td>1817</td>\n",
       "      <td>-31.2</td>\n",
       "      <td>-20.88</td>\n",
       "      <td>0.669231</td>\n",
       "      <td>7.0</td>\n",
       "      <td>1-10,1826-1817;15-20,1814-1809</td>\n",
       "      <td>11-14,1816-1815[AILq];21-21,1808-1808[UP3]</td>\n",
       "      <td>.((((((..--((((((((((&amp;))))))))))....)))))).</td>\n",
       "      <td>AUGUUCCUG--GAAAUCUCUA&amp;UAGAGAUUUCAAAUGGAACAC</td>\n",
       "      <td>2</td>\n",
       "      <td>0.562840</td>\n",
       "      <td>../data/res/sun_plots/SRR1197127/mrcv_mites_MI...</td>\n",
       "      <td>SRR1197127_seedling_root</td>\n",
       "      <td>TraesCS2A02G067800</td>\n",
       "      <td>None</td>\n",
       "      <td>exon</td>\n",
       "    </tr>\n",
       "    <tr>\n",
       "      <th>243</th>\n",
       "      <td>1B:161992200-161992280</td>\n",
       "      <td>sun_all_Cluster_8835_1B_161992200_161992280</td>\n",
       "      <td>81</td>\n",
       "      <td>135</td>\n",
       "      <td>1.069</td>\n",
       "      <td>5</td>\n",
       "      <td>0.919</td>\n",
       "      <td>+</td>\n",
       "      <td>UCUGUUCACAAAUGUAAGACG</td>\n",
       "      <td>106</td>\n",
       "      <td>0.074</td>\n",
       "      <td>21</td>\n",
       "      <td>Y</td>\n",
       "      <td>-1.0</td>\n",
       "      <td>0</td>\n",
       "      <td>1</td>\n",
       "      <td>0</td>\n",
       "      <td>132</td>\n",
       "      <td>0</td>\n",
       "      <td>0</td>\n",
       "      <td>2</td>\n",
       "      <td>1B</td>\n",
       "      <td>161992200-161992280</td>\n",
       "      <td>161992200</td>\n",
       "      <td>161992280</td>\n",
       "      <td>MITE_1712</td>\n",
       "      <td>hvu-miR6197</td>\n",
       "      <td>intron</td>\n",
       "      <td>TraesCS2B02G393000.1:2281</td>\n",
       "      <td>sun_all_Cluster_8835_1B_161992200_161992280</td>\n",
       "      <td>TraesCS2B02G393000.1</td>\n",
       "      <td>2269</td>\n",
       "      <td>2290</td>\n",
       "      <td>2281</td>\n",
       "      <td>-32.4</td>\n",
       "      <td>-21.20</td>\n",
       "      <td>0.654321</td>\n",
       "      <td>4.5</td>\n",
       "      <td>1-5,2290-2286;7-12,2284-2279;14-15,2277-2276;1...</td>\n",
       "      <td>6-6,2285-2285[SIL];13-13,2278-2278[SIL];x-x,22...</td>\n",
       "      <td>((((((.((.((((((.(((((&amp;))))).)))))).))-))))))</td>\n",
       "      <td>CGUCUUGGCUUUUGUGUACAGA&amp;UCUGUUCACAAAUGU-AAGACG</td>\n",
       "      <td>3</td>\n",
       "      <td>0.478345</td>\n",
       "      <td>../data/res/sun_plots/SRR1197125/sun_all_Clust...</td>\n",
       "      <td>SRR1197125_germinating_seed_embryo</td>\n",
       "      <td>TraesCS2B02G393000</td>\n",
       "      <td>None</td>\n",
       "      <td>five_prime_UTR</td>\n",
       "    </tr>\n",
       "  </tbody>\n",
       "</table>\n",
       "</div>"
      ],
      "text/plain": [
       "                     #Locus                                            Name  \\\n",
       "0    1A:169645857-169646029  mrcv_mites_MITE_T_62663_1A_169645857_169646029   \n",
       "243  1B:161992200-161992280     sun_all_Cluster_8835_1B_161992200_161992280   \n",
       "\n",
       "     Length  Reads    RPM  UniqueReads  FracTop Strand               MajorRNA  \\\n",
       "0       173     16  0.126            3    1.000      +  UAGAGAUUUCAAAUGGAACAC   \n",
       "243      81    135  1.069            5    0.919      +  UCUGUUCACAAAUGUAAGACG   \n",
       "\n",
       "     MajorRNAReads  Complexity  DicerCall MIRNA  PhaseScore  Short  Long  20  \\\n",
       "0                7       0.500         21     Y        -1.0      0     2   2   \n",
       "243            106       0.074         21     Y        -1.0      0     1   0   \n",
       "\n",
       "      21  22  23  24 seqname             position      start        end  \\\n",
       "0      9   0   0   3      1A  169645857-169646029  169645857  169646029   \n",
       "243  132   0   0   2      1B  161992200-161992280  161992200  161992280   \n",
       "\n",
       "                        MITE      mirbase annotation  \\\n",
       "0    DTT_Tdur_Thalos_103H9-1          NaN     intron   \n",
       "243                MITE_1712  hvu-miR6197     intron   \n",
       "\n",
       "                        SiteID  \\\n",
       "0    TraesCS2A02G067800.1:1817   \n",
       "243  TraesCS2B02G393000.1:2281   \n",
       "\n",
       "                                              Query            Transcript  \\\n",
       "0    mrcv_mites_MITE_T_62663_1A_169645857_169646029  TraesCS2A02G067800.1   \n",
       "243     sun_all_Cluster_8835_1B_161992200_161992280  TraesCS2B02G393000.1   \n",
       "\n",
       "     TStart  TStop  TSlice  MFEperfect  MFEsite  MFEratio  AllenScore  \\\n",
       "0      1808   1826    1817       -31.2   -20.88  0.669231         7.0   \n",
       "243    2269   2290    2281       -32.4   -21.20  0.654321         4.5   \n",
       "\n",
       "                                                Paired  \\\n",
       "0                       1-10,1826-1817;15-20,1814-1809   \n",
       "243  1-5,2290-2286;7-12,2284-2279;14-15,2277-2276;1...   \n",
       "\n",
       "                                              Unpaired  \\\n",
       "0           11-14,1816-1815[AILq];21-21,1808-1808[UP3]   \n",
       "243  6-6,2285-2285[SIL];13-13,2278-2278[SIL];x-x,22...   \n",
       "\n",
       "                                         Structure  \\\n",
       "0      .((((((..--((((((((((&))))))))))....)))))).   \n",
       "243  ((((((.((.((((((.(((((&))))).)))))).))-))))))   \n",
       "\n",
       "                                          Sequence  DegradomeCategory  \\\n",
       "0      AUGUUCCUG--GAAAUCUCUA&UAGAGAUUUCAAAUGGAACAC                  2   \n",
       "243  CGUCUUGGCUUUUGUGUACAGA&UCUGUUCACAAAUGU-AAGACG                  3   \n",
       "\n",
       "     DegradomePval                                    Tplot_file_path  \\\n",
       "0         0.562840  ../data/res/sun_plots/SRR1197127/mrcv_mites_MI...   \n",
       "243       0.478345  ../data/res/sun_plots/SRR1197125/sun_all_Clust...   \n",
       "\n",
       "                                    lib                gene MITE_target  \\\n",
       "0              SRR1197127_seedling_root  TraesCS2A02G067800        None   \n",
       "243  SRR1197125_germinating_seed_embryo  TraesCS2B02G393000        None   \n",
       "\n",
       "    annotation_target  \n",
       "0                exon  \n",
       "243    five_prime_UTR  "
      ]
     },
     "execution_count": 208,
     "metadata": {},
     "output_type": "execute_result"
    }
   ],
   "source": [
    "df_merge[df_merge['MITE'].notnull()].to_csv(path_res_prod_mite_target_all, index=None)\n",
    "print(path_res_prod_mite_target_all)\n",
    "print(len(df_merge[df_merge['MITE'].notnull()].index))\n",
    "df_merge[df_merge['MITE'].notnull()].head(2)"
   ]
  },
  {
   "cell_type": "code",
   "execution_count": null,
   "metadata": {},
   "outputs": [],
   "source": []
  },
  {
   "cell_type": "code",
   "execution_count": null,
   "metadata": {},
   "outputs": [],
   "source": []
  },
  {
   "cell_type": "code",
   "execution_count": null,
   "metadata": {},
   "outputs": [],
   "source": []
  },
  {
   "cell_type": "code",
   "execution_count": null,
   "metadata": {},
   "outputs": [],
   "source": [
    "# some final numbers"
   ]
  },
  {
   "cell_type": "code",
   "execution_count": 188,
   "metadata": {},
   "outputs": [
    {
     "data": {
      "text/html": [
       "<div>\n",
       "<style scoped>\n",
       "    .dataframe tbody tr th:only-of-type {\n",
       "        vertical-align: middle;\n",
       "    }\n",
       "\n",
       "    .dataframe tbody tr th {\n",
       "        vertical-align: top;\n",
       "    }\n",
       "\n",
       "    .dataframe thead th {\n",
       "        text-align: right;\n",
       "    }\n",
       "</style>\n",
       "<table border=\"1\" class=\"dataframe\">\n",
       "  <thead>\n",
       "    <tr style=\"text-align: right;\">\n",
       "      <th></th>\n",
       "      <th>SiteID</th>\n",
       "      <th>Query</th>\n",
       "      <th>Transcript</th>\n",
       "      <th>TStart</th>\n",
       "      <th>TStop</th>\n",
       "      <th>TSlice</th>\n",
       "      <th>MFEperfect</th>\n",
       "      <th>MFEsite</th>\n",
       "      <th>MFEratio</th>\n",
       "      <th>AllenScore</th>\n",
       "      <th>Paired</th>\n",
       "      <th>Unpaired</th>\n",
       "      <th>Structure</th>\n",
       "      <th>Sequence</th>\n",
       "      <th>DegradomeCategory</th>\n",
       "      <th>DegradomePval</th>\n",
       "      <th>Tplot_file_path</th>\n",
       "      <th>lib</th>\n",
       "      <th>gene</th>\n",
       "      <th>MITE_target</th>\n",
       "      <th>annotation_target</th>\n",
       "    </tr>\n",
       "  </thead>\n",
       "  <tbody>\n",
       "    <tr>\n",
       "      <th>0</th>\n",
       "      <td>TraesCS1A02G000300.1:66</td>\n",
       "      <td>sun_all_Cluster_118867_6B_214030433_214030626</td>\n",
       "      <td>TraesCS1A02G000300.1</td>\n",
       "      <td>54</td>\n",
       "      <td>75</td>\n",
       "      <td>66</td>\n",
       "      <td>-43.6</td>\n",
       "      <td>-28.4</td>\n",
       "      <td>0.651376</td>\n",
       "      <td>9.0</td>\n",
       "      <td>1-2,75-74;5-11,71-65;13-14,63-62;16-22,60-54</td>\n",
       "      <td>3-4,73-72[SIL];12-12,64-64[SIL];15-15,61-61[SIL]</td>\n",
       "      <td>(((((((.((.(((((((..((&amp;))..))))))).)).)))))))</td>\n",
       "      <td>GCAGAUCUUGGUGGUAGUAGCA&amp;UGAAGCUGCCAGCAUGAUCUGC</td>\n",
       "      <td>3</td>\n",
       "      <td>0.956112</td>\n",
       "      <td>../data/res/sun_plots/SRR1197125/sun_all_Clust...</td>\n",
       "      <td>SRR1197125_germinating_seed_embryo</td>\n",
       "      <td>TraesCS1A02G000300</td>\n",
       "      <td>None</td>\n",
       "      <td>five_prime_UTR</td>\n",
       "    </tr>\n",
       "    <tr>\n",
       "      <th>1</th>\n",
       "      <td>TraesCS1A02G000400.1:1381</td>\n",
       "      <td>sun_all_Cluster_118867_6B_214030433_214030626</td>\n",
       "      <td>TraesCS1A02G000400.1</td>\n",
       "      <td>1369</td>\n",
       "      <td>1390</td>\n",
       "      <td>1381</td>\n",
       "      <td>-43.6</td>\n",
       "      <td>-28.4</td>\n",
       "      <td>0.651376</td>\n",
       "      <td>9.0</td>\n",
       "      <td>1-2,1390-1389;5-11,1386-1380;13-14,1378-1377;1...</td>\n",
       "      <td>3-4,1388-1387[SIL];12-12,1379-1379[SIL];15-15,...</td>\n",
       "      <td>(((((((.((.(((((((..((&amp;))..))))))).)).)))))))</td>\n",
       "      <td>GCAGAUCUUGGUGGUAGUAGCA&amp;UGAAGCUGCCAGCAUGAUCUGC</td>\n",
       "      <td>3</td>\n",
       "      <td>0.949612</td>\n",
       "      <td>../data/res/sun_plots/SRR1197125/sun_all_Clust...</td>\n",
       "      <td>SRR1197125_germinating_seed_embryo</td>\n",
       "      <td>TraesCS1A02G000400</td>\n",
       "      <td>None</td>\n",
       "      <td>exon</td>\n",
       "    </tr>\n",
       "  </tbody>\n",
       "</table>\n",
       "</div>"
      ],
      "text/plain": [
       "                      SiteID                                          Query  \\\n",
       "0    TraesCS1A02G000300.1:66  sun_all_Cluster_118867_6B_214030433_214030626   \n",
       "1  TraesCS1A02G000400.1:1381  sun_all_Cluster_118867_6B_214030433_214030626   \n",
       "\n",
       "             Transcript  TStart  TStop  TSlice  MFEperfect  MFEsite  MFEratio  \\\n",
       "0  TraesCS1A02G000300.1      54     75      66       -43.6    -28.4  0.651376   \n",
       "1  TraesCS1A02G000400.1    1369   1390    1381       -43.6    -28.4  0.651376   \n",
       "\n",
       "   AllenScore                                             Paired  \\\n",
       "0         9.0       1-2,75-74;5-11,71-65;13-14,63-62;16-22,60-54   \n",
       "1         9.0  1-2,1390-1389;5-11,1386-1380;13-14,1378-1377;1...   \n",
       "\n",
       "                                            Unpaired  \\\n",
       "0   3-4,73-72[SIL];12-12,64-64[SIL];15-15,61-61[SIL]   \n",
       "1  3-4,1388-1387[SIL];12-12,1379-1379[SIL];15-15,...   \n",
       "\n",
       "                                       Structure  \\\n",
       "0  (((((((.((.(((((((..((&))..))))))).)).)))))))   \n",
       "1  (((((((.((.(((((((..((&))..))))))).)).)))))))   \n",
       "\n",
       "                                        Sequence  DegradomeCategory  \\\n",
       "0  GCAGAUCUUGGUGGUAGUAGCA&UGAAGCUGCCAGCAUGAUCUGC                  3   \n",
       "1  GCAGAUCUUGGUGGUAGUAGCA&UGAAGCUGCCAGCAUGAUCUGC                  3   \n",
       "\n",
       "   DegradomePval                                    Tplot_file_path  \\\n",
       "0       0.956112  ../data/res/sun_plots/SRR1197125/sun_all_Clust...   \n",
       "1       0.949612  ../data/res/sun_plots/SRR1197125/sun_all_Clust...   \n",
       "\n",
       "                                  lib                gene MITE_target  \\\n",
       "0  SRR1197125_germinating_seed_embryo  TraesCS1A02G000300        None   \n",
       "1  SRR1197125_germinating_seed_embryo  TraesCS1A02G000400        None   \n",
       "\n",
       "  annotation_target  \n",
       "0    five_prime_UTR  \n",
       "1              exon  "
      ]
     },
     "execution_count": 188,
     "metadata": {},
     "output_type": "execute_result"
    }
   ],
   "source": [
    "df.head(2)"
   ]
  },
  {
   "cell_type": "code",
   "execution_count": 210,
   "metadata": {},
   "outputs": [
    {
     "data": {
      "text/html": [
       "<div>\n",
       "<style scoped>\n",
       "    .dataframe tbody tr th:only-of-type {\n",
       "        vertical-align: middle;\n",
       "    }\n",
       "\n",
       "    .dataframe tbody tr th {\n",
       "        vertical-align: top;\n",
       "    }\n",
       "\n",
       "    .dataframe thead th {\n",
       "        text-align: right;\n",
       "    }\n",
       "</style>\n",
       "<table border=\"1\" class=\"dataframe\">\n",
       "  <thead>\n",
       "    <tr style=\"text-align: right;\">\n",
       "      <th></th>\n",
       "      <th>#Locus</th>\n",
       "      <th>Name</th>\n",
       "      <th>Length</th>\n",
       "      <th>Reads</th>\n",
       "      <th>RPM</th>\n",
       "      <th>UniqueReads</th>\n",
       "      <th>FracTop</th>\n",
       "      <th>Strand</th>\n",
       "      <th>MajorRNA</th>\n",
       "      <th>MajorRNAReads</th>\n",
       "      <th>Complexity</th>\n",
       "      <th>DicerCall</th>\n",
       "      <th>MIRNA</th>\n",
       "      <th>PhaseScore</th>\n",
       "      <th>Short</th>\n",
       "      <th>Long</th>\n",
       "      <th>20</th>\n",
       "      <th>21</th>\n",
       "      <th>22</th>\n",
       "      <th>23</th>\n",
       "      <th>24</th>\n",
       "      <th>seqname</th>\n",
       "      <th>position</th>\n",
       "      <th>start</th>\n",
       "      <th>end</th>\n",
       "      <th>MITE</th>\n",
       "      <th>mirbase</th>\n",
       "      <th>annotation</th>\n",
       "      <th>SiteID</th>\n",
       "      <th>Query</th>\n",
       "      <th>Transcript</th>\n",
       "      <th>TStart</th>\n",
       "      <th>TStop</th>\n",
       "      <th>TSlice</th>\n",
       "      <th>MFEperfect</th>\n",
       "      <th>MFEsite</th>\n",
       "      <th>MFEratio</th>\n",
       "      <th>AllenScore</th>\n",
       "      <th>Paired</th>\n",
       "      <th>Unpaired</th>\n",
       "      <th>Structure</th>\n",
       "      <th>Sequence</th>\n",
       "      <th>DegradomeCategory</th>\n",
       "      <th>DegradomePval</th>\n",
       "      <th>Tplot_file_path</th>\n",
       "      <th>lib</th>\n",
       "      <th>gene</th>\n",
       "      <th>MITE_target</th>\n",
       "      <th>annotation_target</th>\n",
       "    </tr>\n",
       "  </thead>\n",
       "  <tbody>\n",
       "    <tr>\n",
       "      <th>0</th>\n",
       "      <td>1A:169645857-169646029</td>\n",
       "      <td>mrcv_mites_MITE_T_62663_1A_169645857_169646029</td>\n",
       "      <td>173</td>\n",
       "      <td>16</td>\n",
       "      <td>0.126</td>\n",
       "      <td>3</td>\n",
       "      <td>1.0</td>\n",
       "      <td>+</td>\n",
       "      <td>UAGAGAUUUCAAAUGGAACAC</td>\n",
       "      <td>7</td>\n",
       "      <td>0.5</td>\n",
       "      <td>21</td>\n",
       "      <td>Y</td>\n",
       "      <td>-1.0</td>\n",
       "      <td>0</td>\n",
       "      <td>2</td>\n",
       "      <td>2</td>\n",
       "      <td>9</td>\n",
       "      <td>0</td>\n",
       "      <td>0</td>\n",
       "      <td>3</td>\n",
       "      <td>1A</td>\n",
       "      <td>169645857-169646029</td>\n",
       "      <td>169645857</td>\n",
       "      <td>169646029</td>\n",
       "      <td>DTT_Tdur_Thalos_103H9-1</td>\n",
       "      <td>NaN</td>\n",
       "      <td>intron</td>\n",
       "      <td>TraesCS2A02G067800.1:1817</td>\n",
       "      <td>mrcv_mites_MITE_T_62663_1A_169645857_169646029</td>\n",
       "      <td>TraesCS2A02G067800.1</td>\n",
       "      <td>1808</td>\n",
       "      <td>1826</td>\n",
       "      <td>1817</td>\n",
       "      <td>-31.2</td>\n",
       "      <td>-20.88</td>\n",
       "      <td>0.669231</td>\n",
       "      <td>7.0</td>\n",
       "      <td>1-10,1826-1817;15-20,1814-1809</td>\n",
       "      <td>11-14,1816-1815[AILq];21-21,1808-1808[UP3]</td>\n",
       "      <td>.((((((..--((((((((((&amp;))))))))))....)))))).</td>\n",
       "      <td>AUGUUCCUG--GAAAUCUCUA&amp;UAGAGAUUUCAAAUGGAACAC</td>\n",
       "      <td>2</td>\n",
       "      <td>0.56284</td>\n",
       "      <td>../data/res/sun_plots/SRR1197127/mrcv_mites_MI...</td>\n",
       "      <td>SRR1197127_seedling_root</td>\n",
       "      <td>TraesCS2A02G067800</td>\n",
       "      <td>None</td>\n",
       "      <td>exon</td>\n",
       "    </tr>\n",
       "  </tbody>\n",
       "</table>\n",
       "</div>"
      ],
      "text/plain": [
       "                   #Locus                                            Name  \\\n",
       "0  1A:169645857-169646029  mrcv_mites_MITE_T_62663_1A_169645857_169646029   \n",
       "\n",
       "   Length  Reads    RPM  UniqueReads  FracTop Strand               MajorRNA  \\\n",
       "0     173     16  0.126            3      1.0      +  UAGAGAUUUCAAAUGGAACAC   \n",
       "\n",
       "   MajorRNAReads  Complexity  DicerCall MIRNA  PhaseScore  Short  Long  20  \\\n",
       "0              7         0.5         21     Y        -1.0      0     2   2   \n",
       "\n",
       "   21  22  23  24 seqname             position      start        end  \\\n",
       "0   9   0   0   3      1A  169645857-169646029  169645857  169646029   \n",
       "\n",
       "                      MITE mirbase annotation                     SiteID  \\\n",
       "0  DTT_Tdur_Thalos_103H9-1     NaN     intron  TraesCS2A02G067800.1:1817   \n",
       "\n",
       "                                            Query            Transcript  \\\n",
       "0  mrcv_mites_MITE_T_62663_1A_169645857_169646029  TraesCS2A02G067800.1   \n",
       "\n",
       "   TStart  TStop  TSlice  MFEperfect  MFEsite  MFEratio  AllenScore  \\\n",
       "0    1808   1826    1817       -31.2   -20.88  0.669231         7.0   \n",
       "\n",
       "                           Paired                                    Unpaired  \\\n",
       "0  1-10,1826-1817;15-20,1814-1809  11-14,1816-1815[AILq];21-21,1808-1808[UP3]   \n",
       "\n",
       "                                     Structure  \\\n",
       "0  .((((((..--((((((((((&))))))))))....)))))).   \n",
       "\n",
       "                                      Sequence  DegradomeCategory  \\\n",
       "0  AUGUUCCUG--GAAAUCUCUA&UAGAGAUUUCAAAUGGAACAC                  2   \n",
       "\n",
       "   DegradomePval                                    Tplot_file_path  \\\n",
       "0        0.56284  ../data/res/sun_plots/SRR1197127/mrcv_mites_MI...   \n",
       "\n",
       "                        lib                gene MITE_target annotation_target  \n",
       "0  SRR1197127_seedling_root  TraesCS2A02G067800        None              exon  "
      ]
     },
     "execution_count": 210,
     "metadata": {},
     "output_type": "execute_result"
    }
   ],
   "source": [
    "df_merge.head(1)"
   ]
  },
  {
   "cell_type": "code",
   "execution_count": 219,
   "metadata": {},
   "outputs": [
    {
     "name": "stdout",
     "output_type": "stream",
     "text": [
      ">>>>Micros\n",
      "261\n",
      ">>>>MITEs  en el sitio de produccion\n",
      "37 14 %\n",
      ">MITEs en el target\n",
      "166\n",
      ">Micors con MITEs  en el sitio de produccion y en el target\n",
      "21\n",
      ">MITEs  en el target, donde caen?\n",
      "three_prime_UTR    85\n",
      "exon               79\n",
      "five_prime_UTR     23\n",
      "Name: annotation_target, dtype: int64\n",
      ">MITEs  en el sitio de produccion, donde caen?\n",
      "exon               580\n",
      "three_prime_UTR    248\n",
      "five_prime_UTR      80\n",
      "Name: annotation_target, dtype: int64\n"
     ]
    }
   ],
   "source": [
    "print(\">>>>Micros\")\n",
    "micros = len(df_merge['Name'].unique())\n",
    "print(micros)\n",
    "\n",
    "print(\">>>>MITEs  en el sitio de produccion\")\n",
    "mites_prod_site = len(df_merge[df_merge['MITE'].notnull()]['Name'].unique())\n",
    "print(mites_prod_site, int(mites_prod_site * 100 / micros ),'%')\n",
    "\n",
    "\n",
    "print(\">>>>MITEs en el target\")\n",
    "mites_target_site = len(df_merge[df_merge['MITE_target'].notnull()]['SiteID'].unique())\n",
    "print(mites_target_site)\n",
    "\n",
    "\n",
    "print(\">Micors con MITEs  en el sitio de produccion y en el target\")\n",
    "print(len(df_merge[df_merge['MITE'].notnull() & df_merge['MITE_target'].notnull()]['Name'].unique()))\n",
    "\n",
    "\n",
    "print(\">MITEs  en el target, donde caen?\")\n",
    "print(df_merge[df_merge['MITE_target'].notnull()].annotation_target.value_counts())\n",
    "\n",
    "print(\">MITEs  en el sitio de produccion, donde caen?\")\n",
    "print(df_merge[df_merge['MITE'].notnull()].annotation_target.value_counts())\n"
   ]
  },
  {
   "cell_type": "code",
   "execution_count": null,
   "metadata": {},
   "outputs": [],
   "source": []
  },
  {
   "cell_type": "code",
   "execution_count": null,
   "metadata": {},
   "outputs": [],
   "source": []
  },
  {
   "cell_type": "code",
   "execution_count": null,
   "metadata": {},
   "outputs": [],
   "source": []
  },
  {
   "cell_type": "code",
   "execution_count": null,
   "metadata": {},
   "outputs": [],
   "source": [
    "df_mites = df[df.MITE != '']\n",
    "df[df.MITE != ''][['SiteID','Query','Transcript','TStart','TStop','MITE','Sequence']].head()"
   ]
  },
  {
   "cell_type": "code",
   "execution_count": null,
   "metadata": {},
   "outputs": [],
   "source": [
    "df_mirna_res = pd.read_csv(path_mirna_res, sep='\\t')\n",
    "df_mirna_res.rename(columns={'MITE':'MITE_prod'}, inplace=True)\n",
    "print(len(df_mirna_res.index))\n",
    "df_mirna_res.head(2)"
   ]
  },
  {
   "cell_type": "code",
   "execution_count": null,
   "metadata": {},
   "outputs": [],
   "source": [
    "df_mirna_res_mites = df_mirna_res[df_mirna_res.MITE_prod.notnull()]\n",
    "print(len(df_mirna_res_mites.index))\n"
   ]
  },
  {
   "cell_type": "code",
   "execution_count": null,
   "metadata": {},
   "outputs": [],
   "source": [
    "df_mirna_res_mites['Name'] = df_mirna_res_mites.Name.str.split(\"|\").str[0]"
   ]
  },
  {
   "cell_type": "code",
   "execution_count": null,
   "metadata": {},
   "outputs": [],
   "source": []
  },
  {
   "cell_type": "code",
   "execution_count": null,
   "metadata": {},
   "outputs": [],
   "source": [
    "df_mirna_res_mites_for_merge = df_mirna_res_mites[['Name','#Locus','MajorRNA','MITE_prod']]"
   ]
  },
  {
   "cell_type": "code",
   "execution_count": null,
   "metadata": {},
   "outputs": [],
   "source": [
    "df_merge = pd.merge(df_mites,df_mirna_res_mites,left_on='Query', right_on='Name')"
   ]
  },
  {
   "cell_type": "code",
   "execution_count": null,
   "metadata": {},
   "outputs": [],
   "source": [
    "df_new = df_merge[['SiteID','DegradomeCategory','Name','#Locus','MajorRNA','MITE','MITE_prod']]"
   ]
  },
  {
   "cell_type": "code",
   "execution_count": null,
   "metadata": {},
   "outputs": [],
   "source": [
    "df_merge.head(2)"
   ]
  },
  {
   "cell_type": "code",
   "execution_count": null,
   "metadata": {},
   "outputs": [],
   "source": [
    "df_merge['equal_mite'] = 0\n",
    "for k,v in df_merge.iterrows():\n",
    "    prods = v.MITE_prod.split(',')\n",
    "    target = v.MITE.split(',')\n",
    "    prods = set(filter(None, prods))\n",
    "    target = set(filter(None, target))\n",
    "    inter = target.intersection(prods)\n",
    "    if inter:\n",
    "        print(v.SiteID, v.Name, inter)\n",
    "        df_merge.at[k, 'equal_mite'] = 1"
   ]
  },
  {
   "cell_type": "code",
   "execution_count": null,
   "metadata": {},
   "outputs": [],
   "source": [
    "df_merge[df_merge.Name=='sun_all_Cluster_8835']"
   ]
  },
  {
   "cell_type": "code",
   "execution_count": null,
   "metadata": {},
   "outputs": [],
   "source": [
    "total_ele = len(df_merge.index)\n",
    "equal_mite = len(df_merge[df_merge.equal_mite==1].index)\n",
    "print(equal_mite * 100 /total_ele)"
   ]
  },
  {
   "cell_type": "code",
   "execution_count": null,
   "metadata": {},
   "outputs": [],
   "source": [
    "df_merge.to_csv(path_res_final, index=None)\n",
    "path_res_final"
   ]
  },
  {
   "cell_type": "code",
   "execution_count": null,
   "metadata": {},
   "outputs": [],
   "source": []
  },
  {
   "cell_type": "code",
   "execution_count": null,
   "metadata": {},
   "outputs": [],
   "source": []
  },
  {
   "cell_type": "code",
   "execution_count": null,
   "metadata": {},
   "outputs": [],
   "source": []
  },
  {
   "cell_type": "code",
   "execution_count": null,
   "metadata": {},
   "outputs": [],
   "source": []
  }
 ],
 "metadata": {
  "kernelspec": {
   "display_name": "Python 3",
   "language": "python",
   "name": "python3"
  },
  "language_info": {
   "codemirror_mode": {
    "name": "ipython",
    "version": 3
   },
   "file_extension": ".py",
   "mimetype": "text/x-python",
   "name": "python",
   "nbconvert_exporter": "python",
   "pygments_lexer": "ipython3",
   "version": "3.8.2"
  }
 },
 "nbformat": 4,
 "nbformat_minor": 4
}
