{
 "cells": [
  {
   "cell_type": "code",
   "execution_count": 3,
   "metadata": {},
   "outputs": [],
   "source": [
    "import pandas as pd\n",
    "import matplotlib.pyplot as plt\n",
    "import seaborn as sns\n",
    "import pandas as pd\n",
    "from Bio import SeqIO\n",
    "from Bio.SeqRecord import SeqRecord\n",
    "from Bio.Seq import Seq\n",
    "from subprocess import Popen, PIPE, call\n"
   ]
  },
  {
   "cell_type": "code",
   "execution_count": 12,
   "metadata": {},
   "outputs": [],
   "source": [
    "path_sun = '/home/juan/Desktop/juan/bio/mirna_mite/data/res/sun_all/'\n",
    "path_mrcv = '/home/juan/Desktop/juan/bio/mirna_mite/data/res/mrcv_all/'\n",
    "path_mites = '/home/juan/Desktop/juan/bio/mirna_mite/data/tracker.gff3'"
   ]
  },
  {
   "cell_type": "code",
   "execution_count": null,
   "metadata": {},
   "outputs": [],
   "source": [
    "#SUN DATA"
   ]
  },
  {
   "cell_type": "code",
   "execution_count": 18,
   "metadata": {},
   "outputs": [
    {
     "name": "stdout",
     "output_type": "stream",
     "text": [
      "Sun clusters: 157492\n",
      "Sun miRNA: 154\n"
     ]
    },
    {
     "data": {
      "image/png": "[encoded data removed]",
      "text/plain": [
       "<Figure size 432x288 with 1 Axes>"
      ]
     },
     "metadata": {
      "needs_background": "light"
     },
     "output_type": "display_data"
    }
   ],
   "source": [
    "df_sun = pd.read_csv(path_sun + 'Results.txt', sep='\\t')\n",
    "df_sun.Name = 'sun_' + df_sun.Name.astype(str)\n",
    "print('Sun clusters: ' + str(len(df_sun.index)))\n",
    "df_sun.MIRNA.value_counts().plot('bar')\n",
    "df_sun_m = df_sun[df_sun.MIRNA == 'Y']\n",
    "print('Sun miRNA: ' + str(len(df_sun_m.index)))\n"
   ]
  },
  {
   "cell_type": "code",
   "execution_count": 19,
   "metadata": {},
   "outputs": [],
   "source": [
    "#MRCV data"
   ]
  },
  {
   "cell_type": "code",
   "execution_count": 20,
   "metadata": {},
   "outputs": [
    {
     "name": "stdout",
     "output_type": "stream",
     "text": [
      "MRCV clusters: 38532\n",
      "MRCV miRNA: 135\n"
     ]
    },
    {
     "data": {
      "image/png": "[encoded data removed]",
      "text/plain": [
       "<Figure size 432x288 with 1 Axes>"
      ]
     },
     "metadata": {
      "needs_background": "light"
     },
     "output_type": "display_data"
    }
   ],
   "source": [
    "df_mrcv = pd.read_csv(path_mrcv + 'Results.txt', sep='\\t')\n",
    "df_mrcv.Name = 'mrcv_' + df_mrcv.Name.astype(str)\n",
    "print('MRCV clusters: ' + str(len(df_mrcv.index)))\n",
    "df_mrcv.MIRNA.value_counts().plot('bar')\n",
    "df_mrcv_m = df_mrcv[df_mrcv.MIRNA == 'Y']\n",
    "print('MRCV miRNA: ' + str(len(df_mrcv_m.index)))\n"
   ]
  },
  {
   "cell_type": "code",
   "execution_count": 21,
   "metadata": {},
   "outputs": [],
   "source": [
    "#MITEs data"
   ]
  },
  {
   "cell_type": "code",
   "execution_count": 22,
   "metadata": {},
   "outputs": [
    {
     "name": "stdout",
     "output_type": "stream",
     "text": [
      "MITEs: 1211339\n"
     ]
    }
   ],
   "source": [
    "df_mites = pd.read_csv(path_mites, sep='\\t')\n",
    "df_mites.columns = ['seqname' , 'source' , 'feature' , 'start' , 'end' , 'score' , 'strand' , 'frame' , 'attribute']\n",
    "print('MITEs: ' + str(len(df_mites.index)))\n"
   ]
  },
  {
   "cell_type": "code",
   "execution_count": 23,
   "metadata": {},
   "outputs": [],
   "source": [
    "#separate MITEs by chromosome\n",
    "df_anns = {}\n",
    "for chromosome in df_mites.seqname.unique():\n",
    "    df_anns[chromosome] = df_mites[df_mites.seqname == chromosome]\n"
   ]
  },
  {
   "cell_type": "code",
   "execution_count": 44,
   "metadata": {},
   "outputs": [
    {
     "name": "stdout",
     "output_type": "stream",
     "text": [
      "Total miRNA mrcv + sun: 289\n"
     ]
    }
   ],
   "source": [
    "df_all = pd.concat([df_sun_m, df_mrcv_m])\n",
    "total_mirna = len(df_all.index)\n",
    "print('Total miRNA mrcv + sun: ' + str(total_mirna))"
   ]
  },
  {
   "cell_type": "code",
   "execution_count": 45,
   "metadata": {},
   "outputs": [],
   "source": [
    "df_all['seqname'] = df_all['#Locus'].str.split(':').str[0]\n",
    "df_all['position'] = df_all['#Locus'].str.split(':').str[1]\n",
    "df_all['start'] = df_all.position.str.split('-').str[0].astype(int)\n",
    "df_all['end'] = df_all.position.str.split('-').str[1].astype(int)"
   ]
  },
  {
   "cell_type": "code",
   "execution_count": 46,
   "metadata": {},
   "outputs": [
    {
     "data": {
      "text/html": [
       "<div>\n",
       "<style scoped>\n",
       "    .dataframe tbody tr th:only-of-type {\n",
       "        vertical-align: middle;\n",
       "    }\n",
       "\n",
       "    .dataframe tbody tr th {\n",
       "        vertical-align: top;\n",
       "    }\n",
       "\n",
       "    .dataframe thead th {\n",
       "        text-align: right;\n",
       "    }\n",
       "</style>\n",
       "<table border=\"1\" class=\"dataframe\">\n",
       "  <thead>\n",
       "    <tr style=\"text-align: right;\">\n",
       "      <th></th>\n",
       "      <th>#Locus</th>\n",
       "      <th>Name</th>\n",
       "      <th>Length</th>\n",
       "      <th>Reads</th>\n",
       "      <th>RPM</th>\n",
       "      <th>UniqueReads</th>\n",
       "      <th>FracTop</th>\n",
       "      <th>Strand</th>\n",
       "      <th>MajorRNA</th>\n",
       "      <th>MajorRNAReads</th>\n",
       "      <th>...</th>\n",
       "      <th>Long</th>\n",
       "      <th>20</th>\n",
       "      <th>21</th>\n",
       "      <th>22</th>\n",
       "      <th>23</th>\n",
       "      <th>24</th>\n",
       "      <th>seqname</th>\n",
       "      <th>position</th>\n",
       "      <th>start</th>\n",
       "      <th>end</th>\n",
       "    </tr>\n",
       "  </thead>\n",
       "  <tbody>\n",
       "    <tr>\n",
       "      <th>2788</th>\n",
       "      <td>1A:309399491-309399581</td>\n",
       "      <td>sun_Cluster_2789</td>\n",
       "      <td>91</td>\n",
       "      <td>459</td>\n",
       "      <td>3.635</td>\n",
       "      <td>4</td>\n",
       "      <td>0.007</td>\n",
       "      <td>-</td>\n",
       "      <td>ACGGCAUAGAGGCACUGCAAA</td>\n",
       "      <td>196</td>\n",
       "      <td>...</td>\n",
       "      <td>0</td>\n",
       "      <td>94</td>\n",
       "      <td>298</td>\n",
       "      <td>26</td>\n",
       "      <td>0</td>\n",
       "      <td>5</td>\n",
       "      <td>1A</td>\n",
       "      <td>309399491-309399581</td>\n",
       "      <td>309399491</td>\n",
       "      <td>309399581</td>\n",
       "    </tr>\n",
       "    <tr>\n",
       "      <th>4364</th>\n",
       "      <td>1A:492271831-492271941</td>\n",
       "      <td>sun_Cluster_4365</td>\n",
       "      <td>111</td>\n",
       "      <td>441</td>\n",
       "      <td>3.492</td>\n",
       "      <td>2</td>\n",
       "      <td>1.000</td>\n",
       "      <td>+</td>\n",
       "      <td>GAGGAGGAGGAGCAGGACAAG</td>\n",
       "      <td>336</td>\n",
       "      <td>...</td>\n",
       "      <td>0</td>\n",
       "      <td>70</td>\n",
       "      <td>360</td>\n",
       "      <td>1</td>\n",
       "      <td>1</td>\n",
       "      <td>0</td>\n",
       "      <td>1A</td>\n",
       "      <td>492271831-492271941</td>\n",
       "      <td>492271831</td>\n",
       "      <td>492271941</td>\n",
       "    </tr>\n",
       "  </tbody>\n",
       "</table>\n",
       "<p>2 rows × 25 columns</p>\n",
       "</div>"
      ],
      "text/plain": [
       "                      #Locus              Name  Length  Reads    RPM  \\\n",
       "2788  1A:309399491-309399581  sun_Cluster_2789      91    459  3.635   \n",
       "4364  1A:492271831-492271941  sun_Cluster_4365     111    441  3.492   \n",
       "\n",
       "      UniqueReads  FracTop Strand               MajorRNA  MajorRNAReads  \\\n",
       "2788            4    0.007      -  ACGGCAUAGAGGCACUGCAAA            196   \n",
       "4364            2    1.000      +  GAGGAGGAGGAGCAGGACAAG            336   \n",
       "\n",
       "        ...      Long  20   21  22  23  24  seqname             position  \\\n",
       "2788    ...         0  94  298  26   0   5       1A  309399491-309399581   \n",
       "4364    ...         0  70  360   1   1   0       1A  492271831-492271941   \n",
       "\n",
       "          start        end  \n",
       "2788  309399491  309399581  \n",
       "4364  492271831  492271941  \n",
       "\n",
       "[2 rows x 25 columns]"
      ]
     },
     "execution_count": 46,
     "metadata": {},
     "output_type": "execute_result"
    }
   ],
   "source": [
    "df_all.head(2)"
   ]
  },
  {
   "cell_type": "code",
   "execution_count": 50,
   "metadata": {},
   "outputs": [
    {
     "data": {
      "text/plain": [
       "Index(['#Locus', 'Name', 'Length', 'Reads', 'RPM', 'UniqueReads', 'FracTop',\n",
       "       'Strand', 'MajorRNA', 'MajorRNAReads', 'Complexity', 'DicerCall',\n",
       "       'MIRNA', 'PhaseScore', 'Short', 'Long', '20', '21', '22', '23', '24',\n",
       "       'seqname', 'position', 'start', 'end'],\n",
       "      dtype='object')"
      ]
     },
     "execution_count": 50,
     "metadata": {},
     "output_type": "execute_result"
    }
   ],
   "source": [
    "df_all.columns"
   ]
  },
  {
   "cell_type": "code",
   "execution_count": 48,
   "metadata": {},
   "outputs": [
    {
     "data": {
      "text/plain": [
       "<matplotlib.axes._subplots.AxesSubplot at 0x7fd2502b0d68>"
      ]
     },
     "execution_count": 48,
     "metadata": {},
     "output_type": "execute_result"
    },
    {
     "data": {
      "image/png": "[encoded data removed]",
      "text/plain": [
       "<Figure size 432x288 with 1 Axes>"
      ]
     },
     "metadata": {
      "needs_background": "light"
     },
     "output_type": "display_data"
    }
   ],
   "source": [
    "df_all.seqname.value_counts().plot('bar')"
   ]
  },
  {
   "cell_type": "code",
   "execution_count": null,
   "metadata": {},
   "outputs": [],
   "source": [
    "df_all.seqname.value_counts().plot('bar')"
   ]
  },
  {
   "cell_type": "code",
   "execution_count": 51,
   "metadata": {},
   "outputs": [
    {
     "data": {
      "text/plain": [
       "<matplotlib.axes._subplots.AxesSubplot at 0x7fd2479a1b38>"
      ]
     },
     "execution_count": 51,
     "metadata": {},
     "output_type": "execute_result"
    },
    {
     "data": {
      "image/png": "[encoded data removed]",
      "text/plain": [
       "<Figure size 432x288 with 1 Axes>"
      ]
     },
     "metadata": {
      "needs_background": "light"
     },
     "output_type": "display_data"
    }
   ],
   "source": [
    "df_all.DicerCall.value_counts().plot('bar')"
   ]
  },
  {
   "cell_type": "code",
   "execution_count": 49,
   "metadata": {},
   "outputs": [
    {
     "data": {
      "text/plain": [
       "5.536332179930795"
      ]
     },
     "execution_count": 49,
     "metadata": {},
     "output_type": "execute_result"
    }
   ],
   "source": [
    "yeses = 0\n",
    "for k, v in df_all.iterrows():\n",
    "    total += 1\n",
    "    ss = False\n",
    "    if v.seqname == 'Un':\n",
    "        continue\n",
    "    df_ann_c = df_anns[v.seqname]\n",
    "    df_ann_c_overlaps = df_ann_c[(df_ann_c.end >= v.start) & (df_ann_c.start <= v.end)]\n",
    "    if len(df_ann_c_overlaps.index) > 0:\n",
    "        yeses += 1\n",
    "perc_mite = yeses * 100 / total_mirna\n",
    "perc_mite"
   ]
  },
  {
   "cell_type": "code",
   "execution_count": null,
   "metadata": {},
   "outputs": [],
   "source": []
  }
 ],
 "metadata": {
  "kernelspec": {
   "display_name": "Python 3",
   "language": "python",
   "name": "python3"
  },
  "language_info": {
   "codemirror_mode": {
    "name": "ipython",
    "version": 3
   },
   "file_extension": ".py",
   "mimetype": "text/x-python",
   "name": "python",
   "nbconvert_exporter": "python",
   "pygments_lexer": "ipython3",
   "version": "3.6.5"
  }
 },
 "nbformat": 4,
 "nbformat_minor": 2
}
