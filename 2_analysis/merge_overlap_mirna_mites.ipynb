{
 "cells": [
  {
   "cell_type": "code",
   "execution_count": 5,
   "metadata": {},
   "outputs": [],
   "source": [
    "import pandas as pd\n",
    "import matplotlib.pyplot as plt\n",
    "import seaborn as sns\n",
    "import pandas as pd\n",
    "from Bio import SeqIO\n",
    "from Bio.SeqRecord import SeqRecord\n",
    "from Bio.Seq import Seq\n",
    "from subprocess import Popen, PIPE, call\n"
   ]
  },
  {
   "cell_type": "code",
   "execution_count": 6,
   "metadata": {},
   "outputs": [],
   "source": [
    "path_sun = '/home/juan/Desktop/juan/bio/mirna_mite/data/res/sun_all/'\n",
    "path_mrcv = '/home/juan/Desktop/juan/bio/mirna_mite/data/res/mrcv_all/'\n",
    "path_mites = '/home/juan/Desktop/juan/bio/mirna_mite/data/tracker.gff3'\n",
    "path_mirna_fasta = '/home/juan/Desktop/juan/bio/mirna_mite/data/res/mirnas.y.fasta'\n",
    "path_mirbase = '/home/juan/Desktop/juan/bio/mirna_mite/data/mature.fa'\n",
    "path_mirbase_res = '/home/juan/Desktop/juan/bio/mirna_mite/data/res/mirnay_mature.csv'"
   ]
  },
  {
   "cell_type": "code",
   "execution_count": 7,
   "metadata": {},
   "outputs": [],
   "source": [
    "#SUN DATA"
   ]
  },
  {
   "cell_type": "code",
   "execution_count": 8,
   "metadata": {},
   "outputs": [
    {
     "name": "stdout",
     "output_type": "stream",
     "text": [
      "Sun clusters: 157492\n",
      "Sun miRNA: 154\n"
     ]
    },
    {
     "data": {
      "image/png": "[encoded data removed]",
      "text/plain": [
       "<Figure size 432x288 with 1 Axes>"
      ]
     },
     "metadata": {
      "needs_background": "light"
     },
     "output_type": "display_data"
    }
   ],
   "source": [
    "df_sun = pd.read_csv(path_sun + 'Results.txt', sep='\\t')\n",
    "df_sun.Name = 'sun_' + df_sun.Name.astype(str)\n",
    "print('Sun clusters: ' + str(len(df_sun.index)))\n",
    "df_sun.MIRNA.value_counts().plot('bar')\n",
    "df_sun_m = df_sun[df_sun.MIRNA == 'Y']\n",
    "print('Sun miRNA: ' + str(len(df_sun_m.index)))\n"
   ]
  },
  {
   "cell_type": "code",
   "execution_count": 9,
   "metadata": {},
   "outputs": [],
   "source": [
    "#MRCV data"
   ]
  },
  {
   "cell_type": "code",
   "execution_count": 10,
   "metadata": {},
   "outputs": [
    {
     "name": "stdout",
     "output_type": "stream",
     "text": [
      "MRCV clusters: 38532\n",
      "MRCV miRNA: 135\n"
     ]
    },
    {
     "data": {
      "image/png": "[encoded data removed]",
      "text/plain": [
       "<Figure size 432x288 with 1 Axes>"
      ]
     },
     "metadata": {
      "needs_background": "light"
     },
     "output_type": "display_data"
    }
   ],
   "source": [
    "df_mrcv = pd.read_csv(path_mrcv + 'Results.txt', sep='\\t')\n",
    "df_mrcv.Name = 'mrcv_' + df_mrcv.Name.astype(str)\n",
    "print('MRCV clusters: ' + str(len(df_mrcv.index)))\n",
    "df_mrcv.MIRNA.value_counts().plot('bar')\n",
    "df_mrcv_m = df_mrcv[df_mrcv.MIRNA == 'Y']\n",
    "print('MRCV miRNA: ' + str(len(df_mrcv_m.index)))\n"
   ]
  },
  {
   "cell_type": "code",
   "execution_count": 11,
   "metadata": {},
   "outputs": [],
   "source": [
    "#MITEs data"
   ]
  },
  {
   "cell_type": "code",
   "execution_count": 12,
   "metadata": {},
   "outputs": [
    {
     "name": "stdout",
     "output_type": "stream",
     "text": [
      "MITEs: 1211339\n"
     ]
    }
   ],
   "source": [
    "df_mites = pd.read_csv(path_mites, sep='\\t')\n",
    "df_mites.columns = ['seqname' , 'source' , 'feature' , 'start' , 'end' , 'score' , 'strand' , 'frame' , 'attribute']\n",
    "print('MITEs: ' + str(len(df_mites.index)))\n"
   ]
  },
  {
   "cell_type": "code",
   "execution_count": 13,
   "metadata": {},
   "outputs": [],
   "source": [
    "#separate MITEs by chromosome\n",
    "df_anns = {}\n",
    "for chromosome in df_mites.seqname.unique():\n",
    "    df_anns[chromosome] = df_mites[df_mites.seqname == chromosome]\n"
   ]
  },
  {
   "cell_type": "code",
   "execution_count": 14,
   "metadata": {},
   "outputs": [
    {
     "name": "stdout",
     "output_type": "stream",
     "text": [
      "Total miRNA mrcv + sun: 289\n"
     ]
    }
   ],
   "source": [
    "df_all = pd.concat([df_sun_m, df_mrcv_m])\n",
    "total_mirna = len(df_all.index)\n",
    "print('Total miRNA mrcv + sun: ' + str(total_mirna))"
   ]
  },
  {
   "cell_type": "code",
   "execution_count": 15,
   "metadata": {},
   "outputs": [],
   "source": [
    "df_all['seqname'] = df_all['#Locus'].str.split(':').str[0]\n",
    "df_all['position'] = df_all['#Locus'].str.split(':').str[1]\n",
    "df_all['start'] = df_all.position.str.split('-').str[0].astype(int)\n",
    "df_all['end'] = df_all.position.str.split('-').str[1].astype(int)"
   ]
  },
  {
   "cell_type": "code",
   "execution_count": 16,
   "metadata": {},
   "outputs": [
    {
     "data": {
      "text/html": [
       "<div>\n",
       "<style scoped>\n",
       "    .dataframe tbody tr th:only-of-type {\n",
       "        vertical-align: middle;\n",
       "    }\n",
       "\n",
       "    .dataframe tbody tr th {\n",
       "        vertical-align: top;\n",
       "    }\n",
       "\n",
       "    .dataframe thead th {\n",
       "        text-align: right;\n",
       "    }\n",
       "</style>\n",
       "<table border=\"1\" class=\"dataframe\">\n",
       "  <thead>\n",
       "    <tr style=\"text-align: right;\">\n",
       "      <th></th>\n",
       "      <th>#Locus</th>\n",
       "      <th>Name</th>\n",
       "      <th>Length</th>\n",
       "      <th>Reads</th>\n",
       "      <th>RPM</th>\n",
       "      <th>UniqueReads</th>\n",
       "      <th>FracTop</th>\n",
       "      <th>Strand</th>\n",
       "      <th>MajorRNA</th>\n",
       "      <th>MajorRNAReads</th>\n",
       "      <th>...</th>\n",
       "      <th>Long</th>\n",
       "      <th>20</th>\n",
       "      <th>21</th>\n",
       "      <th>22</th>\n",
       "      <th>23</th>\n",
       "      <th>24</th>\n",
       "      <th>seqname</th>\n",
       "      <th>position</th>\n",
       "      <th>start</th>\n",
       "      <th>end</th>\n",
       "    </tr>\n",
       "  </thead>\n",
       "  <tbody>\n",
       "    <tr>\n",
       "      <th>2788</th>\n",
       "      <td>1A:309399491-309399581</td>\n",
       "      <td>sun_Cluster_2789</td>\n",
       "      <td>91</td>\n",
       "      <td>459</td>\n",
       "      <td>3.635</td>\n",
       "      <td>4</td>\n",
       "      <td>0.007</td>\n",
       "      <td>-</td>\n",
       "      <td>ACGGCAUAGAGGCACUGCAAA</td>\n",
       "      <td>196</td>\n",
       "      <td>...</td>\n",
       "      <td>0</td>\n",
       "      <td>94</td>\n",
       "      <td>298</td>\n",
       "      <td>26</td>\n",
       "      <td>0</td>\n",
       "      <td>5</td>\n",
       "      <td>1A</td>\n",
       "      <td>309399491-309399581</td>\n",
       "      <td>309399491</td>\n",
       "      <td>309399581</td>\n",
       "    </tr>\n",
       "    <tr>\n",
       "      <th>4364</th>\n",
       "      <td>1A:492271831-492271941</td>\n",
       "      <td>sun_Cluster_4365</td>\n",
       "      <td>111</td>\n",
       "      <td>441</td>\n",
       "      <td>3.492</td>\n",
       "      <td>2</td>\n",
       "      <td>1.000</td>\n",
       "      <td>+</td>\n",
       "      <td>GAGGAGGAGGAGCAGGACAAG</td>\n",
       "      <td>336</td>\n",
       "      <td>...</td>\n",
       "      <td>0</td>\n",
       "      <td>70</td>\n",
       "      <td>360</td>\n",
       "      <td>1</td>\n",
       "      <td>1</td>\n",
       "      <td>0</td>\n",
       "      <td>1A</td>\n",
       "      <td>492271831-492271941</td>\n",
       "      <td>492271831</td>\n",
       "      <td>492271941</td>\n",
       "    </tr>\n",
       "  </tbody>\n",
       "</table>\n",
       "<p>2 rows × 25 columns</p>\n",
       "</div>"
      ],
      "text/plain": [
       "                      #Locus              Name  Length  Reads    RPM  \\\n",
       "2788  1A:309399491-309399581  sun_Cluster_2789      91    459  3.635   \n",
       "4364  1A:492271831-492271941  sun_Cluster_4365     111    441  3.492   \n",
       "\n",
       "      UniqueReads  FracTop Strand               MajorRNA  MajorRNAReads  \\\n",
       "2788            4    0.007      -  ACGGCAUAGAGGCACUGCAAA            196   \n",
       "4364            2    1.000      +  GAGGAGGAGGAGCAGGACAAG            336   \n",
       "\n",
       "        ...      Long  20   21  22  23  24  seqname             position  \\\n",
       "2788    ...         0  94  298  26   0   5       1A  309399491-309399581   \n",
       "4364    ...         0  70  360   1   1   0       1A  492271831-492271941   \n",
       "\n",
       "          start        end  \n",
       "2788  309399491  309399581  \n",
       "4364  492271831  492271941  \n",
       "\n",
       "[2 rows x 25 columns]"
      ]
     },
     "execution_count": 16,
     "metadata": {},
     "output_type": "execute_result"
    }
   ],
   "source": [
    "df_all.head(2)"
   ]
  },
  {
   "cell_type": "code",
   "execution_count": 17,
   "metadata": {},
   "outputs": [
    {
     "data": {
      "text/plain": [
       "Index(['#Locus', 'Name', 'Length', 'Reads', 'RPM', 'UniqueReads', 'FracTop',\n",
       "       'Strand', 'MajorRNA', 'MajorRNAReads', 'Complexity', 'DicerCall',\n",
       "       'MIRNA', 'PhaseScore', 'Short', 'Long', '20', '21', '22', '23', '24',\n",
       "       'seqname', 'position', 'start', 'end'],\n",
       "      dtype='object')"
      ]
     },
     "execution_count": 17,
     "metadata": {},
     "output_type": "execute_result"
    }
   ],
   "source": [
    "df_all.columns"
   ]
  },
  {
   "cell_type": "code",
   "execution_count": 18,
   "metadata": {},
   "outputs": [
    {
     "data": {
      "text/plain": [
       "<matplotlib.axes._subplots.AxesSubplot at 0x7f5563bb2fd0>"
      ]
     },
     "execution_count": 18,
     "metadata": {},
     "output_type": "execute_result"
    },
    {
     "data": {
      "image/png": "[encoded data removed]",
      "text/plain": [
       "<Figure size 432x288 with 1 Axes>"
      ]
     },
     "metadata": {
      "needs_background": "light"
     },
     "output_type": "display_data"
    }
   ],
   "source": [
    "df_all.seqname.value_counts().plot('bar')"
   ]
  },
  {
   "cell_type": "code",
   "execution_count": 19,
   "metadata": {},
   "outputs": [
    {
     "data": {
      "text/plain": [
       "<matplotlib.axes._subplots.AxesSubplot at 0x7f5563b9b7f0>"
      ]
     },
     "execution_count": 19,
     "metadata": {},
     "output_type": "execute_result"
    },
    {
     "data": {
      "image/png": "[encoded data removed]",
      "text/plain": [
       "<Figure size 432x288 with 1 Axes>"
      ]
     },
     "metadata": {
      "needs_background": "light"
     },
     "output_type": "display_data"
    }
   ],
   "source": [
    "df_all.seqname.value_counts().plot('bar')"
   ]
  },
  {
   "cell_type": "code",
   "execution_count": 20,
   "metadata": {},
   "outputs": [
    {
     "data": {
      "text/plain": [
       "<matplotlib.axes._subplots.AxesSubplot at 0x7f55635887f0>"
      ]
     },
     "execution_count": 20,
     "metadata": {},
     "output_type": "execute_result"
    },
    {
     "data": {
      "image/png": "[encoded data removed]",
      "text/plain": [
       "<Figure size 432x288 with 1 Axes>"
      ]
     },
     "metadata": {
      "needs_background": "light"
     },
     "output_type": "display_data"
    }
   ],
   "source": [
    "df_all.DicerCall.value_counts().plot('bar')"
   ]
  },
  {
   "cell_type": "code",
   "execution_count": 21,
   "metadata": {},
   "outputs": [],
   "source": [
    "#cross with mirbase"
   ]
  },
  {
   "cell_type": "code",
   "execution_count": 22,
   "metadata": {},
   "outputs": [],
   "source": [
    "#save miRNAs in file"
   ]
  },
  {
   "cell_type": "code",
   "execution_count": 25,
   "metadata": {},
   "outputs": [
    {
     "data": {
      "text/plain": [
       "'/home/juan/Desktop/juan/bio/mirna_mite/data/res/mirnas.y.fasta'"
      ]
     },
     "execution_count": 25,
     "metadata": {},
     "output_type": "execute_result"
    }
   ],
   "source": [
    "records = []\n",
    "for k,v in df_all.iterrows():\n",
    "    record = SeqRecord(Seq(v.MajorRNA), id=v.Name, description=\"\")\n",
    "    records.append(record)\n",
    "SeqIO.write(records, path_mirna_fasta, 'fasta')\n",
    "path_mirna_fasta"
   ]
  },
  {
   "cell_type": "code",
   "execution_count": 28,
   "metadata": {},
   "outputs": [
    {
     "name": "stdout",
     "output_type": "stream",
     "text": [
      "blastn -task blastn -query /home/juan/Desktop/juan/bio/mirna_mite/data/res/mirnas.y.fasta -subject /home/juan/Desktop/juan/bio/mirna_mite/data/mature.fa -outfmt '6 qseqid sseqid qstart qend sstart send mismatch gaps pident evalue length qlen slen qcovs'  > /home/juan/Desktop/juan/bio/mirna_mite/data/res/mirnay_mature.csv\n"
     ]
    }
   ],
   "source": [
    "outmft = \"6 qseqid sseqid qstart qend sstart send mismatch gaps pident evalue length qlen slen qcovs\"\n",
    "cmd = \"blastn -task blastn -query %s -subject %s -outfmt '%s'  > %s\"\n",
    "cmd =  cmd % (path_mirna_fasta, path_mirbase,outmft, path_mirbase_res)\n",
    "print(cmd)"
   ]
  },
  {
   "cell_type": "code",
   "execution_count": null,
   "metadata": {},
   "outputs": [],
   "source": []
  },
  {
   "cell_type": "code",
   "execution_count": 29,
   "metadata": {},
   "outputs": [
    {
     "name": "stdout",
     "output_type": "stream",
     "text": [
      "20450\n"
     ]
    },
    {
     "data": {
      "text/html": [
       "<div>\n",
       "<style scoped>\n",
       "    .dataframe tbody tr th:only-of-type {\n",
       "        vertical-align: middle;\n",
       "    }\n",
       "\n",
       "    .dataframe tbody tr th {\n",
       "        vertical-align: top;\n",
       "    }\n",
       "\n",
       "    .dataframe thead th {\n",
       "        text-align: right;\n",
       "    }\n",
       "</style>\n",
       "<table border=\"1\" class=\"dataframe\">\n",
       "  <thead>\n",
       "    <tr style=\"text-align: right;\">\n",
       "      <th></th>\n",
       "      <th>qseqid</th>\n",
       "      <th>sseqid</th>\n",
       "      <th>qstart</th>\n",
       "      <th>qend</th>\n",
       "      <th>sstart</th>\n",
       "      <th>send</th>\n",
       "      <th>mismatch</th>\n",
       "      <th>gaps</th>\n",
       "      <th>pident</th>\n",
       "      <th>evalue</th>\n",
       "      <th>length</th>\n",
       "      <th>qlen</th>\n",
       "      <th>slen</th>\n",
       "      <th>qcovs</th>\n",
       "    </tr>\n",
       "  </thead>\n",
       "  <tbody>\n",
       "    <tr>\n",
       "      <th>0</th>\n",
       "      <td>sun_Cluster_4365</td>\n",
       "      <td>mmu-miR-6919-3p</td>\n",
       "      <td>2</td>\n",
       "      <td>13</td>\n",
       "      <td>12</td>\n",
       "      <td>1</td>\n",
       "      <td>0</td>\n",
       "      <td>0</td>\n",
       "      <td>100.0</td>\n",
       "      <td>0.34</td>\n",
       "      <td>12</td>\n",
       "      <td>21</td>\n",
       "      <td>21</td>\n",
       "      <td>57</td>\n",
       "    </tr>\n",
       "    <tr>\n",
       "      <th>1</th>\n",
       "      <td>sun_Cluster_4365</td>\n",
       "      <td>oan-miR-1345</td>\n",
       "      <td>7</td>\n",
       "      <td>18</td>\n",
       "      <td>4</td>\n",
       "      <td>15</td>\n",
       "      <td>0</td>\n",
       "      <td>0</td>\n",
       "      <td>100.0</td>\n",
       "      <td>0.34</td>\n",
       "      <td>12</td>\n",
       "      <td>21</td>\n",
       "      <td>18</td>\n",
       "      <td>57</td>\n",
       "    </tr>\n",
       "  </tbody>\n",
       "</table>\n",
       "</div>"
      ],
      "text/plain": [
       "             qseqid           sseqid  qstart  qend  sstart  send  mismatch  \\\n",
       "0  sun_Cluster_4365  mmu-miR-6919-3p       2    13      12     1         0   \n",
       "1  sun_Cluster_4365     oan-miR-1345       7    18       4    15         0   \n",
       "\n",
       "   gaps  pident  evalue  length  qlen  slen  qcovs  \n",
       "0     0   100.0    0.34      12    21    21     57  \n",
       "1     0   100.0    0.34      12    21    18     57  "
      ]
     },
     "execution_count": 29,
     "metadata": {},
     "output_type": "execute_result"
    }
   ],
   "source": [
    "df_mirbase = pd.read_csv(path_mirbase_res, sep=\"\\t\")\n",
    "cols = ['qseqid','sseqid','qstart','qend','sstart','send','mismatch','gaps','pident','evalue','length','qlen','slen','qcovs']\n",
    "df_mirbase.columns = cols\n",
    "print(len(df_mirbase.index))\n",
    "df_mirbase.head(2)"
   ]
  },
  {
   "cell_type": "code",
   "execution_count": 30,
   "metadata": {},
   "outputs": [
    {
     "name": "stdout",
     "output_type": "stream",
     "text": [
      "17723\n",
      "17723\n"
     ]
    }
   ],
   "source": [
    "df_mirbase = df_mirbase[df_mirbase.length >= df_mirbase.qlen - 3]\n",
    "print(len(df_mirbase.index))\n",
    "df_mirbase = df_mirbase[df_mirbase.mismatch + df_mirbase.gaps <= 3]\n",
    "print(len(df_mirbase.index))\n"
   ]
  },
  {
   "cell_type": "code",
   "execution_count": 31,
   "metadata": {},
   "outputs": [
    {
     "data": {
      "text/plain": [
       "186"
      ]
     },
     "execution_count": 31,
     "metadata": {},
     "output_type": "execute_result"
    }
   ],
   "source": [
    "len(df_mirbase.qseqid.unique().tolist())"
   ]
  },
  {
   "cell_type": "code",
   "execution_count": 32,
   "metadata": {},
   "outputs": [],
   "source": [
    "df_mirbase = df_mirbase[['qseqid','sseqid']]\n",
    "df_mirbase = df_mirbase.drop_duplicates(subset='qseqid', keep='first')"
   ]
  },
  {
   "cell_type": "code",
   "execution_count": null,
   "metadata": {},
   "outputs": [],
   "source": []
  },
  {
   "cell_type": "code",
   "execution_count": 33,
   "metadata": {},
   "outputs": [],
   "source": [
    "df_res = pd.merge(df_all, df_mirbase, left_on='Name', right_on='qseqid', how='left')"
   ]
  },
  {
   "cell_type": "code",
   "execution_count": 34,
   "metadata": {},
   "outputs": [
    {
     "data": {
      "text/plain": [
       "289"
      ]
     },
     "execution_count": 34,
     "metadata": {},
     "output_type": "execute_result"
    }
   ],
   "source": [
    "len(df_res.index)"
   ]
  },
  {
   "cell_type": "code",
   "execution_count": 35,
   "metadata": {},
   "outputs": [
    {
     "data": {
      "text/html": [
       "<div>\n",
       "<style scoped>\n",
       "    .dataframe tbody tr th:only-of-type {\n",
       "        vertical-align: middle;\n",
       "    }\n",
       "\n",
       "    .dataframe tbody tr th {\n",
       "        vertical-align: top;\n",
       "    }\n",
       "\n",
       "    .dataframe thead th {\n",
       "        text-align: right;\n",
       "    }\n",
       "</style>\n",
       "<table border=\"1\" class=\"dataframe\">\n",
       "  <thead>\n",
       "    <tr style=\"text-align: right;\">\n",
       "      <th></th>\n",
       "      <th>#Locus</th>\n",
       "      <th>Name</th>\n",
       "      <th>Length</th>\n",
       "      <th>Reads</th>\n",
       "      <th>RPM</th>\n",
       "      <th>UniqueReads</th>\n",
       "      <th>FracTop</th>\n",
       "      <th>Strand</th>\n",
       "      <th>MajorRNA</th>\n",
       "      <th>MajorRNAReads</th>\n",
       "      <th>...</th>\n",
       "      <th>21</th>\n",
       "      <th>22</th>\n",
       "      <th>23</th>\n",
       "      <th>24</th>\n",
       "      <th>seqname</th>\n",
       "      <th>position</th>\n",
       "      <th>start</th>\n",
       "      <th>end</th>\n",
       "      <th>qseqid</th>\n",
       "      <th>sseqid</th>\n",
       "    </tr>\n",
       "  </thead>\n",
       "  <tbody>\n",
       "    <tr>\n",
       "      <th>0</th>\n",
       "      <td>1A:309399491-309399581</td>\n",
       "      <td>sun_Cluster_2789</td>\n",
       "      <td>91</td>\n",
       "      <td>459</td>\n",
       "      <td>3.635</td>\n",
       "      <td>4</td>\n",
       "      <td>0.007</td>\n",
       "      <td>-</td>\n",
       "      <td>ACGGCAUAGAGGCACUGCAAA</td>\n",
       "      <td>196</td>\n",
       "      <td>...</td>\n",
       "      <td>298</td>\n",
       "      <td>26</td>\n",
       "      <td>0</td>\n",
       "      <td>5</td>\n",
       "      <td>1A</td>\n",
       "      <td>309399491-309399581</td>\n",
       "      <td>309399491</td>\n",
       "      <td>309399581</td>\n",
       "      <td>NaN</td>\n",
       "      <td>NaN</td>\n",
       "    </tr>\n",
       "    <tr>\n",
       "      <th>1</th>\n",
       "      <td>1A:492271831-492271941</td>\n",
       "      <td>sun_Cluster_4365</td>\n",
       "      <td>111</td>\n",
       "      <td>441</td>\n",
       "      <td>3.492</td>\n",
       "      <td>2</td>\n",
       "      <td>1.000</td>\n",
       "      <td>+</td>\n",
       "      <td>GAGGAGGAGGAGCAGGACAAG</td>\n",
       "      <td>336</td>\n",
       "      <td>...</td>\n",
       "      <td>360</td>\n",
       "      <td>1</td>\n",
       "      <td>1</td>\n",
       "      <td>0</td>\n",
       "      <td>1A</td>\n",
       "      <td>492271831-492271941</td>\n",
       "      <td>492271831</td>\n",
       "      <td>492271941</td>\n",
       "      <td>NaN</td>\n",
       "      <td>NaN</td>\n",
       "    </tr>\n",
       "  </tbody>\n",
       "</table>\n",
       "<p>2 rows × 27 columns</p>\n",
       "</div>"
      ],
      "text/plain": [
       "                   #Locus              Name  Length  Reads    RPM  \\\n",
       "0  1A:309399491-309399581  sun_Cluster_2789      91    459  3.635   \n",
       "1  1A:492271831-492271941  sun_Cluster_4365     111    441  3.492   \n",
       "\n",
       "   UniqueReads  FracTop Strand               MajorRNA  MajorRNAReads   ...    \\\n",
       "0            4    0.007      -  ACGGCAUAGAGGCACUGCAAA            196   ...     \n",
       "1            2    1.000      +  GAGGAGGAGGAGCAGGACAAG            336   ...     \n",
       "\n",
       "    21  22 23  24  seqname             position      start        end  qseqid  \\\n",
       "0  298  26  0   5       1A  309399491-309399581  309399491  309399581     NaN   \n",
       "1  360   1  1   0       1A  492271831-492271941  492271831  492271941     NaN   \n",
       "\n",
       "   sseqid  \n",
       "0     NaN  \n",
       "1     NaN  \n",
       "\n",
       "[2 rows x 27 columns]"
      ]
     },
     "execution_count": 35,
     "metadata": {},
     "output_type": "execute_result"
    }
   ],
   "source": [
    "df_res.head(2)"
   ]
  },
  {
   "cell_type": "code",
   "execution_count": 36,
   "metadata": {},
   "outputs": [],
   "source": [
    "#SEARCH for overlapped"
   ]
  },
  {
   "cell_type": "code",
   "execution_count": 38,
   "metadata": {},
   "outputs": [
    {
     "name": "stdout",
     "output_type": "stream",
     "text": [
      "22 sun_Cluster_33132 nan 2B 482720682 482720772\n",
      "61 sun_Cluster_82408 nan 4D 142764794 142764971\n",
      "67 sun_Cluster_86168 aof-miR167a 5A 53591761 53591922\n",
      "126 sun_Cluster_124253 tae-miR9655-3p 6D 51972870 51973143\n",
      "139 sun_Cluster_136100 nan 7A 668530089 668530164\n",
      "182 mrcv_Cluster_11066 nan 3A 19302858 19302967\n",
      "188 mrcv_Cluster_13328 nan 3B 253488740 253488969\n",
      "193 mrcv_Cluster_15820 nan 3D 472405004 472405087\n",
      "194 mrcv_Cluster_15952 nan 3D 508204967 508205061\n",
      "197 mrcv_Cluster_16700 nan 4A 67171701 67171964\n",
      "207 mrcv_Cluster_19013 nan 4B 429353825 429354083\n",
      "246 mrcv_Cluster_27434 nan 6A 23496419 23496608\n",
      "269 mrcv_Cluster_31324 nan 6D 361524549 361524681\n",
      "275 mrcv_Cluster_33529 nan 7A 668530084 668530160\n",
      "277 mrcv_Cluster_33900 nan 7B 34679821 34679956\n",
      "280 mrcv_Cluster_34208 nan 7B 145795106 145795346\n"
     ]
    },
    {
     "data": {
      "text/plain": [
       "5.536332179930795"
      ]
     },
     "execution_count": 38,
     "metadata": {},
     "output_type": "execute_result"
    }
   ],
   "source": [
    "yeses = 0\n",
    "for k, v in df_res.iterrows():\n",
    "    ss = False\n",
    "    if v.seqname == 'Un':\n",
    "        continue\n",
    "    df_ann_c = df_anns[v.seqname]\n",
    "    df_ann_c_overlaps = df_ann_c[(df_ann_c.end >= v.start) & (df_ann_c.start <= v.end)]\n",
    "    if len(df_ann_c_overlaps.index) > 0:\n",
    "        print(k,v.Name,v.sseqid, v.seqname, v.start, v.end)\n",
    "        yeses += 1\n",
    "perc_mite = yeses * 100 / total_mirna\n",
    "perc_mite"
   ]
  },
  {
   "cell_type": "code",
   "execution_count": null,
   "metadata": {},
   "outputs": [],
   "source": []
  }
 ],
 "metadata": {
  "kernelspec": {
   "display_name": "Python 3",
   "language": "python",
   "name": "python3"
  },
  "language_info": {
   "codemirror_mode": {
    "name": "ipython",
    "version": 3
   },
   "file_extension": ".py",
   "mimetype": "text/x-python",
   "name": "python",
   "nbconvert_exporter": "python",
   "pygments_lexer": "ipython3",
   "version": "3.6.5"
  }
 },
 "nbformat": 4,
 "nbformat_minor": 2
}
