{
 "cells": [
  {
   "cell_type": "code",
   "execution_count": 2,
   "metadata": {},
   "outputs": [],
   "source": [
    "import pandas as pd\n",
    "from Bio import SeqIO\n",
    "from Bio.SeqRecord import SeqRecord\n",
    "from Bio.Seq import Seq\n",
    "import matplotlib.pyplot as plt\n",
    "import seaborn as sns\n"
   ]
  },
  {
   "cell_type": "code",
   "execution_count": 3,
   "metadata": {},
   "outputs": [],
   "source": [
    "res_dir = 'res'\n",
    "experiments = ['mrcv_mites','mrcv_all','sun_all','sun_mites']\n",
    "#experiments = ['sun_all','sun_mites']\n",
    "#res_dir = 'all_res'\n",
    "path = '../data/shortstack/%s/Results.txt'\n",
    "path_annotation = '../data/introns.gff3'\n",
    "path_annotation_promoters = '../data/promoters.gff3'\n",
    "path_mites = \"../data/res/mites_consensus.fasta\"\n",
    "path_mites_res = '../data/res/mites_prod.fasta'\n",
    "path_res = '../data/res/all_results.csv'\n",
    "path_mirna_seq = '../data/res/mirna.y.fasta'\n",
    "path_mirna_seq_trep = '../data/res/mirna.y.trep.fasta'\n",
    "path_mirna_mites_seq = '../data/res/mirna.mites.y.fasta'\n",
    "path_mirna_mature = '../data/res/mirna.y.mature.csv'\n",
    "path_res_seq = '../data/res/all_results.fasta'\n",
    "\n",
    "path_genome = '../data/Triticum_aestivum.IWGSC.dna.toplevel.fa'\n",
    "path_blast_res_mirna_mites = '../data/res/blast_mirna_mites.csv'\n",
    "path_blast_res_mites_mirna = '../data/res/blast_mites_mirna.csv'\n",
    "\n",
    "\n",
    "\n",
    "path_mirbase = '../data/mature.fa'"
   ]
  },
  {
   "cell_type": "code",
   "execution_count": 3,
   "metadata": {},
   "outputs": [
    {
     "name": "stdout",
     "output_type": "stream",
     "text": [
      "Experiment: mrcv_mites\n",
      "All results: 1211339\n",
      "Only hotspots with +10 reads: 37695\n",
      "**********\n",
      "Experiment: mrcv_all\n",
      "All results: 38532\n",
      "Only hotspots with +10 reads: 38532\n",
      "**********\n",
      "Experiment: sun_all\n",
      "All results: 157492\n",
      "Only hotspots with +10 reads: 157492\n",
      "**********\n",
      "Experiment: sun_mites\n",
      "All results: 1211339\n",
      "Only hotspots with +10 reads: 78708\n",
      "**********\n"
     ]
    }
   ],
   "source": [
    "### Load shortstack results\n",
    "dfs = {}\n",
    "for experiment in experiments:\n",
    "    experiment_path = path % (experiment,)\n",
    "    df = pd.read_csv(experiment_path, sep='\\t')\n",
    "    df['Name'] = experiment + '_' + df['Name']\n",
    "    print('Experiment:', experiment)\n",
    "    print('All results:',len(df.index))\n",
    "    #df = df[df.MIRNA == 'Y']\n",
    "    #print('Only miRNAs:',len(df.index))\n",
    "    df = df[df.Reads > 10]\n",
    "    print('Only hotspots with +10 reads:',len(df.index))\n",
    "    #df = df[df['21'] > 5]\n",
    "    #print('Only miRNAs 21nt +5 reads:',len(df.index))\n",
    "    print('*' * 10)\n",
    "    dfs[experiment] = df"
   ]
  },
  {
   "cell_type": "code",
   "execution_count": 4,
   "metadata": {},
   "outputs": [],
   "source": [
    "dfs = [ v for v in dfs.values() ]"
   ]
  },
  {
   "cell_type": "code",
   "execution_count": 5,
   "metadata": {},
   "outputs": [],
   "source": [
    "df = pd.concat(dfs)"
   ]
  },
  {
   "cell_type": "code",
   "execution_count": 6,
   "metadata": {},
   "outputs": [
    {
     "data": {
      "text/plain": [
       "312427"
      ]
     },
     "execution_count": 6,
     "metadata": {},
     "output_type": "execute_result"
    }
   ],
   "source": [
    "len(df.index)"
   ]
  },
  {
   "cell_type": "code",
   "execution_count": null,
   "metadata": {},
   "outputs": [],
   "source": []
  },
  {
   "cell_type": "code",
   "execution_count": 7,
   "metadata": {},
   "outputs": [
    {
     "data": {
      "text/html": [
       "<div>\n",
       "<style scoped>\n",
       "    .dataframe tbody tr th:only-of-type {\n",
       "        vertical-align: middle;\n",
       "    }\n",
       "\n",
       "    .dataframe tbody tr th {\n",
       "        vertical-align: top;\n",
       "    }\n",
       "\n",
       "    .dataframe thead th {\n",
       "        text-align: right;\n",
       "    }\n",
       "</style>\n",
       "<table border=\"1\" class=\"dataframe\">\n",
       "  <thead>\n",
       "    <tr style=\"text-align: right;\">\n",
       "      <th></th>\n",
       "      <th>#Locus</th>\n",
       "      <th>Name</th>\n",
       "      <th>Length</th>\n",
       "      <th>Reads</th>\n",
       "      <th>RPM</th>\n",
       "      <th>UniqueReads</th>\n",
       "      <th>FracTop</th>\n",
       "      <th>Strand</th>\n",
       "      <th>MajorRNA</th>\n",
       "      <th>MajorRNAReads</th>\n",
       "      <th>...</th>\n",
       "      <th>DicerCall</th>\n",
       "      <th>MIRNA</th>\n",
       "      <th>PhaseScore</th>\n",
       "      <th>Short</th>\n",
       "      <th>Long</th>\n",
       "      <th>20</th>\n",
       "      <th>21</th>\n",
       "      <th>22</th>\n",
       "      <th>23</th>\n",
       "      <th>24</th>\n",
       "    </tr>\n",
       "  </thead>\n",
       "  <tbody>\n",
       "    <tr>\n",
       "      <th>104</th>\n",
       "      <td>1A:1195670-1195768</td>\n",
       "      <td>mrcv_mites_MITE_T_102265|chr6B|218219330|21821...</td>\n",
       "      <td>99</td>\n",
       "      <td>23</td>\n",
       "      <td>0.181</td>\n",
       "      <td>15</td>\n",
       "      <td>0.783</td>\n",
       "      <td>.</td>\n",
       "      <td>AAUGUAAGAUGUUUUUUUGACACU</td>\n",
       "      <td>7</td>\n",
       "      <td>...</td>\n",
       "      <td>24</td>\n",
       "      <td>N6</td>\n",
       "      <td>0.0</td>\n",
       "      <td>0</td>\n",
       "      <td>0</td>\n",
       "      <td>0</td>\n",
       "      <td>0</td>\n",
       "      <td>1</td>\n",
       "      <td>6</td>\n",
       "      <td>16</td>\n",
       "    </tr>\n",
       "    <tr>\n",
       "      <th>111</th>\n",
       "      <td>1A:1239059-1239290</td>\n",
       "      <td>mrcv_mites_MITE_T_45812|chr5A|568401370|568401...</td>\n",
       "      <td>232</td>\n",
       "      <td>30</td>\n",
       "      <td>0.235</td>\n",
       "      <td>7</td>\n",
       "      <td>0.833</td>\n",
       "      <td>+</td>\n",
       "      <td>GAGGACGCACUAUAUUUUAGAACG</td>\n",
       "      <td>12</td>\n",
       "      <td>...</td>\n",
       "      <td>24</td>\n",
       "      <td>N14</td>\n",
       "      <td>-1.0</td>\n",
       "      <td>0</td>\n",
       "      <td>4</td>\n",
       "      <td>0</td>\n",
       "      <td>0</td>\n",
       "      <td>0</td>\n",
       "      <td>1</td>\n",
       "      <td>25</td>\n",
       "    </tr>\n",
       "  </tbody>\n",
       "</table>\n",
       "<p>2 rows × 21 columns</p>\n",
       "</div>"
      ],
      "text/plain": [
       "                 #Locus                                               Name  \\\n",
       "104  1A:1195670-1195768  mrcv_mites_MITE_T_102265|chr6B|218219330|21821...   \n",
       "111  1A:1239059-1239290  mrcv_mites_MITE_T_45812|chr5A|568401370|568401...   \n",
       "\n",
       "     Length  Reads    RPM  UniqueReads  FracTop Strand  \\\n",
       "104      99     23  0.181           15    0.783      .   \n",
       "111     232     30  0.235            7    0.833      +   \n",
       "\n",
       "                     MajorRNA  MajorRNAReads  ...  DicerCall MIRNA PhaseScore  \\\n",
       "104  AAUGUAAGAUGUUUUUUUGACACU              7  ...         24    N6        0.0   \n",
       "111  GAGGACGCACUAUAUUUUAGAACG             12  ...         24   N14       -1.0   \n",
       "\n",
       "     Short  Long  20  21  22  23  24  \n",
       "104      0     0   0   0   1   6  16  \n",
       "111      0     4   0   0   0   1  25  \n",
       "\n",
       "[2 rows x 21 columns]"
      ]
     },
     "execution_count": 7,
     "metadata": {},
     "output_type": "execute_result"
    }
   ],
   "source": [
    "df.head(2)"
   ]
  },
  {
   "cell_type": "code",
   "execution_count": 8,
   "metadata": {},
   "outputs": [],
   "source": [
    "#rename correctly all loci"
   ]
  },
  {
   "cell_type": "code",
   "execution_count": 9,
   "metadata": {},
   "outputs": [],
   "source": [
    "df['Name'] = df['Name'].str.split('|').str[0]"
   ]
  },
  {
   "cell_type": "code",
   "execution_count": 10,
   "metadata": {},
   "outputs": [
    {
     "data": {
      "text/html": [
       "<div>\n",
       "<style scoped>\n",
       "    .dataframe tbody tr th:only-of-type {\n",
       "        vertical-align: middle;\n",
       "    }\n",
       "\n",
       "    .dataframe tbody tr th {\n",
       "        vertical-align: top;\n",
       "    }\n",
       "\n",
       "    .dataframe thead th {\n",
       "        text-align: right;\n",
       "    }\n",
       "</style>\n",
       "<table border=\"1\" class=\"dataframe\">\n",
       "  <thead>\n",
       "    <tr style=\"text-align: right;\">\n",
       "      <th></th>\n",
       "      <th>#Locus</th>\n",
       "      <th>Name</th>\n",
       "      <th>Length</th>\n",
       "      <th>Reads</th>\n",
       "      <th>RPM</th>\n",
       "      <th>UniqueReads</th>\n",
       "      <th>FracTop</th>\n",
       "      <th>Strand</th>\n",
       "      <th>MajorRNA</th>\n",
       "      <th>MajorRNAReads</th>\n",
       "      <th>...</th>\n",
       "      <th>DicerCall</th>\n",
       "      <th>MIRNA</th>\n",
       "      <th>PhaseScore</th>\n",
       "      <th>Short</th>\n",
       "      <th>Long</th>\n",
       "      <th>20</th>\n",
       "      <th>21</th>\n",
       "      <th>22</th>\n",
       "      <th>23</th>\n",
       "      <th>24</th>\n",
       "    </tr>\n",
       "  </thead>\n",
       "  <tbody>\n",
       "    <tr>\n",
       "      <th>104</th>\n",
       "      <td>1A:1195670-1195768</td>\n",
       "      <td>mrcv_mites_MITE_T_102265</td>\n",
       "      <td>99</td>\n",
       "      <td>23</td>\n",
       "      <td>0.181</td>\n",
       "      <td>15</td>\n",
       "      <td>0.783</td>\n",
       "      <td>.</td>\n",
       "      <td>AAUGUAAGAUGUUUUUUUGACACU</td>\n",
       "      <td>7</td>\n",
       "      <td>...</td>\n",
       "      <td>24</td>\n",
       "      <td>N6</td>\n",
       "      <td>0.0</td>\n",
       "      <td>0</td>\n",
       "      <td>0</td>\n",
       "      <td>0</td>\n",
       "      <td>0</td>\n",
       "      <td>1</td>\n",
       "      <td>6</td>\n",
       "      <td>16</td>\n",
       "    </tr>\n",
       "    <tr>\n",
       "      <th>111</th>\n",
       "      <td>1A:1239059-1239290</td>\n",
       "      <td>mrcv_mites_MITE_T_45812</td>\n",
       "      <td>232</td>\n",
       "      <td>30</td>\n",
       "      <td>0.235</td>\n",
       "      <td>7</td>\n",
       "      <td>0.833</td>\n",
       "      <td>+</td>\n",
       "      <td>GAGGACGCACUAUAUUUUAGAACG</td>\n",
       "      <td>12</td>\n",
       "      <td>...</td>\n",
       "      <td>24</td>\n",
       "      <td>N14</td>\n",
       "      <td>-1.0</td>\n",
       "      <td>0</td>\n",
       "      <td>4</td>\n",
       "      <td>0</td>\n",
       "      <td>0</td>\n",
       "      <td>0</td>\n",
       "      <td>1</td>\n",
       "      <td>25</td>\n",
       "    </tr>\n",
       "  </tbody>\n",
       "</table>\n",
       "<p>2 rows × 21 columns</p>\n",
       "</div>"
      ],
      "text/plain": [
       "                 #Locus                      Name  Length  Reads    RPM  \\\n",
       "104  1A:1195670-1195768  mrcv_mites_MITE_T_102265      99     23  0.181   \n",
       "111  1A:1239059-1239290   mrcv_mites_MITE_T_45812     232     30  0.235   \n",
       "\n",
       "     UniqueReads  FracTop Strand                  MajorRNA  MajorRNAReads  \\\n",
       "104           15    0.783      .  AAUGUAAGAUGUUUUUUUGACACU              7   \n",
       "111            7    0.833      +  GAGGACGCACUAUAUUUUAGAACG             12   \n",
       "\n",
       "     ...  DicerCall MIRNA PhaseScore  Short  Long  20  21  22  23  24  \n",
       "104  ...         24    N6        0.0      0     0   0   0   1   6  16  \n",
       "111  ...         24   N14       -1.0      0     4   0   0   0   1  25  \n",
       "\n",
       "[2 rows x 21 columns]"
      ]
     },
     "execution_count": 10,
     "metadata": {},
     "output_type": "execute_result"
    }
   ],
   "source": [
    "df.head(2)"
   ]
  },
  {
   "cell_type": "code",
   "execution_count": null,
   "metadata": {},
   "outputs": [],
   "source": []
  },
  {
   "cell_type": "code",
   "execution_count": 11,
   "metadata": {},
   "outputs": [],
   "source": [
    "df['seqname'] = df['#Locus'].str.split(':').str[0]\n",
    "df['position'] = df['#Locus'].str.split(':').str[1]\n",
    "df['start'] = df.position.str.split('-').str[0].astype(int)\n",
    "df['end'] = df.position.str.split('-').str[1].astype(int)"
   ]
  },
  {
   "cell_type": "code",
   "execution_count": 12,
   "metadata": {},
   "outputs": [],
   "source": [
    "df['Name'] = df['Name'] + '_' + df['seqname'] + '_' + df['start'].astype(str) + '_' + df['end'].astype(str)"
   ]
  },
  {
   "cell_type": "code",
   "execution_count": 13,
   "metadata": {},
   "outputs": [
    {
     "data": {
      "text/html": [
       "<div>\n",
       "<style scoped>\n",
       "    .dataframe tbody tr th:only-of-type {\n",
       "        vertical-align: middle;\n",
       "    }\n",
       "\n",
       "    .dataframe tbody tr th {\n",
       "        vertical-align: top;\n",
       "    }\n",
       "\n",
       "    .dataframe thead th {\n",
       "        text-align: right;\n",
       "    }\n",
       "</style>\n",
       "<table border=\"1\" class=\"dataframe\">\n",
       "  <thead>\n",
       "    <tr style=\"text-align: right;\">\n",
       "      <th></th>\n",
       "      <th>#Locus</th>\n",
       "      <th>Name</th>\n",
       "      <th>Length</th>\n",
       "      <th>Reads</th>\n",
       "      <th>RPM</th>\n",
       "      <th>UniqueReads</th>\n",
       "      <th>FracTop</th>\n",
       "      <th>Strand</th>\n",
       "      <th>MajorRNA</th>\n",
       "      <th>MajorRNAReads</th>\n",
       "      <th>...</th>\n",
       "      <th>Long</th>\n",
       "      <th>20</th>\n",
       "      <th>21</th>\n",
       "      <th>22</th>\n",
       "      <th>23</th>\n",
       "      <th>24</th>\n",
       "      <th>seqname</th>\n",
       "      <th>position</th>\n",
       "      <th>start</th>\n",
       "      <th>end</th>\n",
       "    </tr>\n",
       "  </thead>\n",
       "  <tbody>\n",
       "    <tr>\n",
       "      <th>104</th>\n",
       "      <td>1A:1195670-1195768</td>\n",
       "      <td>mrcv_mites_MITE_T_102265_1A_1195670_1195768</td>\n",
       "      <td>99</td>\n",
       "      <td>23</td>\n",
       "      <td>0.181</td>\n",
       "      <td>15</td>\n",
       "      <td>0.783</td>\n",
       "      <td>.</td>\n",
       "      <td>AAUGUAAGAUGUUUUUUUGACACU</td>\n",
       "      <td>7</td>\n",
       "      <td>...</td>\n",
       "      <td>0</td>\n",
       "      <td>0</td>\n",
       "      <td>0</td>\n",
       "      <td>1</td>\n",
       "      <td>6</td>\n",
       "      <td>16</td>\n",
       "      <td>1A</td>\n",
       "      <td>1195670-1195768</td>\n",
       "      <td>1195670</td>\n",
       "      <td>1195768</td>\n",
       "    </tr>\n",
       "    <tr>\n",
       "      <th>111</th>\n",
       "      <td>1A:1239059-1239290</td>\n",
       "      <td>mrcv_mites_MITE_T_45812_1A_1239059_1239290</td>\n",
       "      <td>232</td>\n",
       "      <td>30</td>\n",
       "      <td>0.235</td>\n",
       "      <td>7</td>\n",
       "      <td>0.833</td>\n",
       "      <td>+</td>\n",
       "      <td>GAGGACGCACUAUAUUUUAGAACG</td>\n",
       "      <td>12</td>\n",
       "      <td>...</td>\n",
       "      <td>4</td>\n",
       "      <td>0</td>\n",
       "      <td>0</td>\n",
       "      <td>0</td>\n",
       "      <td>1</td>\n",
       "      <td>25</td>\n",
       "      <td>1A</td>\n",
       "      <td>1239059-1239290</td>\n",
       "      <td>1239059</td>\n",
       "      <td>1239290</td>\n",
       "    </tr>\n",
       "  </tbody>\n",
       "</table>\n",
       "<p>2 rows × 25 columns</p>\n",
       "</div>"
      ],
      "text/plain": [
       "                 #Locus                                         Name  Length  \\\n",
       "104  1A:1195670-1195768  mrcv_mites_MITE_T_102265_1A_1195670_1195768      99   \n",
       "111  1A:1239059-1239290   mrcv_mites_MITE_T_45812_1A_1239059_1239290     232   \n",
       "\n",
       "     Reads    RPM  UniqueReads  FracTop Strand                  MajorRNA  \\\n",
       "104     23  0.181           15    0.783      .  AAUGUAAGAUGUUUUUUUGACACU   \n",
       "111     30  0.235            7    0.833      +  GAGGACGCACUAUAUUUUAGAACG   \n",
       "\n",
       "     MajorRNAReads  ...  Long 20 21  22  23  24  seqname         position  \\\n",
       "104              7  ...     0  0  0   1   6  16       1A  1195670-1195768   \n",
       "111             12  ...     4  0  0   0   1  25       1A  1239059-1239290   \n",
       "\n",
       "       start      end  \n",
       "104  1195670  1195768  \n",
       "111  1239059  1239290  \n",
       "\n",
       "[2 rows x 25 columns]"
      ]
     },
     "execution_count": 13,
     "metadata": {},
     "output_type": "execute_result"
    }
   ],
   "source": [
    "df.head(2)"
   ]
  },
  {
   "cell_type": "code",
   "execution_count": 14,
   "metadata": {},
   "outputs": [
    {
     "data": {
      "text/html": [
       "<div>\n",
       "<style scoped>\n",
       "    .dataframe tbody tr th:only-of-type {\n",
       "        vertical-align: middle;\n",
       "    }\n",
       "\n",
       "    .dataframe tbody tr th {\n",
       "        vertical-align: top;\n",
       "    }\n",
       "\n",
       "    .dataframe thead th {\n",
       "        text-align: right;\n",
       "    }\n",
       "</style>\n",
       "<table border=\"1\" class=\"dataframe\">\n",
       "  <thead>\n",
       "    <tr style=\"text-align: right;\">\n",
       "      <th></th>\n",
       "      <th>#Locus</th>\n",
       "      <th>Name</th>\n",
       "      <th>Length</th>\n",
       "      <th>Reads</th>\n",
       "      <th>RPM</th>\n",
       "      <th>UniqueReads</th>\n",
       "      <th>FracTop</th>\n",
       "      <th>Strand</th>\n",
       "      <th>MajorRNA</th>\n",
       "      <th>MajorRNAReads</th>\n",
       "      <th>...</th>\n",
       "      <th>Long</th>\n",
       "      <th>20</th>\n",
       "      <th>21</th>\n",
       "      <th>22</th>\n",
       "      <th>23</th>\n",
       "      <th>24</th>\n",
       "      <th>seqname</th>\n",
       "      <th>position</th>\n",
       "      <th>start</th>\n",
       "      <th>end</th>\n",
       "    </tr>\n",
       "  </thead>\n",
       "  <tbody>\n",
       "  </tbody>\n",
       "</table>\n",
       "<p>0 rows × 25 columns</p>\n",
       "</div>"
      ],
      "text/plain": [
       "Empty DataFrame\n",
       "Columns: [#Locus, Name, Length, Reads, RPM, UniqueReads, FracTop, Strand, MajorRNA, MajorRNAReads, Complexity, DicerCall, MIRNA, PhaseScore, Short, Long, 20, 21, 22, 23, 24, seqname, position, start, end]\n",
       "Index: []\n",
       "\n",
       "[0 rows x 25 columns]"
      ]
     },
     "execution_count": 14,
     "metadata": {},
     "output_type": "execute_result"
    }
   ],
   "source": [
    "df[df.duplicated(['Name'],keep=False)]"
   ]
  },
  {
   "cell_type": "code",
   "execution_count": 23,
   "metadata": {},
   "outputs": [],
   "source": [
    "df = df.reset_index(drop=True)\n"
   ]
  },
  {
   "cell_type": "code",
   "execution_count": null,
   "metadata": {},
   "outputs": [],
   "source": []
  },
  {
   "cell_type": "code",
   "execution_count": 24,
   "metadata": {},
   "outputs": [
    {
     "name": "stdout",
     "output_type": "stream",
     "text": [
      "280891\n"
     ]
    }
   ],
   "source": [
    "print(len(df.index))"
   ]
  },
  {
   "cell_type": "code",
   "execution_count": 25,
   "metadata": {},
   "outputs": [
    {
     "data": {
      "text/html": [
       "<div>\n",
       "<style scoped>\n",
       "    .dataframe tbody tr th:only-of-type {\n",
       "        vertical-align: middle;\n",
       "    }\n",
       "\n",
       "    .dataframe tbody tr th {\n",
       "        vertical-align: top;\n",
       "    }\n",
       "\n",
       "    .dataframe thead th {\n",
       "        text-align: right;\n",
       "    }\n",
       "</style>\n",
       "<table border=\"1\" class=\"dataframe\">\n",
       "  <thead>\n",
       "    <tr style=\"text-align: right;\">\n",
       "      <th></th>\n",
       "      <th>#Locus</th>\n",
       "      <th>Name</th>\n",
       "      <th>Length</th>\n",
       "      <th>Reads</th>\n",
       "      <th>RPM</th>\n",
       "      <th>UniqueReads</th>\n",
       "      <th>FracTop</th>\n",
       "      <th>Strand</th>\n",
       "      <th>MajorRNA</th>\n",
       "      <th>MajorRNAReads</th>\n",
       "      <th>...</th>\n",
       "      <th>Long</th>\n",
       "      <th>20</th>\n",
       "      <th>21</th>\n",
       "      <th>22</th>\n",
       "      <th>23</th>\n",
       "      <th>24</th>\n",
       "      <th>seqname</th>\n",
       "      <th>position</th>\n",
       "      <th>start</th>\n",
       "      <th>end</th>\n",
       "    </tr>\n",
       "  </thead>\n",
       "  <tbody>\n",
       "    <tr>\n",
       "      <th>27433</th>\n",
       "      <td>7A:669483223-669483681</td>\n",
       "      <td>mrcv_mites_DTM_Null_Vacuna_consensus-1_7A_6694...</td>\n",
       "      <td>459</td>\n",
       "      <td>19</td>\n",
       "      <td>0.149</td>\n",
       "      <td>6</td>\n",
       "      <td>0.632</td>\n",
       "      <td>.</td>\n",
       "      <td>ACUCAUUCCUGCAUCACGAUUCGU</td>\n",
       "      <td>3</td>\n",
       "      <td>...</td>\n",
       "      <td>1</td>\n",
       "      <td>1</td>\n",
       "      <td>0</td>\n",
       "      <td>0</td>\n",
       "      <td>1</td>\n",
       "      <td>16</td>\n",
       "      <td>7A</td>\n",
       "      <td>669483223-669483681</td>\n",
       "      <td>669483223</td>\n",
       "      <td>669483681</td>\n",
       "    </tr>\n",
       "  </tbody>\n",
       "</table>\n",
       "<p>1 rows × 25 columns</p>\n",
       "</div>"
      ],
      "text/plain": [
       "                       #Locus  \\\n",
       "27433  7A:669483223-669483681   \n",
       "\n",
       "                                                    Name  Length  Reads  \\\n",
       "27433  mrcv_mites_DTM_Null_Vacuna_consensus-1_7A_6694...     459     19   \n",
       "\n",
       "         RPM  UniqueReads  FracTop Strand                  MajorRNA  \\\n",
       "27433  0.149            6    0.632      .  ACUCAUUCCUGCAUCACGAUUCGU   \n",
       "\n",
       "       MajorRNAReads  ...  Long 20 21  22  23  24  seqname  \\\n",
       "27433              3  ...     1  1  0   0   1  16       7A   \n",
       "\n",
       "                  position      start        end  \n",
       "27433  669483223-669483681  669483223  669483681  \n",
       "\n",
       "[1 rows x 25 columns]"
      ]
     },
     "execution_count": 25,
     "metadata": {},
     "output_type": "execute_result"
    }
   ],
   "source": [
    "df[df.index.isin(['876749','876750','876751','27433'])]"
   ]
  },
  {
   "cell_type": "code",
   "execution_count": 26,
   "metadata": {},
   "outputs": [],
   "source": [
    "df_sep = {}\n",
    "for seqname in df.seqname.unique():\n",
    "    df_sep[seqname] = df[df.seqname == seqname]\n"
   ]
  },
  {
   "cell_type": "code",
   "execution_count": null,
   "metadata": {},
   "outputs": [],
   "source": []
  },
  {
   "cell_type": "code",
   "execution_count": 19,
   "metadata": {},
   "outputs": [],
   "source": [
    "min_distance = 150\n",
    "duplicated = []\n",
    "for k,v in df.iterrows():\n",
    "    if k in duplicated:\n",
    "        continue\n",
    "    other = df_sep[v.seqname]\n",
    "    other = other[(other.index != k) & \n",
    "                (other.MajorRNA == v.MajorRNA) &\n",
    "                (abs(other.start - v.start) <= min_distance) & \n",
    "                (abs(other.end - v.end) <= min_distance)]\n",
    "    if len(other.index) > 0:\n",
    "        duplicated += other.index.tolist()"
   ]
  },
  {
   "cell_type": "code",
   "execution_count": 20,
   "metadata": {},
   "outputs": [
    {
     "name": "stdout",
     "output_type": "stream",
     "text": [
      "31536\n"
     ]
    }
   ],
   "source": [
    "duplicated = set(duplicated)\n",
    "print(len(duplicated))"
   ]
  },
  {
   "cell_type": "code",
   "execution_count": 21,
   "metadata": {},
   "outputs": [
    {
     "name": "stdout",
     "output_type": "stream",
     "text": [
      "312427\n"
     ]
    }
   ],
   "source": [
    "print(len(df.index))"
   ]
  },
  {
   "cell_type": "code",
   "execution_count": 22,
   "metadata": {},
   "outputs": [
    {
     "data": {
      "text/plain": [
       "280891"
      ]
     },
     "execution_count": 22,
     "metadata": {},
     "output_type": "execute_result"
    }
   ],
   "source": [
    "df = df[~df.index.isin(duplicated)]\n",
    "count_total = len(df.index)\n",
    "count_total"
   ]
  },
  {
   "cell_type": "code",
   "execution_count": null,
   "metadata": {},
   "outputs": [],
   "source": []
  },
  {
   "cell_type": "code",
   "execution_count": null,
   "metadata": {},
   "outputs": [],
   "source": []
  },
  {
   "cell_type": "code",
   "execution_count": 23,
   "metadata": {},
   "outputs": [
    {
     "data": {
      "text/plain": [
       "N6     163879\n",
       "N11     53007\n",
       "N5      22553\n",
       "N2      18426\n",
       "N14      7355\n",
       "N13      4901\n",
       "N12      4763\n",
       "N15      2081\n",
       "N3       1834\n",
       "N4       1576\n",
       "Y         270\n",
       "N8        246\n",
       "Name: MIRNA, dtype: int64"
      ]
     },
     "execution_count": 23,
     "metadata": {},
     "output_type": "execute_result"
    }
   ],
   "source": [
    "df.MIRNA.value_counts()"
   ]
  },
  {
   "cell_type": "code",
   "execution_count": 24,
   "metadata": {},
   "outputs": [
    {
     "data": {
      "text/plain": [
       "<matplotlib.axes._subplots.AxesSubplot at 0x7f0e425e6be0>"
      ]
     },
     "execution_count": 24,
     "metadata": {},
     "output_type": "execute_result"
    },
    {
     "data": {
      "image/png": "[encoded data removed]",
      "text/plain": [
       "<Figure size 432x288 with 1 Axes>"
      ]
     },
     "metadata": {
      "needs_background": "light"
     },
     "output_type": "display_data"
    }
   ],
   "source": [
    "df.MIRNA.value_counts().plot(kind='bar')"
   ]
  },
  {
   "cell_type": "code",
   "execution_count": null,
   "metadata": {},
   "outputs": [],
   "source": []
  },
  {
   "cell_type": "code",
   "execution_count": null,
   "metadata": {},
   "outputs": [],
   "source": []
  },
  {
   "cell_type": "code",
   "execution_count": 25,
   "metadata": {},
   "outputs": [
    {
     "name": "stdout",
     "output_type": "stream",
     "text": [
      "Only miRNAs: 270\n"
     ]
    }
   ],
   "source": [
    "df = df[df.MIRNA == 'Y']\n",
    "print('Only miRNAs:',len(df.index))"
   ]
  },
  {
   "cell_type": "code",
   "execution_count": null,
   "metadata": {},
   "outputs": [],
   "source": []
  },
  {
   "cell_type": "code",
   "execution_count": 26,
   "metadata": {},
   "outputs": [
    {
     "data": {
      "text/plain": [
       "DicerCall\n",
       "20     18\n",
       "21    175\n",
       "22     35\n",
       "23      7\n",
       "24     35\n",
       "Name: Name, dtype: int64"
      ]
     },
     "execution_count": 26,
     "metadata": {},
     "output_type": "execute_result"
    }
   ],
   "source": [
    " df.groupby('DicerCall').count()['Name']"
   ]
  },
  {
   "cell_type": "code",
   "execution_count": 27,
   "metadata": {},
   "outputs": [
    {
     "data": {
      "image/png": "[encoded data removed]",
      "text/plain": [
       "<Figure size 432x288 with 1 Axes>"
      ]
     },
     "metadata": {
      "needs_background": "light"
     },
     "output_type": "display_data"
    }
   ],
   "source": [
    "df_plot = df.groupby('DicerCall').count()\n",
    "from matplotlib.ticker import MaxNLocator\n",
    "from matplotlib import pyplot\n",
    "ax = sns.barplot(x = df_plot.index, y = df_plot.Name)\n",
    "x_offset = -0.07\n",
    "y_offset = 0.15\n",
    "ax.yaxis.set_major_locator(MaxNLocator(integer=True))\n",
    "\n",
    "for p in ax.patches:\n",
    "    b = p.get_bbox()\n",
    "    val = int(b.y1)\n",
    "    ax.annotate(val, ((b.x0 + b.x1)/2 + x_offset, b.y1 + y_offset))\n",
    "ax\n",
    "pyplot.savefig('../data/res/mirna_sizes.png',transparent=True, bbox_inches='tight', pad_inches=0)"
   ]
  },
  {
   "cell_type": "code",
   "execution_count": null,
   "metadata": {},
   "outputs": [],
   "source": []
  },
  {
   "cell_type": "code",
   "execution_count": null,
   "metadata": {},
   "outputs": [],
   "source": []
  },
  {
   "cell_type": "code",
   "execution_count": 28,
   "metadata": {},
   "outputs": [
    {
     "data": {
      "text/html": [
       "<div>\n",
       "<style scoped>\n",
       "    .dataframe tbody tr th:only-of-type {\n",
       "        vertical-align: middle;\n",
       "    }\n",
       "\n",
       "    .dataframe tbody tr th {\n",
       "        vertical-align: top;\n",
       "    }\n",
       "\n",
       "    .dataframe thead th {\n",
       "        text-align: right;\n",
       "    }\n",
       "</style>\n",
       "<table border=\"1\" class=\"dataframe\">\n",
       "  <thead>\n",
       "    <tr style=\"text-align: right;\">\n",
       "      <th></th>\n",
       "      <th>#Locus</th>\n",
       "      <th>Name</th>\n",
       "      <th>Length</th>\n",
       "      <th>Reads</th>\n",
       "      <th>RPM</th>\n",
       "      <th>UniqueReads</th>\n",
       "      <th>FracTop</th>\n",
       "      <th>Strand</th>\n",
       "      <th>MajorRNA</th>\n",
       "      <th>MajorRNAReads</th>\n",
       "      <th>...</th>\n",
       "      <th>Long</th>\n",
       "      <th>20</th>\n",
       "      <th>21</th>\n",
       "      <th>22</th>\n",
       "      <th>23</th>\n",
       "      <th>24</th>\n",
       "      <th>seqname</th>\n",
       "      <th>position</th>\n",
       "      <th>start</th>\n",
       "      <th>end</th>\n",
       "    </tr>\n",
       "  </thead>\n",
       "  <tbody>\n",
       "    <tr>\n",
       "      <th>519</th>\n",
       "      <td>1A:169645857-169646029</td>\n",
       "      <td>mrcv_mites_MITE_T_62663_1A_169645857_169646029</td>\n",
       "      <td>173</td>\n",
       "      <td>16</td>\n",
       "      <td>0.126</td>\n",
       "      <td>3</td>\n",
       "      <td>1.000</td>\n",
       "      <td>+</td>\n",
       "      <td>UAGAGAUUUCAAAUGGAACAC</td>\n",
       "      <td>7</td>\n",
       "      <td>...</td>\n",
       "      <td>2</td>\n",
       "      <td>2</td>\n",
       "      <td>9</td>\n",
       "      <td>0</td>\n",
       "      <td>0</td>\n",
       "      <td>3</td>\n",
       "      <td>1A</td>\n",
       "      <td>169645857-169646029</td>\n",
       "      <td>169645857</td>\n",
       "      <td>169646029</td>\n",
       "    </tr>\n",
       "    <tr>\n",
       "      <th>3173</th>\n",
       "      <td>1D:147896240-147896319</td>\n",
       "      <td>mrcv_mites_MITE_T_120271_1D_147896240_147896319</td>\n",
       "      <td>80</td>\n",
       "      <td>45</td>\n",
       "      <td>0.353</td>\n",
       "      <td>1</td>\n",
       "      <td>1.000</td>\n",
       "      <td>+</td>\n",
       "      <td>UAUAUUUUGGUACGGAGGGAU</td>\n",
       "      <td>22</td>\n",
       "      <td>...</td>\n",
       "      <td>4</td>\n",
       "      <td>2</td>\n",
       "      <td>38</td>\n",
       "      <td>1</td>\n",
       "      <td>0</td>\n",
       "      <td>0</td>\n",
       "      <td>1D</td>\n",
       "      <td>147896240-147896319</td>\n",
       "      <td>147896240</td>\n",
       "      <td>147896319</td>\n",
       "    </tr>\n",
       "    <tr>\n",
       "      <th>5099</th>\n",
       "      <td>2A:168984136-168984233</td>\n",
       "      <td>mrcv_mites_MITE_T_102616_2A_168984136_168984233</td>\n",
       "      <td>98</td>\n",
       "      <td>198</td>\n",
       "      <td>1.554</td>\n",
       "      <td>2</td>\n",
       "      <td>0.045</td>\n",
       "      <td>-</td>\n",
       "      <td>UCGGAAUUAGUUGACACUCAAA</td>\n",
       "      <td>86</td>\n",
       "      <td>...</td>\n",
       "      <td>1</td>\n",
       "      <td>1</td>\n",
       "      <td>39</td>\n",
       "      <td>89</td>\n",
       "      <td>63</td>\n",
       "      <td>1</td>\n",
       "      <td>2A</td>\n",
       "      <td>168984136-168984233</td>\n",
       "      <td>168984136</td>\n",
       "      <td>168984233</td>\n",
       "    </tr>\n",
       "  </tbody>\n",
       "</table>\n",
       "<p>3 rows × 25 columns</p>\n",
       "</div>"
      ],
      "text/plain": [
       "                      #Locus                                             Name  \\\n",
       "519   1A:169645857-169646029   mrcv_mites_MITE_T_62663_1A_169645857_169646029   \n",
       "3173  1D:147896240-147896319  mrcv_mites_MITE_T_120271_1D_147896240_147896319   \n",
       "5099  2A:168984136-168984233  mrcv_mites_MITE_T_102616_2A_168984136_168984233   \n",
       "\n",
       "      Length  Reads    RPM  UniqueReads  FracTop Strand  \\\n",
       "519      173     16  0.126            3    1.000      +   \n",
       "3173      80     45  0.353            1    1.000      +   \n",
       "5099      98    198  1.554            2    0.045      -   \n",
       "\n",
       "                    MajorRNA  MajorRNAReads  ...  Long 20  21  22  23  24  \\\n",
       "519    UAGAGAUUUCAAAUGGAACAC              7  ...     2  2   9   0   0   3   \n",
       "3173   UAUAUUUUGGUACGGAGGGAU             22  ...     4  2  38   1   0   0   \n",
       "5099  UCGGAAUUAGUUGACACUCAAA             86  ...     1  1  39  89  63   1   \n",
       "\n",
       "      seqname             position      start        end  \n",
       "519        1A  169645857-169646029  169645857  169646029  \n",
       "3173       1D  147896240-147896319  147896240  147896319  \n",
       "5099       2A  168984136-168984233  168984136  168984233  \n",
       "\n",
       "[3 rows x 25 columns]"
      ]
     },
     "execution_count": 28,
     "metadata": {},
     "output_type": "execute_result"
    }
   ],
   "source": [
    "df.head(3)"
   ]
  },
  {
   "cell_type": "code",
   "execution_count": null,
   "metadata": {},
   "outputs": [],
   "source": []
  },
  {
   "cell_type": "code",
   "execution_count": null,
   "metadata": {},
   "outputs": [],
   "source": []
  },
  {
   "cell_type": "code",
   "execution_count": 29,
   "metadata": {},
   "outputs": [],
   "source": [
    "#######################\n",
    "####  CHECKPOINT  #####\n",
    "#######################"
   ]
  },
  {
   "cell_type": "code",
   "execution_count": 30,
   "metadata": {},
   "outputs": [],
   "source": [
    "# SAVE CURRENT STATE\n",
    "\n",
    "df.to_csv('../data/res/checkpoint1.csv', index=None)\n"
   ]
  },
  {
   "cell_type": "code",
   "execution_count": 4,
   "metadata": {},
   "outputs": [
    {
     "name": "stdout",
     "output_type": "stream",
     "text": [
      "270\n"
     ]
    },
    {
     "data": {
      "text/html": [
       "<div>\n",
       "<style scoped>\n",
       "    .dataframe tbody tr th:only-of-type {\n",
       "        vertical-align: middle;\n",
       "    }\n",
       "\n",
       "    .dataframe tbody tr th {\n",
       "        vertical-align: top;\n",
       "    }\n",
       "\n",
       "    .dataframe thead th {\n",
       "        text-align: right;\n",
       "    }\n",
       "</style>\n",
       "<table border=\"1\" class=\"dataframe\">\n",
       "  <thead>\n",
       "    <tr style=\"text-align: right;\">\n",
       "      <th></th>\n",
       "      <th>#Locus</th>\n",
       "      <th>Name</th>\n",
       "      <th>Length</th>\n",
       "      <th>Reads</th>\n",
       "      <th>RPM</th>\n",
       "      <th>UniqueReads</th>\n",
       "      <th>FracTop</th>\n",
       "      <th>Strand</th>\n",
       "      <th>MajorRNA</th>\n",
       "      <th>MajorRNAReads</th>\n",
       "      <th>...</th>\n",
       "      <th>Long</th>\n",
       "      <th>20</th>\n",
       "      <th>21</th>\n",
       "      <th>22</th>\n",
       "      <th>23</th>\n",
       "      <th>24</th>\n",
       "      <th>seqname</th>\n",
       "      <th>position</th>\n",
       "      <th>start</th>\n",
       "      <th>end</th>\n",
       "    </tr>\n",
       "  </thead>\n",
       "  <tbody>\n",
       "    <tr>\n",
       "      <th>0</th>\n",
       "      <td>1A:169645857-169646029</td>\n",
       "      <td>mrcv_mites_MITE_T_62663_1A_169645857_169646029</td>\n",
       "      <td>173</td>\n",
       "      <td>16</td>\n",
       "      <td>0.126</td>\n",
       "      <td>3</td>\n",
       "      <td>1.0</td>\n",
       "      <td>+</td>\n",
       "      <td>UAGAGAUUUCAAAUGGAACAC</td>\n",
       "      <td>7</td>\n",
       "      <td>...</td>\n",
       "      <td>2</td>\n",
       "      <td>2</td>\n",
       "      <td>9</td>\n",
       "      <td>0</td>\n",
       "      <td>0</td>\n",
       "      <td>3</td>\n",
       "      <td>1A</td>\n",
       "      <td>169645857-169646029</td>\n",
       "      <td>169645857</td>\n",
       "      <td>169646029</td>\n",
       "    </tr>\n",
       "    <tr>\n",
       "      <th>1</th>\n",
       "      <td>1D:147896240-147896319</td>\n",
       "      <td>mrcv_mites_MITE_T_120271_1D_147896240_147896319</td>\n",
       "      <td>80</td>\n",
       "      <td>45</td>\n",
       "      <td>0.353</td>\n",
       "      <td>1</td>\n",
       "      <td>1.0</td>\n",
       "      <td>+</td>\n",
       "      <td>UAUAUUUUGGUACGGAGGGAU</td>\n",
       "      <td>22</td>\n",
       "      <td>...</td>\n",
       "      <td>4</td>\n",
       "      <td>2</td>\n",
       "      <td>38</td>\n",
       "      <td>1</td>\n",
       "      <td>0</td>\n",
       "      <td>0</td>\n",
       "      <td>1D</td>\n",
       "      <td>147896240-147896319</td>\n",
       "      <td>147896240</td>\n",
       "      <td>147896319</td>\n",
       "    </tr>\n",
       "  </tbody>\n",
       "</table>\n",
       "<p>2 rows × 25 columns</p>\n",
       "</div>"
      ],
      "text/plain": [
       "                   #Locus                                             Name  \\\n",
       "0  1A:169645857-169646029   mrcv_mites_MITE_T_62663_1A_169645857_169646029   \n",
       "1  1D:147896240-147896319  mrcv_mites_MITE_T_120271_1D_147896240_147896319   \n",
       "\n",
       "   Length  Reads    RPM  UniqueReads  FracTop Strand               MajorRNA  \\\n",
       "0     173     16  0.126            3      1.0      +  UAGAGAUUUCAAAUGGAACAC   \n",
       "1      80     45  0.353            1      1.0      +  UAUAUUUUGGUACGGAGGGAU   \n",
       "\n",
       "   MajorRNAReads  ...  Long  20  21  22  23  24  seqname             position  \\\n",
       "0              7  ...     2   2   9   0   0   3       1A  169645857-169646029   \n",
       "1             22  ...     4   2  38   1   0   0       1D  147896240-147896319   \n",
       "\n",
       "       start        end  \n",
       "0  169645857  169646029  \n",
       "1  147896240  147896319  \n",
       "\n",
       "[2 rows x 25 columns]"
      ]
     },
     "execution_count": 4,
     "metadata": {},
     "output_type": "execute_result"
    }
   ],
   "source": [
    "# LOAD PREVIOUS STATE\n",
    "df = pd.read_csv('../data/res/checkpoint1.csv')\n",
    "print(len(df.index))\n",
    "df.head(2)"
   ]
  },
  {
   "cell_type": "code",
   "execution_count": 5,
   "metadata": {},
   "outputs": [],
   "source": [
    "#######################\n",
    "##  END CHECKPOINT  ###\n",
    "#######################"
   ]
  },
  {
   "cell_type": "code",
   "execution_count": null,
   "metadata": {},
   "outputs": [],
   "source": []
  },
  {
   "cell_type": "code",
   "execution_count": 6,
   "metadata": {},
   "outputs": [
    {
     "data": {
      "text/plain": [
       "30"
      ]
     },
     "execution_count": 6,
     "metadata": {},
     "output_type": "execute_result"
    }
   ],
   "source": [
    "df_mites = df[df.Name.str.contains('MITE')]\n",
    "count_mites = len(df_mites.index)\n",
    "count_mites"
   ]
  },
  {
   "cell_type": "code",
   "execution_count": 7,
   "metadata": {},
   "outputs": [
    {
     "data": {
      "text/plain": [
       "240"
      ]
     },
     "execution_count": 7,
     "metadata": {},
     "output_type": "execute_result"
    }
   ],
   "source": [
    "df_nomites = df[~df.Name.str.contains('MITE')]\n",
    "count_nomites = len(df_nomites.index)\n",
    "count_nomites"
   ]
  },
  {
   "cell_type": "code",
   "execution_count": 8,
   "metadata": {},
   "outputs": [
    {
     "ename": "NameError",
     "evalue": "name 'count_total' is not defined",
     "output_type": "error",
     "traceback": [
      "\u001b[0;31m---------------------------------------------------------------------------\u001b[0m",
      "\u001b[0;31mNameError\u001b[0m                                 Traceback (most recent call last)",
      "\u001b[0;32m<ipython-input-8-8423e81a1a81>\u001b[0m in \u001b[0;36m<module>\u001b[0;34m\u001b[0m\n\u001b[0;32m----> 1\u001b[0;31m \u001b[0mcount_mites\u001b[0m \u001b[0;34m*\u001b[0m \u001b[0;36m100\u001b[0m \u001b[0;34m/\u001b[0m \u001b[0mcount_total\u001b[0m\u001b[0;34m\u001b[0m\u001b[0;34m\u001b[0m\u001b[0m\n\u001b[0m",
      "\u001b[0;31mNameError\u001b[0m: name 'count_total' is not defined"
     ]
    }
   ],
   "source": [
    "count_mites * 100 / count_total"
   ]
  },
  {
   "cell_type": "code",
   "execution_count": null,
   "metadata": {},
   "outputs": [],
   "source": []
  },
  {
   "cell_type": "code",
   "execution_count": 9,
   "metadata": {},
   "outputs": [],
   "source": [
    "#get sequences\n",
    "df.sort_values(['seqname', 'start'], inplace=True)\n"
   ]
  },
  {
   "cell_type": "code",
   "execution_count": 10,
   "metadata": {},
   "outputs": [],
   "source": [
    "fasta_seq = SeqIO.parse(path_genome, 'fasta')\n",
    "   "
   ]
  },
  {
   "cell_type": "code",
   "execution_count": 11,
   "metadata": {},
   "outputs": [
    {
     "name": "stdout",
     "output_type": "stream",
     "text": [
      "1A 6\n",
      "1B 6\n",
      "1D 7\n",
      "2A 14\n",
      "2B 18\n",
      "2D 5\n",
      "3A 9\n",
      "3B 8\n",
      "3D 12\n",
      "4A 18\n",
      "4B 8\n",
      "4D 10\n",
      "5A 20\n",
      "5B 15\n",
      "5D 22\n",
      "6A 18\n",
      "6B 17\n",
      "6D 16\n",
      "7A 15\n",
      "7B 18\n",
      "7D 5\n",
      "Un 3\n",
      "../data/res/all_results.fasta\n"
     ]
    }
   ],
   "source": [
    "buffer_seqs = []\n",
    "sizes = []\n",
    "for record in fasta_seq:\n",
    "    dff_extract = df[df.seqname == record.id]\n",
    "    print(record.id, len(dff_extract.index))\n",
    "    clean_seq = ''.join(str(record.seq).splitlines())\n",
    "    for k,v in dff_extract.iterrows():\n",
    "        start = min(v.start,v.end)\n",
    "        end = max(v.start,v.end)\n",
    "        sizes.append(abs(start - end))\n",
    "        new_seq = clean_seq[start:end]\n",
    "        id = v.Name\n",
    "        desc = record.id + \"_\" + str(start) + '_' + str(end)\n",
    "        seq = SeqRecord(Seq(new_seq), id=id, description=desc)\n",
    "        buffer_seqs.append(seq)\n",
    "SeqIO.write(buffer_seqs, path_res_seq, \"fasta\")\n",
    "print(path_res_seq)"
   ]
  },
  {
   "cell_type": "code",
   "execution_count": 15,
   "metadata": {},
   "outputs": [
    {
     "data": {
      "text/plain": [
       "180.45925925925926"
      ]
     },
     "execution_count": 15,
     "metadata": {},
     "output_type": "execute_result"
    }
   ],
   "source": [
    "sum(sizes ) / len(sizes)"
   ]
  },
  {
   "cell_type": "code",
   "execution_count": 16,
   "metadata": {},
   "outputs": [
    {
     "data": {
      "text/plain": [
       "892"
      ]
     },
     "execution_count": 16,
     "metadata": {},
     "output_type": "execute_result"
    }
   ],
   "source": [
    "max(sizes)"
   ]
  },
  {
   "cell_type": "code",
   "execution_count": 17,
   "metadata": {},
   "outputs": [
    {
     "data": {
      "text/plain": [
       "64"
      ]
     },
     "execution_count": 17,
     "metadata": {},
     "output_type": "execute_result"
    }
   ],
   "source": [
    "min(sizes)"
   ]
  },
  {
   "cell_type": "code",
   "execution_count": 39,
   "metadata": {},
   "outputs": [
    {
     "data": {
      "text/plain": [
       "'../data/res/all_results.fasta'"
      ]
     },
     "execution_count": 39,
     "metadata": {},
     "output_type": "execute_result"
    }
   ],
   "source": [
    "path_res_seq"
   ]
  },
  {
   "cell_type": "code",
   "execution_count": 40,
   "metadata": {},
   "outputs": [
    {
     "data": {
      "text/plain": [
       "\"blastn -evalue 1e-3 -task blastn -subject data/res/all_results.fasta -query  data/res/mites_consensus.fasta -outfmt '6 qseqid sseqid qstart qend sstart send mismatch gaps pident evalue length qlen slen qcovs score'  > data/res/blast_mirna_mites.csv\""
      ]
     },
     "execution_count": 40,
     "metadata": {},
     "output_type": "execute_result"
    }
   ],
   "source": [
    "cmd = \"blastn -evalue 1e-3 -task blastn -subject data/res/all_results.fasta -query  data/res/mites_consensus.fasta -outfmt '6 qseqid sseqid qstart qend sstart send mismatch gaps pident evalue length qlen slen qcovs score'  > %s\"\n",
    "cmd % (path_blast_res_mirna_mites.replace('../',''))"
   ]
  },
  {
   "cell_type": "code",
   "execution_count": 41,
   "metadata": {},
   "outputs": [
    {
     "data": {
      "text/plain": [
       "\"blastn -evalue 1e-3 -task blastn -query data/res/all_results.fasta -subject  data/res/mites_consensus.fasta -outfmt '6 qseqid sseqid qstart qend sstart send mismatch gaps pident evalue length qlen slen qcovs score'  >  data/res/blast_mites_mirna.csv\""
      ]
     },
     "execution_count": 41,
     "metadata": {},
     "output_type": "execute_result"
    }
   ],
   "source": [
    "cmd = \"blastn -evalue 1e-3 -task blastn -query data/res/all_results.fasta -subject  data/res/mites_consensus.fasta -outfmt '6 qseqid sseqid qstart qend sstart send mismatch gaps pident evalue length qlen slen qcovs score'  >  %s\"\n",
    "cmd % (path_blast_res_mites_mirna.replace('../',''))"
   ]
  },
  {
   "cell_type": "code",
   "execution_count": 42,
   "metadata": {},
   "outputs": [],
   "source": [
    "df_ = df"
   ]
  },
  {
   "cell_type": "code",
   "execution_count": null,
   "metadata": {},
   "outputs": [],
   "source": []
  },
  {
   "cell_type": "code",
   "execution_count": 43,
   "metadata": {},
   "outputs": [
    {
     "name": "stdout",
     "output_type": "stream",
     "text": [
      "498\n"
     ]
    },
    {
     "data": {
      "text/html": [
       "<div>\n",
       "<style scoped>\n",
       "    .dataframe tbody tr th:only-of-type {\n",
       "        vertical-align: middle;\n",
       "    }\n",
       "\n",
       "    .dataframe tbody tr th {\n",
       "        vertical-align: top;\n",
       "    }\n",
       "\n",
       "    .dataframe thead th {\n",
       "        text-align: right;\n",
       "    }\n",
       "</style>\n",
       "<table border=\"1\" class=\"dataframe\">\n",
       "  <thead>\n",
       "    <tr style=\"text-align: right;\">\n",
       "      <th></th>\n",
       "      <th>qseqid</th>\n",
       "      <th>sseqid</th>\n",
       "      <th>qstart</th>\n",
       "      <th>qend</th>\n",
       "      <th>sstart</th>\n",
       "      <th>send</th>\n",
       "      <th>mismatch</th>\n",
       "      <th>gaps</th>\n",
       "      <th>pident</th>\n",
       "      <th>evalue</th>\n",
       "      <th>length</th>\n",
       "      <th>qlen</th>\n",
       "      <th>slen</th>\n",
       "      <th>qcovs</th>\n",
       "      <th>score</th>\n",
       "    </tr>\n",
       "  </thead>\n",
       "  <tbody>\n",
       "    <tr>\n",
       "      <th>19</th>\n",
       "      <td>DTT_Taes_Athos_42j2-4</td>\n",
       "      <td>mrcv_mites_MITE_T_121053_3D_508204974_508205052</td>\n",
       "      <td>3</td>\n",
       "      <td>78</td>\n",
       "      <td>78</td>\n",
       "      <td>3</td>\n",
       "      <td>9</td>\n",
       "      <td>0</td>\n",
       "      <td>88.158</td>\n",
       "      <td>2.040000e-23</td>\n",
       "      <td>76</td>\n",
       "      <td>81</td>\n",
       "      <td>78</td>\n",
       "      <td>95</td>\n",
       "      <td>107</td>\n",
       "    </tr>\n",
       "    <tr>\n",
       "      <th>20</th>\n",
       "      <td>DTT_Taes_Athos_42j2-4</td>\n",
       "      <td>mrcv_mites_MITE_T_121053_3D_508204974_508205052</td>\n",
       "      <td>2</td>\n",
       "      <td>78</td>\n",
       "      <td>1</td>\n",
       "      <td>77</td>\n",
       "      <td>10</td>\n",
       "      <td>0</td>\n",
       "      <td>87.013</td>\n",
       "      <td>7.130000e-23</td>\n",
       "      <td>77</td>\n",
       "      <td>81</td>\n",
       "      <td>78</td>\n",
       "      <td>95</td>\n",
       "      <td>104</td>\n",
       "    </tr>\n",
       "  </tbody>\n",
       "</table>\n",
       "</div>"
      ],
      "text/plain": [
       "                   qseqid                                           sseqid  \\\n",
       "19  DTT_Taes_Athos_42j2-4  mrcv_mites_MITE_T_121053_3D_508204974_508205052   \n",
       "20  DTT_Taes_Athos_42j2-4  mrcv_mites_MITE_T_121053_3D_508204974_508205052   \n",
       "\n",
       "    qstart  qend  sstart  send  mismatch  gaps  pident        evalue  length  \\\n",
       "19       3    78      78     3         9     0  88.158  2.040000e-23      76   \n",
       "20       2    78       1    77        10     0  87.013  7.130000e-23      77   \n",
       "\n",
       "    qlen  slen  qcovs  score  \n",
       "19    81    78     95    107  \n",
       "20    81    78     95    104  "
      ]
     },
     "execution_count": 43,
     "metadata": {},
     "output_type": "execute_result"
    }
   ],
   "source": [
    "df_trep = pd.read_csv(path_blast_res_mirna_mites, sep=\"\\t\")\n",
    "cols = ['qseqid','sseqid','qstart','qend','sstart','send','mismatch','gaps','pident','evalue','length','qlen','slen','qcovs','score']\n",
    "df_trep.columns = cols\n",
    "df_trep = df_trep[df_trep.pident >= 80]\n",
    "df_trep = df_trep[(df_trep.length / df_trep.slen) >= 0.8]\n",
    "#df_trep = df_trep[df_trep.qcovs >= 80]\n",
    "print(len(df_trep.index))\n",
    "df_trep.head(2)"
   ]
  },
  {
   "cell_type": "code",
   "execution_count": 44,
   "metadata": {},
   "outputs": [
    {
     "name": "stdout",
     "output_type": "stream",
     "text": [
      "461\n"
     ]
    },
    {
     "data": {
      "text/html": [
       "<div>\n",
       "<style scoped>\n",
       "    .dataframe tbody tr th:only-of-type {\n",
       "        vertical-align: middle;\n",
       "    }\n",
       "\n",
       "    .dataframe tbody tr th {\n",
       "        vertical-align: top;\n",
       "    }\n",
       "\n",
       "    .dataframe thead th {\n",
       "        text-align: right;\n",
       "    }\n",
       "</style>\n",
       "<table border=\"1\" class=\"dataframe\">\n",
       "  <thead>\n",
       "    <tr style=\"text-align: right;\">\n",
       "      <th></th>\n",
       "      <th>sseqid</th>\n",
       "      <th>qseqid</th>\n",
       "      <th>qstart</th>\n",
       "      <th>qend</th>\n",
       "      <th>sstart</th>\n",
       "      <th>send</th>\n",
       "      <th>mismatch</th>\n",
       "      <th>gaps</th>\n",
       "      <th>pident</th>\n",
       "      <th>evalue</th>\n",
       "      <th>length</th>\n",
       "      <th>qlen</th>\n",
       "      <th>slen</th>\n",
       "      <th>qcovs</th>\n",
       "      <th>score</th>\n",
       "    </tr>\n",
       "  </thead>\n",
       "  <tbody>\n",
       "    <tr>\n",
       "      <th>1</th>\n",
       "      <td>sun_mites_MITE_T_430_1A_117385432_117385825</td>\n",
       "      <td>MITE_1010</td>\n",
       "      <td>14</td>\n",
       "      <td>393</td>\n",
       "      <td>18</td>\n",
       "      <td>398</td>\n",
       "      <td>32</td>\n",
       "      <td>1</td>\n",
       "      <td>91.339</td>\n",
       "      <td>1.800000e-153</td>\n",
       "      <td>381</td>\n",
       "      <td>393</td>\n",
       "      <td>408</td>\n",
       "      <td>97</td>\n",
       "      <td>593</td>\n",
       "    </tr>\n",
       "    <tr>\n",
       "      <th>11</th>\n",
       "      <td>sun_mites_MITE_T_430_1A_117385432_117385825</td>\n",
       "      <td>MITE_1357</td>\n",
       "      <td>29</td>\n",
       "      <td>386</td>\n",
       "      <td>409</td>\n",
       "      <td>51</td>\n",
       "      <td>30</td>\n",
       "      <td>1</td>\n",
       "      <td>91.365</td>\n",
       "      <td>3.050000e-144</td>\n",
       "      <td>359</td>\n",
       "      <td>393</td>\n",
       "      <td>409</td>\n",
       "      <td>95</td>\n",
       "      <td>559</td>\n",
       "    </tr>\n",
       "  </tbody>\n",
       "</table>\n",
       "</div>"
      ],
      "text/plain": [
       "                                         sseqid     qseqid  qstart  qend  \\\n",
       "1   sun_mites_MITE_T_430_1A_117385432_117385825  MITE_1010      14   393   \n",
       "11  sun_mites_MITE_T_430_1A_117385432_117385825  MITE_1357      29   386   \n",
       "\n",
       "    sstart  send  mismatch  gaps  pident         evalue  length  qlen  slen  \\\n",
       "1       18   398        32     1  91.339  1.800000e-153     381   393   408   \n",
       "11     409    51        30     1  91.365  3.050000e-144     359   393   409   \n",
       "\n",
       "    qcovs  score  \n",
       "1      97    593  \n",
       "11     95    559  "
      ]
     },
     "execution_count": 44,
     "metadata": {},
     "output_type": "execute_result"
    }
   ],
   "source": [
    "df_trep_2 = pd.read_csv(path_blast_res_mites_mirna, sep=\"\\t\")\n",
    "cols = ['sseqid','qseqid','qstart','qend','sstart','send','mismatch','gaps','pident','evalue','length','qlen','slen','qcovs','score']\n",
    "df_trep_2.columns = cols\n",
    "df_trep_2 = df_trep_2[df_trep_2.pident >= 80]\n",
    "df_trep_2 = df_trep_2[(df_trep_2.length / df_trep_2.slen) >= 0.8]\n",
    "#df_trep = df_trep[df_trep.qcovs >= 80]\n",
    "print(len(df_trep_2.index))\n",
    "df_trep_2.head(2)"
   ]
  },
  {
   "cell_type": "code",
   "execution_count": 45,
   "metadata": {},
   "outputs": [],
   "source": [
    "df_trep = pd.concat([df_trep,df_trep_2])"
   ]
  },
  {
   "cell_type": "code",
   "execution_count": null,
   "metadata": {},
   "outputs": [],
   "source": []
  },
  {
   "cell_type": "code",
   "execution_count": 46,
   "metadata": {},
   "outputs": [
    {
     "data": {
      "text/plain": [
       "222"
      ]
     },
     "execution_count": 46,
     "metadata": {},
     "output_type": "execute_result"
    }
   ],
   "source": [
    "df_trep.qseqid.nunique()"
   ]
  },
  {
   "cell_type": "code",
   "execution_count": 47,
   "metadata": {},
   "outputs": [
    {
     "data": {
      "text/plain": [
       "38"
      ]
     },
     "execution_count": 47,
     "metadata": {},
     "output_type": "execute_result"
    }
   ],
   "source": [
    "df_trep.sseqid.nunique()"
   ]
  },
  {
   "cell_type": "code",
   "execution_count": 48,
   "metadata": {},
   "outputs": [],
   "source": [
    "#get the best MITE for each cluster"
   ]
  },
  {
   "cell_type": "code",
   "execution_count": null,
   "metadata": {},
   "outputs": [],
   "source": []
  },
  {
   "cell_type": "code",
   "execution_count": 49,
   "metadata": {},
   "outputs": [],
   "source": [
    "df_trep = df_trep[['qseqid','sseqid','score']]\n",
    "df_trep.rename(columns={'qseqid':'MITE','sseqid':'cluster'}, inplace=True)"
   ]
  },
  {
   "cell_type": "code",
   "execution_count": null,
   "metadata": {},
   "outputs": [],
   "source": []
  },
  {
   "cell_type": "code",
   "execution_count": 50,
   "metadata": {},
   "outputs": [],
   "source": [
    "for cluster in list(df_trep.cluster.unique()):\n",
    "    other = df_trep[df_trep.cluster == cluster]\n",
    "    dtt = other[other.MITE.str.contains('DTT')]\n",
    "    if len(dtt.index) > 0:\n",
    "        df.loc[df.Name == cluster, 'MITE'] = dtt.loc[dtt['score'].idxmax()].MITE\n",
    "    else:\n",
    "        tracker = other[other.MITE.str.contains('MITE_')]\n",
    "        if len(tracker.index) > 0:\n",
    "            df.loc[df.Name == cluster, 'MITE'] = tracker.loc[tracker['score'].idxmax()].MITE\n"
   ]
  },
  {
   "cell_type": "code",
   "execution_count": null,
   "metadata": {},
   "outputs": [],
   "source": []
  },
  {
   "cell_type": "code",
   "execution_count": 51,
   "metadata": {},
   "outputs": [],
   "source": [
    "#df.drop(\"qseqid\", axis=1, inplace=True)"
   ]
  },
  {
   "cell_type": "code",
   "execution_count": 52,
   "metadata": {},
   "outputs": [
    {
     "data": {
      "text/plain": [
       "270"
      ]
     },
     "execution_count": 52,
     "metadata": {},
     "output_type": "execute_result"
    }
   ],
   "source": [
    "total_count = len(df.index)\n",
    "total_count"
   ]
  },
  {
   "cell_type": "code",
   "execution_count": 53,
   "metadata": {},
   "outputs": [
    {
     "data": {
      "text/plain": [
       "232"
      ]
     },
     "execution_count": 53,
     "metadata": {},
     "output_type": "execute_result"
    }
   ],
   "source": [
    "df_new_not_mites = df[df.MITE.isnull()]\n",
    "count_not_mites = len(df_new_not_mites.index)\n",
    "count_not_mites"
   ]
  },
  {
   "cell_type": "code",
   "execution_count": 54,
   "metadata": {},
   "outputs": [
    {
     "data": {
      "text/plain": [
       "38"
      ]
     },
     "execution_count": 54,
     "metadata": {},
     "output_type": "execute_result"
    }
   ],
   "source": [
    "df_new_mites = df[df.MITE.notnull()]\n",
    "count_mites = len(df_new_mites.index)\n",
    "count_mites"
   ]
  },
  {
   "cell_type": "code",
   "execution_count": 55,
   "metadata": {},
   "outputs": [
    {
     "data": {
      "text/plain": [
       "14.074074074074074"
      ]
     },
     "execution_count": 55,
     "metadata": {},
     "output_type": "execute_result"
    }
   ],
   "source": [
    "count_mites * 100 / total_count"
   ]
  },
  {
   "cell_type": "code",
   "execution_count": 56,
   "metadata": {},
   "outputs": [
    {
     "data": {
      "text/html": [
       "<div>\n",
       "<style scoped>\n",
       "    .dataframe tbody tr th:only-of-type {\n",
       "        vertical-align: middle;\n",
       "    }\n",
       "\n",
       "    .dataframe tbody tr th {\n",
       "        vertical-align: top;\n",
       "    }\n",
       "\n",
       "    .dataframe thead th {\n",
       "        text-align: right;\n",
       "    }\n",
       "</style>\n",
       "<table border=\"1\" class=\"dataframe\">\n",
       "  <thead>\n",
       "    <tr style=\"text-align: right;\">\n",
       "      <th></th>\n",
       "      <th>#Locus</th>\n",
       "      <th>Name</th>\n",
       "      <th>Length</th>\n",
       "      <th>Reads</th>\n",
       "      <th>RPM</th>\n",
       "      <th>UniqueReads</th>\n",
       "      <th>FracTop</th>\n",
       "      <th>Strand</th>\n",
       "      <th>MajorRNA</th>\n",
       "      <th>MajorRNAReads</th>\n",
       "      <th>...</th>\n",
       "      <th>20</th>\n",
       "      <th>21</th>\n",
       "      <th>22</th>\n",
       "      <th>23</th>\n",
       "      <th>24</th>\n",
       "      <th>seqname</th>\n",
       "      <th>position</th>\n",
       "      <th>start</th>\n",
       "      <th>end</th>\n",
       "      <th>MITE</th>\n",
       "    </tr>\n",
       "  </thead>\n",
       "  <tbody>\n",
       "    <tr>\n",
       "      <th>264</th>\n",
       "      <td>1A:117385432-117385825</td>\n",
       "      <td>sun_mites_MITE_T_430_1A_117385432_117385825</td>\n",
       "      <td>394</td>\n",
       "      <td>17</td>\n",
       "      <td>0.135</td>\n",
       "      <td>3</td>\n",
       "      <td>0.941</td>\n",
       "      <td>+</td>\n",
       "      <td>UCUGCACCCUGAAUGAUGAAUAGU</td>\n",
       "      <td>11</td>\n",
       "      <td>...</td>\n",
       "      <td>0</td>\n",
       "      <td>1</td>\n",
       "      <td>0</td>\n",
       "      <td>1</td>\n",
       "      <td>14</td>\n",
       "      <td>1A</td>\n",
       "      <td>117385432-117385825</td>\n",
       "      <td>117385432</td>\n",
       "      <td>117385825</td>\n",
       "      <td>MITE_524</td>\n",
       "    </tr>\n",
       "    <tr>\n",
       "      <th>0</th>\n",
       "      <td>1A:169645857-169646029</td>\n",
       "      <td>mrcv_mites_MITE_T_62663_1A_169645857_169646029</td>\n",
       "      <td>173</td>\n",
       "      <td>16</td>\n",
       "      <td>0.126</td>\n",
       "      <td>3</td>\n",
       "      <td>1.000</td>\n",
       "      <td>+</td>\n",
       "      <td>UAGAGAUUUCAAAUGGAACAC</td>\n",
       "      <td>7</td>\n",
       "      <td>...</td>\n",
       "      <td>2</td>\n",
       "      <td>9</td>\n",
       "      <td>0</td>\n",
       "      <td>0</td>\n",
       "      <td>3</td>\n",
       "      <td>1A</td>\n",
       "      <td>169645857-169646029</td>\n",
       "      <td>169645857</td>\n",
       "      <td>169646029</td>\n",
       "      <td>DTT_Tdur_Thalos_103H9-1</td>\n",
       "    </tr>\n",
       "  </tbody>\n",
       "</table>\n",
       "<p>2 rows × 26 columns</p>\n",
       "</div>"
      ],
      "text/plain": [
       "                     #Locus                                            Name  \\\n",
       "264  1A:117385432-117385825     sun_mites_MITE_T_430_1A_117385432_117385825   \n",
       "0    1A:169645857-169646029  mrcv_mites_MITE_T_62663_1A_169645857_169646029   \n",
       "\n",
       "     Length  Reads    RPM  UniqueReads  FracTop Strand  \\\n",
       "264     394     17  0.135            3    0.941      +   \n",
       "0       173     16  0.126            3    1.000      +   \n",
       "\n",
       "                     MajorRNA  MajorRNAReads  ...  20  21 22  23  24  seqname  \\\n",
       "264  UCUGCACCCUGAAUGAUGAAUAGU             11  ...   0   1  0   1  14       1A   \n",
       "0       UAGAGAUUUCAAAUGGAACAC              7  ...   2   9  0   0   3       1A   \n",
       "\n",
       "                position      start        end                     MITE  \n",
       "264  117385432-117385825  117385432  117385825                 MITE_524  \n",
       "0    169645857-169646029  169645857  169646029  DTT_Tdur_Thalos_103H9-1  \n",
       "\n",
       "[2 rows x 26 columns]"
      ]
     },
     "execution_count": 56,
     "metadata": {},
     "output_type": "execute_result"
    }
   ],
   "source": [
    "df.head(2)"
   ]
  },
  {
   "cell_type": "code",
   "execution_count": null,
   "metadata": {},
   "outputs": [],
   "source": []
  },
  {
   "cell_type": "code",
   "execution_count": null,
   "metadata": {},
   "outputs": [],
   "source": []
  },
  {
   "cell_type": "code",
   "execution_count": 57,
   "metadata": {},
   "outputs": [],
   "source": [
    "#######################\n",
    "####  CHECKPOINT  #####\n",
    "#######################"
   ]
  },
  {
   "cell_type": "code",
   "execution_count": 58,
   "metadata": {},
   "outputs": [
    {
     "name": "stdout",
     "output_type": "stream",
     "text": [
      "270\n"
     ]
    },
    {
     "data": {
      "text/html": [
       "<div>\n",
       "<style scoped>\n",
       "    .dataframe tbody tr th:only-of-type {\n",
       "        vertical-align: middle;\n",
       "    }\n",
       "\n",
       "    .dataframe tbody tr th {\n",
       "        vertical-align: top;\n",
       "    }\n",
       "\n",
       "    .dataframe thead th {\n",
       "        text-align: right;\n",
       "    }\n",
       "</style>\n",
       "<table border=\"1\" class=\"dataframe\">\n",
       "  <thead>\n",
       "    <tr style=\"text-align: right;\">\n",
       "      <th></th>\n",
       "      <th>#Locus</th>\n",
       "      <th>Name</th>\n",
       "      <th>Length</th>\n",
       "      <th>Reads</th>\n",
       "      <th>RPM</th>\n",
       "      <th>UniqueReads</th>\n",
       "      <th>FracTop</th>\n",
       "      <th>Strand</th>\n",
       "      <th>MajorRNA</th>\n",
       "      <th>MajorRNAReads</th>\n",
       "      <th>...</th>\n",
       "      <th>20</th>\n",
       "      <th>21</th>\n",
       "      <th>22</th>\n",
       "      <th>23</th>\n",
       "      <th>24</th>\n",
       "      <th>seqname</th>\n",
       "      <th>position</th>\n",
       "      <th>start</th>\n",
       "      <th>end</th>\n",
       "      <th>MITE</th>\n",
       "    </tr>\n",
       "  </thead>\n",
       "  <tbody>\n",
       "    <tr>\n",
       "      <th>264</th>\n",
       "      <td>1A:117385432-117385825</td>\n",
       "      <td>sun_mites_MITE_T_430_1A_117385432_117385825</td>\n",
       "      <td>394</td>\n",
       "      <td>17</td>\n",
       "      <td>0.135</td>\n",
       "      <td>3</td>\n",
       "      <td>0.941</td>\n",
       "      <td>+</td>\n",
       "      <td>UCUGCACCCUGAAUGAUGAAUAGU</td>\n",
       "      <td>11</td>\n",
       "      <td>...</td>\n",
       "      <td>0</td>\n",
       "      <td>1</td>\n",
       "      <td>0</td>\n",
       "      <td>1</td>\n",
       "      <td>14</td>\n",
       "      <td>1A</td>\n",
       "      <td>117385432-117385825</td>\n",
       "      <td>117385432</td>\n",
       "      <td>117385825</td>\n",
       "      <td>MITE_524</td>\n",
       "    </tr>\n",
       "    <tr>\n",
       "      <th>0</th>\n",
       "      <td>1A:169645857-169646029</td>\n",
       "      <td>mrcv_mites_MITE_T_62663_1A_169645857_169646029</td>\n",
       "      <td>173</td>\n",
       "      <td>16</td>\n",
       "      <td>0.126</td>\n",
       "      <td>3</td>\n",
       "      <td>1.000</td>\n",
       "      <td>+</td>\n",
       "      <td>UAGAGAUUUCAAAUGGAACAC</td>\n",
       "      <td>7</td>\n",
       "      <td>...</td>\n",
       "      <td>2</td>\n",
       "      <td>9</td>\n",
       "      <td>0</td>\n",
       "      <td>0</td>\n",
       "      <td>3</td>\n",
       "      <td>1A</td>\n",
       "      <td>169645857-169646029</td>\n",
       "      <td>169645857</td>\n",
       "      <td>169646029</td>\n",
       "      <td>DTT_Tdur_Thalos_103H9-1</td>\n",
       "    </tr>\n",
       "  </tbody>\n",
       "</table>\n",
       "<p>2 rows × 26 columns</p>\n",
       "</div>"
      ],
      "text/plain": [
       "                     #Locus                                            Name  \\\n",
       "264  1A:117385432-117385825     sun_mites_MITE_T_430_1A_117385432_117385825   \n",
       "0    1A:169645857-169646029  mrcv_mites_MITE_T_62663_1A_169645857_169646029   \n",
       "\n",
       "     Length  Reads    RPM  UniqueReads  FracTop Strand  \\\n",
       "264     394     17  0.135            3    0.941      +   \n",
       "0       173     16  0.126            3    1.000      +   \n",
       "\n",
       "                     MajorRNA  MajorRNAReads  ...  20  21 22  23  24  seqname  \\\n",
       "264  UCUGCACCCUGAAUGAUGAAUAGU             11  ...   0   1  0   1  14       1A   \n",
       "0       UAGAGAUUUCAAAUGGAACAC              7  ...   2   9  0   0   3       1A   \n",
       "\n",
       "                position      start        end                     MITE  \n",
       "264  117385432-117385825  117385432  117385825                 MITE_524  \n",
       "0    169645857-169646029  169645857  169646029  DTT_Tdur_Thalos_103H9-1  \n",
       "\n",
       "[2 rows x 26 columns]"
      ]
     },
     "execution_count": 58,
     "metadata": {},
     "output_type": "execute_result"
    }
   ],
   "source": [
    "# SAVE CURRENT STATE\n",
    "df.to_csv('../data/res/checkpoint2.csv', index=None)\n",
    "print(len(df.index))\n",
    "df.head(2)"
   ]
  },
  {
   "cell_type": "code",
   "execution_count": 59,
   "metadata": {},
   "outputs": [
    {
     "name": "stdout",
     "output_type": "stream",
     "text": [
      "270\n"
     ]
    },
    {
     "data": {
      "text/html": [
       "<div>\n",
       "<style scoped>\n",
       "    .dataframe tbody tr th:only-of-type {\n",
       "        vertical-align: middle;\n",
       "    }\n",
       "\n",
       "    .dataframe tbody tr th {\n",
       "        vertical-align: top;\n",
       "    }\n",
       "\n",
       "    .dataframe thead th {\n",
       "        text-align: right;\n",
       "    }\n",
       "</style>\n",
       "<table border=\"1\" class=\"dataframe\">\n",
       "  <thead>\n",
       "    <tr style=\"text-align: right;\">\n",
       "      <th></th>\n",
       "      <th>#Locus</th>\n",
       "      <th>Name</th>\n",
       "      <th>Length</th>\n",
       "      <th>Reads</th>\n",
       "      <th>RPM</th>\n",
       "      <th>UniqueReads</th>\n",
       "      <th>FracTop</th>\n",
       "      <th>Strand</th>\n",
       "      <th>MajorRNA</th>\n",
       "      <th>MajorRNAReads</th>\n",
       "      <th>...</th>\n",
       "      <th>20</th>\n",
       "      <th>21</th>\n",
       "      <th>22</th>\n",
       "      <th>23</th>\n",
       "      <th>24</th>\n",
       "      <th>seqname</th>\n",
       "      <th>position</th>\n",
       "      <th>start</th>\n",
       "      <th>end</th>\n",
       "      <th>MITE</th>\n",
       "    </tr>\n",
       "  </thead>\n",
       "  <tbody>\n",
       "    <tr>\n",
       "      <th>0</th>\n",
       "      <td>1A:117385432-117385825</td>\n",
       "      <td>sun_mites_MITE_T_430_1A_117385432_117385825</td>\n",
       "      <td>394</td>\n",
       "      <td>17</td>\n",
       "      <td>0.135</td>\n",
       "      <td>3</td>\n",
       "      <td>0.941</td>\n",
       "      <td>+</td>\n",
       "      <td>UCUGCACCCUGAAUGAUGAAUAGU</td>\n",
       "      <td>11</td>\n",
       "      <td>...</td>\n",
       "      <td>0</td>\n",
       "      <td>1</td>\n",
       "      <td>0</td>\n",
       "      <td>1</td>\n",
       "      <td>14</td>\n",
       "      <td>1A</td>\n",
       "      <td>117385432-117385825</td>\n",
       "      <td>117385432</td>\n",
       "      <td>117385825</td>\n",
       "      <td>MITE_524</td>\n",
       "    </tr>\n",
       "    <tr>\n",
       "      <th>1</th>\n",
       "      <td>1A:169645857-169646029</td>\n",
       "      <td>mrcv_mites_MITE_T_62663_1A_169645857_169646029</td>\n",
       "      <td>173</td>\n",
       "      <td>16</td>\n",
       "      <td>0.126</td>\n",
       "      <td>3</td>\n",
       "      <td>1.000</td>\n",
       "      <td>+</td>\n",
       "      <td>UAGAGAUUUCAAAUGGAACAC</td>\n",
       "      <td>7</td>\n",
       "      <td>...</td>\n",
       "      <td>2</td>\n",
       "      <td>9</td>\n",
       "      <td>0</td>\n",
       "      <td>0</td>\n",
       "      <td>3</td>\n",
       "      <td>1A</td>\n",
       "      <td>169645857-169646029</td>\n",
       "      <td>169645857</td>\n",
       "      <td>169646029</td>\n",
       "      <td>DTT_Tdur_Thalos_103H9-1</td>\n",
       "    </tr>\n",
       "  </tbody>\n",
       "</table>\n",
       "<p>2 rows × 26 columns</p>\n",
       "</div>"
      ],
      "text/plain": [
       "                   #Locus                                            Name  \\\n",
       "0  1A:117385432-117385825     sun_mites_MITE_T_430_1A_117385432_117385825   \n",
       "1  1A:169645857-169646029  mrcv_mites_MITE_T_62663_1A_169645857_169646029   \n",
       "\n",
       "   Length  Reads    RPM  UniqueReads  FracTop Strand  \\\n",
       "0     394     17  0.135            3    0.941      +   \n",
       "1     173     16  0.126            3    1.000      +   \n",
       "\n",
       "                   MajorRNA  MajorRNAReads  ...  20  21 22  23  24  seqname  \\\n",
       "0  UCUGCACCCUGAAUGAUGAAUAGU             11  ...   0   1  0   1  14       1A   \n",
       "1     UAGAGAUUUCAAAUGGAACAC              7  ...   2   9  0   0   3       1A   \n",
       "\n",
       "              position      start        end                     MITE  \n",
       "0  117385432-117385825  117385432  117385825                 MITE_524  \n",
       "1  169645857-169646029  169645857  169646029  DTT_Tdur_Thalos_103H9-1  \n",
       "\n",
       "[2 rows x 26 columns]"
      ]
     },
     "execution_count": 59,
     "metadata": {},
     "output_type": "execute_result"
    }
   ],
   "source": [
    "# LOAD PREVIOUS STATE\n",
    "df = pd.read_csv('../data/res/checkpoint2.csv')\n",
    "print(len(df.index))\n",
    "df.head(2)"
   ]
  },
  {
   "cell_type": "code",
   "execution_count": 60,
   "metadata": {},
   "outputs": [],
   "source": [
    "#######################\n",
    "##  END CHECKPOINT  ###\n",
    "#######################"
   ]
  },
  {
   "cell_type": "code",
   "execution_count": null,
   "metadata": {},
   "outputs": [],
   "source": []
  },
  {
   "cell_type": "code",
   "execution_count": 61,
   "metadata": {},
   "outputs": [],
   "source": [
    "#mirbase"
   ]
  },
  {
   "cell_type": "code",
   "execution_count": 62,
   "metadata": {},
   "outputs": [
    {
     "name": "stdout",
     "output_type": "stream",
     "text": [
      "270\n",
      "../data/res/mirna.y.fasta\n"
     ]
    }
   ],
   "source": [
    "buffer_seqs = []\n",
    "alls = {}\n",
    "for k,v in df.iterrows():\n",
    "    if v.Name in alls:\n",
    "        print(v.Name)\n",
    "    alls[v.Name] = 1\n",
    "    desc = v['#Locus']\n",
    "    seq = SeqRecord(Seq(v.MajorRNA), id=v.Name, description=\"\")\n",
    "    buffer_seqs.append(seq)\n",
    "SeqIO.write(buffer_seqs, path_mirna_seq, \"fasta\")\n",
    "print(len(buffer_seqs))\n",
    "print(path_mirna_seq)"
   ]
  },
  {
   "cell_type": "code",
   "execution_count": null,
   "metadata": {},
   "outputs": [],
   "source": []
  },
  {
   "cell_type": "code",
   "execution_count": 63,
   "metadata": {},
   "outputs": [
    {
     "name": "stdout",
     "output_type": "stream",
     "text": [
      "38\n",
      "../data/res/mirna.y.trep.fasta\n"
     ]
    }
   ],
   "source": [
    "buffer_seqs = []\n",
    "for k,v in df[df.MITE.notnull()].iterrows():\n",
    "    id = v.Name\n",
    "    desc = v['#Locus']\n",
    "    if \"|\" in id:\n",
    "        id = id.split(\"|\")[0]\n",
    "    seq = SeqRecord(Seq(v.MajorRNA), id=id, description=\"\")\n",
    "    buffer_seqs.append(seq)\n",
    "SeqIO.write(buffer_seqs, path_mirna_seq_trep, \"fasta\")\n",
    "print(len(buffer_seqs))\n",
    "print(path_mirna_seq_trep)"
   ]
  },
  {
   "cell_type": "code",
   "execution_count": null,
   "metadata": {},
   "outputs": [],
   "source": []
  },
  {
   "cell_type": "code",
   "execution_count": null,
   "metadata": {},
   "outputs": [],
   "source": []
  },
  {
   "cell_type": "raw",
   "metadata": {},
   "source": [
    "blastn -task blastn -evalue 10 -query data/res/mirna.y.fasta -subject data/mature.fa -outfmt '6 qseqid sseqid qstart qend sstart send mismatch gaps pident evalue length qlen slen qcovs score'  > data/res/mirna.y.mature.csv\n"
   ]
  },
  {
   "cell_type": "raw",
   "metadata": {},
   "source": [
    "blastn -task blastn -evalue 10 -subject data/res/mirna.y.fasta -query data/mature.fa -outfmt '6 qseqid sseqid qstart qend sstart send mismatch gaps pident evalue length qlen slen qcovs score'  > data/res/mirna.y.mature.2.csv\n"
   ]
  },
  {
   "cell_type": "code",
   "execution_count": 64,
   "metadata": {},
   "outputs": [
    {
     "name": "stdout",
     "output_type": "stream",
     "text": [
      "17590\n"
     ]
    },
    {
     "data": {
      "text/html": [
       "<div>\n",
       "<style scoped>\n",
       "    .dataframe tbody tr th:only-of-type {\n",
       "        vertical-align: middle;\n",
       "    }\n",
       "\n",
       "    .dataframe tbody tr th {\n",
       "        vertical-align: top;\n",
       "    }\n",
       "\n",
       "    .dataframe thead th {\n",
       "        text-align: right;\n",
       "    }\n",
       "</style>\n",
       "<table border=\"1\" class=\"dataframe\">\n",
       "  <thead>\n",
       "    <tr style=\"text-align: right;\">\n",
       "      <th></th>\n",
       "      <th>qseqid</th>\n",
       "      <th>sseqid</th>\n",
       "      <th>qstart</th>\n",
       "      <th>qend</th>\n",
       "      <th>sstart</th>\n",
       "      <th>send</th>\n",
       "      <th>mismatch</th>\n",
       "      <th>gaps</th>\n",
       "      <th>pident</th>\n",
       "      <th>evalue</th>\n",
       "      <th>length</th>\n",
       "      <th>qlen</th>\n",
       "      <th>slen</th>\n",
       "      <th>qcovs</th>\n",
       "      <th>score</th>\n",
       "    </tr>\n",
       "  </thead>\n",
       "  <tbody>\n",
       "    <tr>\n",
       "      <th>0</th>\n",
       "      <td>sun_mites_MITE_T_430_1A_117385432_117385825</td>\n",
       "      <td>cel-miR-786-3p</td>\n",
       "      <td>7</td>\n",
       "      <td>18</td>\n",
       "      <td>6</td>\n",
       "      <td>17</td>\n",
       "      <td>0</td>\n",
       "      <td>0</td>\n",
       "      <td>100.0</td>\n",
       "      <td>0.38</td>\n",
       "      <td>12</td>\n",
       "      <td>24</td>\n",
       "      <td>23</td>\n",
       "      <td>50</td>\n",
       "      <td>24</td>\n",
       "    </tr>\n",
       "    <tr>\n",
       "      <th>1</th>\n",
       "      <td>sun_mites_MITE_T_430_1A_117385432_117385825</td>\n",
       "      <td>bta-miR-2285cs</td>\n",
       "      <td>6</td>\n",
       "      <td>16</td>\n",
       "      <td>4</td>\n",
       "      <td>14</td>\n",
       "      <td>0</td>\n",
       "      <td>0</td>\n",
       "      <td>100.0</td>\n",
       "      <td>1.30</td>\n",
       "      <td>11</td>\n",
       "      <td>24</td>\n",
       "      <td>23</td>\n",
       "      <td>46</td>\n",
       "      <td>22</td>\n",
       "    </tr>\n",
       "  </tbody>\n",
       "</table>\n",
       "</div>"
      ],
      "text/plain": [
       "                                        qseqid          sseqid  qstart  qend  \\\n",
       "0  sun_mites_MITE_T_430_1A_117385432_117385825  cel-miR-786-3p       7    18   \n",
       "1  sun_mites_MITE_T_430_1A_117385432_117385825  bta-miR-2285cs       6    16   \n",
       "\n",
       "   sstart  send  mismatch  gaps  pident  evalue  length  qlen  slen  qcovs  \\\n",
       "0       6    17         0     0   100.0    0.38      12    24    23     50   \n",
       "1       4    14         0     0   100.0    1.30      11    24    23     46   \n",
       "\n",
       "   score  \n",
       "0     24  \n",
       "1     22  "
      ]
     },
     "execution_count": 64,
     "metadata": {},
     "output_type": "execute_result"
    }
   ],
   "source": [
    "df_mirbase = pd.read_csv(path_mirna_mature, sep=\"\\t\")\n",
    "cols = ['qseqid','sseqid','qstart','qend','sstart','send','mismatch','gaps','pident','evalue','length','qlen','slen','qcovs','score']\n",
    "df_mirbase.columns = cols\n",
    "print(len(df_mirbase.index))\n",
    "df_mirbase.head(2)"
   ]
  },
  {
   "cell_type": "code",
   "execution_count": 65,
   "metadata": {},
   "outputs": [],
   "source": [
    "allowed_mirbase_mismatches = 4\n",
    "mirbase_qlen = 7"
   ]
  },
  {
   "cell_type": "code",
   "execution_count": 66,
   "metadata": {},
   "outputs": [
    {
     "name": "stdout",
     "output_type": "stream",
     "text": [
      "15942\n"
     ]
    }
   ],
   "source": [
    "df_mirbase = df_mirbase[df_mirbase.length > df_mirbase.qlen - mirbase_qlen]\n",
    "print(len(df_mirbase.index))\n"
   ]
  },
  {
   "cell_type": "code",
   "execution_count": 67,
   "metadata": {},
   "outputs": [
    {
     "name": "stdout",
     "output_type": "stream",
     "text": [
      "15942\n"
     ]
    }
   ],
   "source": [
    "df_mirbase = df_mirbase[df_mirbase.mismatch + df_mirbase.gaps <= allowed_mirbase_mismatches]\n",
    "print(len(df_mirbase.index))\n"
   ]
  },
  {
   "cell_type": "code",
   "execution_count": 68,
   "metadata": {},
   "outputs": [
    {
     "data": {
      "text/html": [
       "<div>\n",
       "<style scoped>\n",
       "    .dataframe tbody tr th:only-of-type {\n",
       "        vertical-align: middle;\n",
       "    }\n",
       "\n",
       "    .dataframe tbody tr th {\n",
       "        vertical-align: top;\n",
       "    }\n",
       "\n",
       "    .dataframe thead th {\n",
       "        text-align: right;\n",
       "    }\n",
       "</style>\n",
       "<table border=\"1\" class=\"dataframe\">\n",
       "  <thead>\n",
       "    <tr style=\"text-align: right;\">\n",
       "      <th></th>\n",
       "      <th>qseqid</th>\n",
       "      <th>sseqid</th>\n",
       "      <th>qstart</th>\n",
       "      <th>qend</th>\n",
       "      <th>sstart</th>\n",
       "      <th>send</th>\n",
       "      <th>mismatch</th>\n",
       "      <th>gaps</th>\n",
       "      <th>pident</th>\n",
       "      <th>evalue</th>\n",
       "      <th>length</th>\n",
       "      <th>qlen</th>\n",
       "      <th>slen</th>\n",
       "      <th>qcovs</th>\n",
       "      <th>score</th>\n",
       "    </tr>\n",
       "  </thead>\n",
       "  <tbody>\n",
       "    <tr>\n",
       "      <th>486</th>\n",
       "      <td>sun_all_Cluster_20877_2A_12997630_12997818</td>\n",
       "      <td>tae-miR9671-5p</td>\n",
       "      <td>1</td>\n",
       "      <td>22</td>\n",
       "      <td>1</td>\n",
       "      <td>22</td>\n",
       "      <td>0</td>\n",
       "      <td>0</td>\n",
       "      <td>100.000</td>\n",
       "      <td>0.000001</td>\n",
       "      <td>22</td>\n",
       "      <td>24</td>\n",
       "      <td>22</td>\n",
       "      <td>92</td>\n",
       "      <td>44</td>\n",
       "    </tr>\n",
       "    <tr>\n",
       "      <th>765</th>\n",
       "      <td>mrcv_all_Cluster_6309_2A_652328872_652329011</td>\n",
       "      <td>tae-miR399</td>\n",
       "      <td>1</td>\n",
       "      <td>19</td>\n",
       "      <td>1</td>\n",
       "      <td>19</td>\n",
       "      <td>1</td>\n",
       "      <td>0</td>\n",
       "      <td>94.737</td>\n",
       "      <td>0.002000</td>\n",
       "      <td>19</td>\n",
       "      <td>21</td>\n",
       "      <td>19</td>\n",
       "      <td>90</td>\n",
       "      <td>33</td>\n",
       "    </tr>\n",
       "    <tr>\n",
       "      <th>1536</th>\n",
       "      <td>mrcv_all_Cluster_6516_2A_707747480_707747579</td>\n",
       "      <td>tae-miR9776</td>\n",
       "      <td>1</td>\n",
       "      <td>20</td>\n",
       "      <td>2</td>\n",
       "      <td>21</td>\n",
       "      <td>1</td>\n",
       "      <td>0</td>\n",
       "      <td>95.000</td>\n",
       "      <td>0.000650</td>\n",
       "      <td>20</td>\n",
       "      <td>21</td>\n",
       "      <td>21</td>\n",
       "      <td>95</td>\n",
       "      <td>35</td>\n",
       "    </tr>\n",
       "    <tr>\n",
       "      <th>1540</th>\n",
       "      <td>sun_all_Cluster_27961_2A_759156472_759156641</td>\n",
       "      <td>tae-miR9666b-3p</td>\n",
       "      <td>3</td>\n",
       "      <td>22</td>\n",
       "      <td>3</td>\n",
       "      <td>22</td>\n",
       "      <td>0</td>\n",
       "      <td>0</td>\n",
       "      <td>100.000</td>\n",
       "      <td>0.000017</td>\n",
       "      <td>20</td>\n",
       "      <td>22</td>\n",
       "      <td>22</td>\n",
       "      <td>91</td>\n",
       "      <td>40</td>\n",
       "    </tr>\n",
       "    <tr>\n",
       "      <th>1541</th>\n",
       "      <td>sun_all_Cluster_27961_2A_759156472_759156641</td>\n",
       "      <td>tae-miR9666a-3p</td>\n",
       "      <td>3</td>\n",
       "      <td>22</td>\n",
       "      <td>3</td>\n",
       "      <td>22</td>\n",
       "      <td>1</td>\n",
       "      <td>0</td>\n",
       "      <td>95.000</td>\n",
       "      <td>0.000743</td>\n",
       "      <td>20</td>\n",
       "      <td>22</td>\n",
       "      <td>22</td>\n",
       "      <td>91</td>\n",
       "      <td>35</td>\n",
       "    </tr>\n",
       "  </tbody>\n",
       "</table>\n",
       "</div>"
      ],
      "text/plain": [
       "                                            qseqid           sseqid  qstart  \\\n",
       "486     sun_all_Cluster_20877_2A_12997630_12997818   tae-miR9671-5p       1   \n",
       "765   mrcv_all_Cluster_6309_2A_652328872_652329011       tae-miR399       1   \n",
       "1536  mrcv_all_Cluster_6516_2A_707747480_707747579      tae-miR9776       1   \n",
       "1540  sun_all_Cluster_27961_2A_759156472_759156641  tae-miR9666b-3p       3   \n",
       "1541  sun_all_Cluster_27961_2A_759156472_759156641  tae-miR9666a-3p       3   \n",
       "\n",
       "      qend  sstart  send  mismatch  gaps   pident    evalue  length  qlen  \\\n",
       "486     22       1    22         0     0  100.000  0.000001      22    24   \n",
       "765     19       1    19         1     0   94.737  0.002000      19    21   \n",
       "1536    20       2    21         1     0   95.000  0.000650      20    21   \n",
       "1540    22       3    22         0     0  100.000  0.000017      20    22   \n",
       "1541    22       3    22         1     0   95.000  0.000743      20    22   \n",
       "\n",
       "      slen  qcovs  score  \n",
       "486     22     92     44  \n",
       "765     19     90     33  \n",
       "1536    21     95     35  \n",
       "1540    22     91     40  \n",
       "1541    22     91     35  "
      ]
     },
     "execution_count": 68,
     "metadata": {},
     "output_type": "execute_result"
    }
   ],
   "source": [
    "df_mirbase_tae = df_mirbase[df_mirbase.sseqid.str.startswith('tae')]\n",
    "df_mirbase_tae.head(5)"
   ]
  },
  {
   "cell_type": "code",
   "execution_count": 69,
   "metadata": {},
   "outputs": [
    {
     "data": {
      "text/html": [
       "<div>\n",
       "<style scoped>\n",
       "    .dataframe tbody tr th:only-of-type {\n",
       "        vertical-align: middle;\n",
       "    }\n",
       "\n",
       "    .dataframe tbody tr th {\n",
       "        vertical-align: top;\n",
       "    }\n",
       "\n",
       "    .dataframe thead th {\n",
       "        text-align: right;\n",
       "    }\n",
       "</style>\n",
       "<table border=\"1\" class=\"dataframe\">\n",
       "  <thead>\n",
       "    <tr style=\"text-align: right;\">\n",
       "      <th></th>\n",
       "      <th>qseqid</th>\n",
       "      <th>sseqid</th>\n",
       "      <th>qstart</th>\n",
       "      <th>qend</th>\n",
       "      <th>sstart</th>\n",
       "      <th>send</th>\n",
       "      <th>mismatch</th>\n",
       "      <th>gaps</th>\n",
       "      <th>pident</th>\n",
       "      <th>evalue</th>\n",
       "      <th>length</th>\n",
       "      <th>qlen</th>\n",
       "      <th>slen</th>\n",
       "      <th>qcovs</th>\n",
       "      <th>score</th>\n",
       "    </tr>\n",
       "  </thead>\n",
       "  <tbody>\n",
       "    <tr>\n",
       "      <th>3245</th>\n",
       "      <td>mrcv_all_Cluster_10582_2D_568229232_568229332</td>\n",
       "      <td>tae-miR9776</td>\n",
       "      <td>1</td>\n",
       "      <td>20</td>\n",
       "      <td>2</td>\n",
       "      <td>21</td>\n",
       "      <td>1</td>\n",
       "      <td>0</td>\n",
       "      <td>95.0</td>\n",
       "      <td>0.000650</td>\n",
       "      <td>20</td>\n",
       "      <td>21</td>\n",
       "      <td>21</td>\n",
       "      <td>95</td>\n",
       "      <td>35</td>\n",
       "    </tr>\n",
       "    <tr>\n",
       "      <th>3555</th>\n",
       "      <td>mrcv_all_Cluster_11549_3A_163805980_163806086</td>\n",
       "      <td>tae-miR9676-5p</td>\n",
       "      <td>1</td>\n",
       "      <td>19</td>\n",
       "      <td>20</td>\n",
       "      <td>1</td>\n",
       "      <td>1</td>\n",
       "      <td>1</td>\n",
       "      <td>90.0</td>\n",
       "      <td>0.096000</td>\n",
       "      <td>20</td>\n",
       "      <td>21</td>\n",
       "      <td>22</td>\n",
       "      <td>90</td>\n",
       "      <td>26</td>\n",
       "    </tr>\n",
       "    <tr>\n",
       "      <th>4045</th>\n",
       "      <td>mrcv_all_Cluster_13064_3B_109363642_109363755</td>\n",
       "      <td>tae-miR156</td>\n",
       "      <td>1</td>\n",
       "      <td>20</td>\n",
       "      <td>1</td>\n",
       "      <td>20</td>\n",
       "      <td>0</td>\n",
       "      <td>0</td>\n",
       "      <td>100.0</td>\n",
       "      <td>0.000017</td>\n",
       "      <td>20</td>\n",
       "      <td>20</td>\n",
       "      <td>21</td>\n",
       "      <td>100</td>\n",
       "      <td>40</td>\n",
       "    </tr>\n",
       "    <tr>\n",
       "      <th>4536</th>\n",
       "      <td>mrcv_all_Cluster_15025_3D_122668344_122668525</td>\n",
       "      <td>tae-miR159b</td>\n",
       "      <td>2</td>\n",
       "      <td>20</td>\n",
       "      <td>2</td>\n",
       "      <td>20</td>\n",
       "      <td>0</td>\n",
       "      <td>0</td>\n",
       "      <td>100.0</td>\n",
       "      <td>0.000060</td>\n",
       "      <td>19</td>\n",
       "      <td>20</td>\n",
       "      <td>21</td>\n",
       "      <td>95</td>\n",
       "      <td>38</td>\n",
       "    </tr>\n",
       "    <tr>\n",
       "      <th>4704</th>\n",
       "      <td>mrcv_all_Cluster_15092_3D_143964656_143964769</td>\n",
       "      <td>tae-miR9676-5p</td>\n",
       "      <td>1</td>\n",
       "      <td>19</td>\n",
       "      <td>20</td>\n",
       "      <td>1</td>\n",
       "      <td>1</td>\n",
       "      <td>1</td>\n",
       "      <td>90.0</td>\n",
       "      <td>0.096000</td>\n",
       "      <td>20</td>\n",
       "      <td>21</td>\n",
       "      <td>22</td>\n",
       "      <td>90</td>\n",
       "      <td>26</td>\n",
       "    </tr>\n",
       "  </tbody>\n",
       "</table>\n",
       "</div>"
      ],
      "text/plain": [
       "                                             qseqid          sseqid  qstart  \\\n",
       "3245  mrcv_all_Cluster_10582_2D_568229232_568229332     tae-miR9776       1   \n",
       "3555  mrcv_all_Cluster_11549_3A_163805980_163806086  tae-miR9676-5p       1   \n",
       "4045  mrcv_all_Cluster_13064_3B_109363642_109363755      tae-miR156       1   \n",
       "4536  mrcv_all_Cluster_15025_3D_122668344_122668525     tae-miR159b       2   \n",
       "4704  mrcv_all_Cluster_15092_3D_143964656_143964769  tae-miR9676-5p       1   \n",
       "\n",
       "      qend  sstart  send  mismatch  gaps  pident    evalue  length  qlen  \\\n",
       "3245    20       2    21         1     0    95.0  0.000650      20    21   \n",
       "3555    19      20     1         1     1    90.0  0.096000      20    21   \n",
       "4045    20       1    20         0     0   100.0  0.000017      20    20   \n",
       "4536    20       2    20         0     0   100.0  0.000060      19    20   \n",
       "4704    19      20     1         1     1    90.0  0.096000      20    21   \n",
       "\n",
       "      slen  qcovs  score  \n",
       "3245    21     95     35  \n",
       "3555    22     90     26  \n",
       "4045    21    100     40  \n",
       "4536    21     95     38  \n",
       "4704    22     90     26  "
      ]
     },
     "execution_count": 69,
     "metadata": {},
     "output_type": "execute_result"
    }
   ],
   "source": [
    "df_mirbase_tae = df_mirbase_tae.loc[df_mirbase_tae.groupby(\"qseqid\")[\"score\"].idxmax()]\n",
    "df_mirbase_tae.head(5)"
   ]
  },
  {
   "cell_type": "code",
   "execution_count": 70,
   "metadata": {},
   "outputs": [],
   "source": [
    "df_mirbase_rest = df_mirbase[~df_mirbase.index.isin(df_mirbase_tae.index)]\n",
    "df_mirbase_rest = df_mirbase.loc[df_mirbase.groupby(\"qseqid\")[\"score\"].idxmax()]\n"
   ]
  },
  {
   "cell_type": "code",
   "execution_count": 71,
   "metadata": {},
   "outputs": [
    {
     "name": "stdout",
     "output_type": "stream",
     "text": [
      "89\n",
      "162\n"
     ]
    },
    {
     "data": {
      "text/html": [
       "<div>\n",
       "<style scoped>\n",
       "    .dataframe tbody tr th:only-of-type {\n",
       "        vertical-align: middle;\n",
       "    }\n",
       "\n",
       "    .dataframe tbody tr th {\n",
       "        vertical-align: top;\n",
       "    }\n",
       "\n",
       "    .dataframe thead th {\n",
       "        text-align: right;\n",
       "    }\n",
       "</style>\n",
       "<table border=\"1\" class=\"dataframe\">\n",
       "  <thead>\n",
       "    <tr style=\"text-align: right;\">\n",
       "      <th></th>\n",
       "      <th>qseqid</th>\n",
       "      <th>sseqid</th>\n",
       "      <th>qstart</th>\n",
       "      <th>qend</th>\n",
       "      <th>sstart</th>\n",
       "      <th>send</th>\n",
       "      <th>mismatch</th>\n",
       "      <th>gaps</th>\n",
       "      <th>pident</th>\n",
       "      <th>evalue</th>\n",
       "      <th>length</th>\n",
       "      <th>qlen</th>\n",
       "      <th>slen</th>\n",
       "      <th>qcovs</th>\n",
       "      <th>score</th>\n",
       "    </tr>\n",
       "  </thead>\n",
       "  <tbody>\n",
       "    <tr>\n",
       "      <th>3245</th>\n",
       "      <td>mrcv_all_Cluster_10582_2D_568229232_568229332</td>\n",
       "      <td>tae-miR9776</td>\n",
       "      <td>1</td>\n",
       "      <td>20</td>\n",
       "      <td>2</td>\n",
       "      <td>21</td>\n",
       "      <td>1</td>\n",
       "      <td>0</td>\n",
       "      <td>95.0</td>\n",
       "      <td>0.00065</td>\n",
       "      <td>20</td>\n",
       "      <td>21</td>\n",
       "      <td>21</td>\n",
       "      <td>95</td>\n",
       "      <td>35</td>\n",
       "    </tr>\n",
       "    <tr>\n",
       "      <th>3555</th>\n",
       "      <td>mrcv_all_Cluster_11549_3A_163805980_163806086</td>\n",
       "      <td>tae-miR9676-5p</td>\n",
       "      <td>1</td>\n",
       "      <td>19</td>\n",
       "      <td>20</td>\n",
       "      <td>1</td>\n",
       "      <td>1</td>\n",
       "      <td>1</td>\n",
       "      <td>90.0</td>\n",
       "      <td>0.09600</td>\n",
       "      <td>20</td>\n",
       "      <td>21</td>\n",
       "      <td>22</td>\n",
       "      <td>90</td>\n",
       "      <td>26</td>\n",
       "    </tr>\n",
       "  </tbody>\n",
       "</table>\n",
       "</div>"
      ],
      "text/plain": [
       "                                             qseqid          sseqid  qstart  \\\n",
       "3245  mrcv_all_Cluster_10582_2D_568229232_568229332     tae-miR9776       1   \n",
       "3555  mrcv_all_Cluster_11549_3A_163805980_163806086  tae-miR9676-5p       1   \n",
       "\n",
       "      qend  sstart  send  mismatch  gaps  pident   evalue  length  qlen  slen  \\\n",
       "3245    20       2    21         1     0    95.0  0.00065      20    21    21   \n",
       "3555    19      20     1         1     1    90.0  0.09600      20    21    22   \n",
       "\n",
       "      qcovs  score  \n",
       "3245     95     35  \n",
       "3555     90     26  "
      ]
     },
     "execution_count": 71,
     "metadata": {},
     "output_type": "execute_result"
    }
   ],
   "source": [
    "print(len(df_mirbase_tae.index))\n",
    "print(len(df_mirbase_rest.index))\n",
    "df_mirbase_tae.head(2)"
   ]
  },
  {
   "cell_type": "code",
   "execution_count": 72,
   "metadata": {},
   "outputs": [
    {
     "data": {
      "text/html": [
       "<div>\n",
       "<style scoped>\n",
       "    .dataframe tbody tr th:only-of-type {\n",
       "        vertical-align: middle;\n",
       "    }\n",
       "\n",
       "    .dataframe tbody tr th {\n",
       "        vertical-align: top;\n",
       "    }\n",
       "\n",
       "    .dataframe thead th {\n",
       "        text-align: right;\n",
       "    }\n",
       "</style>\n",
       "<table border=\"1\" class=\"dataframe\">\n",
       "  <thead>\n",
       "    <tr style=\"text-align: right;\">\n",
       "      <th></th>\n",
       "      <th>qseqid</th>\n",
       "      <th>mirbase_tae</th>\n",
       "    </tr>\n",
       "  </thead>\n",
       "  <tbody>\n",
       "    <tr>\n",
       "      <th>3245</th>\n",
       "      <td>mrcv_all_Cluster_10582_2D_568229232_568229332</td>\n",
       "      <td>tae-miR9776</td>\n",
       "    </tr>\n",
       "    <tr>\n",
       "      <th>3555</th>\n",
       "      <td>mrcv_all_Cluster_11549_3A_163805980_163806086</td>\n",
       "      <td>tae-miR9676-5p</td>\n",
       "    </tr>\n",
       "  </tbody>\n",
       "</table>\n",
       "</div>"
      ],
      "text/plain": [
       "                                             qseqid     mirbase_tae\n",
       "3245  mrcv_all_Cluster_10582_2D_568229232_568229332     tae-miR9776\n",
       "3555  mrcv_all_Cluster_11549_3A_163805980_163806086  tae-miR9676-5p"
      ]
     },
     "execution_count": 72,
     "metadata": {},
     "output_type": "execute_result"
    }
   ],
   "source": [
    "df_mirbase_tae = df_mirbase_tae[['qseqid','sseqid']]\n",
    "df_mirbase_tae.rename(columns={'sseqid':'mirbase_tae'}, inplace=True)\n",
    "df_mirbase_rest = df_mirbase_rest[['qseqid','sseqid']]\n",
    "df_mirbase_rest.rename(columns={'sseqid':'mirbase_rest'}, inplace=True)\n",
    "df_mirbase_tae.head(2)\n"
   ]
  },
  {
   "cell_type": "code",
   "execution_count": 73,
   "metadata": {},
   "outputs": [
    {
     "name": "stdout",
     "output_type": "stream",
     "text": [
      "270\n"
     ]
    },
    {
     "data": {
      "text/html": [
       "<div>\n",
       "<style scoped>\n",
       "    .dataframe tbody tr th:only-of-type {\n",
       "        vertical-align: middle;\n",
       "    }\n",
       "\n",
       "    .dataframe tbody tr th {\n",
       "        vertical-align: top;\n",
       "    }\n",
       "\n",
       "    .dataframe thead th {\n",
       "        text-align: right;\n",
       "    }\n",
       "</style>\n",
       "<table border=\"1\" class=\"dataframe\">\n",
       "  <thead>\n",
       "    <tr style=\"text-align: right;\">\n",
       "      <th></th>\n",
       "      <th>#Locus</th>\n",
       "      <th>Name</th>\n",
       "      <th>Length</th>\n",
       "      <th>Reads</th>\n",
       "      <th>RPM</th>\n",
       "      <th>UniqueReads</th>\n",
       "      <th>FracTop</th>\n",
       "      <th>Strand</th>\n",
       "      <th>MajorRNA</th>\n",
       "      <th>MajorRNAReads</th>\n",
       "      <th>...</th>\n",
       "      <th>21</th>\n",
       "      <th>22</th>\n",
       "      <th>23</th>\n",
       "      <th>24</th>\n",
       "      <th>seqname</th>\n",
       "      <th>position</th>\n",
       "      <th>start</th>\n",
       "      <th>end</th>\n",
       "      <th>MITE</th>\n",
       "      <th>mirbase_tae</th>\n",
       "    </tr>\n",
       "  </thead>\n",
       "  <tbody>\n",
       "    <tr>\n",
       "      <th>0</th>\n",
       "      <td>1A:117385432-117385825</td>\n",
       "      <td>sun_mites_MITE_T_430_1A_117385432_117385825</td>\n",
       "      <td>394</td>\n",
       "      <td>17</td>\n",
       "      <td>0.135</td>\n",
       "      <td>3</td>\n",
       "      <td>0.941</td>\n",
       "      <td>+</td>\n",
       "      <td>UCUGCACCCUGAAUGAUGAAUAGU</td>\n",
       "      <td>11</td>\n",
       "      <td>...</td>\n",
       "      <td>1</td>\n",
       "      <td>0</td>\n",
       "      <td>1</td>\n",
       "      <td>14</td>\n",
       "      <td>1A</td>\n",
       "      <td>117385432-117385825</td>\n",
       "      <td>117385432</td>\n",
       "      <td>117385825</td>\n",
       "      <td>MITE_524</td>\n",
       "      <td>NaN</td>\n",
       "    </tr>\n",
       "    <tr>\n",
       "      <th>1</th>\n",
       "      <td>1A:169645857-169646029</td>\n",
       "      <td>mrcv_mites_MITE_T_62663_1A_169645857_169646029</td>\n",
       "      <td>173</td>\n",
       "      <td>16</td>\n",
       "      <td>0.126</td>\n",
       "      <td>3</td>\n",
       "      <td>1.000</td>\n",
       "      <td>+</td>\n",
       "      <td>UAGAGAUUUCAAAUGGAACAC</td>\n",
       "      <td>7</td>\n",
       "      <td>...</td>\n",
       "      <td>9</td>\n",
       "      <td>0</td>\n",
       "      <td>0</td>\n",
       "      <td>3</td>\n",
       "      <td>1A</td>\n",
       "      <td>169645857-169646029</td>\n",
       "      <td>169645857</td>\n",
       "      <td>169646029</td>\n",
       "      <td>DTT_Tdur_Thalos_103H9-1</td>\n",
       "      <td>NaN</td>\n",
       "    </tr>\n",
       "  </tbody>\n",
       "</table>\n",
       "<p>2 rows × 27 columns</p>\n",
       "</div>"
      ],
      "text/plain": [
       "                   #Locus                                            Name  \\\n",
       "0  1A:117385432-117385825     sun_mites_MITE_T_430_1A_117385432_117385825   \n",
       "1  1A:169645857-169646029  mrcv_mites_MITE_T_62663_1A_169645857_169646029   \n",
       "\n",
       "   Length  Reads    RPM  UniqueReads  FracTop Strand  \\\n",
       "0     394     17  0.135            3    0.941      +   \n",
       "1     173     16  0.126            3    1.000      +   \n",
       "\n",
       "                   MajorRNA  MajorRNAReads  ...  21  22 23  24  seqname  \\\n",
       "0  UCUGCACCCUGAAUGAUGAAUAGU             11  ...   1   0  1  14       1A   \n",
       "1     UAGAGAUUUCAAAUGGAACAC              7  ...   9   0  0   3       1A   \n",
       "\n",
       "              position      start        end                     MITE  \\\n",
       "0  117385432-117385825  117385432  117385825                 MITE_524   \n",
       "1  169645857-169646029  169645857  169646029  DTT_Tdur_Thalos_103H9-1   \n",
       "\n",
       "   mirbase_tae  \n",
       "0          NaN  \n",
       "1          NaN  \n",
       "\n",
       "[2 rows x 27 columns]"
      ]
     },
     "execution_count": 73,
     "metadata": {},
     "output_type": "execute_result"
    }
   ],
   "source": [
    "df_1 = pd.merge(df, df_mirbase_tae, how='left', left_on='Name', right_on='qseqid')\n",
    "df_1.drop(['qseqid'], axis=1, inplace=True)\n",
    "print(len(df_1.index))\n",
    "df_1.head(2)"
   ]
  },
  {
   "cell_type": "code",
   "execution_count": 74,
   "metadata": {},
   "outputs": [
    {
     "name": "stdout",
     "output_type": "stream",
     "text": [
      "270\n"
     ]
    },
    {
     "data": {
      "text/html": [
       "<div>\n",
       "<style scoped>\n",
       "    .dataframe tbody tr th:only-of-type {\n",
       "        vertical-align: middle;\n",
       "    }\n",
       "\n",
       "    .dataframe tbody tr th {\n",
       "        vertical-align: top;\n",
       "    }\n",
       "\n",
       "    .dataframe thead th {\n",
       "        text-align: right;\n",
       "    }\n",
       "</style>\n",
       "<table border=\"1\" class=\"dataframe\">\n",
       "  <thead>\n",
       "    <tr style=\"text-align: right;\">\n",
       "      <th></th>\n",
       "      <th>#Locus</th>\n",
       "      <th>Name</th>\n",
       "      <th>Length</th>\n",
       "      <th>Reads</th>\n",
       "      <th>RPM</th>\n",
       "      <th>UniqueReads</th>\n",
       "      <th>FracTop</th>\n",
       "      <th>Strand</th>\n",
       "      <th>MajorRNA</th>\n",
       "      <th>MajorRNAReads</th>\n",
       "      <th>...</th>\n",
       "      <th>22</th>\n",
       "      <th>23</th>\n",
       "      <th>24</th>\n",
       "      <th>seqname</th>\n",
       "      <th>position</th>\n",
       "      <th>start</th>\n",
       "      <th>end</th>\n",
       "      <th>MITE</th>\n",
       "      <th>mirbase_tae</th>\n",
       "      <th>mirbase_rest</th>\n",
       "    </tr>\n",
       "  </thead>\n",
       "  <tbody>\n",
       "    <tr>\n",
       "      <th>0</th>\n",
       "      <td>1A:117385432-117385825</td>\n",
       "      <td>sun_mites_MITE_T_430_1A_117385432_117385825</td>\n",
       "      <td>394</td>\n",
       "      <td>17</td>\n",
       "      <td>0.135</td>\n",
       "      <td>3</td>\n",
       "      <td>0.941</td>\n",
       "      <td>+</td>\n",
       "      <td>UCUGCACCCUGAAUGAUGAAUAGU</td>\n",
       "      <td>11</td>\n",
       "      <td>...</td>\n",
       "      <td>0</td>\n",
       "      <td>1</td>\n",
       "      <td>14</td>\n",
       "      <td>1A</td>\n",
       "      <td>117385432-117385825</td>\n",
       "      <td>117385432</td>\n",
       "      <td>117385825</td>\n",
       "      <td>MITE_524</td>\n",
       "      <td>NaN</td>\n",
       "      <td>NaN</td>\n",
       "    </tr>\n",
       "    <tr>\n",
       "      <th>1</th>\n",
       "      <td>1A:169645857-169646029</td>\n",
       "      <td>mrcv_mites_MITE_T_62663_1A_169645857_169646029</td>\n",
       "      <td>173</td>\n",
       "      <td>16</td>\n",
       "      <td>0.126</td>\n",
       "      <td>3</td>\n",
       "      <td>1.000</td>\n",
       "      <td>+</td>\n",
       "      <td>UAGAGAUUUCAAAUGGAACAC</td>\n",
       "      <td>7</td>\n",
       "      <td>...</td>\n",
       "      <td>0</td>\n",
       "      <td>0</td>\n",
       "      <td>3</td>\n",
       "      <td>1A</td>\n",
       "      <td>169645857-169646029</td>\n",
       "      <td>169645857</td>\n",
       "      <td>169646029</td>\n",
       "      <td>DTT_Tdur_Thalos_103H9-1</td>\n",
       "      <td>NaN</td>\n",
       "      <td>NaN</td>\n",
       "    </tr>\n",
       "  </tbody>\n",
       "</table>\n",
       "<p>2 rows × 28 columns</p>\n",
       "</div>"
      ],
      "text/plain": [
       "                   #Locus                                            Name  \\\n",
       "0  1A:117385432-117385825     sun_mites_MITE_T_430_1A_117385432_117385825   \n",
       "1  1A:169645857-169646029  mrcv_mites_MITE_T_62663_1A_169645857_169646029   \n",
       "\n",
       "   Length  Reads    RPM  UniqueReads  FracTop Strand  \\\n",
       "0     394     17  0.135            3    0.941      +   \n",
       "1     173     16  0.126            3    1.000      +   \n",
       "\n",
       "                   MajorRNA  MajorRNAReads  ...  22  23  24  seqname  \\\n",
       "0  UCUGCACCCUGAAUGAUGAAUAGU             11  ...   0   1  14       1A   \n",
       "1     UAGAGAUUUCAAAUGGAACAC              7  ...   0   0   3       1A   \n",
       "\n",
       "              position      start        end                     MITE  \\\n",
       "0  117385432-117385825  117385432  117385825                 MITE_524   \n",
       "1  169645857-169646029  169645857  169646029  DTT_Tdur_Thalos_103H9-1   \n",
       "\n",
       "   mirbase_tae  mirbase_rest  \n",
       "0          NaN           NaN  \n",
       "1          NaN           NaN  \n",
       "\n",
       "[2 rows x 28 columns]"
      ]
     },
     "execution_count": 74,
     "metadata": {},
     "output_type": "execute_result"
    }
   ],
   "source": [
    "df_2 = pd.merge(df_1, df_mirbase_rest, how='left', left_on='Name', right_on='qseqid')\n",
    "df_2.drop(['qseqid'], axis=1, inplace=True)\n",
    "print(len(df_2.index))\n",
    "df_2.head(2)"
   ]
  },
  {
   "cell_type": "code",
   "execution_count": 75,
   "metadata": {},
   "outputs": [
    {
     "data": {
      "text/html": [
       "<div>\n",
       "<style scoped>\n",
       "    .dataframe tbody tr th:only-of-type {\n",
       "        vertical-align: middle;\n",
       "    }\n",
       "\n",
       "    .dataframe tbody tr th {\n",
       "        vertical-align: top;\n",
       "    }\n",
       "\n",
       "    .dataframe thead th {\n",
       "        text-align: right;\n",
       "    }\n",
       "</style>\n",
       "<table border=\"1\" class=\"dataframe\">\n",
       "  <thead>\n",
       "    <tr style=\"text-align: right;\">\n",
       "      <th></th>\n",
       "      <th>#Locus</th>\n",
       "      <th>Name</th>\n",
       "      <th>Length</th>\n",
       "      <th>Reads</th>\n",
       "      <th>RPM</th>\n",
       "      <th>UniqueReads</th>\n",
       "      <th>FracTop</th>\n",
       "      <th>Strand</th>\n",
       "      <th>MajorRNA</th>\n",
       "      <th>MajorRNAReads</th>\n",
       "      <th>...</th>\n",
       "      <th>21</th>\n",
       "      <th>22</th>\n",
       "      <th>23</th>\n",
       "      <th>24</th>\n",
       "      <th>seqname</th>\n",
       "      <th>position</th>\n",
       "      <th>start</th>\n",
       "      <th>end</th>\n",
       "      <th>MITE</th>\n",
       "      <th>mirbase</th>\n",
       "    </tr>\n",
       "  </thead>\n",
       "  <tbody>\n",
       "    <tr>\n",
       "      <th>0</th>\n",
       "      <td>1A:117385432-117385825</td>\n",
       "      <td>sun_mites_MITE_T_430_1A_117385432_117385825</td>\n",
       "      <td>394</td>\n",
       "      <td>17</td>\n",
       "      <td>0.135</td>\n",
       "      <td>3</td>\n",
       "      <td>0.941</td>\n",
       "      <td>+</td>\n",
       "      <td>UCUGCACCCUGAAUGAUGAAUAGU</td>\n",
       "      <td>11</td>\n",
       "      <td>...</td>\n",
       "      <td>1</td>\n",
       "      <td>0</td>\n",
       "      <td>1</td>\n",
       "      <td>14</td>\n",
       "      <td>1A</td>\n",
       "      <td>117385432-117385825</td>\n",
       "      <td>117385432</td>\n",
       "      <td>117385825</td>\n",
       "      <td>MITE_524</td>\n",
       "      <td>NaN</td>\n",
       "    </tr>\n",
       "    <tr>\n",
       "      <th>1</th>\n",
       "      <td>1A:169645857-169646029</td>\n",
       "      <td>mrcv_mites_MITE_T_62663_1A_169645857_169646029</td>\n",
       "      <td>173</td>\n",
       "      <td>16</td>\n",
       "      <td>0.126</td>\n",
       "      <td>3</td>\n",
       "      <td>1.000</td>\n",
       "      <td>+</td>\n",
       "      <td>UAGAGAUUUCAAAUGGAACAC</td>\n",
       "      <td>7</td>\n",
       "      <td>...</td>\n",
       "      <td>9</td>\n",
       "      <td>0</td>\n",
       "      <td>0</td>\n",
       "      <td>3</td>\n",
       "      <td>1A</td>\n",
       "      <td>169645857-169646029</td>\n",
       "      <td>169645857</td>\n",
       "      <td>169646029</td>\n",
       "      <td>DTT_Tdur_Thalos_103H9-1</td>\n",
       "      <td>NaN</td>\n",
       "    </tr>\n",
       "    <tr>\n",
       "      <th>2</th>\n",
       "      <td>1A:309399489-309399664</td>\n",
       "      <td>mrcv_all_Cluster_872_1A_309399489_309399664</td>\n",
       "      <td>176</td>\n",
       "      <td>553</td>\n",
       "      <td>4.340</td>\n",
       "      <td>1</td>\n",
       "      <td>0.002</td>\n",
       "      <td>-</td>\n",
       "      <td>ACGGCAUAGAGGCACUGCAAA</td>\n",
       "      <td>327</td>\n",
       "      <td>...</td>\n",
       "      <td>440</td>\n",
       "      <td>61</td>\n",
       "      <td>5</td>\n",
       "      <td>4</td>\n",
       "      <td>1A</td>\n",
       "      <td>309399489-309399664</td>\n",
       "      <td>309399489</td>\n",
       "      <td>309399664</td>\n",
       "      <td>NaN</td>\n",
       "      <td>NaN</td>\n",
       "    </tr>\n",
       "  </tbody>\n",
       "</table>\n",
       "<p>3 rows × 27 columns</p>\n",
       "</div>"
      ],
      "text/plain": [
       "                   #Locus                                            Name  \\\n",
       "0  1A:117385432-117385825     sun_mites_MITE_T_430_1A_117385432_117385825   \n",
       "1  1A:169645857-169646029  mrcv_mites_MITE_T_62663_1A_169645857_169646029   \n",
       "2  1A:309399489-309399664     mrcv_all_Cluster_872_1A_309399489_309399664   \n",
       "\n",
       "   Length  Reads    RPM  UniqueReads  FracTop Strand  \\\n",
       "0     394     17  0.135            3    0.941      +   \n",
       "1     173     16  0.126            3    1.000      +   \n",
       "2     176    553  4.340            1    0.002      -   \n",
       "\n",
       "                   MajorRNA  MajorRNAReads  ...   21  22 23  24  seqname  \\\n",
       "0  UCUGCACCCUGAAUGAUGAAUAGU             11  ...    1   0  1  14       1A   \n",
       "1     UAGAGAUUUCAAAUGGAACAC              7  ...    9   0  0   3       1A   \n",
       "2     ACGGCAUAGAGGCACUGCAAA            327  ...  440  61  5   4       1A   \n",
       "\n",
       "              position      start        end                     MITE  mirbase  \n",
       "0  117385432-117385825  117385432  117385825                 MITE_524      NaN  \n",
       "1  169645857-169646029  169645857  169646029  DTT_Tdur_Thalos_103H9-1      NaN  \n",
       "2  309399489-309399664  309399489  309399664                      NaN      NaN  \n",
       "\n",
       "[3 rows x 27 columns]"
      ]
     },
     "execution_count": 75,
     "metadata": {},
     "output_type": "execute_result"
    }
   ],
   "source": [
    "df_2['mirbase'] = df_2['mirbase_tae'].fillna(df_2['mirbase_rest'])\n",
    "df_2.drop(['mirbase_tae','mirbase_rest'], axis=1, inplace=True)\n",
    "df_2.head(3)\n"
   ]
  },
  {
   "cell_type": "code",
   "execution_count": null,
   "metadata": {},
   "outputs": [],
   "source": []
  },
  {
   "cell_type": "code",
   "execution_count": 76,
   "metadata": {},
   "outputs": [],
   "source": [
    "df = df_2"
   ]
  },
  {
   "cell_type": "code",
   "execution_count": null,
   "metadata": {},
   "outputs": [],
   "source": []
  },
  {
   "cell_type": "code",
   "execution_count": 77,
   "metadata": {},
   "outputs": [],
   "source": [
    "#######################\n",
    "####  CHECKPOINT  #####\n",
    "#######################"
   ]
  },
  {
   "cell_type": "code",
   "execution_count": 1,
   "metadata": {},
   "outputs": [
    {
     "ename": "NameError",
     "evalue": "name 'df' is not defined",
     "output_type": "error",
     "traceback": [
      "\u001b[0;31m---------------------------------------------------------------------------\u001b[0m",
      "\u001b[0;31mNameError\u001b[0m                                 Traceback (most recent call last)",
      "\u001b[0;32m<ipython-input-1-015e6f7039a2>\u001b[0m in \u001b[0;36m<module>\u001b[0;34m\u001b[0m\n\u001b[1;32m      1\u001b[0m \u001b[0;31m# SAVE CURRENT STATE\u001b[0m\u001b[0;34m\u001b[0m\u001b[0;34m\u001b[0m\u001b[0;34m\u001b[0m\u001b[0m\n\u001b[0;32m----> 2\u001b[0;31m \u001b[0mdf\u001b[0m\u001b[0;34m.\u001b[0m\u001b[0mto_csv\u001b[0m\u001b[0;34m(\u001b[0m\u001b[0;34m'../data/res/checkpoint3.csv'\u001b[0m\u001b[0;34m,\u001b[0m \u001b[0mindex\u001b[0m\u001b[0;34m=\u001b[0m\u001b[0;32mNone\u001b[0m\u001b[0;34m)\u001b[0m\u001b[0;34m\u001b[0m\u001b[0;34m\u001b[0m\u001b[0m\n\u001b[0m\u001b[1;32m      3\u001b[0m \u001b[0mprint\u001b[0m\u001b[0;34m(\u001b[0m\u001b[0mlen\u001b[0m\u001b[0;34m(\u001b[0m\u001b[0mdf\u001b[0m\u001b[0;34m.\u001b[0m\u001b[0mindex\u001b[0m\u001b[0;34m)\u001b[0m\u001b[0;34m)\u001b[0m\u001b[0;34m\u001b[0m\u001b[0;34m\u001b[0m\u001b[0m\n\u001b[1;32m      4\u001b[0m \u001b[0mdf\u001b[0m\u001b[0;34m.\u001b[0m\u001b[0mhead\u001b[0m\u001b[0;34m(\u001b[0m\u001b[0;36m2\u001b[0m\u001b[0;34m)\u001b[0m\u001b[0;34m\u001b[0m\u001b[0;34m\u001b[0m\u001b[0m\n",
      "\u001b[0;31mNameError\u001b[0m: name 'df' is not defined"
     ]
    }
   ],
   "source": [
    "# SAVE CURRENT STATE\n",
    "df.to_csv('../data/res/checkpoint3.csv', index=None)\n",
    "print(len(df.index))\n",
    "df.head(2)"
   ]
  },
  {
   "cell_type": "code",
   "execution_count": 5,
   "metadata": {},
   "outputs": [
    {
     "name": "stdout",
     "output_type": "stream",
     "text": [
      "270\n"
     ]
    },
    {
     "data": {
      "text/html": [
       "<div>\n",
       "<style scoped>\n",
       "    .dataframe tbody tr th:only-of-type {\n",
       "        vertical-align: middle;\n",
       "    }\n",
       "\n",
       "    .dataframe tbody tr th {\n",
       "        vertical-align: top;\n",
       "    }\n",
       "\n",
       "    .dataframe thead th {\n",
       "        text-align: right;\n",
       "    }\n",
       "</style>\n",
       "<table border=\"1\" class=\"dataframe\">\n",
       "  <thead>\n",
       "    <tr style=\"text-align: right;\">\n",
       "      <th></th>\n",
       "      <th>#Locus</th>\n",
       "      <th>Name</th>\n",
       "      <th>Length</th>\n",
       "      <th>Reads</th>\n",
       "      <th>RPM</th>\n",
       "      <th>UniqueReads</th>\n",
       "      <th>FracTop</th>\n",
       "      <th>Strand</th>\n",
       "      <th>MajorRNA</th>\n",
       "      <th>MajorRNAReads</th>\n",
       "      <th>...</th>\n",
       "      <th>21</th>\n",
       "      <th>22</th>\n",
       "      <th>23</th>\n",
       "      <th>24</th>\n",
       "      <th>seqname</th>\n",
       "      <th>position</th>\n",
       "      <th>start</th>\n",
       "      <th>end</th>\n",
       "      <th>MITE</th>\n",
       "      <th>mirbase</th>\n",
       "    </tr>\n",
       "  </thead>\n",
       "  <tbody>\n",
       "    <tr>\n",
       "      <th>0</th>\n",
       "      <td>1A:117385432-117385825</td>\n",
       "      <td>sun_mites_MITE_T_430_1A_117385432_117385825</td>\n",
       "      <td>394</td>\n",
       "      <td>17</td>\n",
       "      <td>0.135</td>\n",
       "      <td>3</td>\n",
       "      <td>0.941</td>\n",
       "      <td>+</td>\n",
       "      <td>UCUGCACCCUGAAUGAUGAAUAGU</td>\n",
       "      <td>11</td>\n",
       "      <td>...</td>\n",
       "      <td>1</td>\n",
       "      <td>0</td>\n",
       "      <td>1</td>\n",
       "      <td>14</td>\n",
       "      <td>1A</td>\n",
       "      <td>117385432-117385825</td>\n",
       "      <td>117385432</td>\n",
       "      <td>117385825</td>\n",
       "      <td>MITE_524</td>\n",
       "      <td>NaN</td>\n",
       "    </tr>\n",
       "    <tr>\n",
       "      <th>1</th>\n",
       "      <td>1A:169645857-169646029</td>\n",
       "      <td>mrcv_mites_MITE_T_62663_1A_169645857_169646029</td>\n",
       "      <td>173</td>\n",
       "      <td>16</td>\n",
       "      <td>0.126</td>\n",
       "      <td>3</td>\n",
       "      <td>1.000</td>\n",
       "      <td>+</td>\n",
       "      <td>UAGAGAUUUCAAAUGGAACAC</td>\n",
       "      <td>7</td>\n",
       "      <td>...</td>\n",
       "      <td>9</td>\n",
       "      <td>0</td>\n",
       "      <td>0</td>\n",
       "      <td>3</td>\n",
       "      <td>1A</td>\n",
       "      <td>169645857-169646029</td>\n",
       "      <td>169645857</td>\n",
       "      <td>169646029</td>\n",
       "      <td>DTT_Tdur_Thalos_103H9-1</td>\n",
       "      <td>NaN</td>\n",
       "    </tr>\n",
       "  </tbody>\n",
       "</table>\n",
       "<p>2 rows × 27 columns</p>\n",
       "</div>"
      ],
      "text/plain": [
       "                   #Locus                                            Name  \\\n",
       "0  1A:117385432-117385825     sun_mites_MITE_T_430_1A_117385432_117385825   \n",
       "1  1A:169645857-169646029  mrcv_mites_MITE_T_62663_1A_169645857_169646029   \n",
       "\n",
       "   Length  Reads    RPM  UniqueReads  FracTop Strand  \\\n",
       "0     394     17  0.135            3    0.941      +   \n",
       "1     173     16  0.126            3    1.000      +   \n",
       "\n",
       "                   MajorRNA  MajorRNAReads  ...  21  22 23  24  seqname  \\\n",
       "0  UCUGCACCCUGAAUGAUGAAUAGU             11  ...   1   0  1  14       1A   \n",
       "1     UAGAGAUUUCAAAUGGAACAC              7  ...   9   0  0   3       1A   \n",
       "\n",
       "              position      start        end                     MITE  mirbase  \n",
       "0  117385432-117385825  117385432  117385825                 MITE_524      NaN  \n",
       "1  169645857-169646029  169645857  169646029  DTT_Tdur_Thalos_103H9-1      NaN  \n",
       "\n",
       "[2 rows x 27 columns]"
      ]
     },
     "execution_count": 5,
     "metadata": {},
     "output_type": "execute_result"
    }
   ],
   "source": [
    "# LOAD PREVIOUS STATE\n",
    "df = pd.read_csv('../data/res/checkpoint3.csv')\n",
    "print(len(df.index))\n",
    "df.head(2)"
   ]
  },
  {
   "cell_type": "code",
   "execution_count": null,
   "metadata": {},
   "outputs": [],
   "source": []
  },
  {
   "cell_type": "code",
   "execution_count": null,
   "metadata": {},
   "outputs": [],
   "source": []
  },
  {
   "cell_type": "code",
   "execution_count": 6,
   "metadata": {},
   "outputs": [],
   "source": [
    "#genomic annotation"
   ]
  },
  {
   "cell_type": "code",
   "execution_count": 7,
   "metadata": {},
   "outputs": [],
   "source": [
    "df_ann = pd.read_csv(path_annotation, index_col=False, sep='\\t', comment='#', header=None)\n",
    "df_ann.columns = ['seqname' , 'source' , 'feature' , 'start' , 'end' , 'score' , 'strand' , 'frame' , 'attribute']\n"
   ]
  },
  {
   "cell_type": "code",
   "execution_count": 8,
   "metadata": {},
   "outputs": [
    {
     "name": "stdout",
     "output_type": "stream",
     "text": [
      "2573211\n"
     ]
    }
   ],
   "source": [
    "print(len(df_ann.index))\n"
   ]
  },
  {
   "cell_type": "code",
   "execution_count": 9,
   "metadata": {},
   "outputs": [
    {
     "name": "stdout",
     "output_type": "stream",
     "text": [
      "1593666\n"
     ]
    }
   ],
   "source": [
    "df_ann = df_ann[\n",
    "    (df_ann.feature == 'intron') | \n",
    "    (df_ann.feature == 'exon') | \n",
    "    (df_ann.feature == 'three_prime_UTR') | \n",
    "    (df_ann.feature == 'five_prime_UTR')]\n",
    "print(len(df_ann.index))\n"
   ]
  },
  {
   "cell_type": "code",
   "execution_count": 10,
   "metadata": {},
   "outputs": [
    {
     "name": "stdout",
     "output_type": "stream",
     "text": [
      "120744\n"
     ]
    }
   ],
   "source": [
    "df_ann_promoters = pd.read_csv(path_annotation_promoters, index_col=False, sep='\\t', comment='#', header=None)\n",
    "df_ann_promoters.columns = ['seqname' , 'source' , 'feature' , 'start' , 'end' , 'score' , 'strand' , 'frame' , 'attribute']\n",
    "print(len(df_ann_promoters.index))\n"
   ]
  },
  {
   "cell_type": "code",
   "execution_count": 11,
   "metadata": {},
   "outputs": [],
   "source": [
    "df_ann_total = pd.concat([df_ann, df_ann_promoters])\n"
   ]
  },
  {
   "cell_type": "code",
   "execution_count": 12,
   "metadata": {},
   "outputs": [
    {
     "data": {
      "text/html": [
       "<div>\n",
       "<style scoped>\n",
       "    .dataframe tbody tr th:only-of-type {\n",
       "        vertical-align: middle;\n",
       "    }\n",
       "\n",
       "    .dataframe tbody tr th {\n",
       "        vertical-align: top;\n",
       "    }\n",
       "\n",
       "    .dataframe thead th {\n",
       "        text-align: right;\n",
       "    }\n",
       "</style>\n",
       "<table border=\"1\" class=\"dataframe\">\n",
       "  <thead>\n",
       "    <tr style=\"text-align: right;\">\n",
       "      <th></th>\n",
       "      <th>seqname</th>\n",
       "      <th>source</th>\n",
       "      <th>feature</th>\n",
       "      <th>start</th>\n",
       "      <th>end</th>\n",
       "      <th>score</th>\n",
       "      <th>strand</th>\n",
       "      <th>frame</th>\n",
       "      <th>attribute</th>\n",
       "    </tr>\n",
       "  </thead>\n",
       "  <tbody>\n",
       "    <tr>\n",
       "      <th>2</th>\n",
       "      <td>1A</td>\n",
       "      <td>Ensembl_Plants</td>\n",
       "      <td>exon</td>\n",
       "      <td>200</td>\n",
       "      <td>1683</td>\n",
       "      <td>.</td>\n",
       "      <td>+</td>\n",
       "      <td>.</td>\n",
       "      <td>Parent=transcript:ENSRNA050013875-T1;Name=ENSR...</td>\n",
       "    </tr>\n",
       "    <tr>\n",
       "      <th>5</th>\n",
       "      <td>1A</td>\n",
       "      <td>Ensembl_Plants</td>\n",
       "      <td>exon</td>\n",
       "      <td>5023</td>\n",
       "      <td>6833</td>\n",
       "      <td>.</td>\n",
       "      <td>+</td>\n",
       "      <td>.</td>\n",
       "      <td>Parent=transcript:ENSRNA050013847-T1;Name=ENSR...</td>\n",
       "    </tr>\n",
       "  </tbody>\n",
       "</table>\n",
       "</div>"
      ],
      "text/plain": [
       "  seqname          source feature  start   end score strand frame  \\\n",
       "2      1A  Ensembl_Plants    exon    200  1683     .      +     .   \n",
       "5      1A  Ensembl_Plants    exon   5023  6833     .      +     .   \n",
       "\n",
       "                                           attribute  \n",
       "2  Parent=transcript:ENSRNA050013875-T1;Name=ENSR...  \n",
       "5  Parent=transcript:ENSRNA050013847-T1;Name=ENSR...  "
      ]
     },
     "execution_count": 12,
     "metadata": {},
     "output_type": "execute_result"
    }
   ],
   "source": [
    "df_ann_total.head(2)"
   ]
  },
  {
   "cell_type": "code",
   "execution_count": 13,
   "metadata": {},
   "outputs": [
    {
     "data": {
      "text/plain": [
       "1714410"
      ]
     },
     "execution_count": 13,
     "metadata": {},
     "output_type": "execute_result"
    }
   ],
   "source": [
    "len(df_ann_total.index)\n"
   ]
  },
  {
   "cell_type": "code",
   "execution_count": 14,
   "metadata": {},
   "outputs": [],
   "source": [
    "df_anns = {}\n",
    "for chromosome in df_ann_total.seqname.unique():\n",
    "    df_anns[chromosome] = df_ann_total[df_ann_total.seqname == chromosome]\n"
   ]
  },
  {
   "cell_type": "code",
   "execution_count": null,
   "metadata": {},
   "outputs": [],
   "source": []
  },
  {
   "cell_type": "code",
   "execution_count": 15,
   "metadata": {},
   "outputs": [
    {
     "data": {
      "text/html": [
       "<div>\n",
       "<style scoped>\n",
       "    .dataframe tbody tr th:only-of-type {\n",
       "        vertical-align: middle;\n",
       "    }\n",
       "\n",
       "    .dataframe tbody tr th {\n",
       "        vertical-align: top;\n",
       "    }\n",
       "\n",
       "    .dataframe thead th {\n",
       "        text-align: right;\n",
       "    }\n",
       "</style>\n",
       "<table border=\"1\" class=\"dataframe\">\n",
       "  <thead>\n",
       "    <tr style=\"text-align: right;\">\n",
       "      <th></th>\n",
       "      <th>#Locus</th>\n",
       "      <th>Name</th>\n",
       "      <th>Length</th>\n",
       "      <th>Reads</th>\n",
       "      <th>RPM</th>\n",
       "      <th>UniqueReads</th>\n",
       "      <th>FracTop</th>\n",
       "      <th>Strand</th>\n",
       "      <th>MajorRNA</th>\n",
       "      <th>MajorRNAReads</th>\n",
       "      <th>...</th>\n",
       "      <th>21</th>\n",
       "      <th>22</th>\n",
       "      <th>23</th>\n",
       "      <th>24</th>\n",
       "      <th>seqname</th>\n",
       "      <th>position</th>\n",
       "      <th>start</th>\n",
       "      <th>end</th>\n",
       "      <th>MITE</th>\n",
       "      <th>mirbase</th>\n",
       "    </tr>\n",
       "  </thead>\n",
       "  <tbody>\n",
       "    <tr>\n",
       "      <th>0</th>\n",
       "      <td>1A:117385432-117385825</td>\n",
       "      <td>sun_mites_MITE_T_430_1A_117385432_117385825</td>\n",
       "      <td>394</td>\n",
       "      <td>17</td>\n",
       "      <td>0.135</td>\n",
       "      <td>3</td>\n",
       "      <td>0.941</td>\n",
       "      <td>+</td>\n",
       "      <td>UCUGCACCCUGAAUGAUGAAUAGU</td>\n",
       "      <td>11</td>\n",
       "      <td>...</td>\n",
       "      <td>1</td>\n",
       "      <td>0</td>\n",
       "      <td>1</td>\n",
       "      <td>14</td>\n",
       "      <td>1A</td>\n",
       "      <td>117385432-117385825</td>\n",
       "      <td>117385432</td>\n",
       "      <td>117385825</td>\n",
       "      <td>MITE_524</td>\n",
       "      <td>NaN</td>\n",
       "    </tr>\n",
       "  </tbody>\n",
       "</table>\n",
       "<p>1 rows × 27 columns</p>\n",
       "</div>"
      ],
      "text/plain": [
       "                   #Locus                                         Name  \\\n",
       "0  1A:117385432-117385825  sun_mites_MITE_T_430_1A_117385432_117385825   \n",
       "\n",
       "   Length  Reads    RPM  UniqueReads  FracTop Strand  \\\n",
       "0     394     17  0.135            3    0.941      +   \n",
       "\n",
       "                   MajorRNA  MajorRNAReads  ...  21  22 23  24  seqname  \\\n",
       "0  UCUGCACCCUGAAUGAUGAAUAGU             11  ...   1   0  1  14       1A   \n",
       "\n",
       "              position      start        end      MITE  mirbase  \n",
       "0  117385432-117385825  117385432  117385825  MITE_524      NaN  \n",
       "\n",
       "[1 rows x 27 columns]"
      ]
     },
     "execution_count": 15,
     "metadata": {},
     "output_type": "execute_result"
    }
   ],
   "source": [
    "df.head(1)"
   ]
  },
  {
   "cell_type": "code",
   "execution_count": 16,
   "metadata": {},
   "outputs": [],
   "source": [
    "df['annotation'] = 'intergenic'"
   ]
  },
  {
   "cell_type": "code",
   "execution_count": 17,
   "metadata": {},
   "outputs": [],
   "source": [
    "for k,v in df.iterrows():\n",
    "    other = df_anns[v.seqname]\n",
    "    other = other[(other.end >= v.start) & (other.start <= v.end)]\n",
    "    if len(other.index) > 0:\n",
    "        features = set(other.feature.tolist())\n",
    "        str_features = ', '.join(features)\n",
    "        if df.loc[k, 'annotation'] == 'three_prime_UTR' or df.loc[k, 'annotation'] == 'five_prime_UTR':\n",
    "            continue\n",
    "        df.loc[k, 'annotation'] = str_features"
   ]
  },
  {
   "cell_type": "code",
   "execution_count": 18,
   "metadata": {},
   "outputs": [
    {
     "data": {
      "image/png": "[encoded data removed]",
      "text/plain": [
       "<Figure size 432x288 with 1 Axes>"
      ]
     },
     "metadata": {
      "needs_background": "light"
     },
     "output_type": "display_data"
    }
   ],
   "source": [
    "from matplotlib.ticker import MaxNLocator\n",
    "from matplotlib import pyplot\n",
    "ax = df.annotation.value_counts().plot(kind='bar')\n",
    "x_offset = -0.07\n",
    "y_offset = 0.15\n",
    "ax.yaxis.set_major_locator(MaxNLocator(integer=True))\n",
    "\n",
    "for p in ax.patches:\n",
    "    b = p.get_bbox()\n",
    "    val = int(b.y1)\n",
    "    ax.annotate(val, ((b.x0 + b.x1)/2 + x_offset, b.y1 + y_offset))\n",
    "ax\n",
    "pyplot.savefig('../data/res/mirna_all.png',transparent=True, bbox_inches='tight', pad_inches=0)"
   ]
  },
  {
   "cell_type": "code",
   "execution_count": 21,
   "metadata": {},
   "outputs": [
    {
     "data": {
      "text/plain": [
       "intergenic                      195\n",
       "intron                           31\n",
       "exon                             14\n",
       "promoter                         12\n",
       "promoter, exon                    9\n",
       "exon, three_prime_UTR             5\n",
       "five_prime_UTR, exon              1\n",
       "five_prime_UTR, intron, exon      1\n",
       "promoter, intron                  1\n",
       "five_prime_UTR, exon, intron      1\n",
       "Name: annotation, dtype: int64"
      ]
     },
     "execution_count": 21,
     "metadata": {},
     "output_type": "execute_result"
    }
   ],
   "source": [
    "df.annotation.value_counts()"
   ]
  },
  {
   "cell_type": "code",
   "execution_count": null,
   "metadata": {},
   "outputs": [],
   "source": [
    "df.annotation.value_counts()['exon'] + df.annotation.value_counts()['intron'] + df.annotation.value_counts()['exon'] + df.annotation.value_counts()['intron']"
   ]
  },
  {
   "cell_type": "code",
   "execution_count": null,
   "metadata": {},
   "outputs": [],
   "source": []
  },
  {
   "cell_type": "code",
   "execution_count": null,
   "metadata": {},
   "outputs": [],
   "source": []
  },
  {
   "cell_type": "code",
   "execution_count": null,
   "metadata": {},
   "outputs": [],
   "source": []
  },
  {
   "cell_type": "code",
   "execution_count": null,
   "metadata": {},
   "outputs": [],
   "source": []
  },
  {
   "cell_type": "code",
   "execution_count": null,
   "metadata": {},
   "outputs": [],
   "source": []
  },
  {
   "cell_type": "code",
   "execution_count": 93,
   "metadata": {},
   "outputs": [
    {
     "name": "stdout",
     "output_type": "stream",
     "text": [
      "270\n",
      "../data/res/all_results.csv\n"
     ]
    }
   ],
   "source": [
    "df.to_csv(path_res, sep='\\t', index=None)\n",
    "print(len(df.index))\n",
    "print(path_res)"
   ]
  },
  {
   "cell_type": "code",
   "execution_count": null,
   "metadata": {},
   "outputs": [],
   "source": []
  },
  {
   "cell_type": "code",
   "execution_count": null,
   "metadata": {},
   "outputs": [],
   "source": []
  },
  {
   "cell_type": "code",
   "execution_count": null,
   "metadata": {},
   "outputs": [],
   "source": []
  },
  {
   "cell_type": "code",
   "execution_count": null,
   "metadata": {},
   "outputs": [],
   "source": []
  },
  {
   "cell_type": "code",
   "execution_count": null,
   "metadata": {},
   "outputs": [],
   "source": []
  },
  {
   "cell_type": "code",
   "execution_count": 25,
   "metadata": {},
   "outputs": [
    {
     "data": {
      "text/plain": [
       "38"
      ]
     },
     "execution_count": 25,
     "metadata": {},
     "output_type": "execute_result"
    }
   ],
   "source": [
    "#let's have some fun with data\n",
    "\n",
    "len(df[df.MITE.notnull()].index)"
   ]
  },
  {
   "cell_type": "code",
   "execution_count": 26,
   "metadata": {},
   "outputs": [
    {
     "data": {
      "text/plain": [
       "intergenic               19\n",
       "intron                   15\n",
       "promoter                  2\n",
       "exon, three_prime_UTR     1\n",
       "promoter, intron          1\n",
       "Name: annotation, dtype: int64"
      ]
     },
     "execution_count": 26,
     "metadata": {},
     "output_type": "execute_result"
    }
   ],
   "source": [
    "df[df.MITE.notnull()].annotation.value_counts()"
   ]
  },
  {
   "cell_type": "code",
   "execution_count": null,
   "metadata": {},
   "outputs": [],
   "source": []
  },
  {
   "cell_type": "code",
   "execution_count": 99,
   "metadata": {},
   "outputs": [
    {
     "data": {
      "image/png": "[encoded data removed]",
      "text/plain": [
       "<Figure size 432x288 with 1 Axes>"
      ]
     },
     "metadata": {
      "needs_background": "light"
     },
     "output_type": "display_data"
    }
   ],
   "source": [
    "from matplotlib.ticker import MaxNLocator\n",
    "from matplotlib import pyplot\n",
    "ax = df.annotation.value_counts().plot(kind='bar')\n",
    "x_offset = -0.07\n",
    "y_offset = 0.15\n",
    "ax.set_ylim(0,220)\n",
    "ax.yaxis.set_major_locator(MaxNLocator(integer=True))\n",
    "\n",
    "for p in ax.patches:\n",
    "    b = p.get_bbox()\n",
    "    val = int(b.y1)\n",
    "    ax.annotate(val, ((b.x0 + b.x1)/2 + x_offset, b.y1 + y_offset))\n",
    "ax\n",
    "pyplot.savefig('../data/res/mirna_mite.png',transparent=True, bbox_inches='tight', pad_inches=0)"
   ]
  },
  {
   "cell_type": "code",
   "execution_count": 96,
   "metadata": {},
   "outputs": [
    {
     "data": {
      "image/png": "[encoded data removed]",
      "text/plain": [
       "<Figure size 432x288 with 1 Axes>"
      ]
     },
     "metadata": {
      "needs_background": "light"
     },
     "output_type": "display_data"
    }
   ],
   "source": [
    "from matplotlib.ticker import MaxNLocator\n",
    "from matplotlib import pyplot\n",
    "ax = df[df.MITE.notnull()].annotation.value_counts().plot(kind='bar')\n",
    "x_offset = -0.07\n",
    "y_offset = 0.15\n",
    "ax.set_ylim(0,20)\n",
    "ax.yaxis.set_major_locator(MaxNLocator(integer=True))\n",
    "\n",
    "for p in ax.patches:\n",
    "    b = p.get_bbox()\n",
    "    val = int(b.y1)\n",
    "    ax.annotate(val, ((b.x0 + b.x1)/2 + x_offset, b.y1 + y_offset))\n",
    "ax\n",
    "pyplot.savefig('../data/res/mirna_mite.png',transparent=True, bbox_inches='tight', pad_inches=0)"
   ]
  },
  {
   "cell_type": "code",
   "execution_count": 91,
   "metadata": {},
   "outputs": [
    {
     "data": {
      "text/plain": [
       "247"
      ]
     },
     "execution_count": 91,
     "metadata": {},
     "output_type": "execute_result"
    }
   ],
   "source": [
    "len(df.index)"
   ]
  },
  {
   "cell_type": "code",
   "execution_count": 92,
   "metadata": {},
   "outputs": [
    {
     "name": "stdout",
     "output_type": "stream",
     "text": [
      "25\n"
     ]
    },
    {
     "data": {
      "text/html": [
       "<div>\n",
       "<style scoped>\n",
       "    .dataframe tbody tr th:only-of-type {\n",
       "        vertical-align: middle;\n",
       "    }\n",
       "\n",
       "    .dataframe tbody tr th {\n",
       "        vertical-align: top;\n",
       "    }\n",
       "\n",
       "    .dataframe thead th {\n",
       "        text-align: right;\n",
       "    }\n",
       "</style>\n",
       "<table border=\"1\" class=\"dataframe\">\n",
       "  <thead>\n",
       "    <tr style=\"text-align: right;\">\n",
       "      <th></th>\n",
       "      <th>#Locus</th>\n",
       "      <th>Name</th>\n",
       "      <th>Length</th>\n",
       "      <th>Reads</th>\n",
       "      <th>RPM</th>\n",
       "      <th>UniqueReads</th>\n",
       "      <th>FracTop</th>\n",
       "      <th>Strand</th>\n",
       "      <th>MajorRNA</th>\n",
       "      <th>MajorRNAReads</th>\n",
       "      <th>...</th>\n",
       "      <th>22</th>\n",
       "      <th>23</th>\n",
       "      <th>24</th>\n",
       "      <th>seqname</th>\n",
       "      <th>position</th>\n",
       "      <th>start</th>\n",
       "      <th>end</th>\n",
       "      <th>MITE</th>\n",
       "      <th>mirbase</th>\n",
       "      <th>annotation</th>\n",
       "    </tr>\n",
       "  </thead>\n",
       "  <tbody>\n",
       "    <tr>\n",
       "      <th>4</th>\n",
       "      <td>1B:161992200-161992280</td>\n",
       "      <td>sun_all_Cluster_8835_1B_161992200_161992280</td>\n",
       "      <td>81</td>\n",
       "      <td>135</td>\n",
       "      <td>1.069</td>\n",
       "      <td>5</td>\n",
       "      <td>0.919</td>\n",
       "      <td>+</td>\n",
       "      <td>UCUGUUCACAAAUGUAAGACG</td>\n",
       "      <td>106</td>\n",
       "      <td>...</td>\n",
       "      <td>0</td>\n",
       "      <td>0</td>\n",
       "      <td>2</td>\n",
       "      <td>1B</td>\n",
       "      <td>161992200-161992280</td>\n",
       "      <td>161992200</td>\n",
       "      <td>161992280</td>\n",
       "      <td>MITE_1712</td>\n",
       "      <td>hvu-miR6197</td>\n",
       "      <td>intron</td>\n",
       "    </tr>\n",
       "    <tr>\n",
       "      <th>10</th>\n",
       "      <td>1D:147896240-147896319</td>\n",
       "      <td>mrcv_mites_MITE_T_120271_1D_147896240_147896319</td>\n",
       "      <td>80</td>\n",
       "      <td>45</td>\n",
       "      <td>0.353</td>\n",
       "      <td>1</td>\n",
       "      <td>1.000</td>\n",
       "      <td>+</td>\n",
       "      <td>UAUAUUUUGGUACGGAGGGAU</td>\n",
       "      <td>22</td>\n",
       "      <td>...</td>\n",
       "      <td>1</td>\n",
       "      <td>0</td>\n",
       "      <td>0</td>\n",
       "      <td>1D</td>\n",
       "      <td>147896240-147896319</td>\n",
       "      <td>147896240</td>\n",
       "      <td>147896319</td>\n",
       "      <td>MITE_1717</td>\n",
       "      <td>NaN</td>\n",
       "      <td>intron</td>\n",
       "    </tr>\n",
       "    <tr>\n",
       "      <th>16</th>\n",
       "      <td>2A:133702671-133702770</td>\n",
       "      <td>sun_mites_MITE_T_99232_2A_133702671_133702770</td>\n",
       "      <td>100</td>\n",
       "      <td>2289</td>\n",
       "      <td>18.126</td>\n",
       "      <td>2181</td>\n",
       "      <td>0.983</td>\n",
       "      <td>+</td>\n",
       "      <td>UGAGACGGGUAAUUUGGAACGGAG</td>\n",
       "      <td>1484</td>\n",
       "      <td>...</td>\n",
       "      <td>53</td>\n",
       "      <td>101</td>\n",
       "      <td>2001</td>\n",
       "      <td>2A</td>\n",
       "      <td>133702671-133702770</td>\n",
       "      <td>133702671</td>\n",
       "      <td>133702770</td>\n",
       "      <td>DTT_Tmon_Icarus_BG607724-1</td>\n",
       "      <td>NaN</td>\n",
       "      <td>promoter</td>\n",
       "    </tr>\n",
       "    <tr>\n",
       "      <th>19</th>\n",
       "      <td>2A:168984136-168984233</td>\n",
       "      <td>mrcv_mites_MITE_T_102616_2A_168984136_168984233</td>\n",
       "      <td>98</td>\n",
       "      <td>198</td>\n",
       "      <td>1.554</td>\n",
       "      <td>2</td>\n",
       "      <td>0.045</td>\n",
       "      <td>-</td>\n",
       "      <td>UCGGAAUUAGUUGACACUCAAA</td>\n",
       "      <td>86</td>\n",
       "      <td>...</td>\n",
       "      <td>89</td>\n",
       "      <td>63</td>\n",
       "      <td>1</td>\n",
       "      <td>2A</td>\n",
       "      <td>168984136-168984233</td>\n",
       "      <td>168984136</td>\n",
       "      <td>168984233</td>\n",
       "      <td>MITE_253</td>\n",
       "      <td>NaN</td>\n",
       "      <td>intron</td>\n",
       "    </tr>\n",
       "    <tr>\n",
       "      <th>29</th>\n",
       "      <td>2B:5671327-5671460</td>\n",
       "      <td>sun_all_Cluster_28681_2B_5671327_5671460</td>\n",
       "      <td>134</td>\n",
       "      <td>562</td>\n",
       "      <td>4.450</td>\n",
       "      <td>504</td>\n",
       "      <td>0.016</td>\n",
       "      <td>-</td>\n",
       "      <td>UAUCUGGACAAAUCUGAGACA</td>\n",
       "      <td>293</td>\n",
       "      <td>...</td>\n",
       "      <td>5</td>\n",
       "      <td>2</td>\n",
       "      <td>4</td>\n",
       "      <td>2B</td>\n",
       "      <td>5671327-5671460</td>\n",
       "      <td>5671327</td>\n",
       "      <td>5671460</td>\n",
       "      <td>DTT_Hvul_Pan_M801L24-1</td>\n",
       "      <td>NaN</td>\n",
       "      <td>intron</td>\n",
       "    </tr>\n",
       "    <tr>\n",
       "      <th>36</th>\n",
       "      <td>2B:482720682-482720772</td>\n",
       "      <td>sun_all_Cluster_33132_2B_482720682_482720772</td>\n",
       "      <td>91</td>\n",
       "      <td>102</td>\n",
       "      <td>0.808</td>\n",
       "      <td>91</td>\n",
       "      <td>0.078</td>\n",
       "      <td>-</td>\n",
       "      <td>AUCUUCUAUCGUGGGACGAAG</td>\n",
       "      <td>48</td>\n",
       "      <td>...</td>\n",
       "      <td>1</td>\n",
       "      <td>1</td>\n",
       "      <td>1</td>\n",
       "      <td>2B</td>\n",
       "      <td>482720682-482720772</td>\n",
       "      <td>482720682</td>\n",
       "      <td>482720772</td>\n",
       "      <td>DTT_Taes_Athos_BJ320318-1</td>\n",
       "      <td>NaN</td>\n",
       "      <td>intron</td>\n",
       "    </tr>\n",
       "    <tr>\n",
       "      <th>51</th>\n",
       "      <td>3A:19302861-19302943</td>\n",
       "      <td>mrcv_mites_MITE_T_105526_3A_19302861_19302943</td>\n",
       "      <td>83</td>\n",
       "      <td>108</td>\n",
       "      <td>0.848</td>\n",
       "      <td>10</td>\n",
       "      <td>0.972</td>\n",
       "      <td>+</td>\n",
       "      <td>UCCAAUUACUCGUCGUGGUUU</td>\n",
       "      <td>89</td>\n",
       "      <td>...</td>\n",
       "      <td>4</td>\n",
       "      <td>0</td>\n",
       "      <td>3</td>\n",
       "      <td>3A</td>\n",
       "      <td>19302861-19302943</td>\n",
       "      <td>19302861</td>\n",
       "      <td>19302943</td>\n",
       "      <td>DTT_Bdis_BdisStowawayT_consensus-1</td>\n",
       "      <td>tae-miR5175-5p</td>\n",
       "      <td>intron</td>\n",
       "    </tr>\n",
       "    <tr>\n",
       "      <th>63</th>\n",
       "      <td>3B:253488744-253488823</td>\n",
       "      <td>mrcv_mites_MITE_T_120628_3B_253488744_253488823</td>\n",
       "      <td>80</td>\n",
       "      <td>1099</td>\n",
       "      <td>8.625</td>\n",
       "      <td>21</td>\n",
       "      <td>0.002</td>\n",
       "      <td>-</td>\n",
       "      <td>AUAUUAUGUGACAGAAGGAGU</td>\n",
       "      <td>715</td>\n",
       "      <td>...</td>\n",
       "      <td>10</td>\n",
       "      <td>0</td>\n",
       "      <td>4</td>\n",
       "      <td>3B</td>\n",
       "      <td>253488744-253488823</td>\n",
       "      <td>253488744</td>\n",
       "      <td>253488823</td>\n",
       "      <td>DTT_Taes_Athos_BJ275764-1</td>\n",
       "      <td>NaN</td>\n",
       "      <td>intron</td>\n",
       "    </tr>\n",
       "    <tr>\n",
       "      <th>66</th>\n",
       "      <td>3B:587564305-587564383</td>\n",
       "      <td>mrcv_all_Cluster_13743_3B_587564305_587564383</td>\n",
       "      <td>79</td>\n",
       "      <td>76</td>\n",
       "      <td>0.596</td>\n",
       "      <td>68</td>\n",
       "      <td>1.000</td>\n",
       "      <td>+</td>\n",
       "      <td>AUUGUGUACAGAGGGAGUAGU</td>\n",
       "      <td>67</td>\n",
       "      <td>...</td>\n",
       "      <td>1</td>\n",
       "      <td>0</td>\n",
       "      <td>0</td>\n",
       "      <td>3B</td>\n",
       "      <td>587564305-587564383</td>\n",
       "      <td>587564305</td>\n",
       "      <td>587564383</td>\n",
       "      <td>MITE_867</td>\n",
       "      <td>NaN</td>\n",
       "      <td>intron</td>\n",
       "    </tr>\n",
       "    <tr>\n",
       "      <th>74</th>\n",
       "      <td>3D:472405006-472405092</td>\n",
       "      <td>mrcv_mites_MITE_T_110611_3D_472405006_472405092</td>\n",
       "      <td>87</td>\n",
       "      <td>387</td>\n",
       "      <td>3.037</td>\n",
       "      <td>64</td>\n",
       "      <td>0.114</td>\n",
       "      <td>-</td>\n",
       "      <td>ACACUUAUUUCCGAUCGGAGGG</td>\n",
       "      <td>223</td>\n",
       "      <td>...</td>\n",
       "      <td>228</td>\n",
       "      <td>0</td>\n",
       "      <td>30</td>\n",
       "      <td>3D</td>\n",
       "      <td>472405006-472405092</td>\n",
       "      <td>472405006</td>\n",
       "      <td>472405092</td>\n",
       "      <td>MITE_297</td>\n",
       "      <td>NaN</td>\n",
       "      <td>intron</td>\n",
       "    </tr>\n",
       "    <tr>\n",
       "      <th>75</th>\n",
       "      <td>3D:508204974-508205052</td>\n",
       "      <td>mrcv_mites_MITE_T_121053_3D_508204974_508205052</td>\n",
       "      <td>79</td>\n",
       "      <td>413</td>\n",
       "      <td>3.241</td>\n",
       "      <td>382</td>\n",
       "      <td>0.985</td>\n",
       "      <td>+</td>\n",
       "      <td>AACUGCUCCCUCCGUAAACUA</td>\n",
       "      <td>144</td>\n",
       "      <td>...</td>\n",
       "      <td>171</td>\n",
       "      <td>1</td>\n",
       "      <td>5</td>\n",
       "      <td>3D</td>\n",
       "      <td>508204974-508205052</td>\n",
       "      <td>508204974</td>\n",
       "      <td>508205052</td>\n",
       "      <td>DTT_Taes_Athos_BJ282680-1</td>\n",
       "      <td>NaN</td>\n",
       "      <td>intergenic</td>\n",
       "    </tr>\n",
       "    <tr>\n",
       "      <th>80</th>\n",
       "      <td>4A:67171695-67171971</td>\n",
       "      <td>mrcv_mites_MITE_T_21345_4A_67171695_67171971</td>\n",
       "      <td>277</td>\n",
       "      <td>261</td>\n",
       "      <td>2.048</td>\n",
       "      <td>139</td>\n",
       "      <td>0.115</td>\n",
       "      <td>-</td>\n",
       "      <td>ACUUCGAGGACCUGGAUGACU</td>\n",
       "      <td>134</td>\n",
       "      <td>...</td>\n",
       "      <td>2</td>\n",
       "      <td>3</td>\n",
       "      <td>68</td>\n",
       "      <td>4A</td>\n",
       "      <td>67171695-67171971</td>\n",
       "      <td>67171695</td>\n",
       "      <td>67171971</td>\n",
       "      <td>MITE_1253</td>\n",
       "      <td>NaN</td>\n",
       "      <td>intergenic</td>\n",
       "    </tr>\n",
       "    <tr>\n",
       "      <th>96</th>\n",
       "      <td>4B:429353827-429354091</td>\n",
       "      <td>mrcv_mites_MITE_T_37538_4B_429353827_429354091</td>\n",
       "      <td>265</td>\n",
       "      <td>144</td>\n",
       "      <td>1.130</td>\n",
       "      <td>118</td>\n",
       "      <td>0.993</td>\n",
       "      <td>+</td>\n",
       "      <td>UAAACAUCACAAACUUUGGCC</td>\n",
       "      <td>78</td>\n",
       "      <td>...</td>\n",
       "      <td>12</td>\n",
       "      <td>3</td>\n",
       "      <td>7</td>\n",
       "      <td>4B</td>\n",
       "      <td>429353827-429354091</td>\n",
       "      <td>429353827</td>\n",
       "      <td>429354091</td>\n",
       "      <td>MITE_1583</td>\n",
       "      <td>NaN</td>\n",
       "      <td>exon, three_prime_UTR</td>\n",
       "    </tr>\n",
       "    <tr>\n",
       "      <th>101</th>\n",
       "      <td>4D:142764762-142764979</td>\n",
       "      <td>mrcv_mites_MITE_T_40344_4D_142764762_142764979</td>\n",
       "      <td>218</td>\n",
       "      <td>188</td>\n",
       "      <td>1.475</td>\n",
       "      <td>3</td>\n",
       "      <td>0.952</td>\n",
       "      <td>+</td>\n",
       "      <td>UAGGGUGUAGAAUAAGCUAUU</td>\n",
       "      <td>128</td>\n",
       "      <td>...</td>\n",
       "      <td>1</td>\n",
       "      <td>0</td>\n",
       "      <td>6</td>\n",
       "      <td>4D</td>\n",
       "      <td>142764762-142764979</td>\n",
       "      <td>142764762</td>\n",
       "      <td>142764979</td>\n",
       "      <td>MITE_45</td>\n",
       "      <td>NaN</td>\n",
       "      <td>intergenic</td>\n",
       "    </tr>\n",
       "    <tr>\n",
       "      <th>102</th>\n",
       "      <td>4D:142764794-142764971</td>\n",
       "      <td>sun_all_Cluster_82408_4D_142764794_142764971</td>\n",
       "      <td>178</td>\n",
       "      <td>77</td>\n",
       "      <td>0.610</td>\n",
       "      <td>5</td>\n",
       "      <td>0.831</td>\n",
       "      <td>+</td>\n",
       "      <td>UAGCUUAUUCUACAUCCCAGU</td>\n",
       "      <td>24</td>\n",
       "      <td>...</td>\n",
       "      <td>0</td>\n",
       "      <td>0</td>\n",
       "      <td>11</td>\n",
       "      <td>4D</td>\n",
       "      <td>142764794-142764971</td>\n",
       "      <td>142764794</td>\n",
       "      <td>142764971</td>\n",
       "      <td>MITE_45</td>\n",
       "      <td>NaN</td>\n",
       "      <td>intergenic</td>\n",
       "    </tr>\n",
       "    <tr>\n",
       "      <th>117</th>\n",
       "      <td>5A:552632192-552632284</td>\n",
       "      <td>mrcv_mites_MITE_T_95924_5A_552632192_552632284</td>\n",
       "      <td>93</td>\n",
       "      <td>46</td>\n",
       "      <td>0.361</td>\n",
       "      <td>0</td>\n",
       "      <td>0.000</td>\n",
       "      <td>-</td>\n",
       "      <td>UGCGGCACUUAUUUUGGGACG</td>\n",
       "      <td>40</td>\n",
       "      <td>...</td>\n",
       "      <td>0</td>\n",
       "      <td>0</td>\n",
       "      <td>0</td>\n",
       "      <td>5A</td>\n",
       "      <td>552632192-552632284</td>\n",
       "      <td>552632192</td>\n",
       "      <td>552632284</td>\n",
       "      <td>DTT_Bdis_BdisStowawayF_consensus-1</td>\n",
       "      <td>hvu-miR5049c</td>\n",
       "      <td>intergenic</td>\n",
       "    </tr>\n",
       "    <tr>\n",
       "      <th>118</th>\n",
       "      <td>5A:609867615-609867781</td>\n",
       "      <td>mrcv_mites_MITE_T_64580_5A_609867615_609867781</td>\n",
       "      <td>167</td>\n",
       "      <td>246</td>\n",
       "      <td>1.931</td>\n",
       "      <td>205</td>\n",
       "      <td>0.947</td>\n",
       "      <td>+</td>\n",
       "      <td>UUGUAGAGCUUUCAUUAUGGA</td>\n",
       "      <td>170</td>\n",
       "      <td>...</td>\n",
       "      <td>1</td>\n",
       "      <td>3</td>\n",
       "      <td>16</td>\n",
       "      <td>5A</td>\n",
       "      <td>609867615-609867781</td>\n",
       "      <td>609867615</td>\n",
       "      <td>609867781</td>\n",
       "      <td>DTT_Atau_Thalos_AF338431-1</td>\n",
       "      <td>NaN</td>\n",
       "      <td>intron</td>\n",
       "    </tr>\n",
       "    <tr>\n",
       "      <th>141</th>\n",
       "      <td>5D:6108105-6108490</td>\n",
       "      <td>mrcv_mites_MITE_T_672_5D_6108105_6108490</td>\n",
       "      <td>386</td>\n",
       "      <td>883</td>\n",
       "      <td>6.930</td>\n",
       "      <td>44</td>\n",
       "      <td>0.003</td>\n",
       "      <td>-</td>\n",
       "      <td>UUUGGACAUCUGACAAGCUCU</td>\n",
       "      <td>765</td>\n",
       "      <td>...</td>\n",
       "      <td>3</td>\n",
       "      <td>0</td>\n",
       "      <td>8</td>\n",
       "      <td>5D</td>\n",
       "      <td>6108105-6108490</td>\n",
       "      <td>6108105</td>\n",
       "      <td>6108490</td>\n",
       "      <td>MITE_1605</td>\n",
       "      <td>NaN</td>\n",
       "      <td>intergenic</td>\n",
       "    </tr>\n",
       "    <tr>\n",
       "      <th>165</th>\n",
       "      <td>6A:23496429-23496595</td>\n",
       "      <td>mrcv_mites_MITE_T_64052_6A_23496429_23496595</td>\n",
       "      <td>167</td>\n",
       "      <td>111</td>\n",
       "      <td>0.871</td>\n",
       "      <td>18</td>\n",
       "      <td>0.045</td>\n",
       "      <td>-</td>\n",
       "      <td>UUAGAGGUUUCAAUACGGACU</td>\n",
       "      <td>82</td>\n",
       "      <td>...</td>\n",
       "      <td>0</td>\n",
       "      <td>1</td>\n",
       "      <td>4</td>\n",
       "      <td>6A</td>\n",
       "      <td>23496429-23496595</td>\n",
       "      <td>23496429</td>\n",
       "      <td>23496595</td>\n",
       "      <td>DTT_Taes_Thalos_BJ273584-1</td>\n",
       "      <td>NaN</td>\n",
       "      <td>intergenic</td>\n",
       "    </tr>\n",
       "    <tr>\n",
       "      <th>202</th>\n",
       "      <td>6D:361524524-361524682</td>\n",
       "      <td>mrcv_mites_MITE_T_58879_6D_361524524_361524682</td>\n",
       "      <td>159</td>\n",
       "      <td>134</td>\n",
       "      <td>1.052</td>\n",
       "      <td>1</td>\n",
       "      <td>0.000</td>\n",
       "      <td>-</td>\n",
       "      <td>UUAGAGAUUUCAAUGUGGAUU</td>\n",
       "      <td>119</td>\n",
       "      <td>...</td>\n",
       "      <td>6</td>\n",
       "      <td>0</td>\n",
       "      <td>1</td>\n",
       "      <td>6D</td>\n",
       "      <td>361524524-361524682</td>\n",
       "      <td>361524524</td>\n",
       "      <td>361524682</td>\n",
       "      <td>DTT_Null_Thalos_consensus-1</td>\n",
       "      <td>NaN</td>\n",
       "      <td>intron</td>\n",
       "    </tr>\n",
       "    <tr>\n",
       "      <th>207</th>\n",
       "      <td>6D:461512362-461512720</td>\n",
       "      <td>mrcv_mites_MITE_T_6223_6D_461512362_461512720</td>\n",
       "      <td>359</td>\n",
       "      <td>409</td>\n",
       "      <td>3.210</td>\n",
       "      <td>294</td>\n",
       "      <td>0.064</td>\n",
       "      <td>-</td>\n",
       "      <td>AGAUGACCAAAUGAGCUGAAACUU</td>\n",
       "      <td>192</td>\n",
       "      <td>...</td>\n",
       "      <td>9</td>\n",
       "      <td>21</td>\n",
       "      <td>268</td>\n",
       "      <td>6D</td>\n",
       "      <td>461512362-461512720</td>\n",
       "      <td>461512362</td>\n",
       "      <td>461512720</td>\n",
       "      <td>MITE_1605</td>\n",
       "      <td>NaN</td>\n",
       "      <td>promoter</td>\n",
       "    </tr>\n",
       "    <tr>\n",
       "      <th>220</th>\n",
       "      <td>7A:668530082-668530159</td>\n",
       "      <td>mrcv_mites_MITE_T_100589_7A_668530082_668530159</td>\n",
       "      <td>78</td>\n",
       "      <td>577</td>\n",
       "      <td>4.528</td>\n",
       "      <td>10</td>\n",
       "      <td>0.972</td>\n",
       "      <td>+</td>\n",
       "      <td>AUGACGAGUAAAUCAGAACGG</td>\n",
       "      <td>257</td>\n",
       "      <td>...</td>\n",
       "      <td>27</td>\n",
       "      <td>29</td>\n",
       "      <td>81</td>\n",
       "      <td>7A</td>\n",
       "      <td>668530082-668530159</td>\n",
       "      <td>668530082</td>\n",
       "      <td>668530159</td>\n",
       "      <td>DTT_Tdur_Icarus_103H9-1</td>\n",
       "      <td>NaN</td>\n",
       "      <td>intergenic</td>\n",
       "    </tr>\n",
       "    <tr>\n",
       "      <th>221</th>\n",
       "      <td>7A:668530089-668530164</td>\n",
       "      <td>sun_all_Cluster_136100_7A_668530089_668530164</td>\n",
       "      <td>76</td>\n",
       "      <td>96</td>\n",
       "      <td>0.760</td>\n",
       "      <td>2</td>\n",
       "      <td>0.927</td>\n",
       "      <td>+</td>\n",
       "      <td>CUUCUGAUUUACUCGUCGUGG</td>\n",
       "      <td>26</td>\n",
       "      <td>...</td>\n",
       "      <td>14</td>\n",
       "      <td>0</td>\n",
       "      <td>26</td>\n",
       "      <td>7A</td>\n",
       "      <td>668530089-668530164</td>\n",
       "      <td>668530089</td>\n",
       "      <td>668530164</td>\n",
       "      <td>DTT_Tdur_Icarus_103H9-1</td>\n",
       "      <td>NaN</td>\n",
       "      <td>intergenic</td>\n",
       "    </tr>\n",
       "    <tr>\n",
       "      <th>224</th>\n",
       "      <td>7B:34679825-34679952</td>\n",
       "      <td>mrcv_mites_MITE_T_80536_7B_34679825_34679952</td>\n",
       "      <td>128</td>\n",
       "      <td>184</td>\n",
       "      <td>1.444</td>\n",
       "      <td>26</td>\n",
       "      <td>0.989</td>\n",
       "      <td>+</td>\n",
       "      <td>UGUCGUAGAUUUGUCUAGAUA</td>\n",
       "      <td>99</td>\n",
       "      <td>...</td>\n",
       "      <td>0</td>\n",
       "      <td>1</td>\n",
       "      <td>14</td>\n",
       "      <td>7B</td>\n",
       "      <td>34679825-34679952</td>\n",
       "      <td>34679825</td>\n",
       "      <td>34679952</td>\n",
       "      <td>DTT_Taes_Pan_42j2-6</td>\n",
       "      <td>hvu-miR6191</td>\n",
       "      <td>intergenic</td>\n",
       "    </tr>\n",
       "    <tr>\n",
       "      <th>230</th>\n",
       "      <td>7B:223173899-223174050</td>\n",
       "      <td>mrcv_all_Cluster_34329_7B_223173899_223174050</td>\n",
       "      <td>152</td>\n",
       "      <td>80</td>\n",
       "      <td>0.628</td>\n",
       "      <td>2</td>\n",
       "      <td>1.000</td>\n",
       "      <td>+</td>\n",
       "      <td>UGGCAAAUCUAGUUGGUGAGC</td>\n",
       "      <td>44</td>\n",
       "      <td>...</td>\n",
       "      <td>5</td>\n",
       "      <td>0</td>\n",
       "      <td>1</td>\n",
       "      <td>7B</td>\n",
       "      <td>223173899-223174050</td>\n",
       "      <td>223173899</td>\n",
       "      <td>223174050</td>\n",
       "      <td>MITE_1013</td>\n",
       "      <td>NaN</td>\n",
       "      <td>intron</td>\n",
       "    </tr>\n",
       "  </tbody>\n",
       "</table>\n",
       "<p>25 rows × 28 columns</p>\n",
       "</div>"
      ],
      "text/plain": [
       "                     #Locus                                             Name  \\\n",
       "4    1B:161992200-161992280      sun_all_Cluster_8835_1B_161992200_161992280   \n",
       "10   1D:147896240-147896319  mrcv_mites_MITE_T_120271_1D_147896240_147896319   \n",
       "16   2A:133702671-133702770    sun_mites_MITE_T_99232_2A_133702671_133702770   \n",
       "19   2A:168984136-168984233  mrcv_mites_MITE_T_102616_2A_168984136_168984233   \n",
       "29       2B:5671327-5671460         sun_all_Cluster_28681_2B_5671327_5671460   \n",
       "36   2B:482720682-482720772     sun_all_Cluster_33132_2B_482720682_482720772   \n",
       "51     3A:19302861-19302943    mrcv_mites_MITE_T_105526_3A_19302861_19302943   \n",
       "63   3B:253488744-253488823  mrcv_mites_MITE_T_120628_3B_253488744_253488823   \n",
       "66   3B:587564305-587564383    mrcv_all_Cluster_13743_3B_587564305_587564383   \n",
       "74   3D:472405006-472405092  mrcv_mites_MITE_T_110611_3D_472405006_472405092   \n",
       "75   3D:508204974-508205052  mrcv_mites_MITE_T_121053_3D_508204974_508205052   \n",
       "80     4A:67171695-67171971     mrcv_mites_MITE_T_21345_4A_67171695_67171971   \n",
       "96   4B:429353827-429354091   mrcv_mites_MITE_T_37538_4B_429353827_429354091   \n",
       "101  4D:142764762-142764979   mrcv_mites_MITE_T_40344_4D_142764762_142764979   \n",
       "102  4D:142764794-142764971     sun_all_Cluster_82408_4D_142764794_142764971   \n",
       "117  5A:552632192-552632284   mrcv_mites_MITE_T_95924_5A_552632192_552632284   \n",
       "118  5A:609867615-609867781   mrcv_mites_MITE_T_64580_5A_609867615_609867781   \n",
       "141      5D:6108105-6108490         mrcv_mites_MITE_T_672_5D_6108105_6108490   \n",
       "165    6A:23496429-23496595     mrcv_mites_MITE_T_64052_6A_23496429_23496595   \n",
       "202  6D:361524524-361524682   mrcv_mites_MITE_T_58879_6D_361524524_361524682   \n",
       "207  6D:461512362-461512720    mrcv_mites_MITE_T_6223_6D_461512362_461512720   \n",
       "220  7A:668530082-668530159  mrcv_mites_MITE_T_100589_7A_668530082_668530159   \n",
       "221  7A:668530089-668530164    sun_all_Cluster_136100_7A_668530089_668530164   \n",
       "224    7B:34679825-34679952     mrcv_mites_MITE_T_80536_7B_34679825_34679952   \n",
       "230  7B:223173899-223174050    mrcv_all_Cluster_34329_7B_223173899_223174050   \n",
       "\n",
       "     Length  Reads     RPM  UniqueReads  FracTop Strand  \\\n",
       "4        81    135   1.069            5    0.919      +   \n",
       "10       80     45   0.353            1    1.000      +   \n",
       "16      100   2289  18.126         2181    0.983      +   \n",
       "19       98    198   1.554            2    0.045      -   \n",
       "29      134    562   4.450          504    0.016      -   \n",
       "36       91    102   0.808           91    0.078      -   \n",
       "51       83    108   0.848           10    0.972      +   \n",
       "63       80   1099   8.625           21    0.002      -   \n",
       "66       79     76   0.596           68    1.000      +   \n",
       "74       87    387   3.037           64    0.114      -   \n",
       "75       79    413   3.241          382    0.985      +   \n",
       "80      277    261   2.048          139    0.115      -   \n",
       "96      265    144   1.130          118    0.993      +   \n",
       "101     218    188   1.475            3    0.952      +   \n",
       "102     178     77   0.610            5    0.831      +   \n",
       "117      93     46   0.361            0    0.000      -   \n",
       "118     167    246   1.931          205    0.947      +   \n",
       "141     386    883   6.930           44    0.003      -   \n",
       "165     167    111   0.871           18    0.045      -   \n",
       "202     159    134   1.052            1    0.000      -   \n",
       "207     359    409   3.210          294    0.064      -   \n",
       "220      78    577   4.528           10    0.972      +   \n",
       "221      76     96   0.760            2    0.927      +   \n",
       "224     128    184   1.444           26    0.989      +   \n",
       "230     152     80   0.628            2    1.000      +   \n",
       "\n",
       "                     MajorRNA  MajorRNAReads          ...             22   23  \\\n",
       "4       UCUGUUCACAAAUGUAAGACG            106          ...              0    0   \n",
       "10      UAUAUUUUGGUACGGAGGGAU             22          ...              1    0   \n",
       "16   UGAGACGGGUAAUUUGGAACGGAG           1484          ...             53  101   \n",
       "19     UCGGAAUUAGUUGACACUCAAA             86          ...             89   63   \n",
       "29      UAUCUGGACAAAUCUGAGACA            293          ...              5    2   \n",
       "36      AUCUUCUAUCGUGGGACGAAG             48          ...              1    1   \n",
       "51      UCCAAUUACUCGUCGUGGUUU             89          ...              4    0   \n",
       "63      AUAUUAUGUGACAGAAGGAGU            715          ...             10    0   \n",
       "66      AUUGUGUACAGAGGGAGUAGU             67          ...              1    0   \n",
       "74     ACACUUAUUUCCGAUCGGAGGG            223          ...            228    0   \n",
       "75      AACUGCUCCCUCCGUAAACUA            144          ...            171    1   \n",
       "80      ACUUCGAGGACCUGGAUGACU            134          ...              2    3   \n",
       "96      UAAACAUCACAAACUUUGGCC             78          ...             12    3   \n",
       "101     UAGGGUGUAGAAUAAGCUAUU            128          ...              1    0   \n",
       "102     UAGCUUAUUCUACAUCCCAGU             24          ...              0    0   \n",
       "117     UGCGGCACUUAUUUUGGGACG             40          ...              0    0   \n",
       "118     UUGUAGAGCUUUCAUUAUGGA            170          ...              1    3   \n",
       "141     UUUGGACAUCUGACAAGCUCU            765          ...              3    0   \n",
       "165     UUAGAGGUUUCAAUACGGACU             82          ...              0    1   \n",
       "202     UUAGAGAUUUCAAUGUGGAUU            119          ...              6    0   \n",
       "207  AGAUGACCAAAUGAGCUGAAACUU            192          ...              9   21   \n",
       "220     AUGACGAGUAAAUCAGAACGG            257          ...             27   29   \n",
       "221     CUUCUGAUUUACUCGUCGUGG             26          ...             14    0   \n",
       "224     UGUCGUAGAUUUGUCUAGAUA             99          ...              0    1   \n",
       "230     UGGCAAAUCUAGUUGGUGAGC             44          ...              5    0   \n",
       "\n",
       "       24  seqname             position      start        end  \\\n",
       "4       2       1B  161992200-161992280  161992200  161992280   \n",
       "10      0       1D  147896240-147896319  147896240  147896319   \n",
       "16   2001       2A  133702671-133702770  133702671  133702770   \n",
       "19      1       2A  168984136-168984233  168984136  168984233   \n",
       "29      4       2B      5671327-5671460    5671327    5671460   \n",
       "36      1       2B  482720682-482720772  482720682  482720772   \n",
       "51      3       3A    19302861-19302943   19302861   19302943   \n",
       "63      4       3B  253488744-253488823  253488744  253488823   \n",
       "66      0       3B  587564305-587564383  587564305  587564383   \n",
       "74     30       3D  472405006-472405092  472405006  472405092   \n",
       "75      5       3D  508204974-508205052  508204974  508205052   \n",
       "80     68       4A    67171695-67171971   67171695   67171971   \n",
       "96      7       4B  429353827-429354091  429353827  429354091   \n",
       "101     6       4D  142764762-142764979  142764762  142764979   \n",
       "102    11       4D  142764794-142764971  142764794  142764971   \n",
       "117     0       5A  552632192-552632284  552632192  552632284   \n",
       "118    16       5A  609867615-609867781  609867615  609867781   \n",
       "141     8       5D      6108105-6108490    6108105    6108490   \n",
       "165     4       6A    23496429-23496595   23496429   23496595   \n",
       "202     1       6D  361524524-361524682  361524524  361524682   \n",
       "207   268       6D  461512362-461512720  461512362  461512720   \n",
       "220    81       7A  668530082-668530159  668530082  668530159   \n",
       "221    26       7A  668530089-668530164  668530089  668530164   \n",
       "224    14       7B    34679825-34679952   34679825   34679952   \n",
       "230     1       7B  223173899-223174050  223173899  223174050   \n",
       "\n",
       "                                   MITE         mirbase             annotation  \n",
       "4                             MITE_1712     hvu-miR6197                 intron  \n",
       "10                            MITE_1717             NaN                 intron  \n",
       "16           DTT_Tmon_Icarus_BG607724-1             NaN               promoter  \n",
       "19                             MITE_253             NaN                 intron  \n",
       "29               DTT_Hvul_Pan_M801L24-1             NaN                 intron  \n",
       "36            DTT_Taes_Athos_BJ320318-1             NaN                 intron  \n",
       "51   DTT_Bdis_BdisStowawayT_consensus-1  tae-miR5175-5p                 intron  \n",
       "63            DTT_Taes_Athos_BJ275764-1             NaN                 intron  \n",
       "66                             MITE_867             NaN                 intron  \n",
       "74                             MITE_297             NaN                 intron  \n",
       "75            DTT_Taes_Athos_BJ282680-1             NaN             intergenic  \n",
       "80                            MITE_1253             NaN             intergenic  \n",
       "96                            MITE_1583             NaN  exon, three_prime_UTR  \n",
       "101                             MITE_45             NaN             intergenic  \n",
       "102                             MITE_45             NaN             intergenic  \n",
       "117  DTT_Bdis_BdisStowawayF_consensus-1    hvu-miR5049c             intergenic  \n",
       "118          DTT_Atau_Thalos_AF338431-1             NaN                 intron  \n",
       "141                           MITE_1605             NaN             intergenic  \n",
       "165          DTT_Taes_Thalos_BJ273584-1             NaN             intergenic  \n",
       "202         DTT_Null_Thalos_consensus-1             NaN                 intron  \n",
       "207                           MITE_1605             NaN               promoter  \n",
       "220             DTT_Tdur_Icarus_103H9-1             NaN             intergenic  \n",
       "221             DTT_Tdur_Icarus_103H9-1             NaN             intergenic  \n",
       "224                 DTT_Taes_Pan_42j2-6     hvu-miR6191             intergenic  \n",
       "230                           MITE_1013             NaN                 intron  \n",
       "\n",
       "[25 rows x 28 columns]"
      ]
     },
     "execution_count": 92,
     "metadata": {},
     "output_type": "execute_result"
    }
   ],
   "source": [
    "print(len(df[df.MITE.notnull()].index))\n",
    "df[df.MITE.notnull()]"
   ]
  },
  {
   "cell_type": "code",
   "execution_count": 93,
   "metadata": {},
   "outputs": [],
   "source": [
    "#list(df[df.MITE.notnull()].MITE.unique())"
   ]
  },
  {
   "cell_type": "code",
   "execution_count": 94,
   "metadata": {},
   "outputs": [
    {
     "data": {
      "text/html": [
       "<div>\n",
       "<style scoped>\n",
       "    .dataframe tbody tr th:only-of-type {\n",
       "        vertical-align: middle;\n",
       "    }\n",
       "\n",
       "    .dataframe tbody tr th {\n",
       "        vertical-align: top;\n",
       "    }\n",
       "\n",
       "    .dataframe thead th {\n",
       "        text-align: right;\n",
       "    }\n",
       "</style>\n",
       "<table border=\"1\" class=\"dataframe\">\n",
       "  <thead>\n",
       "    <tr style=\"text-align: right;\">\n",
       "      <th></th>\n",
       "      <th>#Locus</th>\n",
       "      <th>Name</th>\n",
       "      <th>Length</th>\n",
       "      <th>Reads</th>\n",
       "      <th>RPM</th>\n",
       "      <th>UniqueReads</th>\n",
       "      <th>FracTop</th>\n",
       "      <th>Strand</th>\n",
       "      <th>MajorRNA</th>\n",
       "      <th>MajorRNAReads</th>\n",
       "      <th>...</th>\n",
       "      <th>22</th>\n",
       "      <th>23</th>\n",
       "      <th>24</th>\n",
       "      <th>seqname</th>\n",
       "      <th>position</th>\n",
       "      <th>start</th>\n",
       "      <th>end</th>\n",
       "      <th>MITE</th>\n",
       "      <th>mirbase</th>\n",
       "      <th>annotation</th>\n",
       "    </tr>\n",
       "  </thead>\n",
       "  <tbody>\n",
       "    <tr>\n",
       "      <th>4</th>\n",
       "      <td>1B:161992200-161992280</td>\n",
       "      <td>sun_all_Cluster_8835_1B_161992200_161992280</td>\n",
       "      <td>81</td>\n",
       "      <td>135</td>\n",
       "      <td>1.069</td>\n",
       "      <td>5</td>\n",
       "      <td>0.919</td>\n",
       "      <td>+</td>\n",
       "      <td>UCUGUUCACAAAUGUAAGACG</td>\n",
       "      <td>106</td>\n",
       "      <td>...</td>\n",
       "      <td>0</td>\n",
       "      <td>0</td>\n",
       "      <td>2</td>\n",
       "      <td>1B</td>\n",
       "      <td>161992200-161992280</td>\n",
       "      <td>161992200</td>\n",
       "      <td>161992280</td>\n",
       "      <td>MITE_1712</td>\n",
       "      <td>hvu-miR6197</td>\n",
       "      <td>intron</td>\n",
       "    </tr>\n",
       "    <tr>\n",
       "      <th>51</th>\n",
       "      <td>3A:19302861-19302943</td>\n",
       "      <td>mrcv_mites_MITE_T_105526_3A_19302861_19302943</td>\n",
       "      <td>83</td>\n",
       "      <td>108</td>\n",
       "      <td>0.848</td>\n",
       "      <td>10</td>\n",
       "      <td>0.972</td>\n",
       "      <td>+</td>\n",
       "      <td>UCCAAUUACUCGUCGUGGUUU</td>\n",
       "      <td>89</td>\n",
       "      <td>...</td>\n",
       "      <td>4</td>\n",
       "      <td>0</td>\n",
       "      <td>3</td>\n",
       "      <td>3A</td>\n",
       "      <td>19302861-19302943</td>\n",
       "      <td>19302861</td>\n",
       "      <td>19302943</td>\n",
       "      <td>DTT_Bdis_BdisStowawayT_consensus-1</td>\n",
       "      <td>tae-miR5175-5p</td>\n",
       "      <td>intron</td>\n",
       "    </tr>\n",
       "    <tr>\n",
       "      <th>117</th>\n",
       "      <td>5A:552632192-552632284</td>\n",
       "      <td>mrcv_mites_MITE_T_95924_5A_552632192_552632284</td>\n",
       "      <td>93</td>\n",
       "      <td>46</td>\n",
       "      <td>0.361</td>\n",
       "      <td>0</td>\n",
       "      <td>0.000</td>\n",
       "      <td>-</td>\n",
       "      <td>UGCGGCACUUAUUUUGGGACG</td>\n",
       "      <td>40</td>\n",
       "      <td>...</td>\n",
       "      <td>0</td>\n",
       "      <td>0</td>\n",
       "      <td>0</td>\n",
       "      <td>5A</td>\n",
       "      <td>552632192-552632284</td>\n",
       "      <td>552632192</td>\n",
       "      <td>552632284</td>\n",
       "      <td>DTT_Bdis_BdisStowawayF_consensus-1</td>\n",
       "      <td>hvu-miR5049c</td>\n",
       "      <td>intergenic</td>\n",
       "    </tr>\n",
       "    <tr>\n",
       "      <th>224</th>\n",
       "      <td>7B:34679825-34679952</td>\n",
       "      <td>mrcv_mites_MITE_T_80536_7B_34679825_34679952</td>\n",
       "      <td>128</td>\n",
       "      <td>184</td>\n",
       "      <td>1.444</td>\n",
       "      <td>26</td>\n",
       "      <td>0.989</td>\n",
       "      <td>+</td>\n",
       "      <td>UGUCGUAGAUUUGUCUAGAUA</td>\n",
       "      <td>99</td>\n",
       "      <td>...</td>\n",
       "      <td>0</td>\n",
       "      <td>1</td>\n",
       "      <td>14</td>\n",
       "      <td>7B</td>\n",
       "      <td>34679825-34679952</td>\n",
       "      <td>34679825</td>\n",
       "      <td>34679952</td>\n",
       "      <td>DTT_Taes_Pan_42j2-6</td>\n",
       "      <td>hvu-miR6191</td>\n",
       "      <td>intergenic</td>\n",
       "    </tr>\n",
       "  </tbody>\n",
       "</table>\n",
       "<p>4 rows × 28 columns</p>\n",
       "</div>"
      ],
      "text/plain": [
       "                     #Locus                                            Name  \\\n",
       "4    1B:161992200-161992280     sun_all_Cluster_8835_1B_161992200_161992280   \n",
       "51     3A:19302861-19302943   mrcv_mites_MITE_T_105526_3A_19302861_19302943   \n",
       "117  5A:552632192-552632284  mrcv_mites_MITE_T_95924_5A_552632192_552632284   \n",
       "224    7B:34679825-34679952    mrcv_mites_MITE_T_80536_7B_34679825_34679952   \n",
       "\n",
       "     Length  Reads    RPM  UniqueReads  FracTop Strand               MajorRNA  \\\n",
       "4        81    135  1.069            5    0.919      +  UCUGUUCACAAAUGUAAGACG   \n",
       "51       83    108  0.848           10    0.972      +  UCCAAUUACUCGUCGUGGUUU   \n",
       "117      93     46  0.361            0    0.000      -  UGCGGCACUUAUUUUGGGACG   \n",
       "224     128    184  1.444           26    0.989      +  UGUCGUAGAUUUGUCUAGAUA   \n",
       "\n",
       "     MajorRNAReads     ...      22 23  24  seqname             position  \\\n",
       "4              106     ...       0  0   2       1B  161992200-161992280   \n",
       "51              89     ...       4  0   3       3A    19302861-19302943   \n",
       "117             40     ...       0  0   0       5A  552632192-552632284   \n",
       "224             99     ...       0  1  14       7B    34679825-34679952   \n",
       "\n",
       "         start        end                                MITE         mirbase  \\\n",
       "4    161992200  161992280                           MITE_1712     hvu-miR6197   \n",
       "51    19302861   19302943  DTT_Bdis_BdisStowawayT_consensus-1  tae-miR5175-5p   \n",
       "117  552632192  552632284  DTT_Bdis_BdisStowawayF_consensus-1    hvu-miR5049c   \n",
       "224   34679825   34679952                 DTT_Taes_Pan_42j2-6     hvu-miR6191   \n",
       "\n",
       "     annotation  \n",
       "4        intron  \n",
       "51       intron  \n",
       "117  intergenic  \n",
       "224  intergenic  \n",
       "\n",
       "[4 rows x 28 columns]"
      ]
     },
     "execution_count": 94,
     "metadata": {},
     "output_type": "execute_result"
    }
   ],
   "source": [
    "df[(df.MITE.notnull()) & (df.mirbase.notnull())]"
   ]
  },
  {
   "cell_type": "code",
   "execution_count": null,
   "metadata": {},
   "outputs": [],
   "source": [
    "df[df.MITE.notnull()][['#Locus','Name','MajorRNA','MITE','annotation','mirbase']]"
   ]
  },
  {
   "cell_type": "code",
   "execution_count": 96,
   "metadata": {},
   "outputs": [
    {
     "name": "stdout",
     "output_type": "stream",
     "text": [
      "247\n",
      "/home/juan/Desktop/juan/bio/mirna_mite/data/res/all_results.csv\n"
     ]
    }
   ],
   "source": [
    "df.to_csv(path_res, sep='\\t', index=None)\n",
    "print(len(df.index))\n",
    "print(path_res)"
   ]
  },
  {
   "cell_type": "code",
   "execution_count": null,
   "metadata": {},
   "outputs": [],
   "source": []
  },
  {
   "cell_type": "code",
   "execution_count": null,
   "metadata": {},
   "outputs": [],
   "source": [
    "df[df.duplicated(['MajorRNA'],keep=False)]"
   ]
  },
  {
   "cell_type": "code",
   "execution_count": 558,
   "metadata": {},
   "outputs": [
    {
     "data": {
      "text/html": [
       "<div>\n",
       "<style scoped>\n",
       "    .dataframe tbody tr th:only-of-type {\n",
       "        vertical-align: middle;\n",
       "    }\n",
       "\n",
       "    .dataframe tbody tr th {\n",
       "        vertical-align: top;\n",
       "    }\n",
       "\n",
       "    .dataframe thead th {\n",
       "        text-align: right;\n",
       "    }\n",
       "</style>\n",
       "<table border=\"1\" class=\"dataframe\">\n",
       "  <thead>\n",
       "    <tr style=\"text-align: right;\">\n",
       "      <th></th>\n",
       "      <th>#Locus</th>\n",
       "      <th>Name</th>\n",
       "      <th>Length</th>\n",
       "      <th>Reads</th>\n",
       "      <th>RPM</th>\n",
       "      <th>UniqueReads</th>\n",
       "      <th>FracTop</th>\n",
       "      <th>Strand</th>\n",
       "      <th>MajorRNA</th>\n",
       "      <th>MajorRNAReads</th>\n",
       "      <th>...</th>\n",
       "      <th>22</th>\n",
       "      <th>23</th>\n",
       "      <th>24</th>\n",
       "      <th>seqname</th>\n",
       "      <th>position</th>\n",
       "      <th>start</th>\n",
       "      <th>end</th>\n",
       "      <th>MITE</th>\n",
       "      <th>mirbase</th>\n",
       "      <th>annotation</th>\n",
       "    </tr>\n",
       "  </thead>\n",
       "  <tbody>\n",
       "  </tbody>\n",
       "</table>\n",
       "<p>0 rows × 28 columns</p>\n",
       "</div>"
      ],
      "text/plain": [
       "Empty DataFrame\n",
       "Columns: [#Locus, Name, Length, Reads, RPM, UniqueReads, FracTop, Strand, MajorRNA, MajorRNAReads, Complexity, DicerCall, MIRNA, PhaseScore, Short, Long, 20, 21, 22, 23, 24, seqname, position, start, end, MITE, mirbase, annotation]\n",
       "Index: []\n",
       "\n",
       "[0 rows x 28 columns]"
      ]
     },
     "execution_count": 558,
     "metadata": {},
     "output_type": "execute_result"
    }
   ],
   "source": [
    "df[df.duplicated(['Name'],keep=False)]"
   ]
  },
  {
   "cell_type": "code",
   "execution_count": null,
   "metadata": {},
   "outputs": [],
   "source": []
  },
  {
   "cell_type": "code",
   "execution_count": null,
   "metadata": {},
   "outputs": [],
   "source": []
  },
  {
   "cell_type": "code",
   "execution_count": null,
   "metadata": {},
   "outputs": [],
   "source": []
  }
 ],
 "metadata": {
  "kernelspec": {
   "display_name": "Python 3",
   "language": "python",
   "name": "python3"
  },
  "language_info": {
   "codemirror_mode": {
    "name": "ipython",
    "version": 3
   },
   "file_extension": ".py",
   "mimetype": "text/x-python",
   "name": "python",
   "nbconvert_exporter": "python",
   "pygments_lexer": "ipython3",
   "version": "3.8.2"
  }
 },
 "nbformat": 4,
 "nbformat_minor": 4
}
