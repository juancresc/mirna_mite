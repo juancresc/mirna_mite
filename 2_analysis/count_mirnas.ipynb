{
 "cells": [
  {
   "cell_type": "code",
   "execution_count": 8,
   "metadata": {},
   "outputs": [],
   "source": [
    "from Bio import SeqIO\n",
    "from Bio.SeqRecord import SeqRecord\n",
    "from Bio.Seq import Seq\n",
    "from collections import Counter"
   ]
  },
  {
   "cell_type": "code",
   "execution_count": 9,
   "metadata": {},
   "outputs": [],
   "source": [
    "path_fasta = '../data/shortstack/sun_all/6.fasta'"
   ]
  },
  {
   "cell_type": "code",
   "execution_count": 10,
   "metadata": {},
   "outputs": [],
   "source": [
    "fasta_seq = SeqIO.parse(path_fasta, 'fasta')\n"
   ]
  },
  {
   "cell_type": "code",
   "execution_count": 11,
   "metadata": {},
   "outputs": [],
   "source": [
    "sequences = []\n",
    "for record in fasta_seq:\n",
    "    clean_seq = ''.join(str(record.seq).splitlines())\n",
    "    if len(clean_seq) == 21:\n",
    "        sequences.append(clean_seq)"
   ]
  },
  {
   "cell_type": "code",
   "execution_count": 13,
   "metadata": {},
   "outputs": [
    {
     "data": {
      "text/plain": [
       "59"
      ]
     },
     "execution_count": 13,
     "metadata": {},
     "output_type": "execute_result"
    }
   ],
   "source": [
    "len(sequences)"
   ]
  },
  {
   "cell_type": "code",
   "execution_count": 12,
   "metadata": {},
   "outputs": [
    {
     "data": {
      "text/plain": [
       "Counter({'ATCTGCGACAAGTAATTCGGA': 3,\n",
       "         'TACATTCATTTCTGAGACGGG': 2,\n",
       "         'CATTCATTTCTGAGACGGGTA': 1,\n",
       "         'ATTCATTTCTGAGACGGGTAA': 2,\n",
       "         'CATTTCTGAGACGGGTAATTT': 2,\n",
       "         'ATTTCTGAGACGGGTAATTTG': 7,\n",
       "         'TTCTGAGACGGGTAATTTGGA': 2,\n",
       "         'TCTGAGACGGGTAATTTGGAA': 6,\n",
       "         'TGAGACGGGTAATTTGGAACG': 10,\n",
       "         'GAGACGGGTAATTTGGAACGG': 5,\n",
       "         'AGACGGGTAATTTGGAACGGA': 13,\n",
       "         'CGGGTAATTTGGAACGGAGGG': 3,\n",
       "         'GGGTAATTTGGAACGGAGGGA': 1,\n",
       "         'GGTAATTTGGAACGGAGGGAG': 1,\n",
       "         'TGGAACGGAGGGAGTAGCTAA': 1})"
      ]
     },
     "execution_count": 12,
     "metadata": {},
     "output_type": "execute_result"
    }
   ],
   "source": [
    "Counter(sequences)"
   ]
  },
  {
   "cell_type": "code",
   "execution_count": null,
   "metadata": {},
   "outputs": [],
   "source": [
    "TGAGACGGGTAATTTGGAACGGAG\n",
    "  AGACGGGTAATTTGGAACGGA"
   ]
  },
  {
   "cell_type": "code",
   "execution_count": null,
   "metadata": {},
   "outputs": [],
   "source": []
  },
  {
   "cell_type": "code",
   "execution_count": null,
   "metadata": {},
   "outputs": [],
   "source": []
  },
  {
   "cell_type": "code",
   "execution_count": null,
   "metadata": {},
   "outputs": [],
   "source": []
  },
  {
   "cell_type": "code",
   "execution_count": null,
   "metadata": {},
   "outputs": [],
   "source": []
  },
  {
   "cell_type": "code",
   "execution_count": null,
   "metadata": {},
   "outputs": [],
   "source": []
  },
  {
   "cell_type": "code",
   "execution_count": null,
   "metadata": {},
   "outputs": [],
   "source": []
  }
 ],
 "metadata": {
  "kernelspec": {
   "display_name": "Python 3",
   "language": "python",
   "name": "python3"
  },
  "language_info": {
   "codemirror_mode": {
    "name": "ipython",
    "version": 3
   },
   "file_extension": ".py",
   "mimetype": "text/x-python",
   "name": "python",
   "nbconvert_exporter": "python",
   "pygments_lexer": "ipython3",
   "version": "3.8.2"
  }
 },
 "nbformat": 4,
 "nbformat_minor": 4
}
