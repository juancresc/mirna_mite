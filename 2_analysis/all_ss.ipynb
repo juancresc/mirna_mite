{
 "cells": [
  {
   "cell_type": "code",
   "execution_count": 27,
   "metadata": {},
   "outputs": [],
   "source": [
    "import pandas as pd\n",
    "from Bio import SeqIO\n",
    "from Bio.SeqRecord import SeqRecord\n",
    "from Bio.Seq import Seq\n"
   ]
  },
  {
   "cell_type": "code",
   "execution_count": 57,
   "metadata": {},
   "outputs": [],
   "source": [
    "path = '/home/juan/Desktop/juan/bio/mirna_mite/data/res/%s/Results.txt'\n",
    "path_res = '/home/juan/Desktop/juan/bio/mirna_mite/data/res/all_results.csv'\n",
    "path_res_seq = '/home/juan/Desktop/juan/bio/mirna_mite/data/res/all_results.fasta'\n",
    "experiments = ['mrcv_mites','mrcv_all','sun_all','sun_mites']\n",
    "path_genome = '/home/juan/Desktop/juan/bio/data/IWGSC/42/Triticum_aestivum.IWGSC.dna.toplevel.fa'\n",
    "path_blast_res = '/home/juan/Desktop/juan/bio/mirna_mite/data/res/blast_mites.csv'\n",
    "path_mirbase = '/home/juan/Desktop/juan/bio/mirna_mite/data/mature.fa'"
   ]
  },
  {
   "cell_type": "code",
   "execution_count": 97,
   "metadata": {},
   "outputs": [
    {
     "name": "stdout",
     "output_type": "stream",
     "text": [
      "Experiment: mrcv_mites\n",
      "All results: 1211339\n",
      "Only miRNAs: 39\n",
      "Only miRNAs +20 reads: 22\n",
      "**********\n",
      "Experiment: mrcv_all\n",
      "All results: 38532\n",
      "Only miRNAs: 135\n",
      "Only miRNAs +20 reads: 135\n",
      "**********\n",
      "Experiment: sun_all\n",
      "All results: 157492\n",
      "Only miRNAs: 154\n",
      "Only miRNAs +20 reads: 154\n",
      "**********\n",
      "Experiment: sun_mites\n",
      "All results: 1211339\n",
      "Only miRNAs: 24\n",
      "Only miRNAs +20 reads: 12\n",
      "**********\n"
     ]
    }
   ],
   "source": [
    "#Load shortstack results\n",
    "dfs = {}\n",
    "for experiment in experiments:\n",
    "    experiment_path = path % (experiment,)\n",
    "    df = pd.read_csv(experiment_path, sep='\\t')\n",
    "    df['Name'] = experiment + '_' + df['Name']\n",
    "    print('Experiment:', experiment)\n",
    "    print('All results:',len(df.index))\n",
    "    df = df[df.MIRNA == 'Y']\n",
    "    print('Only miRNAs:',len(df.index))\n",
    "    df = df[df.Reads > 20]\n",
    "    print('Only miRNAs +20 reads:',len(df.index))\n",
    "    print('*' * 10)\n",
    "    dfs[experiment] = df"
   ]
  },
  {
   "cell_type": "code",
   "execution_count": 98,
   "metadata": {},
   "outputs": [],
   "source": [
    "dfs = [ v for v in dfs.values() ]"
   ]
  },
  {
   "cell_type": "code",
   "execution_count": 99,
   "metadata": {},
   "outputs": [],
   "source": [
    "df = pd.concat(dfs)"
   ]
  },
  {
   "cell_type": "code",
   "execution_count": 100,
   "metadata": {},
   "outputs": [
    {
     "data": {
      "text/html": [
       "<div>\n",
       "<style scoped>\n",
       "    .dataframe tbody tr th:only-of-type {\n",
       "        vertical-align: middle;\n",
       "    }\n",
       "\n",
       "    .dataframe tbody tr th {\n",
       "        vertical-align: top;\n",
       "    }\n",
       "\n",
       "    .dataframe thead th {\n",
       "        text-align: right;\n",
       "    }\n",
       "</style>\n",
       "<table border=\"1\" class=\"dataframe\">\n",
       "  <thead>\n",
       "    <tr style=\"text-align: right;\">\n",
       "      <th></th>\n",
       "      <th>#Locus</th>\n",
       "      <th>Name</th>\n",
       "      <th>Length</th>\n",
       "      <th>Reads</th>\n",
       "      <th>RPM</th>\n",
       "      <th>UniqueReads</th>\n",
       "      <th>FracTop</th>\n",
       "      <th>Strand</th>\n",
       "      <th>MajorRNA</th>\n",
       "      <th>MajorRNAReads</th>\n",
       "      <th>...</th>\n",
       "      <th>DicerCall</th>\n",
       "      <th>MIRNA</th>\n",
       "      <th>PhaseScore</th>\n",
       "      <th>Short</th>\n",
       "      <th>Long</th>\n",
       "      <th>20</th>\n",
       "      <th>21</th>\n",
       "      <th>22</th>\n",
       "      <th>23</th>\n",
       "      <th>24</th>\n",
       "    </tr>\n",
       "  </thead>\n",
       "  <tbody>\n",
       "    <tr>\n",
       "      <th>125231</th>\n",
       "      <td>1D:147896240-147896319</td>\n",
       "      <td>mrcv_mites_MITE_T_120271|chr2D|74975911|749759...</td>\n",
       "      <td>80</td>\n",
       "      <td>45</td>\n",
       "      <td>0.353</td>\n",
       "      <td>1</td>\n",
       "      <td>1.000</td>\n",
       "      <td>+</td>\n",
       "      <td>UAUAUUUUGGUACGGAGGGAU</td>\n",
       "      <td>22</td>\n",
       "      <td>...</td>\n",
       "      <td>21</td>\n",
       "      <td>Y</td>\n",
       "      <td>-1.0</td>\n",
       "      <td>0</td>\n",
       "      <td>4</td>\n",
       "      <td>2</td>\n",
       "      <td>38</td>\n",
       "      <td>1</td>\n",
       "      <td>0</td>\n",
       "      <td>0</td>\n",
       "    </tr>\n",
       "    <tr>\n",
       "      <th>171085</th>\n",
       "      <td>2A:168984136-168984233</td>\n",
       "      <td>mrcv_mites_MITE_T_102616|chr1B|301273397|30127...</td>\n",
       "      <td>98</td>\n",
       "      <td>198</td>\n",
       "      <td>1.554</td>\n",
       "      <td>2</td>\n",
       "      <td>0.045</td>\n",
       "      <td>-</td>\n",
       "      <td>UCGGAAUUAGUUGACACUCAAA</td>\n",
       "      <td>86</td>\n",
       "      <td>...</td>\n",
       "      <td>22</td>\n",
       "      <td>Y</td>\n",
       "      <td>-1.0</td>\n",
       "      <td>4</td>\n",
       "      <td>1</td>\n",
       "      <td>1</td>\n",
       "      <td>39</td>\n",
       "      <td>89</td>\n",
       "      <td>63</td>\n",
       "      <td>1</td>\n",
       "    </tr>\n",
       "  </tbody>\n",
       "</table>\n",
       "<p>2 rows × 21 columns</p>\n",
       "</div>"
      ],
      "text/plain": [
       "                        #Locus  \\\n",
       "125231  1D:147896240-147896319   \n",
       "171085  2A:168984136-168984233   \n",
       "\n",
       "                                                     Name  Length  Reads  \\\n",
       "125231  mrcv_mites_MITE_T_120271|chr2D|74975911|749759...      80     45   \n",
       "171085  mrcv_mites_MITE_T_102616|chr1B|301273397|30127...      98    198   \n",
       "\n",
       "          RPM  UniqueReads  FracTop Strand                MajorRNA  \\\n",
       "125231  0.353            1    1.000      +   UAUAUUUUGGUACGGAGGGAU   \n",
       "171085  1.554            2    0.045      -  UCGGAAUUAGUUGACACUCAAA   \n",
       "\n",
       "        MajorRNAReads ...  DicerCall MIRNA PhaseScore  Short  Long  20  21  \\\n",
       "125231             22 ...         21     Y       -1.0      0     4   2  38   \n",
       "171085             86 ...         22     Y       -1.0      4     1   1  39   \n",
       "\n",
       "        22  23  24  \n",
       "125231   1   0   0  \n",
       "171085  89  63   1  \n",
       "\n",
       "[2 rows x 21 columns]"
      ]
     },
     "execution_count": 100,
     "metadata": {},
     "output_type": "execute_result"
    }
   ],
   "source": [
    "df.head(2)"
   ]
  },
  {
   "cell_type": "code",
   "execution_count": 101,
   "metadata": {},
   "outputs": [],
   "source": [
    "df['seqname'] = df['#Locus'].str.split(':').str[0]\n",
    "df['position'] = df['#Locus'].str.split(':').str[1]\n",
    "df['start'] = df.position.str.split('-').str[0].astype(int)\n",
    "df['end'] = df.position.str.split('-').str[1].astype(int)\n",
    "df['duplicated'] = 0\n",
    "df['seqlen'] = df.end - df.start\n",
    "df['overlap_len'] = df.seqlen  * 0.1\n",
    "df['overlap_len'] = df.overlap_len.astype(int)\n",
    "df['start_overlap'] = df.start + df.overlap_len\n",
    "df['end_overlap'] = df.end - df.overlap_len"
   ]
  },
  {
   "cell_type": "code",
   "execution_count": null,
   "metadata": {},
   "outputs": [],
   "source": []
  },
  {
   "cell_type": "code",
   "execution_count": 102,
   "metadata": {},
   "outputs": [
    {
     "name": "stdout",
     "output_type": "stream",
     "text": [
      "323\n"
     ]
    }
   ],
   "source": [
    "print(len(df.index))"
   ]
  },
  {
   "cell_type": "code",
   "execution_count": 34,
   "metadata": {},
   "outputs": [
    {
     "data": {
      "text/html": [
       "<div>\n",
       "<style scoped>\n",
       "    .dataframe tbody tr th:only-of-type {\n",
       "        vertical-align: middle;\n",
       "    }\n",
       "\n",
       "    .dataframe tbody tr th {\n",
       "        vertical-align: top;\n",
       "    }\n",
       "\n",
       "    .dataframe thead th {\n",
       "        text-align: right;\n",
       "    }\n",
       "</style>\n",
       "<table border=\"1\" class=\"dataframe\">\n",
       "  <thead>\n",
       "    <tr style=\"text-align: right;\">\n",
       "      <th></th>\n",
       "      <th>#Locus</th>\n",
       "      <th>Name</th>\n",
       "      <th>Length</th>\n",
       "      <th>Reads</th>\n",
       "      <th>RPM</th>\n",
       "      <th>UniqueReads</th>\n",
       "      <th>FracTop</th>\n",
       "      <th>Strand</th>\n",
       "      <th>MajorRNA</th>\n",
       "      <th>MajorRNAReads</th>\n",
       "      <th>...</th>\n",
       "      <th>24</th>\n",
       "      <th>seqname</th>\n",
       "      <th>position</th>\n",
       "      <th>start</th>\n",
       "      <th>end</th>\n",
       "      <th>duplicated</th>\n",
       "      <th>seqlen</th>\n",
       "      <th>overlap_len</th>\n",
       "      <th>start_overlap</th>\n",
       "      <th>end_overlap</th>\n",
       "    </tr>\n",
       "  </thead>\n",
       "  <tbody>\n",
       "    <tr>\n",
       "      <th>876749</th>\n",
       "      <td>6A:23496429-23496595</td>\n",
       "      <td>MITE_T_64052|chr7B|176002823|176003000|AT|187|...</td>\n",
       "      <td>167</td>\n",
       "      <td>111</td>\n",
       "      <td>0.871</td>\n",
       "      <td>18</td>\n",
       "      <td>0.045</td>\n",
       "      <td>-</td>\n",
       "      <td>UUAGAGGUUUCAAUACGGACU</td>\n",
       "      <td>82</td>\n",
       "      <td>...</td>\n",
       "      <td>4</td>\n",
       "      <td>6A</td>\n",
       "      <td>23496429-23496595</td>\n",
       "      <td>23496429</td>\n",
       "      <td>23496595</td>\n",
       "      <td>0</td>\n",
       "      <td>166</td>\n",
       "      <td>16</td>\n",
       "      <td>23496445</td>\n",
       "      <td>23496579</td>\n",
       "    </tr>\n",
       "    <tr>\n",
       "      <th>876750</th>\n",
       "      <td>6A:23496449-23496574</td>\n",
       "      <td>MITE_T_70309|chr6D|429354379|429354545|TA|23|F...</td>\n",
       "      <td>126</td>\n",
       "      <td>108</td>\n",
       "      <td>0.848</td>\n",
       "      <td>18</td>\n",
       "      <td>0.028</td>\n",
       "      <td>-</td>\n",
       "      <td>UUAGAGGUUUCAAUACGGACU</td>\n",
       "      <td>82</td>\n",
       "      <td>...</td>\n",
       "      <td>4</td>\n",
       "      <td>6A</td>\n",
       "      <td>23496449-23496574</td>\n",
       "      <td>23496449</td>\n",
       "      <td>23496574</td>\n",
       "      <td>0</td>\n",
       "      <td>125</td>\n",
       "      <td>12</td>\n",
       "      <td>23496461</td>\n",
       "      <td>23496562</td>\n",
       "    </tr>\n",
       "    <tr>\n",
       "      <th>876751</th>\n",
       "      <td>6A:23496458-23496565</td>\n",
       "      <td>MITE_T_95046|chr2B|521974897|521975013|TATA|12...</td>\n",
       "      <td>108</td>\n",
       "      <td>107</td>\n",
       "      <td>0.840</td>\n",
       "      <td>18</td>\n",
       "      <td>0.019</td>\n",
       "      <td>-</td>\n",
       "      <td>UUAGAGGUUUCAAUACGGACU</td>\n",
       "      <td>82</td>\n",
       "      <td>...</td>\n",
       "      <td>4</td>\n",
       "      <td>6A</td>\n",
       "      <td>23496458-23496565</td>\n",
       "      <td>23496458</td>\n",
       "      <td>23496565</td>\n",
       "      <td>0</td>\n",
       "      <td>107</td>\n",
       "      <td>10</td>\n",
       "      <td>23496468</td>\n",
       "      <td>23496555</td>\n",
       "    </tr>\n",
       "    <tr>\n",
       "      <th>27433</th>\n",
       "      <td>6A:23496419-23496608</td>\n",
       "      <td>Cluster_27434</td>\n",
       "      <td>190</td>\n",
       "      <td>111</td>\n",
       "      <td>0.871</td>\n",
       "      <td>18</td>\n",
       "      <td>0.045</td>\n",
       "      <td>-</td>\n",
       "      <td>UUAGAGGUUUCAAUACGGACU</td>\n",
       "      <td>82</td>\n",
       "      <td>...</td>\n",
       "      <td>4</td>\n",
       "      <td>6A</td>\n",
       "      <td>23496419-23496608</td>\n",
       "      <td>23496419</td>\n",
       "      <td>23496608</td>\n",
       "      <td>0</td>\n",
       "      <td>189</td>\n",
       "      <td>18</td>\n",
       "      <td>23496437</td>\n",
       "      <td>23496590</td>\n",
       "    </tr>\n",
       "  </tbody>\n",
       "</table>\n",
       "<p>4 rows × 30 columns</p>\n",
       "</div>"
      ],
      "text/plain": [
       "                      #Locus  \\\n",
       "876749  6A:23496429-23496595   \n",
       "876750  6A:23496449-23496574   \n",
       "876751  6A:23496458-23496565   \n",
       "27433   6A:23496419-23496608   \n",
       "\n",
       "                                                     Name  Length  Reads  \\\n",
       "876749  MITE_T_64052|chr7B|176002823|176003000|AT|187|...     167    111   \n",
       "876750  MITE_T_70309|chr6D|429354379|429354545|TA|23|F...     126    108   \n",
       "876751  MITE_T_95046|chr2B|521974897|521975013|TATA|12...     108    107   \n",
       "27433                                       Cluster_27434     190    111   \n",
       "\n",
       "          RPM  UniqueReads  FracTop Strand               MajorRNA  \\\n",
       "876749  0.871           18    0.045      -  UUAGAGGUUUCAAUACGGACU   \n",
       "876750  0.848           18    0.028      -  UUAGAGGUUUCAAUACGGACU   \n",
       "876751  0.840           18    0.019      -  UUAGAGGUUUCAAUACGGACU   \n",
       "27433   0.871           18    0.045      -  UUAGAGGUUUCAAUACGGACU   \n",
       "\n",
       "        MajorRNAReads     ...       24 seqname           position     start  \\\n",
       "876749             82     ...        4      6A  23496429-23496595  23496429   \n",
       "876750             82     ...        4      6A  23496449-23496574  23496449   \n",
       "876751             82     ...        4      6A  23496458-23496565  23496458   \n",
       "27433              82     ...        4      6A  23496419-23496608  23496419   \n",
       "\n",
       "             end  duplicated  seqlen  overlap_len  start_overlap  end_overlap  \n",
       "876749  23496595           0     166           16       23496445     23496579  \n",
       "876750  23496574           0     125           12       23496461     23496562  \n",
       "876751  23496565           0     107           10       23496468     23496555  \n",
       "27433   23496608           0     189           18       23496437     23496590  \n",
       "\n",
       "[4 rows x 30 columns]"
      ]
     },
     "execution_count": 34,
     "metadata": {},
     "output_type": "execute_result"
    }
   ],
   "source": [
    "df[df.index.isin(['876749','876750','876751','27433'])]"
   ]
  },
  {
   "cell_type": "code",
   "execution_count": 103,
   "metadata": {},
   "outputs": [],
   "source": [
    "duplicated = []\n",
    "for k,v in df.iterrows():\n",
    "    if k in duplicated:\n",
    "        continue\n",
    "    other = df[df.index != k]\n",
    "    other = other[other.seqname == v.seqname]\n",
    "    other = other[(other.end_overlap >= v.start) & (other.start_overlap <= v.end)]\n",
    "    if len(other.index) > 0:\n",
    "        duplicated += other.index.tolist()"
   ]
  },
  {
   "cell_type": "code",
   "execution_count": 104,
   "metadata": {},
   "outputs": [],
   "source": [
    "duplicated = set(duplicated)"
   ]
  },
  {
   "cell_type": "code",
   "execution_count": 105,
   "metadata": {},
   "outputs": [
    {
     "data": {
      "text/plain": [
       "253"
      ]
     },
     "execution_count": 105,
     "metadata": {},
     "output_type": "execute_result"
    }
   ],
   "source": [
    "df = df[~df.index.isin(duplicated)]\n",
    "count_total = len(df.index)\n",
    "count_total"
   ]
  },
  {
   "cell_type": "code",
   "execution_count": 107,
   "metadata": {},
   "outputs": [
    {
     "data": {
      "text/plain": [
       "28"
      ]
     },
     "execution_count": 107,
     "metadata": {},
     "output_type": "execute_result"
    }
   ],
   "source": [
    "df_mites = df[df.Name.str.contains('MITE')]\n",
    "count_mites = len(df_mites.index)\n",
    "count_mites"
   ]
  },
  {
   "cell_type": "code",
   "execution_count": 108,
   "metadata": {},
   "outputs": [
    {
     "data": {
      "text/plain": [
       "225"
      ]
     },
     "execution_count": 108,
     "metadata": {},
     "output_type": "execute_result"
    }
   ],
   "source": [
    "df_nomites = df[~df.Name.str.contains('MITE')]\n",
    "count_nomites = len(df_nomites.index)\n",
    "count_nomites"
   ]
  },
  {
   "cell_type": "code",
   "execution_count": 109,
   "metadata": {},
   "outputs": [
    {
     "data": {
      "text/plain": [
       "11.067193675889328"
      ]
     },
     "execution_count": 109,
     "metadata": {},
     "output_type": "execute_result"
    }
   ],
   "source": [
    "count_mites * 100 / count_total"
   ]
  },
  {
   "cell_type": "code",
   "execution_count": null,
   "metadata": {},
   "outputs": [],
   "source": []
  },
  {
   "cell_type": "code",
   "execution_count": 110,
   "metadata": {},
   "outputs": [],
   "source": [
    "#get sequences\n",
    "df.sort_values(['seqname', 'start'], inplace=True)\n",
    "df.to_csv(path_res, sep='\\t', index=None)"
   ]
  },
  {
   "cell_type": "code",
   "execution_count": 111,
   "metadata": {},
   "outputs": [],
   "source": [
    "fasta_seq = SeqIO.parse(path_genome, 'fasta')\n",
    "   "
   ]
  },
  {
   "cell_type": "code",
   "execution_count": null,
   "metadata": {},
   "outputs": [
    {
     "name": "stdout",
     "output_type": "stream",
     "text": [
      "1A 3\n"
     ]
    }
   ],
   "source": [
    "buffer_seqs = []\n",
    "for record in fasta_seq:\n",
    "    dff_extract = df[df.seqname == record.id]\n",
    "    print(record.id, len(dff_extract.index))\n",
    "    clean_seq = ''.join(str(record.seq).splitlines())\n",
    "    for k,v in dff_extract.iterrows():\n",
    "        start = min(v.start,v.end)\n",
    "        end = max(v.start,v.end)\n",
    "        new_seq = clean_seq[start:end]\n",
    "        id = v.Name\n",
    "        desc = record.id + \"_\" + str(start) + '_' + str(end)\n",
    "        seq = SeqRecord(Seq(new_seq), id=id, description=desc)\n",
    "        buffer_seqs.append(seq)\n",
    "SeqIO.write(buffer_seqs, path_res_seq, \"fasta\")"
   ]
  },
  {
   "cell_type": "raw",
   "metadata": {},
   "source": [
    "blastn -evalue 1e-3 -task blastn -query res/all_results.fasta -subject  mites_consensus.fasta -outfmt '6 qseqid sseqid qstart qend sstart send mismatch gaps pident evalue length qlen slen qcovs score'  > res/blast_mites.csv\n"
   ]
  },
  {
   "cell_type": "code",
   "execution_count": 89,
   "metadata": {},
   "outputs": [
    {
     "name": "stdout",
     "output_type": "stream",
     "text": [
      "682\n"
     ]
    },
    {
     "data": {
      "text/html": [
       "<div>\n",
       "<style scoped>\n",
       "    .dataframe tbody tr th:only-of-type {\n",
       "        vertical-align: middle;\n",
       "    }\n",
       "\n",
       "    .dataframe tbody tr th {\n",
       "        vertical-align: top;\n",
       "    }\n",
       "\n",
       "    .dataframe thead th {\n",
       "        text-align: right;\n",
       "    }\n",
       "</style>\n",
       "<table border=\"1\" class=\"dataframe\">\n",
       "  <thead>\n",
       "    <tr style=\"text-align: right;\">\n",
       "      <th></th>\n",
       "      <th>qseqid</th>\n",
       "      <th>sseqid</th>\n",
       "      <th>qstart</th>\n",
       "      <th>qend</th>\n",
       "      <th>sstart</th>\n",
       "      <th>send</th>\n",
       "      <th>mismatch</th>\n",
       "      <th>gaps</th>\n",
       "      <th>pident</th>\n",
       "      <th>evalue</th>\n",
       "      <th>length</th>\n",
       "      <th>qlen</th>\n",
       "      <th>slen</th>\n",
       "      <th>qcovs</th>\n",
       "      <th>score</th>\n",
       "    </tr>\n",
       "  </thead>\n",
       "  <tbody>\n",
       "    <tr>\n",
       "      <th>0</th>\n",
       "      <td>Cluster_8835</td>\n",
       "      <td>MITE_1712</td>\n",
       "      <td>1</td>\n",
       "      <td>79</td>\n",
       "      <td>2</td>\n",
       "      <td>80</td>\n",
       "      <td>9</td>\n",
       "      <td>0</td>\n",
       "      <td>88.608</td>\n",
       "      <td>7.860000e-24</td>\n",
       "      <td>79</td>\n",
       "      <td>80</td>\n",
       "      <td>81</td>\n",
       "      <td>99</td>\n",
       "      <td>112</td>\n",
       "    </tr>\n",
       "    <tr>\n",
       "      <th>1</th>\n",
       "      <td>Cluster_8835</td>\n",
       "      <td>MITE_233</td>\n",
       "      <td>3</td>\n",
       "      <td>77</td>\n",
       "      <td>4</td>\n",
       "      <td>78</td>\n",
       "      <td>8</td>\n",
       "      <td>4</td>\n",
       "      <td>84.416</td>\n",
       "      <td>1.330000e-14</td>\n",
       "      <td>77</td>\n",
       "      <td>80</td>\n",
       "      <td>80</td>\n",
       "      <td>94</td>\n",
       "      <td>78</td>\n",
       "    </tr>\n",
       "  </tbody>\n",
       "</table>\n",
       "</div>"
      ],
      "text/plain": [
       "         qseqid     sseqid  qstart  qend  sstart  send  mismatch  gaps  \\\n",
       "0  Cluster_8835  MITE_1712       1    79       2    80         9     0   \n",
       "1  Cluster_8835   MITE_233       3    77       4    78         8     4   \n",
       "\n",
       "   pident        evalue  length  qlen  slen  qcovs  score  \n",
       "0  88.608  7.860000e-24      79    80    81     99    112  \n",
       "1  84.416  1.330000e-14      77    80    80     94     78  "
      ]
     },
     "execution_count": 89,
     "metadata": {},
     "output_type": "execute_result"
    }
   ],
   "source": [
    "df_trep = pd.read_csv(path_blast_res, sep=\"\\t\")\n",
    "cols = ['qseqid','sseqid','qstart','qend','sstart','send','mismatch','gaps','pident','evalue','length','qlen','slen','qcovs','score']\n",
    "df_trep.columns = cols\n",
    "df_trep = df_trep[df_trep.pident >= 80]\n",
    "df_trep = df_trep[df_trep.qcovs >= 80]\n",
    "print(len(df_trep.index))\n",
    "df_trep.head(2)"
   ]
  },
  {
   "cell_type": "code",
   "execution_count": 90,
   "metadata": {},
   "outputs": [],
   "source": [
    "df_trep = df_trep[['qseqid','sseqid']]"
   ]
  },
  {
   "cell_type": "code",
   "execution_count": 91,
   "metadata": {},
   "outputs": [],
   "source": [
    "df_trep['MITE'] = df_trep.groupby(['qseqid'])['sseqid'].transform(lambda x: ','.join(x))\n",
    "df_trep = df_trep[['qseqid','sseqid','MITE']].drop_duplicates()\n",
    "df_trep = df_trep[['qseqid','MITE']]"
   ]
  },
  {
   "cell_type": "code",
   "execution_count": 92,
   "metadata": {},
   "outputs": [
    {
     "data": {
      "text/html": [
       "<div>\n",
       "<style scoped>\n",
       "    .dataframe tbody tr th:only-of-type {\n",
       "        vertical-align: middle;\n",
       "    }\n",
       "\n",
       "    .dataframe tbody tr th {\n",
       "        vertical-align: top;\n",
       "    }\n",
       "\n",
       "    .dataframe thead th {\n",
       "        text-align: right;\n",
       "    }\n",
       "</style>\n",
       "<table border=\"1\" class=\"dataframe\">\n",
       "  <thead>\n",
       "    <tr style=\"text-align: right;\">\n",
       "      <th></th>\n",
       "      <th>qseqid</th>\n",
       "      <th>MITE</th>\n",
       "    </tr>\n",
       "  </thead>\n",
       "  <tbody>\n",
       "    <tr>\n",
       "      <th>0</th>\n",
       "      <td>Cluster_8835</td>\n",
       "      <td>MITE_1712,MITE_233,MITE_1717,MITE_1157</td>\n",
       "    </tr>\n",
       "    <tr>\n",
       "      <th>1</th>\n",
       "      <td>Cluster_8835</td>\n",
       "      <td>MITE_1712,MITE_233,MITE_1717,MITE_1157</td>\n",
       "    </tr>\n",
       "  </tbody>\n",
       "</table>\n",
       "</div>"
      ],
      "text/plain": [
       "         qseqid                                    MITE\n",
       "0  Cluster_8835  MITE_1712,MITE_233,MITE_1717,MITE_1157\n",
       "1  Cluster_8835  MITE_1712,MITE_233,MITE_1717,MITE_1157"
      ]
     },
     "execution_count": 92,
     "metadata": {},
     "output_type": "execute_result"
    }
   ],
   "source": [
    "df_trep.head(2)"
   ]
  },
  {
   "cell_type": "code",
   "execution_count": 79,
   "metadata": {},
   "outputs": [],
   "source": [
    "df_ = pd.merge(df, df_trep, how='left', left_on='Name', right_on='qseqid')"
   ]
  },
  {
   "cell_type": "code",
   "execution_count": 82,
   "metadata": {},
   "outputs": [
    {
     "data": {
      "text/html": [
       "<div>\n",
       "<style scoped>\n",
       "    .dataframe tbody tr th:only-of-type {\n",
       "        vertical-align: middle;\n",
       "    }\n",
       "\n",
       "    .dataframe tbody tr th {\n",
       "        vertical-align: top;\n",
       "    }\n",
       "\n",
       "    .dataframe thead th {\n",
       "        text-align: right;\n",
       "    }\n",
       "</style>\n",
       "<table border=\"1\" class=\"dataframe\">\n",
       "  <thead>\n",
       "    <tr style=\"text-align: right;\">\n",
       "      <th></th>\n",
       "      <th>#Locus</th>\n",
       "      <th>Name</th>\n",
       "      <th>Length</th>\n",
       "      <th>Reads</th>\n",
       "      <th>RPM</th>\n",
       "      <th>UniqueReads</th>\n",
       "      <th>FracTop</th>\n",
       "      <th>Strand</th>\n",
       "      <th>MajorRNA</th>\n",
       "      <th>MajorRNAReads</th>\n",
       "      <th>...</th>\n",
       "      <th>position</th>\n",
       "      <th>start</th>\n",
       "      <th>end</th>\n",
       "      <th>duplicated</th>\n",
       "      <th>seqlen</th>\n",
       "      <th>overlap_len</th>\n",
       "      <th>start_overlap</th>\n",
       "      <th>end_overlap</th>\n",
       "      <th>qseqid</th>\n",
       "      <th>MITE</th>\n",
       "    </tr>\n",
       "  </thead>\n",
       "  <tbody>\n",
       "    <tr>\n",
       "      <th>0</th>\n",
       "      <td>1A:309399489-309399664</td>\n",
       "      <td>Cluster_872</td>\n",
       "      <td>176</td>\n",
       "      <td>553</td>\n",
       "      <td>4.340</td>\n",
       "      <td>1</td>\n",
       "      <td>0.002</td>\n",
       "      <td>-</td>\n",
       "      <td>ACGGCAUAGAGGCACUGCAAA</td>\n",
       "      <td>327</td>\n",
       "      <td>...</td>\n",
       "      <td>309399489-309399664</td>\n",
       "      <td>309399489</td>\n",
       "      <td>309399664</td>\n",
       "      <td>0</td>\n",
       "      <td>175</td>\n",
       "      <td>17</td>\n",
       "      <td>309399506</td>\n",
       "      <td>309399647</td>\n",
       "      <td>NaN</td>\n",
       "      <td>NaN</td>\n",
       "    </tr>\n",
       "    <tr>\n",
       "      <th>1</th>\n",
       "      <td>1A:419025472-419025570</td>\n",
       "      <td>Cluster_1015</td>\n",
       "      <td>99</td>\n",
       "      <td>384</td>\n",
       "      <td>3.014</td>\n",
       "      <td>20</td>\n",
       "      <td>1.000</td>\n",
       "      <td>+</td>\n",
       "      <td>CGAAUGUAUUUUUUAUGGCUUG</td>\n",
       "      <td>249</td>\n",
       "      <td>...</td>\n",
       "      <td>419025472-419025570</td>\n",
       "      <td>419025472</td>\n",
       "      <td>419025570</td>\n",
       "      <td>0</td>\n",
       "      <td>98</td>\n",
       "      <td>9</td>\n",
       "      <td>419025481</td>\n",
       "      <td>419025561</td>\n",
       "      <td>NaN</td>\n",
       "      <td>NaN</td>\n",
       "    </tr>\n",
       "  </tbody>\n",
       "</table>\n",
       "<p>2 rows × 32 columns</p>\n",
       "</div>"
      ],
      "text/plain": [
       "                   #Locus          Name  Length  Reads    RPM  UniqueReads  \\\n",
       "0  1A:309399489-309399664   Cluster_872     176    553  4.340            1   \n",
       "1  1A:419025472-419025570  Cluster_1015      99    384  3.014           20   \n",
       "\n",
       "   FracTop Strand                MajorRNA  MajorRNAReads  ...   \\\n",
       "0    0.002      -   ACGGCAUAGAGGCACUGCAAA            327  ...    \n",
       "1    1.000      +  CGAAUGUAUUUUUUAUGGCUUG            249  ...    \n",
       "\n",
       "              position      start        end  duplicated  seqlen  overlap_len  \\\n",
       "0  309399489-309399664  309399489  309399664           0     175           17   \n",
       "1  419025472-419025570  419025472  419025570           0      98            9   \n",
       "\n",
       "   start_overlap  end_overlap  qseqid  MITE  \n",
       "0      309399506    309399647     NaN   NaN  \n",
       "1      419025481    419025561     NaN   NaN  \n",
       "\n",
       "[2 rows x 32 columns]"
      ]
     },
     "execution_count": 82,
     "metadata": {},
     "output_type": "execute_result"
    }
   ],
   "source": [
    "df_.head(2)"
   ]
  },
  {
   "cell_type": "code",
   "execution_count": null,
   "metadata": {},
   "outputs": [],
   "source": []
  },
  {
   "cell_type": "code",
   "execution_count": null,
   "metadata": {},
   "outputs": [],
   "source": []
  },
  {
   "cell_type": "code",
   "execution_count": null,
   "metadata": {},
   "outputs": [],
   "source": [
    "df_mirbase = pd.read_csv(path_mirbase_res, sep=\"\\t\")\n",
    "cols = ['qseqid','sseqid','qstart','qend','sstart','send','mismatch','gaps','pident','evalue','length','qlen','slen','qcovs']\n",
    "df_mirbase.columns = cols\n",
    "print(len(df_mirbase.index))\n",
    "df_mirbase.head(2)"
   ]
  },
  {
   "cell_type": "code",
   "execution_count": null,
   "metadata": {},
   "outputs": [],
   "source": []
  },
  {
   "cell_type": "code",
   "execution_count": null,
   "metadata": {},
   "outputs": [],
   "source": []
  }
 ],
 "metadata": {
  "kernelspec": {
   "display_name": "Python 3",
   "language": "python",
   "name": "python3"
  },
  "language_info": {
   "codemirror_mode": {
    "name": "ipython",
    "version": 3
   },
   "file_extension": ".py",
   "mimetype": "text/x-python",
   "name": "python",
   "nbconvert_exporter": "python",
   "pygments_lexer": "ipython3",
   "version": "3.6.5"
  }
 },
 "nbformat": 4,
 "nbformat_minor": 2
}
