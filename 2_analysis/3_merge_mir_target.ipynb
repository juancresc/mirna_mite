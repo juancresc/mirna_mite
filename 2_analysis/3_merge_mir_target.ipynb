{
 "cells": [
  {
   "cell_type": "code",
   "execution_count": 1,
   "metadata": {},
   "outputs": [],
   "source": [
    "import pandas as pd\n",
    "from Bio import SeqIO\n",
    "from Bio.SeqRecord import SeqRecord\n",
    "from Bio.Seq import Seq\n",
    "import matplotlib.pyplot as plt\n",
    "import seaborn as sns\n"
   ]
  },
  {
   "cell_type": "code",
   "execution_count": 2,
   "metadata": {},
   "outputs": [],
   "source": [
    "path_deg = '/home/juan/Desktop/juan/bio/mirna_mite/data/res/res_deg.csv'\n",
    "path_mir = '/home/juan/Desktop/juan/bio/mirna_mite/data/res/all_results.csv'\n"
   ]
  },
  {
   "cell_type": "code",
   "execution_count": null,
   "metadata": {},
   "outputs": [],
   "source": [
    "df_mir = pd.read_csv(path_mir, sep='\\t')\n",
    "df_mir.rename(columns={'MITE':'MITE_prod'}, inplace=True)\n",
    "total_mir = len(df_mir.index)\n",
    "print(total_mir)\n",
    "df_mir.head(2)"
   ]
  },
  {
   "cell_type": "code",
   "execution_count": null,
   "metadata": {},
   "outputs": [],
   "source": [
    "df_deg = pd.read_csv(path_deg, sep='\\t')\n",
    "df_deg.rename(columns={'MITE':'MITE_target'}, inplace=True)\n",
    "print(len(df_deg.index))\n",
    "df_deg.head(2)"
   ]
  },
  {
   "cell_type": "code",
   "execution_count": null,
   "metadata": {},
   "outputs": [],
   "source": []
  },
  {
   "cell_type": "code",
   "execution_count": null,
   "metadata": {},
   "outputs": [],
   "source": [
    "has_target = 0\n",
    "df_mir['has_target'] == 0:\n",
    "has_same_target = 0\n",
    "for k,v in df_mir.iterrows():\n",
    "    df_target = df_deg[df_deg.mir == v.mir]\n",
    "    if len(df_target.index) > 0:\n",
    "            has_target += 1\n",
    "        prods = v.MITE_prod.split(',')\n",
    "        target = v.MITE_target.split(',')\n",
    "        prods = set(filter(None, prods))\n",
    "        target = set(filter(None, target))\n",
    "        inter = target.intersection(prods)\n",
    "        if df_mir.at[k, 'has_target'] == 0:\n",
    "            df_mir.at[k, 'has_target'] = 1 \n",
    "        if inter:\n",
    "            has_same_target += 1\n",
    "            print(v.SiteID, v.Name, inter)\n",
    "            df_mir.at[k, 'has_target'] = 2"
   ]
  },
  {
   "cell_type": "code",
   "execution_count": null,
   "metadata": {},
   "outputs": [],
   "source": [
    "has_target * 100 / total_mir"
   ]
  },
  {
   "cell_type": "code",
   "execution_count": null,
   "metadata": {},
   "outputs": [],
   "source": [
    "has_same_target * 100 / total_mir"
   ]
  },
  {
   "cell_type": "code",
   "execution_count": null,
   "metadata": {},
   "outputs": [],
   "source": [
    "df_mir['target_intron'] = 0\n",
    "df_mir['target_exon'] = 0\n",
    "df_mir['target_three_prime'] = 0\n",
    "df_mir['target_five_prime'] = 0"
   ]
  },
  {
   "cell_type": "code",
   "execution_count": null,
   "metadata": {},
   "outputs": [],
   "source": [
    "#GENE TARGET REGION"
   ]
  },
  {
   "cell_type": "code",
   "execution_count": null,
   "metadata": {},
   "outputs": [],
   "source": []
  },
  {
   "cell_type": "code",
   "execution_count": null,
   "metadata": {},
   "outputs": [],
   "source": []
  },
  {
   "cell_type": "code",
   "execution_count": null,
   "metadata": {},
   "outputs": [],
   "source": []
  },
  {
   "cell_type": "code",
   "execution_count": null,
   "metadata": {},
   "outputs": [],
   "source": []
  }
 ],
 "metadata": {
  "kernelspec": {
   "display_name": "Python 3",
   "language": "python",
   "name": "python3"
  },
  "language_info": {
   "codemirror_mode": {
    "name": "ipython",
    "version": 3
   },
   "file_extension": ".py",
   "mimetype": "text/x-python",
   "name": "python",
   "nbconvert_exporter": "python",
   "pygments_lexer": "ipython3",
   "version": "3.6.5"
  }
 },
 "nbformat": 4,
 "nbformat_minor": 2
}
