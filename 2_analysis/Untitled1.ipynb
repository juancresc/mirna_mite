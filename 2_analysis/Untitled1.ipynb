{
 "cells": [
  {
   "cell_type": "code",
   "execution_count": 124,
   "metadata": {},
   "outputs": [],
   "source": [
    "import cairo\n",
    "import pandas as pd"
   ]
  },
  {
   "cell_type": "code",
   "execution_count": 125,
   "metadata": {},
   "outputs": [],
   "source": [
    "WIDTH, HEIGHT = 1000,300\n",
    "MARGIN = 100\n",
    "surface = cairo.SVGSurface('image.svg', WIDTH, HEIGHT)\n",
    "ctx = cairo.Context(surface)\n",
    "ctx.rectangle(0, 0, WIDTH, HEIGHT)\n",
    "ctx.set_source_rgb(1, 1, 1)\n",
    "ctx.fill()\n",
    "track = 0"
   ]
  },
  {
   "cell_type": "code",
   "execution_count": 126,
   "metadata": {},
   "outputs": [
    {
     "name": "stdout",
     "output_type": "stream",
     "text": [
      "40\n"
     ]
    },
    {
     "data": {
      "text/html": [
       "<div>\n",
       "<style scoped>\n",
       "    .dataframe tbody tr th:only-of-type {\n",
       "        vertical-align: middle;\n",
       "    }\n",
       "\n",
       "    .dataframe tbody tr th {\n",
       "        vertical-align: top;\n",
       "    }\n",
       "\n",
       "    .dataframe thead th {\n",
       "        text-align: right;\n",
       "    }\n",
       "</style>\n",
       "<table border=\"1\" class=\"dataframe\">\n",
       "  <thead>\n",
       "    <tr style=\"text-align: right;\">\n",
       "      <th></th>\n",
       "      <th>seqname</th>\n",
       "      <th>source</th>\n",
       "      <th>feature</th>\n",
       "      <th>start</th>\n",
       "      <th>end</th>\n",
       "      <th>score</th>\n",
       "      <th>strand</th>\n",
       "      <th>frame</th>\n",
       "      <th>attribute</th>\n",
       "    </tr>\n",
       "  </thead>\n",
       "  <tbody>\n",
       "    <tr>\n",
       "      <th>0</th>\n",
       "      <td>1A</td>\n",
       "      <td>IWGSC</td>\n",
       "      <td>gene</td>\n",
       "      <td>80297144</td>\n",
       "      <td>80309314</td>\n",
       "      <td>.</td>\n",
       "      <td>+</td>\n",
       "      <td>.</td>\n",
       "      <td>ID=gene:TraesCS1A02G090300;biotype=protein_cod...</td>\n",
       "    </tr>\n",
       "    <tr>\n",
       "      <th>1</th>\n",
       "      <td>1A</td>\n",
       "      <td>IWGSC</td>\n",
       "      <td>mRNA</td>\n",
       "      <td>80297144</td>\n",
       "      <td>80309314</td>\n",
       "      <td>.</td>\n",
       "      <td>+</td>\n",
       "      <td>.</td>\n",
       "      <td>ID=transcript:TraesCS1A02G090300.1;Parent=gene...</td>\n",
       "    </tr>\n",
       "  </tbody>\n",
       "</table>\n",
       "</div>"
      ],
      "text/plain": [
       "  seqname source feature     start       end score strand frame  \\\n",
       "0      1A  IWGSC    gene  80297144  80309314     .      +     .   \n",
       "1      1A  IWGSC    mRNA  80297144  80309314     .      +     .   \n",
       "\n",
       "                                           attribute  \n",
       "0  ID=gene:TraesCS1A02G090300;biotype=protein_cod...  \n",
       "1  ID=transcript:TraesCS1A02G090300.1;Parent=gene...  "
      ]
     },
     "execution_count": 126,
     "metadata": {},
     "output_type": "execute_result"
    }
   ],
   "source": [
    "\n",
    "df = pd.read_csv('../plots/data.gff3', index_col=False, sep='\\t', header=None, comment='#')\n",
    "df.columns = ['seqname', 'source', 'feature', 'start', 'end', 'score', 'strand', 'frame', 'attribute']\n",
    "print(len(df.index))\n",
    "df.head(2)"
   ]
  },
  {
   "cell_type": "code",
   "execution_count": 127,
   "metadata": {},
   "outputs": [],
   "source": [
    "track += 1\n",
    "ctx.move_to(MARGIN, track * 100)\n",
    "ctx.line_to(WIDTH - MARGIN, track * 100)\n",
    "ctx.set_source_rgb(0, 0, 0)\n",
    "ctx.set_line_width(1)\n",
    "ctx.stroke()\n",
    "\n",
    "gene = df.loc[df['feature'] == 'gene'].iloc[0]\n",
    "start = gene['start']\n",
    "end = gene['end']\n",
    "\n",
    "utr5 = df.loc[df['feature'] == 'five_prime_UTR'].iloc[0]\n",
    "start5 = utr5['start']\n",
    "end5 = utr5['end']\n",
    "\n",
    "utr3 = df.loc[df['feature'] == 'three_prime_UTR'].iloc[0]\n",
    "start3 = utr3['start']\n",
    "end3 = utr3['end']\n",
    "\n",
    "utr5_len = (end5 - start5) * (WIDTH - MARGIN) / (end - start)\n",
    "\n",
    "ctx.rectangle(MARGIN, track * 90, utr5_len, 20)\n",
    "ctx.set_source_rgb(0.8, 0.8, 1)\n",
    "ctx.fill()\n",
    "\n",
    "\n",
    "utr3_len = (end3 - start3) * (WIDTH - MARGIN) / (end - start)\n",
    "\n",
    "ctx.rectangle(WIDTH - MARGIN - utr3_len, track * 90,utr3_len , 20)\n",
    "ctx.set_source_rgb(0.8, 0.8, 1)\n",
    "ctx.fill()\n"
   ]
  },
  {
   "cell_type": "code",
   "execution_count": 128,
   "metadata": {},
   "outputs": [],
   "source": [
    "surface.write_to_png('image.png')"
   ]
  },
  {
   "cell_type": "code",
   "execution_count": 129,
   "metadata": {},
   "outputs": [
    {
     "data": {
      "image/png": "[encoded data removed]",
      "text/plain": [
       "<IPython.core.display.Image object>"
      ]
     },
     "execution_count": 129,
     "metadata": {},
     "output_type": "execute_result"
    }
   ],
   "source": [
    "from IPython.display import Image\n",
    "Image(filename='image.png') \n"
   ]
  },
  {
   "cell_type": "code",
   "execution_count": null,
   "metadata": {},
   "outputs": [],
   "source": []
  },
  {
   "cell_type": "code",
   "execution_count": null,
   "metadata": {},
   "outputs": [],
   "source": []
  },
  {
   "cell_type": "code",
   "execution_count": null,
   "metadata": {},
   "outputs": [],
   "source": []
  },
  {
   "cell_type": "code",
   "execution_count": null,
   "metadata": {},
   "outputs": [],
   "source": []
  }
 ],
 "metadata": {
  "kernelspec": {
   "display_name": "Python 3",
   "language": "python",
   "name": "python3"
  },
  "language_info": {
   "codemirror_mode": {
    "name": "ipython",
    "version": 3
   },
   "file_extension": ".py",
   "mimetype": "text/x-python",
   "name": "python",
   "nbconvert_exporter": "python",
   "pygments_lexer": "ipython3",
   "version": "3.8.2"
  }
 },
 "nbformat": 4,
 "nbformat_minor": 4
}
